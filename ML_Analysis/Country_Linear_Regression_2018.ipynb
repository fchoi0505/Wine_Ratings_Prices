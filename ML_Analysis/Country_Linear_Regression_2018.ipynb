{
 "metadata": {
  "language_info": {
   "codemirror_mode": {
    "name": "ipython",
    "version": 3
   },
   "file_extension": ".py",
   "mimetype": "text/x-python",
   "name": "python",
   "nbconvert_exporter": "python",
   "pygments_lexer": "ipython3",
   "version": "3.7.9"
  },
  "orig_nbformat": 2,
  "kernelspec": {
   "name": "python379jvsc74a57bd03bb9b2f2c02265c8cb6c0ec5df3b9595b15273f9ac0bdb66e32f52772716dc78",
   "display_name": "Python 3.7.9 64-bit ('mlenv': conda)"
  }
 },
 "nbformat": 4,
 "nbformat_minor": 2,
 "cells": [
  {
   "cell_type": "code",
   "execution_count": 1,
   "metadata": {},
   "outputs": [],
   "source": [
    "#import dependencies\n",
    "import numpy as np\n",
    "import pandas as pd\n",
    "import requests\n",
    "from pathlib import Path \n",
    "from sklearn.linear_model import LinearRegression\n",
    "from io import StringIO\n",
    "import seaborn as sns\n",
    "\n",
    "import matplotlib.pyplot as plt"
   ]
  },
  {
   "cell_type": "code",
   "execution_count": 2,
   "metadata": {},
   "outputs": [
    {
     "output_type": "execute_result",
     "data": {
      "text/plain": [
       "       country                                              title  \\\n",
       "0       France  Domaine Fernand Engel 2015 Praelatenberg Grand...   \n",
       "1      England  Bride Valley Vineyard 2014 Blanc de Blancs Spa...   \n",
       "2           US  Byron 2015 La Encantada Vineyard Pinot Noir (S...   \n",
       "3           US  Challen 2015 Zotovich Vineyard Pinot Noir (Sta...   \n",
       "4       France  Domaine Barmès-Buecher 2016 Hengst Grand Cru G...   \n",
       "...        ...                                                ...   \n",
       "22944       US  Silvan Ridge 2016 Early Muscat Semi-Sparkling ...   \n",
       "22945    Italy  Speri 2014 Sant'Urbano  (Valpolicella Classico...   \n",
       "22946       US  Spindrift Cellars 2015 Reserve Pinot Noir (Wil...   \n",
       "22947       US  Ste Michelle Vineyards 2016 Chardonnay (Columb...   \n",
       "22948    Italy  Tenuta Casaletti 2014  Valpolicella Superiore ...   \n",
       "\n",
       "                                             description  \\\n",
       "0      \\n                      Beautifully aromatic h...   \n",
       "1      \\n                      The merest touch of ne...   \n",
       "2      \\n                      There's a prominent bu...   \n",
       "3      \\n                      Lean and light aromas ...   \n",
       "4      \\n                      A citrus zest headines...   \n",
       "...                                                  ...   \n",
       "22944  \\n                      Long a staple of the S...   \n",
       "22945  \\n                      Aromas of baking spice...   \n",
       "22946  \\n                      Though designated a re...   \n",
       "22947  \\n                      This wine has a throwb...   \n",
       "22948  \\n                      Aromas of red plum, ba...   \n",
       "\n",
       "                       designation  points  price    province  \\\n",
       "0          Praelatenberg Grand Cru      94   50.0      Alsace   \n",
       "1                  Blanc de Blancs      94   75.0     England   \n",
       "2            La Encantada Vineyard      94   55.0  California   \n",
       "3                Zotovich Vineyard      94   60.0  California   \n",
       "4                 Hengst Grand Cru      94   44.0      Alsace   \n",
       "...                            ...     ...    ...         ...   \n",
       "22944  Early Muscat Semi-Sparkling      88   16.0      Oregon   \n",
       "22945                  Sant'Urbano      88   29.0      Veneto   \n",
       "22946                      Reserve      88   32.0      Oregon   \n",
       "22947                          NaN      88   11.0  Washington   \n",
       "22948                          NaN      88   21.0      Veneto   \n",
       "\n",
       "                              region_1           region_2          variety  \\\n",
       "0                               Alsace                NaN         Riesling   \n",
       "1                                  NaN                NaN  Sparkling Blend   \n",
       "2                      Sta. Rita Hills      Central Coast       Pinot Noir   \n",
       "3                      Sta. Rita Hills      Central Coast       Pinot Noir   \n",
       "4                               Alsace                NaN   Gewürztraminer   \n",
       "...                                ...                ...              ...   \n",
       "22944                Willamette Valley  Willamette Valley  Sparkling Blend   \n",
       "22945  Valpolicella Classico Superiore                NaN       Red Blends   \n",
       "22946                Willamette Valley  Willamette Valley       Pinot Noir   \n",
       "22947             Columbia Valley (WA)    Columbia Valley       Chardonnay   \n",
       "22948   Valpolicella Superiore Ripasso                NaN       Red Blends   \n",
       "\n",
       "                       winery  \n",
       "0       Domaine Fernand Engel  \n",
       "1       Bride Valley Vineyard  \n",
       "2                       Byron  \n",
       "3                     Challen  \n",
       "4      Domaine Barmès-Buecher  \n",
       "...                       ...  \n",
       "22944            Silvan Ridge  \n",
       "22945                   Speri  \n",
       "22946       Spindrift Cellars  \n",
       "22947  Ste Michelle Vineyards  \n",
       "22948        Tenuta Casaletti  \n",
       "\n",
       "[22949 rows x 11 columns]"
      ],
      "text/html": "<div>\n<style scoped>\n    .dataframe tbody tr th:only-of-type {\n        vertical-align: middle;\n    }\n\n    .dataframe tbody tr th {\n        vertical-align: top;\n    }\n\n    .dataframe thead th {\n        text-align: right;\n    }\n</style>\n<table border=\"1\" class=\"dataframe\">\n  <thead>\n    <tr style=\"text-align: right;\">\n      <th></th>\n      <th>country</th>\n      <th>title</th>\n      <th>description</th>\n      <th>designation</th>\n      <th>points</th>\n      <th>price</th>\n      <th>province</th>\n      <th>region_1</th>\n      <th>region_2</th>\n      <th>variety</th>\n      <th>winery</th>\n    </tr>\n  </thead>\n  <tbody>\n    <tr>\n      <th>0</th>\n      <td>France</td>\n      <td>Domaine Fernand Engel 2015 Praelatenberg Grand...</td>\n      <td>\\n                      Beautifully aromatic h...</td>\n      <td>Praelatenberg Grand Cru</td>\n      <td>94</td>\n      <td>50.0</td>\n      <td>Alsace</td>\n      <td>Alsace</td>\n      <td>NaN</td>\n      <td>Riesling</td>\n      <td>Domaine Fernand Engel</td>\n    </tr>\n    <tr>\n      <th>1</th>\n      <td>England</td>\n      <td>Bride Valley Vineyard 2014 Blanc de Blancs Spa...</td>\n      <td>\\n                      The merest touch of ne...</td>\n      <td>Blanc de Blancs</td>\n      <td>94</td>\n      <td>75.0</td>\n      <td>England</td>\n      <td>NaN</td>\n      <td>NaN</td>\n      <td>Sparkling Blend</td>\n      <td>Bride Valley Vineyard</td>\n    </tr>\n    <tr>\n      <th>2</th>\n      <td>US</td>\n      <td>Byron 2015 La Encantada Vineyard Pinot Noir (S...</td>\n      <td>\\n                      There's a prominent bu...</td>\n      <td>La Encantada Vineyard</td>\n      <td>94</td>\n      <td>55.0</td>\n      <td>California</td>\n      <td>Sta. Rita Hills</td>\n      <td>Central Coast</td>\n      <td>Pinot Noir</td>\n      <td>Byron</td>\n    </tr>\n    <tr>\n      <th>3</th>\n      <td>US</td>\n      <td>Challen 2015 Zotovich Vineyard Pinot Noir (Sta...</td>\n      <td>\\n                      Lean and light aromas ...</td>\n      <td>Zotovich Vineyard</td>\n      <td>94</td>\n      <td>60.0</td>\n      <td>California</td>\n      <td>Sta. Rita Hills</td>\n      <td>Central Coast</td>\n      <td>Pinot Noir</td>\n      <td>Challen</td>\n    </tr>\n    <tr>\n      <th>4</th>\n      <td>France</td>\n      <td>Domaine Barmès-Buecher 2016 Hengst Grand Cru G...</td>\n      <td>\\n                      A citrus zest headines...</td>\n      <td>Hengst Grand Cru</td>\n      <td>94</td>\n      <td>44.0</td>\n      <td>Alsace</td>\n      <td>Alsace</td>\n      <td>NaN</td>\n      <td>Gewürztraminer</td>\n      <td>Domaine Barmès-Buecher</td>\n    </tr>\n    <tr>\n      <th>...</th>\n      <td>...</td>\n      <td>...</td>\n      <td>...</td>\n      <td>...</td>\n      <td>...</td>\n      <td>...</td>\n      <td>...</td>\n      <td>...</td>\n      <td>...</td>\n      <td>...</td>\n      <td>...</td>\n    </tr>\n    <tr>\n      <th>22944</th>\n      <td>US</td>\n      <td>Silvan Ridge 2016 Early Muscat Semi-Sparkling ...</td>\n      <td>\\n                      Long a staple of the S...</td>\n      <td>Early Muscat Semi-Sparkling</td>\n      <td>88</td>\n      <td>16.0</td>\n      <td>Oregon</td>\n      <td>Willamette Valley</td>\n      <td>Willamette Valley</td>\n      <td>Sparkling Blend</td>\n      <td>Silvan Ridge</td>\n    </tr>\n    <tr>\n      <th>22945</th>\n      <td>Italy</td>\n      <td>Speri 2014 Sant'Urbano  (Valpolicella Classico...</td>\n      <td>\\n                      Aromas of baking spice...</td>\n      <td>Sant'Urbano</td>\n      <td>88</td>\n      <td>29.0</td>\n      <td>Veneto</td>\n      <td>Valpolicella Classico Superiore</td>\n      <td>NaN</td>\n      <td>Red Blends</td>\n      <td>Speri</td>\n    </tr>\n    <tr>\n      <th>22946</th>\n      <td>US</td>\n      <td>Spindrift Cellars 2015 Reserve Pinot Noir (Wil...</td>\n      <td>\\n                      Though designated a re...</td>\n      <td>Reserve</td>\n      <td>88</td>\n      <td>32.0</td>\n      <td>Oregon</td>\n      <td>Willamette Valley</td>\n      <td>Willamette Valley</td>\n      <td>Pinot Noir</td>\n      <td>Spindrift Cellars</td>\n    </tr>\n    <tr>\n      <th>22947</th>\n      <td>US</td>\n      <td>Ste Michelle Vineyards 2016 Chardonnay (Columb...</td>\n      <td>\\n                      This wine has a throwb...</td>\n      <td>NaN</td>\n      <td>88</td>\n      <td>11.0</td>\n      <td>Washington</td>\n      <td>Columbia Valley (WA)</td>\n      <td>Columbia Valley</td>\n      <td>Chardonnay</td>\n      <td>Ste Michelle Vineyards</td>\n    </tr>\n    <tr>\n      <th>22948</th>\n      <td>Italy</td>\n      <td>Tenuta Casaletti 2014  Valpolicella Superiore ...</td>\n      <td>\\n                      Aromas of red plum, ba...</td>\n      <td>NaN</td>\n      <td>88</td>\n      <td>21.0</td>\n      <td>Veneto</td>\n      <td>Valpolicella Superiore Ripasso</td>\n      <td>NaN</td>\n      <td>Red Blends</td>\n      <td>Tenuta Casaletti</td>\n    </tr>\n  </tbody>\n</table>\n<p>22949 rows × 11 columns</p>\n</div>"
     },
     "metadata": {},
     "execution_count": 2
    }
   ],
   "source": [
    "file_path = (\"Resources/winemag_2018.csv\")\n",
    "df = pd.read_csv(file_path)\n",
    "df"
   ]
  },
  {
   "cell_type": "code",
   "execution_count": 3,
   "metadata": {},
   "outputs": [
    {
     "output_type": "execute_result",
     "data": {
      "text/plain": [
       "       country  points  price    province          variety\n",
       "0       France      94   50.0      Alsace         Riesling\n",
       "1      England      94   75.0     England  Sparkling Blend\n",
       "2           US      94   55.0  California       Pinot Noir\n",
       "3           US      94   60.0  California       Pinot Noir\n",
       "4       France      94   44.0      Alsace   Gewürztraminer\n",
       "...        ...     ...    ...         ...              ...\n",
       "22944       US      88   16.0      Oregon  Sparkling Blend\n",
       "22945    Italy      88   29.0      Veneto       Red Blends\n",
       "22946       US      88   32.0      Oregon       Pinot Noir\n",
       "22947       US      88   11.0  Washington       Chardonnay\n",
       "22948    Italy      88   21.0      Veneto       Red Blends\n",
       "\n",
       "[22949 rows x 5 columns]"
      ],
      "text/html": "<div>\n<style scoped>\n    .dataframe tbody tr th:only-of-type {\n        vertical-align: middle;\n    }\n\n    .dataframe tbody tr th {\n        vertical-align: top;\n    }\n\n    .dataframe thead th {\n        text-align: right;\n    }\n</style>\n<table border=\"1\" class=\"dataframe\">\n  <thead>\n    <tr style=\"text-align: right;\">\n      <th></th>\n      <th>country</th>\n      <th>points</th>\n      <th>price</th>\n      <th>province</th>\n      <th>variety</th>\n    </tr>\n  </thead>\n  <tbody>\n    <tr>\n      <th>0</th>\n      <td>France</td>\n      <td>94</td>\n      <td>50.0</td>\n      <td>Alsace</td>\n      <td>Riesling</td>\n    </tr>\n    <tr>\n      <th>1</th>\n      <td>England</td>\n      <td>94</td>\n      <td>75.0</td>\n      <td>England</td>\n      <td>Sparkling Blend</td>\n    </tr>\n    <tr>\n      <th>2</th>\n      <td>US</td>\n      <td>94</td>\n      <td>55.0</td>\n      <td>California</td>\n      <td>Pinot Noir</td>\n    </tr>\n    <tr>\n      <th>3</th>\n      <td>US</td>\n      <td>94</td>\n      <td>60.0</td>\n      <td>California</td>\n      <td>Pinot Noir</td>\n    </tr>\n    <tr>\n      <th>4</th>\n      <td>France</td>\n      <td>94</td>\n      <td>44.0</td>\n      <td>Alsace</td>\n      <td>Gewürztraminer</td>\n    </tr>\n    <tr>\n      <th>...</th>\n      <td>...</td>\n      <td>...</td>\n      <td>...</td>\n      <td>...</td>\n      <td>...</td>\n    </tr>\n    <tr>\n      <th>22944</th>\n      <td>US</td>\n      <td>88</td>\n      <td>16.0</td>\n      <td>Oregon</td>\n      <td>Sparkling Blend</td>\n    </tr>\n    <tr>\n      <th>22945</th>\n      <td>Italy</td>\n      <td>88</td>\n      <td>29.0</td>\n      <td>Veneto</td>\n      <td>Red Blends</td>\n    </tr>\n    <tr>\n      <th>22946</th>\n      <td>US</td>\n      <td>88</td>\n      <td>32.0</td>\n      <td>Oregon</td>\n      <td>Pinot Noir</td>\n    </tr>\n    <tr>\n      <th>22947</th>\n      <td>US</td>\n      <td>88</td>\n      <td>11.0</td>\n      <td>Washington</td>\n      <td>Chardonnay</td>\n    </tr>\n    <tr>\n      <th>22948</th>\n      <td>Italy</td>\n      <td>88</td>\n      <td>21.0</td>\n      <td>Veneto</td>\n      <td>Red Blends</td>\n    </tr>\n  </tbody>\n</table>\n<p>22949 rows × 5 columns</p>\n</div>"
     },
     "metadata": {},
     "execution_count": 3
    }
   ],
   "source": [
    "df = df.drop(['title', 'description', 'designation', 'region_1', 'region_2', 'winery'], axis=1)\n",
    "df"
   ]
  },
  {
   "cell_type": "code",
   "execution_count": 4,
   "metadata": {},
   "outputs": [
    {
     "output_type": "execute_result",
     "data": {
      "text/plain": [
       "       country  points  price    province          variety\n",
       "0       France      94   50.0      Alsace         Riesling\n",
       "1      England      94   75.0     England  Sparkling Blend\n",
       "2           US      94   55.0  California       Pinot Noir\n",
       "3           US      94   60.0  California       Pinot Noir\n",
       "4       France      94   44.0      Alsace   Gewürztraminer\n",
       "...        ...     ...    ...         ...              ...\n",
       "22944       US      88   16.0      Oregon  Sparkling Blend\n",
       "22945    Italy      88   29.0      Veneto       Red Blends\n",
       "22946       US      88   32.0      Oregon       Pinot Noir\n",
       "22947       US      88   11.0  Washington       Chardonnay\n",
       "22948    Italy      88   21.0      Veneto       Red Blends\n",
       "\n",
       "[21659 rows x 5 columns]"
      ],
      "text/html": "<div>\n<style scoped>\n    .dataframe tbody tr th:only-of-type {\n        vertical-align: middle;\n    }\n\n    .dataframe tbody tr th {\n        vertical-align: top;\n    }\n\n    .dataframe thead th {\n        text-align: right;\n    }\n</style>\n<table border=\"1\" class=\"dataframe\">\n  <thead>\n    <tr style=\"text-align: right;\">\n      <th></th>\n      <th>country</th>\n      <th>points</th>\n      <th>price</th>\n      <th>province</th>\n      <th>variety</th>\n    </tr>\n  </thead>\n  <tbody>\n    <tr>\n      <th>0</th>\n      <td>France</td>\n      <td>94</td>\n      <td>50.0</td>\n      <td>Alsace</td>\n      <td>Riesling</td>\n    </tr>\n    <tr>\n      <th>1</th>\n      <td>England</td>\n      <td>94</td>\n      <td>75.0</td>\n      <td>England</td>\n      <td>Sparkling Blend</td>\n    </tr>\n    <tr>\n      <th>2</th>\n      <td>US</td>\n      <td>94</td>\n      <td>55.0</td>\n      <td>California</td>\n      <td>Pinot Noir</td>\n    </tr>\n    <tr>\n      <th>3</th>\n      <td>US</td>\n      <td>94</td>\n      <td>60.0</td>\n      <td>California</td>\n      <td>Pinot Noir</td>\n    </tr>\n    <tr>\n      <th>4</th>\n      <td>France</td>\n      <td>94</td>\n      <td>44.0</td>\n      <td>Alsace</td>\n      <td>Gewürztraminer</td>\n    </tr>\n    <tr>\n      <th>...</th>\n      <td>...</td>\n      <td>...</td>\n      <td>...</td>\n      <td>...</td>\n      <td>...</td>\n    </tr>\n    <tr>\n      <th>22944</th>\n      <td>US</td>\n      <td>88</td>\n      <td>16.0</td>\n      <td>Oregon</td>\n      <td>Sparkling Blend</td>\n    </tr>\n    <tr>\n      <th>22945</th>\n      <td>Italy</td>\n      <td>88</td>\n      <td>29.0</td>\n      <td>Veneto</td>\n      <td>Red Blends</td>\n    </tr>\n    <tr>\n      <th>22946</th>\n      <td>US</td>\n      <td>88</td>\n      <td>32.0</td>\n      <td>Oregon</td>\n      <td>Pinot Noir</td>\n    </tr>\n    <tr>\n      <th>22947</th>\n      <td>US</td>\n      <td>88</td>\n      <td>11.0</td>\n      <td>Washington</td>\n      <td>Chardonnay</td>\n    </tr>\n    <tr>\n      <th>22948</th>\n      <td>Italy</td>\n      <td>88</td>\n      <td>21.0</td>\n      <td>Veneto</td>\n      <td>Red Blends</td>\n    </tr>\n  </tbody>\n</table>\n<p>21659 rows × 5 columns</p>\n</div>"
     },
     "metadata": {},
     "execution_count": 4
    }
   ],
   "source": [
    "df = df.dropna()\n",
    "df"
   ]
  },
  {
   "cell_type": "code",
   "execution_count": 5,
   "metadata": {},
   "outputs": [
    {
     "output_type": "execute_result",
     "data": {
      "text/plain": [
       "country     0\n",
       "points      0\n",
       "price       0\n",
       "province    0\n",
       "variety     0\n",
       "dtype: int64"
      ]
     },
     "metadata": {},
     "execution_count": 5
    }
   ],
   "source": [
    "df.isnull().sum()"
   ]
  },
  {
   "cell_type": "code",
   "execution_count": 6,
   "metadata": {},
   "outputs": [],
   "source": [
    "point_mean_count = pd.DataFrame(df.groupby('country')['points'].mean())\n",
    "point_mean_count['count'] = pd.DataFrame(df.groupby('country')['points'].count())\n",
    "price_mean_count = pd.DataFrame(df.groupby('country')['price'].mean())"
   ]
  },
  {
   "cell_type": "code",
   "execution_count": 7,
   "metadata": {},
   "outputs": [
    {
     "output_type": "execute_result",
     "data": {
      "text/plain": [
       "                   points  count\n",
       "country                         \n",
       "Argentina       87.327835    485\n",
       "Armenia         92.000000      2\n",
       "Australia       89.349462    372\n",
       "Austria         91.383193    595\n",
       "Bulgaria        87.807692     26\n",
       "Canada          90.166667     36\n",
       "Chile           86.894027    519\n",
       "China           87.750000      4\n",
       "Croatia         88.600000     10\n",
       "Czech Republic  86.666667      3\n",
       "England         92.608696     23\n",
       "France          89.622272   4445\n",
       "Georgia         88.666667      9\n",
       "Germany         90.861868    514\n",
       "Greece          88.560976     41\n",
       "Hungary         89.450000     20\n",
       "Israel          89.050420    119\n",
       "Italy           89.439449   3047\n",
       "Kosovo          85.750000      4\n",
       "Luxembourg      89.000000      6\n",
       "Mexico          86.500000      2\n",
       "Moldova         87.857143     28\n",
       "New Zealand     88.170000    300\n",
       "Portugal        89.094771    918\n",
       "Romania         86.500000      4\n",
       "Slovenia        88.000000      3\n",
       "South Africa    89.523810    168\n",
       "Spain           87.207685   1093\n",
       "Switzerland     89.363636     11\n",
       "Turkey          89.666667      9\n",
       "US              89.562089   8826\n",
       "Uruguay         87.529412     17"
      ],
      "text/html": "<div>\n<style scoped>\n    .dataframe tbody tr th:only-of-type {\n        vertical-align: middle;\n    }\n\n    .dataframe tbody tr th {\n        vertical-align: top;\n    }\n\n    .dataframe thead th {\n        text-align: right;\n    }\n</style>\n<table border=\"1\" class=\"dataframe\">\n  <thead>\n    <tr style=\"text-align: right;\">\n      <th></th>\n      <th>points</th>\n      <th>count</th>\n    </tr>\n    <tr>\n      <th>country</th>\n      <th></th>\n      <th></th>\n    </tr>\n  </thead>\n  <tbody>\n    <tr>\n      <th>Argentina</th>\n      <td>87.327835</td>\n      <td>485</td>\n    </tr>\n    <tr>\n      <th>Armenia</th>\n      <td>92.000000</td>\n      <td>2</td>\n    </tr>\n    <tr>\n      <th>Australia</th>\n      <td>89.349462</td>\n      <td>372</td>\n    </tr>\n    <tr>\n      <th>Austria</th>\n      <td>91.383193</td>\n      <td>595</td>\n    </tr>\n    <tr>\n      <th>Bulgaria</th>\n      <td>87.807692</td>\n      <td>26</td>\n    </tr>\n    <tr>\n      <th>Canada</th>\n      <td>90.166667</td>\n      <td>36</td>\n    </tr>\n    <tr>\n      <th>Chile</th>\n      <td>86.894027</td>\n      <td>519</td>\n    </tr>\n    <tr>\n      <th>China</th>\n      <td>87.750000</td>\n      <td>4</td>\n    </tr>\n    <tr>\n      <th>Croatia</th>\n      <td>88.600000</td>\n      <td>10</td>\n    </tr>\n    <tr>\n      <th>Czech Republic</th>\n      <td>86.666667</td>\n      <td>3</td>\n    </tr>\n    <tr>\n      <th>England</th>\n      <td>92.608696</td>\n      <td>23</td>\n    </tr>\n    <tr>\n      <th>France</th>\n      <td>89.622272</td>\n      <td>4445</td>\n    </tr>\n    <tr>\n      <th>Georgia</th>\n      <td>88.666667</td>\n      <td>9</td>\n    </tr>\n    <tr>\n      <th>Germany</th>\n      <td>90.861868</td>\n      <td>514</td>\n    </tr>\n    <tr>\n      <th>Greece</th>\n      <td>88.560976</td>\n      <td>41</td>\n    </tr>\n    <tr>\n      <th>Hungary</th>\n      <td>89.450000</td>\n      <td>20</td>\n    </tr>\n    <tr>\n      <th>Israel</th>\n      <td>89.050420</td>\n      <td>119</td>\n    </tr>\n    <tr>\n      <th>Italy</th>\n      <td>89.439449</td>\n      <td>3047</td>\n    </tr>\n    <tr>\n      <th>Kosovo</th>\n      <td>85.750000</td>\n      <td>4</td>\n    </tr>\n    <tr>\n      <th>Luxembourg</th>\n      <td>89.000000</td>\n      <td>6</td>\n    </tr>\n    <tr>\n      <th>Mexico</th>\n      <td>86.500000</td>\n      <td>2</td>\n    </tr>\n    <tr>\n      <th>Moldova</th>\n      <td>87.857143</td>\n      <td>28</td>\n    </tr>\n    <tr>\n      <th>New Zealand</th>\n      <td>88.170000</td>\n      <td>300</td>\n    </tr>\n    <tr>\n      <th>Portugal</th>\n      <td>89.094771</td>\n      <td>918</td>\n    </tr>\n    <tr>\n      <th>Romania</th>\n      <td>86.500000</td>\n      <td>4</td>\n    </tr>\n    <tr>\n      <th>Slovenia</th>\n      <td>88.000000</td>\n      <td>3</td>\n    </tr>\n    <tr>\n      <th>South Africa</th>\n      <td>89.523810</td>\n      <td>168</td>\n    </tr>\n    <tr>\n      <th>Spain</th>\n      <td>87.207685</td>\n      <td>1093</td>\n    </tr>\n    <tr>\n      <th>Switzerland</th>\n      <td>89.363636</td>\n      <td>11</td>\n    </tr>\n    <tr>\n      <th>Turkey</th>\n      <td>89.666667</td>\n      <td>9</td>\n    </tr>\n    <tr>\n      <th>US</th>\n      <td>89.562089</td>\n      <td>8826</td>\n    </tr>\n    <tr>\n      <th>Uruguay</th>\n      <td>87.529412</td>\n      <td>17</td>\n    </tr>\n  </tbody>\n</table>\n</div>"
     },
     "metadata": {},
     "execution_count": 7
    }
   ],
   "source": [
    "point_mean_count"
   ]
  },
  {
   "cell_type": "code",
   "execution_count": 8,
   "metadata": {},
   "outputs": [
    {
     "output_type": "execute_result",
     "data": {
      "text/plain": [
       "                   points  count      price\n",
       "country                                    \n",
       "Argentina       87.327835    485  28.684536\n",
       "Armenia         92.000000      2  38.500000\n",
       "Australia       89.349462    372  46.653226\n",
       "Austria         91.383193    595  32.077311\n",
       "Bulgaria        87.807692     26  13.615385\n",
       "Canada          90.166667     36  47.305556\n",
       "Chile           86.894027    519  25.200385\n",
       "China           87.750000      4  98.250000\n",
       "Croatia         88.600000     10  39.800000\n",
       "Czech Republic  86.666667      3  21.000000\n",
       "England         92.608696     23  57.260870\n",
       "France          89.622272   4445  41.135208\n",
       "Georgia         88.666667      9  24.222222\n",
       "Germany         90.861868    514  36.780156\n",
       "Greece          88.560976     41  23.609756\n",
       "Hungary         89.450000     20  30.150000\n",
       "Israel          89.050420    119  27.546218\n",
       "Italy           89.439449   3047  44.416147\n",
       "Kosovo          85.750000      4   8.250000\n",
       "Luxembourg      89.000000      6  24.000000\n",
       "Mexico          86.500000      2  32.500000\n",
       "Moldova         87.857143     28  16.571429\n",
       "New Zealand     88.170000    300  24.286667\n",
       "Portugal        89.094771    918  34.272331\n",
       "Romania         86.500000      4  15.500000\n",
       "Slovenia        88.000000      3  21.333333\n",
       "South Africa    89.523810    168  36.345238\n",
       "Spain           87.207685   1093  28.019213\n",
       "Switzerland     89.363636     11  47.454545\n",
       "Turkey          89.666667      9  27.222222\n",
       "US              89.562089   8826  42.652844\n",
       "Uruguay         87.529412     17  31.235294"
      ],
      "text/html": "<div>\n<style scoped>\n    .dataframe tbody tr th:only-of-type {\n        vertical-align: middle;\n    }\n\n    .dataframe tbody tr th {\n        vertical-align: top;\n    }\n\n    .dataframe thead th {\n        text-align: right;\n    }\n</style>\n<table border=\"1\" class=\"dataframe\">\n  <thead>\n    <tr style=\"text-align: right;\">\n      <th></th>\n      <th>points</th>\n      <th>count</th>\n      <th>price</th>\n    </tr>\n    <tr>\n      <th>country</th>\n      <th></th>\n      <th></th>\n      <th></th>\n    </tr>\n  </thead>\n  <tbody>\n    <tr>\n      <th>Argentina</th>\n      <td>87.327835</td>\n      <td>485</td>\n      <td>28.684536</td>\n    </tr>\n    <tr>\n      <th>Armenia</th>\n      <td>92.000000</td>\n      <td>2</td>\n      <td>38.500000</td>\n    </tr>\n    <tr>\n      <th>Australia</th>\n      <td>89.349462</td>\n      <td>372</td>\n      <td>46.653226</td>\n    </tr>\n    <tr>\n      <th>Austria</th>\n      <td>91.383193</td>\n      <td>595</td>\n      <td>32.077311</td>\n    </tr>\n    <tr>\n      <th>Bulgaria</th>\n      <td>87.807692</td>\n      <td>26</td>\n      <td>13.615385</td>\n    </tr>\n    <tr>\n      <th>Canada</th>\n      <td>90.166667</td>\n      <td>36</td>\n      <td>47.305556</td>\n    </tr>\n    <tr>\n      <th>Chile</th>\n      <td>86.894027</td>\n      <td>519</td>\n      <td>25.200385</td>\n    </tr>\n    <tr>\n      <th>China</th>\n      <td>87.750000</td>\n      <td>4</td>\n      <td>98.250000</td>\n    </tr>\n    <tr>\n      <th>Croatia</th>\n      <td>88.600000</td>\n      <td>10</td>\n      <td>39.800000</td>\n    </tr>\n    <tr>\n      <th>Czech Republic</th>\n      <td>86.666667</td>\n      <td>3</td>\n      <td>21.000000</td>\n    </tr>\n    <tr>\n      <th>England</th>\n      <td>92.608696</td>\n      <td>23</td>\n      <td>57.260870</td>\n    </tr>\n    <tr>\n      <th>France</th>\n      <td>89.622272</td>\n      <td>4445</td>\n      <td>41.135208</td>\n    </tr>\n    <tr>\n      <th>Georgia</th>\n      <td>88.666667</td>\n      <td>9</td>\n      <td>24.222222</td>\n    </tr>\n    <tr>\n      <th>Germany</th>\n      <td>90.861868</td>\n      <td>514</td>\n      <td>36.780156</td>\n    </tr>\n    <tr>\n      <th>Greece</th>\n      <td>88.560976</td>\n      <td>41</td>\n      <td>23.609756</td>\n    </tr>\n    <tr>\n      <th>Hungary</th>\n      <td>89.450000</td>\n      <td>20</td>\n      <td>30.150000</td>\n    </tr>\n    <tr>\n      <th>Israel</th>\n      <td>89.050420</td>\n      <td>119</td>\n      <td>27.546218</td>\n    </tr>\n    <tr>\n      <th>Italy</th>\n      <td>89.439449</td>\n      <td>3047</td>\n      <td>44.416147</td>\n    </tr>\n    <tr>\n      <th>Kosovo</th>\n      <td>85.750000</td>\n      <td>4</td>\n      <td>8.250000</td>\n    </tr>\n    <tr>\n      <th>Luxembourg</th>\n      <td>89.000000</td>\n      <td>6</td>\n      <td>24.000000</td>\n    </tr>\n    <tr>\n      <th>Mexico</th>\n      <td>86.500000</td>\n      <td>2</td>\n      <td>32.500000</td>\n    </tr>\n    <tr>\n      <th>Moldova</th>\n      <td>87.857143</td>\n      <td>28</td>\n      <td>16.571429</td>\n    </tr>\n    <tr>\n      <th>New Zealand</th>\n      <td>88.170000</td>\n      <td>300</td>\n      <td>24.286667</td>\n    </tr>\n    <tr>\n      <th>Portugal</th>\n      <td>89.094771</td>\n      <td>918</td>\n      <td>34.272331</td>\n    </tr>\n    <tr>\n      <th>Romania</th>\n      <td>86.500000</td>\n      <td>4</td>\n      <td>15.500000</td>\n    </tr>\n    <tr>\n      <th>Slovenia</th>\n      <td>88.000000</td>\n      <td>3</td>\n      <td>21.333333</td>\n    </tr>\n    <tr>\n      <th>South Africa</th>\n      <td>89.523810</td>\n      <td>168</td>\n      <td>36.345238</td>\n    </tr>\n    <tr>\n      <th>Spain</th>\n      <td>87.207685</td>\n      <td>1093</td>\n      <td>28.019213</td>\n    </tr>\n    <tr>\n      <th>Switzerland</th>\n      <td>89.363636</td>\n      <td>11</td>\n      <td>47.454545</td>\n    </tr>\n    <tr>\n      <th>Turkey</th>\n      <td>89.666667</td>\n      <td>9</td>\n      <td>27.222222</td>\n    </tr>\n    <tr>\n      <th>US</th>\n      <td>89.562089</td>\n      <td>8826</td>\n      <td>42.652844</td>\n    </tr>\n    <tr>\n      <th>Uruguay</th>\n      <td>87.529412</td>\n      <td>17</td>\n      <td>31.235294</td>\n    </tr>\n  </tbody>\n</table>\n</div>"
     },
     "metadata": {},
     "execution_count": 8
    }
   ],
   "source": [
    "wine_merge_df = pd.merge(left=point_mean_count, right=price_mean_count, left_on='country', right_on='country')\n",
    "wine_merge_df"
   ]
  },
  {
   "cell_type": "code",
   "execution_count": 9,
   "metadata": {},
   "outputs": [
    {
     "output_type": "execute_result",
     "data": {
      "text/plain": [
       "          points        count      price\n",
       "count  32.000000    32.000000  32.000000\n",
       "mean   88.747847   676.843750  33.307815\n",
       "std     1.607794  1757.177431  16.246938\n",
       "min    85.750000     2.000000   8.250000\n",
       "25%    87.694853     8.250000  24.166667\n",
       "50%    88.833333    27.000000  30.692647\n",
       "75%    89.533379   492.250000  40.133802\n",
       "max    92.608696  8826.000000  98.250000"
      ],
      "text/html": "<div>\n<style scoped>\n    .dataframe tbody tr th:only-of-type {\n        vertical-align: middle;\n    }\n\n    .dataframe tbody tr th {\n        vertical-align: top;\n    }\n\n    .dataframe thead th {\n        text-align: right;\n    }\n</style>\n<table border=\"1\" class=\"dataframe\">\n  <thead>\n    <tr style=\"text-align: right;\">\n      <th></th>\n      <th>points</th>\n      <th>count</th>\n      <th>price</th>\n    </tr>\n  </thead>\n  <tbody>\n    <tr>\n      <th>count</th>\n      <td>32.000000</td>\n      <td>32.000000</td>\n      <td>32.000000</td>\n    </tr>\n    <tr>\n      <th>mean</th>\n      <td>88.747847</td>\n      <td>676.843750</td>\n      <td>33.307815</td>\n    </tr>\n    <tr>\n      <th>std</th>\n      <td>1.607794</td>\n      <td>1757.177431</td>\n      <td>16.246938</td>\n    </tr>\n    <tr>\n      <th>min</th>\n      <td>85.750000</td>\n      <td>2.000000</td>\n      <td>8.250000</td>\n    </tr>\n    <tr>\n      <th>25%</th>\n      <td>87.694853</td>\n      <td>8.250000</td>\n      <td>24.166667</td>\n    </tr>\n    <tr>\n      <th>50%</th>\n      <td>88.833333</td>\n      <td>27.000000</td>\n      <td>30.692647</td>\n    </tr>\n    <tr>\n      <th>75%</th>\n      <td>89.533379</td>\n      <td>492.250000</td>\n      <td>40.133802</td>\n    </tr>\n    <tr>\n      <th>max</th>\n      <td>92.608696</td>\n      <td>8826.000000</td>\n      <td>98.250000</td>\n    </tr>\n  </tbody>\n</table>\n</div>"
     },
     "metadata": {},
     "execution_count": 9
    }
   ],
   "source": [
    "wine_merge_df.describe()"
   ]
  },
  {
   "cell_type": "code",
   "execution_count": 10,
   "metadata": {},
   "outputs": [
    {
     "output_type": "execute_result",
     "data": {
      "text/plain": [
       "                 points  count      price\n",
       "country                                  \n",
       "Argentina     87.327835    485  28.684536\n",
       "Australia     89.349462    372  46.653226\n",
       "Austria       91.383193    595  32.077311\n",
       "Bulgaria      87.807692     26  13.615385\n",
       "Canada        90.166667     36  47.305556\n",
       "Chile         86.894027    519  25.200385\n",
       "Croatia       88.600000     10  39.800000\n",
       "England       92.608696     23  57.260870\n",
       "France        89.622272   4445  41.135208\n",
       "Georgia       88.666667      9  24.222222\n",
       "Germany       90.861868    514  36.780156\n",
       "Greece        88.560976     41  23.609756\n",
       "Hungary       89.450000     20  30.150000\n",
       "Israel        89.050420    119  27.546218\n",
       "Italy         89.439449   3047  44.416147\n",
       "Luxembourg    89.000000      6  24.000000\n",
       "Moldova       87.857143     28  16.571429\n",
       "New Zealand   88.170000    300  24.286667\n",
       "Portugal      89.094771    918  34.272331\n",
       "South Africa  89.523810    168  36.345238\n",
       "Spain         87.207685   1093  28.019213\n",
       "Switzerland   89.363636     11  47.454545\n",
       "Turkey        89.666667      9  27.222222\n",
       "US            89.562089   8826  42.652844\n",
       "Uruguay       87.529412     17  31.235294"
      ],
      "text/html": "<div>\n<style scoped>\n    .dataframe tbody tr th:only-of-type {\n        vertical-align: middle;\n    }\n\n    .dataframe tbody tr th {\n        vertical-align: top;\n    }\n\n    .dataframe thead th {\n        text-align: right;\n    }\n</style>\n<table border=\"1\" class=\"dataframe\">\n  <thead>\n    <tr style=\"text-align: right;\">\n      <th></th>\n      <th>points</th>\n      <th>count</th>\n      <th>price</th>\n    </tr>\n    <tr>\n      <th>country</th>\n      <th></th>\n      <th></th>\n      <th></th>\n    </tr>\n  </thead>\n  <tbody>\n    <tr>\n      <th>Argentina</th>\n      <td>87.327835</td>\n      <td>485</td>\n      <td>28.684536</td>\n    </tr>\n    <tr>\n      <th>Australia</th>\n      <td>89.349462</td>\n      <td>372</td>\n      <td>46.653226</td>\n    </tr>\n    <tr>\n      <th>Austria</th>\n      <td>91.383193</td>\n      <td>595</td>\n      <td>32.077311</td>\n    </tr>\n    <tr>\n      <th>Bulgaria</th>\n      <td>87.807692</td>\n      <td>26</td>\n      <td>13.615385</td>\n    </tr>\n    <tr>\n      <th>Canada</th>\n      <td>90.166667</td>\n      <td>36</td>\n      <td>47.305556</td>\n    </tr>\n    <tr>\n      <th>Chile</th>\n      <td>86.894027</td>\n      <td>519</td>\n      <td>25.200385</td>\n    </tr>\n    <tr>\n      <th>Croatia</th>\n      <td>88.600000</td>\n      <td>10</td>\n      <td>39.800000</td>\n    </tr>\n    <tr>\n      <th>England</th>\n      <td>92.608696</td>\n      <td>23</td>\n      <td>57.260870</td>\n    </tr>\n    <tr>\n      <th>France</th>\n      <td>89.622272</td>\n      <td>4445</td>\n      <td>41.135208</td>\n    </tr>\n    <tr>\n      <th>Georgia</th>\n      <td>88.666667</td>\n      <td>9</td>\n      <td>24.222222</td>\n    </tr>\n    <tr>\n      <th>Germany</th>\n      <td>90.861868</td>\n      <td>514</td>\n      <td>36.780156</td>\n    </tr>\n    <tr>\n      <th>Greece</th>\n      <td>88.560976</td>\n      <td>41</td>\n      <td>23.609756</td>\n    </tr>\n    <tr>\n      <th>Hungary</th>\n      <td>89.450000</td>\n      <td>20</td>\n      <td>30.150000</td>\n    </tr>\n    <tr>\n      <th>Israel</th>\n      <td>89.050420</td>\n      <td>119</td>\n      <td>27.546218</td>\n    </tr>\n    <tr>\n      <th>Italy</th>\n      <td>89.439449</td>\n      <td>3047</td>\n      <td>44.416147</td>\n    </tr>\n    <tr>\n      <th>Luxembourg</th>\n      <td>89.000000</td>\n      <td>6</td>\n      <td>24.000000</td>\n    </tr>\n    <tr>\n      <th>Moldova</th>\n      <td>87.857143</td>\n      <td>28</td>\n      <td>16.571429</td>\n    </tr>\n    <tr>\n      <th>New Zealand</th>\n      <td>88.170000</td>\n      <td>300</td>\n      <td>24.286667</td>\n    </tr>\n    <tr>\n      <th>Portugal</th>\n      <td>89.094771</td>\n      <td>918</td>\n      <td>34.272331</td>\n    </tr>\n    <tr>\n      <th>South Africa</th>\n      <td>89.523810</td>\n      <td>168</td>\n      <td>36.345238</td>\n    </tr>\n    <tr>\n      <th>Spain</th>\n      <td>87.207685</td>\n      <td>1093</td>\n      <td>28.019213</td>\n    </tr>\n    <tr>\n      <th>Switzerland</th>\n      <td>89.363636</td>\n      <td>11</td>\n      <td>47.454545</td>\n    </tr>\n    <tr>\n      <th>Turkey</th>\n      <td>89.666667</td>\n      <td>9</td>\n      <td>27.222222</td>\n    </tr>\n    <tr>\n      <th>US</th>\n      <td>89.562089</td>\n      <td>8826</td>\n      <td>42.652844</td>\n    </tr>\n    <tr>\n      <th>Uruguay</th>\n      <td>87.529412</td>\n      <td>17</td>\n      <td>31.235294</td>\n    </tr>\n  </tbody>\n</table>\n</div>"
     },
     "metadata": {},
     "execution_count": 10
    }
   ],
   "source": [
    "wine_country_df = wine_merge_df[wine_merge_df['count'] >= 5]\n",
    "wine_country_df"
   ]
  },
  {
   "cell_type": "code",
   "execution_count": 11,
   "metadata": {},
   "outputs": [
    {
     "output_type": "execute_result",
     "data": {
      "text/plain": [
       "                 points      price\n",
       "country                           \n",
       "Argentina     87.327835  28.684536\n",
       "Australia     89.349462  46.653226\n",
       "Austria       91.383193  32.077311\n",
       "Bulgaria      87.807692  13.615385\n",
       "Canada        90.166667  47.305556\n",
       "Chile         86.894027  25.200385\n",
       "Croatia       88.600000  39.800000\n",
       "England       92.608696  57.260870\n",
       "France        89.622272  41.135208\n",
       "Georgia       88.666667  24.222222\n",
       "Germany       90.861868  36.780156\n",
       "Greece        88.560976  23.609756\n",
       "Hungary       89.450000  30.150000\n",
       "Israel        89.050420  27.546218\n",
       "Italy         89.439449  44.416147\n",
       "Luxembourg    89.000000  24.000000\n",
       "Moldova       87.857143  16.571429\n",
       "New Zealand   88.170000  24.286667\n",
       "Portugal      89.094771  34.272331\n",
       "South Africa  89.523810  36.345238\n",
       "Spain         87.207685  28.019213\n",
       "Switzerland   89.363636  47.454545\n",
       "Turkey        89.666667  27.222222\n",
       "US            89.562089  42.652844\n",
       "Uruguay       87.529412  31.235294"
      ],
      "text/html": "<div>\n<style scoped>\n    .dataframe tbody tr th:only-of-type {\n        vertical-align: middle;\n    }\n\n    .dataframe tbody tr th {\n        vertical-align: top;\n    }\n\n    .dataframe thead th {\n        text-align: right;\n    }\n</style>\n<table border=\"1\" class=\"dataframe\">\n  <thead>\n    <tr style=\"text-align: right;\">\n      <th></th>\n      <th>points</th>\n      <th>price</th>\n    </tr>\n    <tr>\n      <th>country</th>\n      <th></th>\n      <th></th>\n    </tr>\n  </thead>\n  <tbody>\n    <tr>\n      <th>Argentina</th>\n      <td>87.327835</td>\n      <td>28.684536</td>\n    </tr>\n    <tr>\n      <th>Australia</th>\n      <td>89.349462</td>\n      <td>46.653226</td>\n    </tr>\n    <tr>\n      <th>Austria</th>\n      <td>91.383193</td>\n      <td>32.077311</td>\n    </tr>\n    <tr>\n      <th>Bulgaria</th>\n      <td>87.807692</td>\n      <td>13.615385</td>\n    </tr>\n    <tr>\n      <th>Canada</th>\n      <td>90.166667</td>\n      <td>47.305556</td>\n    </tr>\n    <tr>\n      <th>Chile</th>\n      <td>86.894027</td>\n      <td>25.200385</td>\n    </tr>\n    <tr>\n      <th>Croatia</th>\n      <td>88.600000</td>\n      <td>39.800000</td>\n    </tr>\n    <tr>\n      <th>England</th>\n      <td>92.608696</td>\n      <td>57.260870</td>\n    </tr>\n    <tr>\n      <th>France</th>\n      <td>89.622272</td>\n      <td>41.135208</td>\n    </tr>\n    <tr>\n      <th>Georgia</th>\n      <td>88.666667</td>\n      <td>24.222222</td>\n    </tr>\n    <tr>\n      <th>Germany</th>\n      <td>90.861868</td>\n      <td>36.780156</td>\n    </tr>\n    <tr>\n      <th>Greece</th>\n      <td>88.560976</td>\n      <td>23.609756</td>\n    </tr>\n    <tr>\n      <th>Hungary</th>\n      <td>89.450000</td>\n      <td>30.150000</td>\n    </tr>\n    <tr>\n      <th>Israel</th>\n      <td>89.050420</td>\n      <td>27.546218</td>\n    </tr>\n    <tr>\n      <th>Italy</th>\n      <td>89.439449</td>\n      <td>44.416147</td>\n    </tr>\n    <tr>\n      <th>Luxembourg</th>\n      <td>89.000000</td>\n      <td>24.000000</td>\n    </tr>\n    <tr>\n      <th>Moldova</th>\n      <td>87.857143</td>\n      <td>16.571429</td>\n    </tr>\n    <tr>\n      <th>New Zealand</th>\n      <td>88.170000</td>\n      <td>24.286667</td>\n    </tr>\n    <tr>\n      <th>Portugal</th>\n      <td>89.094771</td>\n      <td>34.272331</td>\n    </tr>\n    <tr>\n      <th>South Africa</th>\n      <td>89.523810</td>\n      <td>36.345238</td>\n    </tr>\n    <tr>\n      <th>Spain</th>\n      <td>87.207685</td>\n      <td>28.019213</td>\n    </tr>\n    <tr>\n      <th>Switzerland</th>\n      <td>89.363636</td>\n      <td>47.454545</td>\n    </tr>\n    <tr>\n      <th>Turkey</th>\n      <td>89.666667</td>\n      <td>27.222222</td>\n    </tr>\n    <tr>\n      <th>US</th>\n      <td>89.562089</td>\n      <td>42.652844</td>\n    </tr>\n    <tr>\n      <th>Uruguay</th>\n      <td>87.529412</td>\n      <td>31.235294</td>\n    </tr>\n  </tbody>\n</table>\n</div>"
     },
     "metadata": {},
     "execution_count": 11
    }
   ],
   "source": [
    "wine_country_df = wine_country_df.drop(['count'], axis=1)\n",
    "wine_country_df"
   ]
  },
  {
   "cell_type": "code",
   "execution_count": 12,
   "metadata": {},
   "outputs": [
    {
     "output_type": "display_data",
     "data": {
      "text/plain": "<Figure size 432x288 with 1 Axes>",
      "image/svg+xml": "<?xml version=\"1.0\" encoding=\"utf-8\" standalone=\"no\"?>\n<!DOCTYPE svg PUBLIC \"-//W3C//DTD SVG 1.1//EN\"\n  \"http://www.w3.org/Graphics/SVG/1.1/DTD/svg11.dtd\">\n<!-- Created with matplotlib (https://matplotlib.org/) -->\n<svg height=\"262.19625pt\" version=\"1.1\" viewBox=\"0 0 382.603125 262.19625\" width=\"382.603125pt\" xmlns=\"http://www.w3.org/2000/svg\" xmlns:xlink=\"http://www.w3.org/1999/xlink\">\n <metadata>\n  <rdf:RDF xmlns:cc=\"http://creativecommons.org/ns#\" xmlns:dc=\"http://purl.org/dc/elements/1.1/\" xmlns:rdf=\"http://www.w3.org/1999/02/22-rdf-syntax-ns#\">\n   <cc:Work>\n    <dc:type rdf:resource=\"http://purl.org/dc/dcmitype/StillImage\"/>\n    <dc:date>2021-04-21T21:08:00.349837</dc:date>\n    <dc:format>image/svg+xml</dc:format>\n    <dc:creator>\n     <cc:Agent>\n      <dc:title>Matplotlib v3.3.2, https://matplotlib.org/</dc:title>\n     </cc:Agent>\n    </dc:creator>\n   </cc:Work>\n  </rdf:RDF>\n </metadata>\n <defs>\n  <style type=\"text/css\">*{stroke-linecap:butt;stroke-linejoin:round;}</style>\n </defs>\n <g id=\"figure_1\">\n  <g id=\"patch_1\">\n   <path d=\"M 0 262.19625 \nL 382.603125 262.19625 \nL 382.603125 0 \nL 0 0 \nz\n\" style=\"fill:none;\"/>\n  </g>\n  <g id=\"axes_1\">\n   <g id=\"patch_2\">\n    <path d=\"M 40.603125 224.64 \nL 375.403125 224.64 \nL 375.403125 7.2 \nL 40.603125 7.2 \nz\n\" style=\"fill:#ffffff;\"/>\n   </g>\n   <g id=\"PathCollection_1\">\n    <defs>\n     <path d=\"M 0 3 \nC 0.795609 3 1.55874 2.683901 2.12132 2.12132 \nC 2.683901 1.55874 3 0.795609 3 0 \nC 3 -0.795609 2.683901 -1.55874 2.12132 -2.12132 \nC 1.55874 -2.683901 0.795609 -3 0 -3 \nC -0.795609 -3 -1.55874 -2.683901 -2.12132 -2.12132 \nC -2.683901 -1.55874 -3 -0.795609 -3 0 \nC -3 0.795609 -2.683901 1.55874 -2.12132 2.12132 \nC -1.55874 2.683901 -0.795609 3 0 3 \nz\n\" id=\"m72ce3043dd\" style=\"stroke:#1f77b4;\"/>\n    </defs>\n    <g clip-path=\"url(#paa4a72c1cc)\">\n     <use style=\"fill:#1f77b4;stroke:#1f77b4;\" x=\"160.906672\" xlink:href=\"#m72ce3043dd\" y=\"199.750765\"/>\n     <use style=\"fill:#1f77b4;stroke:#1f77b4;\" x=\"286.212091\" xlink:href=\"#m72ce3043dd\" y=\"129.821849\"/>\n     <use style=\"fill:#1f77b4;stroke:#1f77b4;\" x=\"184.566331\" xlink:href=\"#m72ce3043dd\" y=\"59.474265\"/>\n     <use style=\"fill:#1f77b4;stroke:#1f77b4;\" x=\"55.821307\" xlink:href=\"#m72ce3043dd\" y=\"183.152306\"/>\n     <use style=\"fill:#1f77b4;stroke:#1f77b4;\" x=\"290.76114\" xlink:href=\"#m72ce3043dd\" y=\"101.554418\"/>\n     <use style=\"fill:#1f77b4;stroke:#1f77b4;\" x=\"136.6098\" xlink:href=\"#m72ce3043dd\" y=\"214.756364\"/>\n     <use style=\"fill:#1f77b4;stroke:#1f77b4;\" x=\"238.42083\" xlink:href=\"#m72ce3043dd\" y=\"155.746059\"/>\n     <use style=\"fill:#1f77b4;stroke:#1f77b4;\" x=\"360.184943\" xlink:href=\"#m72ce3043dd\" y=\"17.083636\"/>\n     <use style=\"fill:#1f77b4;stroke:#1f77b4;\" x=\"247.731961\" xlink:href=\"#m72ce3043dd\" y=\"120.385245\"/>\n     <use style=\"fill:#1f77b4;stroke:#1f77b4;\" x=\"129.788538\" xlink:href=\"#m72ce3043dd\" y=\"153.440032\"/>\n     <use style=\"fill:#1f77b4;stroke:#1f77b4;\" x=\"217.361818\" xlink:href=\"#m72ce3043dd\" y=\"77.50713\"/>\n     <use style=\"fill:#1f77b4;stroke:#1f77b4;\" x=\"125.517479\" xlink:href=\"#m72ce3043dd\" y=\"157.095928\"/>\n     <use style=\"fill:#1f77b4;stroke:#1f77b4;\" x=\"171.126147\" xlink:href=\"#m72ce3043dd\" y=\"126.344211\"/>\n     <use style=\"fill:#1f77b4;stroke:#1f77b4;\" x=\"152.968566\" xlink:href=\"#m72ce3043dd\" y=\"140.165841\"/>\n     <use style=\"fill:#1f77b4;stroke:#1f77b4;\" x=\"270.611727\" xlink:href=\"#m72ce3043dd\" y=\"126.709187\"/>\n     <use style=\"fill:#1f77b4;stroke:#1f77b4;\" x=\"128.238862\" xlink:href=\"#m72ce3043dd\" y=\"141.909895\"/>\n     <use style=\"fill:#1f77b4;stroke:#1f77b4;\" x=\"76.435404\" xlink:href=\"#m72ce3043dd\" y=\"181.441791\"/>\n     <use style=\"fill:#1f77b4;stroke:#1f77b4;\" x=\"130.237944\" xlink:href=\"#m72ce3043dd\" y=\"170.619935\"/>\n     <use style=\"fill:#1f77b4;stroke:#1f77b4;\" x=\"199.873398\" xlink:href=\"#m72ce3043dd\" y=\"138.631719\"/>\n     <use style=\"fill:#1f77b4;stroke:#1f77b4;\" x=\"214.328902\" xlink:href=\"#m72ce3043dd\" y=\"123.791109\"/>\n     <use style=\"fill:#1f77b4;stroke:#1f77b4;\" x=\"156.267015\" xlink:href=\"#m72ce3043dd\" y=\"203.906795\"/>\n     <use style=\"fill:#1f77b4;stroke:#1f77b4;\" x=\"291.800127\" xlink:href=\"#m72ce3043dd\" y=\"129.331565\"/>\n     <use style=\"fill:#1f77b4;stroke:#1f77b4;\" x=\"150.709165\" xlink:href=\"#m72ce3043dd\" y=\"118.849622\"/>\n     <use style=\"fill:#1f77b4;stroke:#1f77b4;\" x=\"258.315258\" xlink:href=\"#m72ce3043dd\" y=\"122.466997\"/>\n     <use style=\"fill:#1f77b4;stroke:#1f77b4;\" x=\"178.694491\" xlink:href=\"#m72ce3043dd\" y=\"192.778144\"/>\n    </g>\n   </g>\n   <g id=\"matplotlib.axis_1\">\n    <g id=\"xtick_1\">\n     <g id=\"line2d_1\">\n      <defs>\n       <path d=\"M 0 0 \nL 0 3.5 \n\" id=\"ma8073d64e4\" style=\"stroke:#000000;stroke-width:0.8;\"/>\n      </defs>\n      <g>\n       <use style=\"stroke:#000000;stroke-width:0.8;\" x=\"100.344692\" xlink:href=\"#ma8073d64e4\" y=\"224.64\"/>\n      </g>\n     </g>\n     <g id=\"text_1\">\n      <!-- 20 -->\n      <g transform=\"translate(93.982192 239.238438)scale(0.1 -0.1)\">\n       <defs>\n        <path d=\"M 19.1875 8.296875 \nL 53.609375 8.296875 \nL 53.609375 0 \nL 7.328125 0 \nL 7.328125 8.296875 \nQ 12.9375 14.109375 22.625 23.890625 \nQ 32.328125 33.6875 34.8125 36.53125 \nQ 39.546875 41.84375 41.421875 45.53125 \nQ 43.3125 49.21875 43.3125 52.78125 \nQ 43.3125 58.59375 39.234375 62.25 \nQ 35.15625 65.921875 28.609375 65.921875 \nQ 23.96875 65.921875 18.8125 64.3125 \nQ 13.671875 62.703125 7.8125 59.421875 \nL 7.8125 69.390625 \nQ 13.765625 71.78125 18.9375 73 \nQ 24.125 74.21875 28.421875 74.21875 \nQ 39.75 74.21875 46.484375 68.546875 \nQ 53.21875 62.890625 53.21875 53.421875 \nQ 53.21875 48.921875 51.53125 44.890625 \nQ 49.859375 40.875 45.40625 35.40625 \nQ 44.1875 33.984375 37.640625 27.21875 \nQ 31.109375 20.453125 19.1875 8.296875 \nz\n\" id=\"DejaVuSans-50\"/>\n        <path d=\"M 31.78125 66.40625 \nQ 24.171875 66.40625 20.328125 58.90625 \nQ 16.5 51.421875 16.5 36.375 \nQ 16.5 21.390625 20.328125 13.890625 \nQ 24.171875 6.390625 31.78125 6.390625 \nQ 39.453125 6.390625 43.28125 13.890625 \nQ 47.125 21.390625 47.125 36.375 \nQ 47.125 51.421875 43.28125 58.90625 \nQ 39.453125 66.40625 31.78125 66.40625 \nz\nM 31.78125 74.21875 \nQ 44.046875 74.21875 50.515625 64.515625 \nQ 56.984375 54.828125 56.984375 36.375 \nQ 56.984375 17.96875 50.515625 8.265625 \nQ 44.046875 -1.421875 31.78125 -1.421875 \nQ 19.53125 -1.421875 13.0625 8.265625 \nQ 6.59375 17.96875 6.59375 36.375 \nQ 6.59375 54.828125 13.0625 64.515625 \nQ 19.53125 74.21875 31.78125 74.21875 \nz\n\" id=\"DejaVuSans-48\"/>\n       </defs>\n       <use xlink:href=\"#DejaVuSans-50\"/>\n       <use x=\"63.623047\" xlink:href=\"#DejaVuSans-48\"/>\n      </g>\n     </g>\n    </g>\n    <g id=\"xtick_2\">\n     <g id=\"line2d_2\">\n      <g>\n       <use style=\"stroke:#000000;stroke-width:0.8;\" x=\"170.080116\" xlink:href=\"#ma8073d64e4\" y=\"224.64\"/>\n      </g>\n     </g>\n     <g id=\"text_2\">\n      <!-- 30 -->\n      <g transform=\"translate(163.717616 239.238438)scale(0.1 -0.1)\">\n       <defs>\n        <path d=\"M 40.578125 39.3125 \nQ 47.65625 37.796875 51.625 33 \nQ 55.609375 28.21875 55.609375 21.1875 \nQ 55.609375 10.40625 48.1875 4.484375 \nQ 40.765625 -1.421875 27.09375 -1.421875 \nQ 22.515625 -1.421875 17.65625 -0.515625 \nQ 12.796875 0.390625 7.625 2.203125 \nL 7.625 11.71875 \nQ 11.71875 9.328125 16.59375 8.109375 \nQ 21.484375 6.890625 26.8125 6.890625 \nQ 36.078125 6.890625 40.9375 10.546875 \nQ 45.796875 14.203125 45.796875 21.1875 \nQ 45.796875 27.640625 41.28125 31.265625 \nQ 36.765625 34.90625 28.71875 34.90625 \nL 20.21875 34.90625 \nL 20.21875 43.015625 \nL 29.109375 43.015625 \nQ 36.375 43.015625 40.234375 45.921875 \nQ 44.09375 48.828125 44.09375 54.296875 \nQ 44.09375 59.90625 40.109375 62.90625 \nQ 36.140625 65.921875 28.71875 65.921875 \nQ 24.65625 65.921875 20.015625 65.03125 \nQ 15.375 64.15625 9.8125 62.3125 \nL 9.8125 71.09375 \nQ 15.4375 72.65625 20.34375 73.4375 \nQ 25.25 74.21875 29.59375 74.21875 \nQ 40.828125 74.21875 47.359375 69.109375 \nQ 53.90625 64.015625 53.90625 55.328125 \nQ 53.90625 49.265625 50.4375 45.09375 \nQ 46.96875 40.921875 40.578125 39.3125 \nz\n\" id=\"DejaVuSans-51\"/>\n       </defs>\n       <use xlink:href=\"#DejaVuSans-51\"/>\n       <use x=\"63.623047\" xlink:href=\"#DejaVuSans-48\"/>\n      </g>\n     </g>\n    </g>\n    <g id=\"xtick_3\">\n     <g id=\"line2d_3\">\n      <g>\n       <use style=\"stroke:#000000;stroke-width:0.8;\" x=\"239.815539\" xlink:href=\"#ma8073d64e4\" y=\"224.64\"/>\n      </g>\n     </g>\n     <g id=\"text_3\">\n      <!-- 40 -->\n      <g transform=\"translate(233.453039 239.238438)scale(0.1 -0.1)\">\n       <defs>\n        <path d=\"M 37.796875 64.3125 \nL 12.890625 25.390625 \nL 37.796875 25.390625 \nz\nM 35.203125 72.90625 \nL 47.609375 72.90625 \nL 47.609375 25.390625 \nL 58.015625 25.390625 \nL 58.015625 17.1875 \nL 47.609375 17.1875 \nL 47.609375 0 \nL 37.796875 0 \nL 37.796875 17.1875 \nL 4.890625 17.1875 \nL 4.890625 26.703125 \nz\n\" id=\"DejaVuSans-52\"/>\n       </defs>\n       <use xlink:href=\"#DejaVuSans-52\"/>\n       <use x=\"63.623047\" xlink:href=\"#DejaVuSans-48\"/>\n      </g>\n     </g>\n    </g>\n    <g id=\"xtick_4\">\n     <g id=\"line2d_4\">\n      <g>\n       <use style=\"stroke:#000000;stroke-width:0.8;\" x=\"309.550962\" xlink:href=\"#ma8073d64e4\" y=\"224.64\"/>\n      </g>\n     </g>\n     <g id=\"text_4\">\n      <!-- 50 -->\n      <g transform=\"translate(303.188462 239.238438)scale(0.1 -0.1)\">\n       <defs>\n        <path d=\"M 10.796875 72.90625 \nL 49.515625 72.90625 \nL 49.515625 64.59375 \nL 19.828125 64.59375 \nL 19.828125 46.734375 \nQ 21.96875 47.46875 24.109375 47.828125 \nQ 26.265625 48.1875 28.421875 48.1875 \nQ 40.625 48.1875 47.75 41.5 \nQ 54.890625 34.8125 54.890625 23.390625 \nQ 54.890625 11.625 47.5625 5.09375 \nQ 40.234375 -1.421875 26.90625 -1.421875 \nQ 22.3125 -1.421875 17.546875 -0.640625 \nQ 12.796875 0.140625 7.71875 1.703125 \nL 7.71875 11.625 \nQ 12.109375 9.234375 16.796875 8.0625 \nQ 21.484375 6.890625 26.703125 6.890625 \nQ 35.15625 6.890625 40.078125 11.328125 \nQ 45.015625 15.765625 45.015625 23.390625 \nQ 45.015625 31 40.078125 35.4375 \nQ 35.15625 39.890625 26.703125 39.890625 \nQ 22.75 39.890625 18.8125 39.015625 \nQ 14.890625 38.140625 10.796875 36.28125 \nz\n\" id=\"DejaVuSans-53\"/>\n       </defs>\n       <use xlink:href=\"#DejaVuSans-53\"/>\n       <use x=\"63.623047\" xlink:href=\"#DejaVuSans-48\"/>\n      </g>\n     </g>\n    </g>\n    <g id=\"text_5\">\n     <!-- price -->\n     <g transform=\"translate(195.558594 252.916563)scale(0.1 -0.1)\">\n      <defs>\n       <path d=\"M 18.109375 8.203125 \nL 18.109375 -20.796875 \nL 9.078125 -20.796875 \nL 9.078125 54.6875 \nL 18.109375 54.6875 \nL 18.109375 46.390625 \nQ 20.953125 51.265625 25.265625 53.625 \nQ 29.59375 56 35.59375 56 \nQ 45.5625 56 51.78125 48.09375 \nQ 58.015625 40.1875 58.015625 27.296875 \nQ 58.015625 14.40625 51.78125 6.484375 \nQ 45.5625 -1.421875 35.59375 -1.421875 \nQ 29.59375 -1.421875 25.265625 0.953125 \nQ 20.953125 3.328125 18.109375 8.203125 \nz\nM 48.6875 27.296875 \nQ 48.6875 37.203125 44.609375 42.84375 \nQ 40.53125 48.484375 33.40625 48.484375 \nQ 26.265625 48.484375 22.1875 42.84375 \nQ 18.109375 37.203125 18.109375 27.296875 \nQ 18.109375 17.390625 22.1875 11.75 \nQ 26.265625 6.109375 33.40625 6.109375 \nQ 40.53125 6.109375 44.609375 11.75 \nQ 48.6875 17.390625 48.6875 27.296875 \nz\n\" id=\"DejaVuSans-112\"/>\n       <path d=\"M 41.109375 46.296875 \nQ 39.59375 47.171875 37.8125 47.578125 \nQ 36.03125 48 33.890625 48 \nQ 26.265625 48 22.1875 43.046875 \nQ 18.109375 38.09375 18.109375 28.8125 \nL 18.109375 0 \nL 9.078125 0 \nL 9.078125 54.6875 \nL 18.109375 54.6875 \nL 18.109375 46.1875 \nQ 20.953125 51.171875 25.484375 53.578125 \nQ 30.03125 56 36.53125 56 \nQ 37.453125 56 38.578125 55.875 \nQ 39.703125 55.765625 41.0625 55.515625 \nz\n\" id=\"DejaVuSans-114\"/>\n       <path d=\"M 9.421875 54.6875 \nL 18.40625 54.6875 \nL 18.40625 0 \nL 9.421875 0 \nz\nM 9.421875 75.984375 \nL 18.40625 75.984375 \nL 18.40625 64.59375 \nL 9.421875 64.59375 \nz\n\" id=\"DejaVuSans-105\"/>\n       <path d=\"M 48.78125 52.59375 \nL 48.78125 44.1875 \nQ 44.96875 46.296875 41.140625 47.34375 \nQ 37.3125 48.390625 33.40625 48.390625 \nQ 24.65625 48.390625 19.8125 42.84375 \nQ 14.984375 37.3125 14.984375 27.296875 \nQ 14.984375 17.28125 19.8125 11.734375 \nQ 24.65625 6.203125 33.40625 6.203125 \nQ 37.3125 6.203125 41.140625 7.25 \nQ 44.96875 8.296875 48.78125 10.40625 \nL 48.78125 2.09375 \nQ 45.015625 0.34375 40.984375 -0.53125 \nQ 36.96875 -1.421875 32.421875 -1.421875 \nQ 20.0625 -1.421875 12.78125 6.34375 \nQ 5.515625 14.109375 5.515625 27.296875 \nQ 5.515625 40.671875 12.859375 48.328125 \nQ 20.21875 56 33.015625 56 \nQ 37.15625 56 41.109375 55.140625 \nQ 45.0625 54.296875 48.78125 52.59375 \nz\n\" id=\"DejaVuSans-99\"/>\n       <path d=\"M 56.203125 29.59375 \nL 56.203125 25.203125 \nL 14.890625 25.203125 \nQ 15.484375 15.921875 20.484375 11.0625 \nQ 25.484375 6.203125 34.421875 6.203125 \nQ 39.59375 6.203125 44.453125 7.46875 \nQ 49.3125 8.734375 54.109375 11.28125 \nL 54.109375 2.78125 \nQ 49.265625 0.734375 44.1875 -0.34375 \nQ 39.109375 -1.421875 33.890625 -1.421875 \nQ 20.796875 -1.421875 13.15625 6.1875 \nQ 5.515625 13.8125 5.515625 26.8125 \nQ 5.515625 40.234375 12.765625 48.109375 \nQ 20.015625 56 32.328125 56 \nQ 43.359375 56 49.78125 48.890625 \nQ 56.203125 41.796875 56.203125 29.59375 \nz\nM 47.21875 32.234375 \nQ 47.125 39.59375 43.09375 43.984375 \nQ 39.0625 48.390625 32.421875 48.390625 \nQ 24.90625 48.390625 20.390625 44.140625 \nQ 15.875 39.890625 15.1875 32.171875 \nz\n\" id=\"DejaVuSans-101\"/>\n      </defs>\n      <use xlink:href=\"#DejaVuSans-112\"/>\n      <use x=\"63.476562\" xlink:href=\"#DejaVuSans-114\"/>\n      <use x=\"104.589844\" xlink:href=\"#DejaVuSans-105\"/>\n      <use x=\"132.373047\" xlink:href=\"#DejaVuSans-99\"/>\n      <use x=\"187.353516\" xlink:href=\"#DejaVuSans-101\"/>\n     </g>\n    </g>\n   </g>\n   <g id=\"matplotlib.axis_2\">\n    <g id=\"ytick_1\">\n     <g id=\"line2d_5\">\n      <defs>\n       <path d=\"M 0 0 \nL -3.5 0 \n\" id=\"m4a2629b24d\" style=\"stroke:#000000;stroke-width:0.8;\"/>\n      </defs>\n      <g>\n       <use style=\"stroke:#000000;stroke-width:0.8;\" x=\"40.603125\" xlink:href=\"#m4a2629b24d\" y=\"211.090713\"/>\n      </g>\n     </g>\n     <g id=\"text_6\">\n      <!-- 87 -->\n      <g transform=\"translate(20.878125 214.889932)scale(0.1 -0.1)\">\n       <defs>\n        <path d=\"M 31.78125 34.625 \nQ 24.75 34.625 20.71875 30.859375 \nQ 16.703125 27.09375 16.703125 20.515625 \nQ 16.703125 13.921875 20.71875 10.15625 \nQ 24.75 6.390625 31.78125 6.390625 \nQ 38.8125 6.390625 42.859375 10.171875 \nQ 46.921875 13.96875 46.921875 20.515625 \nQ 46.921875 27.09375 42.890625 30.859375 \nQ 38.875 34.625 31.78125 34.625 \nz\nM 21.921875 38.8125 \nQ 15.578125 40.375 12.03125 44.71875 \nQ 8.5 49.078125 8.5 55.328125 \nQ 8.5 64.0625 14.71875 69.140625 \nQ 20.953125 74.21875 31.78125 74.21875 \nQ 42.671875 74.21875 48.875 69.140625 \nQ 55.078125 64.0625 55.078125 55.328125 \nQ 55.078125 49.078125 51.53125 44.71875 \nQ 48 40.375 41.703125 38.8125 \nQ 48.828125 37.15625 52.796875 32.3125 \nQ 56.78125 27.484375 56.78125 20.515625 \nQ 56.78125 9.90625 50.3125 4.234375 \nQ 43.84375 -1.421875 31.78125 -1.421875 \nQ 19.734375 -1.421875 13.25 4.234375 \nQ 6.78125 9.90625 6.78125 20.515625 \nQ 6.78125 27.484375 10.78125 32.3125 \nQ 14.796875 37.15625 21.921875 38.8125 \nz\nM 18.3125 54.390625 \nQ 18.3125 48.734375 21.84375 45.5625 \nQ 25.390625 42.390625 31.78125 42.390625 \nQ 38.140625 42.390625 41.71875 45.5625 \nQ 45.3125 48.734375 45.3125 54.390625 \nQ 45.3125 60.0625 41.71875 63.234375 \nQ 38.140625 66.40625 31.78125 66.40625 \nQ 25.390625 66.40625 21.84375 63.234375 \nQ 18.3125 60.0625 18.3125 54.390625 \nz\n\" id=\"DejaVuSans-56\"/>\n        <path d=\"M 8.203125 72.90625 \nL 55.078125 72.90625 \nL 55.078125 68.703125 \nL 28.609375 0 \nL 18.3125 0 \nL 43.21875 64.59375 \nL 8.203125 64.59375 \nz\n\" id=\"DejaVuSans-55\"/>\n       </defs>\n       <use xlink:href=\"#DejaVuSans-56\"/>\n       <use x=\"63.623047\" xlink:href=\"#DejaVuSans-55\"/>\n      </g>\n     </g>\n    </g>\n    <g id=\"ytick_2\">\n     <g id=\"line2d_6\">\n      <g>\n       <use style=\"stroke:#000000;stroke-width:0.8;\" x=\"40.603125\" xlink:href=\"#m4a2629b24d\" y=\"176.500304\"/>\n      </g>\n     </g>\n     <g id=\"text_7\">\n      <!-- 88 -->\n      <g transform=\"translate(20.878125 180.299523)scale(0.1 -0.1)\">\n       <use xlink:href=\"#DejaVuSans-56\"/>\n       <use x=\"63.623047\" xlink:href=\"#DejaVuSans-56\"/>\n      </g>\n     </g>\n    </g>\n    <g id=\"ytick_3\">\n     <g id=\"line2d_7\">\n      <g>\n       <use style=\"stroke:#000000;stroke-width:0.8;\" x=\"40.603125\" xlink:href=\"#m4a2629b24d\" y=\"141.909895\"/>\n      </g>\n     </g>\n     <g id=\"text_8\">\n      <!-- 89 -->\n      <g transform=\"translate(20.878125 145.709114)scale(0.1 -0.1)\">\n       <defs>\n        <path d=\"M 10.984375 1.515625 \nL 10.984375 10.5 \nQ 14.703125 8.734375 18.5 7.8125 \nQ 22.3125 6.890625 25.984375 6.890625 \nQ 35.75 6.890625 40.890625 13.453125 \nQ 46.046875 20.015625 46.78125 33.40625 \nQ 43.953125 29.203125 39.59375 26.953125 \nQ 35.25 24.703125 29.984375 24.703125 \nQ 19.046875 24.703125 12.671875 31.3125 \nQ 6.296875 37.9375 6.296875 49.421875 \nQ 6.296875 60.640625 12.9375 67.421875 \nQ 19.578125 74.21875 30.609375 74.21875 \nQ 43.265625 74.21875 49.921875 64.515625 \nQ 56.59375 54.828125 56.59375 36.375 \nQ 56.59375 19.140625 48.40625 8.859375 \nQ 40.234375 -1.421875 26.421875 -1.421875 \nQ 22.703125 -1.421875 18.890625 -0.6875 \nQ 15.09375 0.046875 10.984375 1.515625 \nz\nM 30.609375 32.421875 \nQ 37.25 32.421875 41.125 36.953125 \nQ 45.015625 41.5 45.015625 49.421875 \nQ 45.015625 57.28125 41.125 61.84375 \nQ 37.25 66.40625 30.609375 66.40625 \nQ 23.96875 66.40625 20.09375 61.84375 \nQ 16.21875 57.28125 16.21875 49.421875 \nQ 16.21875 41.5 20.09375 36.953125 \nQ 23.96875 32.421875 30.609375 32.421875 \nz\n\" id=\"DejaVuSans-57\"/>\n       </defs>\n       <use xlink:href=\"#DejaVuSans-56\"/>\n       <use x=\"63.623047\" xlink:href=\"#DejaVuSans-57\"/>\n      </g>\n     </g>\n    </g>\n    <g id=\"ytick_4\">\n     <g id=\"line2d_8\">\n      <g>\n       <use style=\"stroke:#000000;stroke-width:0.8;\" x=\"40.603125\" xlink:href=\"#m4a2629b24d\" y=\"107.319486\"/>\n      </g>\n     </g>\n     <g id=\"text_9\">\n      <!-- 90 -->\n      <g transform=\"translate(20.878125 111.118705)scale(0.1 -0.1)\">\n       <use xlink:href=\"#DejaVuSans-57\"/>\n       <use x=\"63.623047\" xlink:href=\"#DejaVuSans-48\"/>\n      </g>\n     </g>\n    </g>\n    <g id=\"ytick_5\">\n     <g id=\"line2d_9\">\n      <g>\n       <use style=\"stroke:#000000;stroke-width:0.8;\" x=\"40.603125\" xlink:href=\"#m4a2629b24d\" y=\"72.729077\"/>\n      </g>\n     </g>\n     <g id=\"text_10\">\n      <!-- 91 -->\n      <g transform=\"translate(20.878125 76.528296)scale(0.1 -0.1)\">\n       <defs>\n        <path d=\"M 12.40625 8.296875 \nL 28.515625 8.296875 \nL 28.515625 63.921875 \nL 10.984375 60.40625 \nL 10.984375 69.390625 \nL 28.421875 72.90625 \nL 38.28125 72.90625 \nL 38.28125 8.296875 \nL 54.390625 8.296875 \nL 54.390625 0 \nL 12.40625 0 \nz\n\" id=\"DejaVuSans-49\"/>\n       </defs>\n       <use xlink:href=\"#DejaVuSans-57\"/>\n       <use x=\"63.623047\" xlink:href=\"#DejaVuSans-49\"/>\n      </g>\n     </g>\n    </g>\n    <g id=\"ytick_6\">\n     <g id=\"line2d_10\">\n      <g>\n       <use style=\"stroke:#000000;stroke-width:0.8;\" x=\"40.603125\" xlink:href=\"#m4a2629b24d\" y=\"38.138668\"/>\n      </g>\n     </g>\n     <g id=\"text_11\">\n      <!-- 92 -->\n      <g transform=\"translate(20.878125 41.937887)scale(0.1 -0.1)\">\n       <use xlink:href=\"#DejaVuSans-57\"/>\n       <use x=\"63.623047\" xlink:href=\"#DejaVuSans-50\"/>\n      </g>\n     </g>\n    </g>\n    <g id=\"text_12\">\n     <!-- points -->\n     <g transform=\"translate(14.798438 131.27625)rotate(-90)scale(0.1 -0.1)\">\n      <defs>\n       <path d=\"M 30.609375 48.390625 \nQ 23.390625 48.390625 19.1875 42.75 \nQ 14.984375 37.109375 14.984375 27.296875 \nQ 14.984375 17.484375 19.15625 11.84375 \nQ 23.34375 6.203125 30.609375 6.203125 \nQ 37.796875 6.203125 41.984375 11.859375 \nQ 46.1875 17.53125 46.1875 27.296875 \nQ 46.1875 37.015625 41.984375 42.703125 \nQ 37.796875 48.390625 30.609375 48.390625 \nz\nM 30.609375 56 \nQ 42.328125 56 49.015625 48.375 \nQ 55.71875 40.765625 55.71875 27.296875 \nQ 55.71875 13.875 49.015625 6.21875 \nQ 42.328125 -1.421875 30.609375 -1.421875 \nQ 18.84375 -1.421875 12.171875 6.21875 \nQ 5.515625 13.875 5.515625 27.296875 \nQ 5.515625 40.765625 12.171875 48.375 \nQ 18.84375 56 30.609375 56 \nz\n\" id=\"DejaVuSans-111\"/>\n       <path d=\"M 54.890625 33.015625 \nL 54.890625 0 \nL 45.90625 0 \nL 45.90625 32.71875 \nQ 45.90625 40.484375 42.875 44.328125 \nQ 39.84375 48.1875 33.796875 48.1875 \nQ 26.515625 48.1875 22.3125 43.546875 \nQ 18.109375 38.921875 18.109375 30.90625 \nL 18.109375 0 \nL 9.078125 0 \nL 9.078125 54.6875 \nL 18.109375 54.6875 \nL 18.109375 46.1875 \nQ 21.34375 51.125 25.703125 53.5625 \nQ 30.078125 56 35.796875 56 \nQ 45.21875 56 50.046875 50.171875 \nQ 54.890625 44.34375 54.890625 33.015625 \nz\n\" id=\"DejaVuSans-110\"/>\n       <path d=\"M 18.3125 70.21875 \nL 18.3125 54.6875 \nL 36.8125 54.6875 \nL 36.8125 47.703125 \nL 18.3125 47.703125 \nL 18.3125 18.015625 \nQ 18.3125 11.328125 20.140625 9.421875 \nQ 21.96875 7.515625 27.59375 7.515625 \nL 36.8125 7.515625 \nL 36.8125 0 \nL 27.59375 0 \nQ 17.1875 0 13.234375 3.875 \nQ 9.28125 7.765625 9.28125 18.015625 \nL 9.28125 47.703125 \nL 2.6875 47.703125 \nL 2.6875 54.6875 \nL 9.28125 54.6875 \nL 9.28125 70.21875 \nz\n\" id=\"DejaVuSans-116\"/>\n       <path d=\"M 44.28125 53.078125 \nL 44.28125 44.578125 \nQ 40.484375 46.53125 36.375 47.5 \nQ 32.28125 48.484375 27.875 48.484375 \nQ 21.1875 48.484375 17.84375 46.4375 \nQ 14.5 44.390625 14.5 40.28125 \nQ 14.5 37.15625 16.890625 35.375 \nQ 19.28125 33.59375 26.515625 31.984375 \nL 29.59375 31.296875 \nQ 39.15625 29.25 43.1875 25.515625 \nQ 47.21875 21.78125 47.21875 15.09375 \nQ 47.21875 7.46875 41.1875 3.015625 \nQ 35.15625 -1.421875 24.609375 -1.421875 \nQ 20.21875 -1.421875 15.453125 -0.5625 \nQ 10.6875 0.296875 5.421875 2 \nL 5.421875 11.28125 \nQ 10.40625 8.6875 15.234375 7.390625 \nQ 20.0625 6.109375 24.8125 6.109375 \nQ 31.15625 6.109375 34.5625 8.28125 \nQ 37.984375 10.453125 37.984375 14.40625 \nQ 37.984375 18.0625 35.515625 20.015625 \nQ 33.0625 21.96875 24.703125 23.78125 \nL 21.578125 24.515625 \nQ 13.234375 26.265625 9.515625 29.90625 \nQ 5.8125 33.546875 5.8125 39.890625 \nQ 5.8125 47.609375 11.28125 51.796875 \nQ 16.75 56 26.8125 56 \nQ 31.78125 56 36.171875 55.265625 \nQ 40.578125 54.546875 44.28125 53.078125 \nz\n\" id=\"DejaVuSans-115\"/>\n      </defs>\n      <use xlink:href=\"#DejaVuSans-112\"/>\n      <use x=\"63.476562\" xlink:href=\"#DejaVuSans-111\"/>\n      <use x=\"124.658203\" xlink:href=\"#DejaVuSans-105\"/>\n      <use x=\"152.441406\" xlink:href=\"#DejaVuSans-110\"/>\n      <use x=\"215.820312\" xlink:href=\"#DejaVuSans-116\"/>\n      <use x=\"255.029297\" xlink:href=\"#DejaVuSans-115\"/>\n     </g>\n    </g>\n   </g>\n   <g id=\"patch_3\">\n    <path d=\"M 40.603125 224.64 \nL 40.603125 7.2 \n\" style=\"fill:none;stroke:#000000;stroke-linecap:square;stroke-linejoin:miter;stroke-width:0.8;\"/>\n   </g>\n   <g id=\"patch_4\">\n    <path d=\"M 375.403125 224.64 \nL 375.403125 7.2 \n\" style=\"fill:none;stroke:#000000;stroke-linecap:square;stroke-linejoin:miter;stroke-width:0.8;\"/>\n   </g>\n   <g id=\"patch_5\">\n    <path d=\"M 40.603125 224.64 \nL 375.403125 224.64 \n\" style=\"fill:none;stroke:#000000;stroke-linecap:square;stroke-linejoin:miter;stroke-width:0.8;\"/>\n   </g>\n   <g id=\"patch_6\">\n    <path d=\"M 40.603125 7.2 \nL 375.403125 7.2 \n\" style=\"fill:none;stroke:#000000;stroke-linecap:square;stroke-linejoin:miter;stroke-width:0.8;\"/>\n   </g>\n  </g>\n </g>\n <defs>\n  <clipPath id=\"paa4a72c1cc\">\n   <rect height=\"217.44\" width=\"334.8\" x=\"40.603125\" y=\"7.2\"/>\n  </clipPath>\n </defs>\n</svg>\n",
      "image/png": "[encoded data removed]"
     },
     "metadata": {
      "needs_background": "light"
     }
    }
   ],
   "source": [
    "plt.scatter(wine_country_df.price, wine_country_df.points)\n",
    "plt.xlabel('price')\n",
    "plt.ylabel('points')\n",
    "plt.show()"
   ]
  },
  {
   "cell_type": "code",
   "execution_count": 13,
   "metadata": {},
   "outputs": [
    {
     "output_type": "execute_result",
     "data": {
      "text/plain": [
       "array([[28.68453608],\n",
       "       [46.65322581],\n",
       "       [32.07731092],\n",
       "       [13.61538462],\n",
       "       [47.30555556]])"
      ]
     },
     "metadata": {},
     "execution_count": 13
    }
   ],
   "source": [
    "X = wine_country_df.price.values.reshape(-1, 1)\n",
    "X[:5]"
   ]
  },
  {
   "cell_type": "code",
   "execution_count": 14,
   "metadata": {},
   "outputs": [
    {
     "output_type": "execute_result",
     "data": {
      "text/plain": [
       "(25, 1)"
      ]
     },
     "metadata": {},
     "execution_count": 14
    }
   ],
   "source": [
    "X.shape"
   ]
  },
  {
   "cell_type": "code",
   "execution_count": 15,
   "metadata": {},
   "outputs": [
    {
     "output_type": "stream",
     "name": "stdout",
     "text": [
      "(25,)\n"
     ]
    }
   ],
   "source": [
    "y = wine_country_df.points\n",
    "\n",
    "model = LinearRegression()\n",
    "model.fit(X, y)\n",
    "y_pred = model.predict(X)\n",
    "print(y_pred.shape)"
   ]
  },
  {
   "cell_type": "code",
   "execution_count": 16,
   "metadata": {},
   "outputs": [
    {
     "output_type": "display_data",
     "data": {
      "text/plain": "<Figure size 432x288 with 1 Axes>",
      "image/svg+xml": "<?xml version=\"1.0\" encoding=\"utf-8\" standalone=\"no\"?>\n<!DOCTYPE svg PUBLIC \"-//W3C//DTD SVG 1.1//EN\"\n  \"http://www.w3.org/Graphics/SVG/1.1/DTD/svg11.dtd\">\n<!-- Created with matplotlib (https://matplotlib.org/) -->\n<svg height=\"248.518125pt\" version=\"1.1\" viewBox=\"0 0 368.925 248.518125\" width=\"368.925pt\" xmlns=\"http://www.w3.org/2000/svg\" xmlns:xlink=\"http://www.w3.org/1999/xlink\">\n <metadata>\n  <rdf:RDF xmlns:cc=\"http://creativecommons.org/ns#\" xmlns:dc=\"http://purl.org/dc/elements/1.1/\" xmlns:rdf=\"http://www.w3.org/1999/02/22-rdf-syntax-ns#\">\n   <cc:Work>\n    <dc:type rdf:resource=\"http://purl.org/dc/dcmitype/StillImage\"/>\n    <dc:date>2021-04-21T21:08:00.642263</dc:date>\n    <dc:format>image/svg+xml</dc:format>\n    <dc:creator>\n     <cc:Agent>\n      <dc:title>Matplotlib v3.3.2, https://matplotlib.org/</dc:title>\n     </cc:Agent>\n    </dc:creator>\n   </cc:Work>\n  </rdf:RDF>\n </metadata>\n <defs>\n  <style type=\"text/css\">*{stroke-linecap:butt;stroke-linejoin:round;}</style>\n </defs>\n <g id=\"figure_1\">\n  <g id=\"patch_1\">\n   <path d=\"M -0 248.518125 \nL 368.925 248.518125 \nL 368.925 0 \nL -0 0 \nz\n\" style=\"fill:none;\"/>\n  </g>\n  <g id=\"axes_1\">\n   <g id=\"patch_2\">\n    <path d=\"M 26.925 224.64 \nL 361.725 224.64 \nL 361.725 7.2 \nL 26.925 7.2 \nz\n\" style=\"fill:#ffffff;\"/>\n   </g>\n   <g id=\"PathCollection_1\">\n    <defs>\n     <path d=\"M 0 3 \nC 0.795609 3 1.55874 2.683901 2.12132 2.12132 \nC 2.683901 1.55874 3 0.795609 3 0 \nC 3 -0.795609 2.683901 -1.55874 2.12132 -2.12132 \nC 1.55874 -2.683901 0.795609 -3 0 -3 \nC -0.795609 -3 -1.55874 -2.683901 -2.12132 -2.12132 \nC -2.683901 -1.55874 -3 -0.795609 -3 0 \nC -3 0.795609 -2.683901 1.55874 -2.12132 2.12132 \nC -1.55874 2.683901 -0.795609 3 0 3 \nz\n\" id=\"m340bc969f8\" style=\"stroke:#1f77b4;\"/>\n    </defs>\n    <g clip-path=\"url(#p4cd392ce4a)\">\n     <use style=\"fill:#1f77b4;stroke:#1f77b4;\" x=\"147.228547\" xlink:href=\"#m340bc969f8\" y=\"199.750765\"/>\n     <use style=\"fill:#1f77b4;stroke:#1f77b4;\" x=\"272.533966\" xlink:href=\"#m340bc969f8\" y=\"129.821849\"/>\n     <use style=\"fill:#1f77b4;stroke:#1f77b4;\" x=\"170.888206\" xlink:href=\"#m340bc969f8\" y=\"59.474265\"/>\n     <use style=\"fill:#1f77b4;stroke:#1f77b4;\" x=\"42.143182\" xlink:href=\"#m340bc969f8\" y=\"183.152306\"/>\n     <use style=\"fill:#1f77b4;stroke:#1f77b4;\" x=\"277.083015\" xlink:href=\"#m340bc969f8\" y=\"101.554418\"/>\n     <use style=\"fill:#1f77b4;stroke:#1f77b4;\" x=\"122.931675\" xlink:href=\"#m340bc969f8\" y=\"214.756364\"/>\n     <use style=\"fill:#1f77b4;stroke:#1f77b4;\" x=\"224.742705\" xlink:href=\"#m340bc969f8\" y=\"155.746059\"/>\n     <use style=\"fill:#1f77b4;stroke:#1f77b4;\" x=\"346.506818\" xlink:href=\"#m340bc969f8\" y=\"17.083636\"/>\n     <use style=\"fill:#1f77b4;stroke:#1f77b4;\" x=\"234.053836\" xlink:href=\"#m340bc969f8\" y=\"120.385245\"/>\n     <use style=\"fill:#1f77b4;stroke:#1f77b4;\" x=\"116.110413\" xlink:href=\"#m340bc969f8\" y=\"153.440032\"/>\n     <use style=\"fill:#1f77b4;stroke:#1f77b4;\" x=\"203.683693\" xlink:href=\"#m340bc969f8\" y=\"77.50713\"/>\n     <use style=\"fill:#1f77b4;stroke:#1f77b4;\" x=\"111.839354\" xlink:href=\"#m340bc969f8\" y=\"157.095928\"/>\n     <use style=\"fill:#1f77b4;stroke:#1f77b4;\" x=\"157.448022\" xlink:href=\"#m340bc969f8\" y=\"126.344211\"/>\n     <use style=\"fill:#1f77b4;stroke:#1f77b4;\" x=\"139.290441\" xlink:href=\"#m340bc969f8\" y=\"140.165841\"/>\n     <use style=\"fill:#1f77b4;stroke:#1f77b4;\" x=\"256.933602\" xlink:href=\"#m340bc969f8\" y=\"126.709187\"/>\n     <use style=\"fill:#1f77b4;stroke:#1f77b4;\" x=\"114.560737\" xlink:href=\"#m340bc969f8\" y=\"141.909895\"/>\n     <use style=\"fill:#1f77b4;stroke:#1f77b4;\" x=\"62.757279\" xlink:href=\"#m340bc969f8\" y=\"181.441791\"/>\n     <use style=\"fill:#1f77b4;stroke:#1f77b4;\" x=\"116.559819\" xlink:href=\"#m340bc969f8\" y=\"170.619935\"/>\n     <use style=\"fill:#1f77b4;stroke:#1f77b4;\" x=\"186.195273\" xlink:href=\"#m340bc969f8\" y=\"138.631719\"/>\n     <use style=\"fill:#1f77b4;stroke:#1f77b4;\" x=\"200.650777\" xlink:href=\"#m340bc969f8\" y=\"123.791109\"/>\n     <use style=\"fill:#1f77b4;stroke:#1f77b4;\" x=\"142.58889\" xlink:href=\"#m340bc969f8\" y=\"203.906795\"/>\n     <use style=\"fill:#1f77b4;stroke:#1f77b4;\" x=\"278.122002\" xlink:href=\"#m340bc969f8\" y=\"129.331565\"/>\n     <use style=\"fill:#1f77b4;stroke:#1f77b4;\" x=\"137.03104\" xlink:href=\"#m340bc969f8\" y=\"118.849622\"/>\n     <use style=\"fill:#1f77b4;stroke:#1f77b4;\" x=\"244.637133\" xlink:href=\"#m340bc969f8\" y=\"122.466997\"/>\n     <use style=\"fill:#1f77b4;stroke:#1f77b4;\" x=\"165.016366\" xlink:href=\"#m340bc969f8\" y=\"192.778144\"/>\n    </g>\n   </g>\n   <g id=\"matplotlib.axis_1\">\n    <g id=\"xtick_1\">\n     <g id=\"line2d_1\">\n      <defs>\n       <path d=\"M 0 0 \nL 0 3.5 \n\" id=\"mf83f021c97\" style=\"stroke:#000000;stroke-width:0.8;\"/>\n      </defs>\n      <g>\n       <use style=\"stroke:#000000;stroke-width:0.8;\" x=\"86.666567\" xlink:href=\"#mf83f021c97\" y=\"224.64\"/>\n      </g>\n     </g>\n     <g id=\"text_1\">\n      <!-- 20 -->\n      <g transform=\"translate(80.304067 239.238438)scale(0.1 -0.1)\">\n       <defs>\n        <path d=\"M 19.1875 8.296875 \nL 53.609375 8.296875 \nL 53.609375 0 \nL 7.328125 0 \nL 7.328125 8.296875 \nQ 12.9375 14.109375 22.625 23.890625 \nQ 32.328125 33.6875 34.8125 36.53125 \nQ 39.546875 41.84375 41.421875 45.53125 \nQ 43.3125 49.21875 43.3125 52.78125 \nQ 43.3125 58.59375 39.234375 62.25 \nQ 35.15625 65.921875 28.609375 65.921875 \nQ 23.96875 65.921875 18.8125 64.3125 \nQ 13.671875 62.703125 7.8125 59.421875 \nL 7.8125 69.390625 \nQ 13.765625 71.78125 18.9375 73 \nQ 24.125 74.21875 28.421875 74.21875 \nQ 39.75 74.21875 46.484375 68.546875 \nQ 53.21875 62.890625 53.21875 53.421875 \nQ 53.21875 48.921875 51.53125 44.890625 \nQ 49.859375 40.875 45.40625 35.40625 \nQ 44.1875 33.984375 37.640625 27.21875 \nQ 31.109375 20.453125 19.1875 8.296875 \nz\n\" id=\"DejaVuSans-50\"/>\n        <path d=\"M 31.78125 66.40625 \nQ 24.171875 66.40625 20.328125 58.90625 \nQ 16.5 51.421875 16.5 36.375 \nQ 16.5 21.390625 20.328125 13.890625 \nQ 24.171875 6.390625 31.78125 6.390625 \nQ 39.453125 6.390625 43.28125 13.890625 \nQ 47.125 21.390625 47.125 36.375 \nQ 47.125 51.421875 43.28125 58.90625 \nQ 39.453125 66.40625 31.78125 66.40625 \nz\nM 31.78125 74.21875 \nQ 44.046875 74.21875 50.515625 64.515625 \nQ 56.984375 54.828125 56.984375 36.375 \nQ 56.984375 17.96875 50.515625 8.265625 \nQ 44.046875 -1.421875 31.78125 -1.421875 \nQ 19.53125 -1.421875 13.0625 8.265625 \nQ 6.59375 17.96875 6.59375 36.375 \nQ 6.59375 54.828125 13.0625 64.515625 \nQ 19.53125 74.21875 31.78125 74.21875 \nz\n\" id=\"DejaVuSans-48\"/>\n       </defs>\n       <use xlink:href=\"#DejaVuSans-50\"/>\n       <use x=\"63.623047\" xlink:href=\"#DejaVuSans-48\"/>\n      </g>\n     </g>\n    </g>\n    <g id=\"xtick_2\">\n     <g id=\"line2d_2\">\n      <g>\n       <use style=\"stroke:#000000;stroke-width:0.8;\" x=\"156.401991\" xlink:href=\"#mf83f021c97\" y=\"224.64\"/>\n      </g>\n     </g>\n     <g id=\"text_2\">\n      <!-- 30 -->\n      <g transform=\"translate(150.039491 239.238438)scale(0.1 -0.1)\">\n       <defs>\n        <path d=\"M 40.578125 39.3125 \nQ 47.65625 37.796875 51.625 33 \nQ 55.609375 28.21875 55.609375 21.1875 \nQ 55.609375 10.40625 48.1875 4.484375 \nQ 40.765625 -1.421875 27.09375 -1.421875 \nQ 22.515625 -1.421875 17.65625 -0.515625 \nQ 12.796875 0.390625 7.625 2.203125 \nL 7.625 11.71875 \nQ 11.71875 9.328125 16.59375 8.109375 \nQ 21.484375 6.890625 26.8125 6.890625 \nQ 36.078125 6.890625 40.9375 10.546875 \nQ 45.796875 14.203125 45.796875 21.1875 \nQ 45.796875 27.640625 41.28125 31.265625 \nQ 36.765625 34.90625 28.71875 34.90625 \nL 20.21875 34.90625 \nL 20.21875 43.015625 \nL 29.109375 43.015625 \nQ 36.375 43.015625 40.234375 45.921875 \nQ 44.09375 48.828125 44.09375 54.296875 \nQ 44.09375 59.90625 40.109375 62.90625 \nQ 36.140625 65.921875 28.71875 65.921875 \nQ 24.65625 65.921875 20.015625 65.03125 \nQ 15.375 64.15625 9.8125 62.3125 \nL 9.8125 71.09375 \nQ 15.4375 72.65625 20.34375 73.4375 \nQ 25.25 74.21875 29.59375 74.21875 \nQ 40.828125 74.21875 47.359375 69.109375 \nQ 53.90625 64.015625 53.90625 55.328125 \nQ 53.90625 49.265625 50.4375 45.09375 \nQ 46.96875 40.921875 40.578125 39.3125 \nz\n\" id=\"DejaVuSans-51\"/>\n       </defs>\n       <use xlink:href=\"#DejaVuSans-51\"/>\n       <use x=\"63.623047\" xlink:href=\"#DejaVuSans-48\"/>\n      </g>\n     </g>\n    </g>\n    <g id=\"xtick_3\">\n     <g id=\"line2d_3\">\n      <g>\n       <use style=\"stroke:#000000;stroke-width:0.8;\" x=\"226.137414\" xlink:href=\"#mf83f021c97\" y=\"224.64\"/>\n      </g>\n     </g>\n     <g id=\"text_3\">\n      <!-- 40 -->\n      <g transform=\"translate(219.774914 239.238438)scale(0.1 -0.1)\">\n       <defs>\n        <path d=\"M 37.796875 64.3125 \nL 12.890625 25.390625 \nL 37.796875 25.390625 \nz\nM 35.203125 72.90625 \nL 47.609375 72.90625 \nL 47.609375 25.390625 \nL 58.015625 25.390625 \nL 58.015625 17.1875 \nL 47.609375 17.1875 \nL 47.609375 0 \nL 37.796875 0 \nL 37.796875 17.1875 \nL 4.890625 17.1875 \nL 4.890625 26.703125 \nz\n\" id=\"DejaVuSans-52\"/>\n       </defs>\n       <use xlink:href=\"#DejaVuSans-52\"/>\n       <use x=\"63.623047\" xlink:href=\"#DejaVuSans-48\"/>\n      </g>\n     </g>\n    </g>\n    <g id=\"xtick_4\">\n     <g id=\"line2d_4\">\n      <g>\n       <use style=\"stroke:#000000;stroke-width:0.8;\" x=\"295.872837\" xlink:href=\"#mf83f021c97\" y=\"224.64\"/>\n      </g>\n     </g>\n     <g id=\"text_4\">\n      <!-- 50 -->\n      <g transform=\"translate(289.510337 239.238438)scale(0.1 -0.1)\">\n       <defs>\n        <path d=\"M 10.796875 72.90625 \nL 49.515625 72.90625 \nL 49.515625 64.59375 \nL 19.828125 64.59375 \nL 19.828125 46.734375 \nQ 21.96875 47.46875 24.109375 47.828125 \nQ 26.265625 48.1875 28.421875 48.1875 \nQ 40.625 48.1875 47.75 41.5 \nQ 54.890625 34.8125 54.890625 23.390625 \nQ 54.890625 11.625 47.5625 5.09375 \nQ 40.234375 -1.421875 26.90625 -1.421875 \nQ 22.3125 -1.421875 17.546875 -0.640625 \nQ 12.796875 0.140625 7.71875 1.703125 \nL 7.71875 11.625 \nQ 12.109375 9.234375 16.796875 8.0625 \nQ 21.484375 6.890625 26.703125 6.890625 \nQ 35.15625 6.890625 40.078125 11.328125 \nQ 45.015625 15.765625 45.015625 23.390625 \nQ 45.015625 31 40.078125 35.4375 \nQ 35.15625 39.890625 26.703125 39.890625 \nQ 22.75 39.890625 18.8125 39.015625 \nQ 14.890625 38.140625 10.796875 36.28125 \nz\n\" id=\"DejaVuSans-53\"/>\n       </defs>\n       <use xlink:href=\"#DejaVuSans-53\"/>\n       <use x=\"63.623047\" xlink:href=\"#DejaVuSans-48\"/>\n      </g>\n     </g>\n    </g>\n   </g>\n   <g id=\"matplotlib.axis_2\">\n    <g id=\"ytick_1\">\n     <g id=\"line2d_5\">\n      <defs>\n       <path d=\"M 0 0 \nL -3.5 0 \n\" id=\"md62c544725\" style=\"stroke:#000000;stroke-width:0.8;\"/>\n      </defs>\n      <g>\n       <use style=\"stroke:#000000;stroke-width:0.8;\" x=\"26.925\" xlink:href=\"#md62c544725\" y=\"211.090713\"/>\n      </g>\n     </g>\n     <g id=\"text_5\">\n      <!-- 87 -->\n      <g transform=\"translate(7.2 214.889932)scale(0.1 -0.1)\">\n       <defs>\n        <path d=\"M 31.78125 34.625 \nQ 24.75 34.625 20.71875 30.859375 \nQ 16.703125 27.09375 16.703125 20.515625 \nQ 16.703125 13.921875 20.71875 10.15625 \nQ 24.75 6.390625 31.78125 6.390625 \nQ 38.8125 6.390625 42.859375 10.171875 \nQ 46.921875 13.96875 46.921875 20.515625 \nQ 46.921875 27.09375 42.890625 30.859375 \nQ 38.875 34.625 31.78125 34.625 \nz\nM 21.921875 38.8125 \nQ 15.578125 40.375 12.03125 44.71875 \nQ 8.5 49.078125 8.5 55.328125 \nQ 8.5 64.0625 14.71875 69.140625 \nQ 20.953125 74.21875 31.78125 74.21875 \nQ 42.671875 74.21875 48.875 69.140625 \nQ 55.078125 64.0625 55.078125 55.328125 \nQ 55.078125 49.078125 51.53125 44.71875 \nQ 48 40.375 41.703125 38.8125 \nQ 48.828125 37.15625 52.796875 32.3125 \nQ 56.78125 27.484375 56.78125 20.515625 \nQ 56.78125 9.90625 50.3125 4.234375 \nQ 43.84375 -1.421875 31.78125 -1.421875 \nQ 19.734375 -1.421875 13.25 4.234375 \nQ 6.78125 9.90625 6.78125 20.515625 \nQ 6.78125 27.484375 10.78125 32.3125 \nQ 14.796875 37.15625 21.921875 38.8125 \nz\nM 18.3125 54.390625 \nQ 18.3125 48.734375 21.84375 45.5625 \nQ 25.390625 42.390625 31.78125 42.390625 \nQ 38.140625 42.390625 41.71875 45.5625 \nQ 45.3125 48.734375 45.3125 54.390625 \nQ 45.3125 60.0625 41.71875 63.234375 \nQ 38.140625 66.40625 31.78125 66.40625 \nQ 25.390625 66.40625 21.84375 63.234375 \nQ 18.3125 60.0625 18.3125 54.390625 \nz\n\" id=\"DejaVuSans-56\"/>\n        <path d=\"M 8.203125 72.90625 \nL 55.078125 72.90625 \nL 55.078125 68.703125 \nL 28.609375 0 \nL 18.3125 0 \nL 43.21875 64.59375 \nL 8.203125 64.59375 \nz\n\" id=\"DejaVuSans-55\"/>\n       </defs>\n       <use xlink:href=\"#DejaVuSans-56\"/>\n       <use x=\"63.623047\" xlink:href=\"#DejaVuSans-55\"/>\n      </g>\n     </g>\n    </g>\n    <g id=\"ytick_2\">\n     <g id=\"line2d_6\">\n      <g>\n       <use style=\"stroke:#000000;stroke-width:0.8;\" x=\"26.925\" xlink:href=\"#md62c544725\" y=\"176.500304\"/>\n      </g>\n     </g>\n     <g id=\"text_6\">\n      <!-- 88 -->\n      <g transform=\"translate(7.2 180.299523)scale(0.1 -0.1)\">\n       <use xlink:href=\"#DejaVuSans-56\"/>\n       <use x=\"63.623047\" xlink:href=\"#DejaVuSans-56\"/>\n      </g>\n     </g>\n    </g>\n    <g id=\"ytick_3\">\n     <g id=\"line2d_7\">\n      <g>\n       <use style=\"stroke:#000000;stroke-width:0.8;\" x=\"26.925\" xlink:href=\"#md62c544725\" y=\"141.909895\"/>\n      </g>\n     </g>\n     <g id=\"text_7\">\n      <!-- 89 -->\n      <g transform=\"translate(7.2 145.709114)scale(0.1 -0.1)\">\n       <defs>\n        <path d=\"M 10.984375 1.515625 \nL 10.984375 10.5 \nQ 14.703125 8.734375 18.5 7.8125 \nQ 22.3125 6.890625 25.984375 6.890625 \nQ 35.75 6.890625 40.890625 13.453125 \nQ 46.046875 20.015625 46.78125 33.40625 \nQ 43.953125 29.203125 39.59375 26.953125 \nQ 35.25 24.703125 29.984375 24.703125 \nQ 19.046875 24.703125 12.671875 31.3125 \nQ 6.296875 37.9375 6.296875 49.421875 \nQ 6.296875 60.640625 12.9375 67.421875 \nQ 19.578125 74.21875 30.609375 74.21875 \nQ 43.265625 74.21875 49.921875 64.515625 \nQ 56.59375 54.828125 56.59375 36.375 \nQ 56.59375 19.140625 48.40625 8.859375 \nQ 40.234375 -1.421875 26.421875 -1.421875 \nQ 22.703125 -1.421875 18.890625 -0.6875 \nQ 15.09375 0.046875 10.984375 1.515625 \nz\nM 30.609375 32.421875 \nQ 37.25 32.421875 41.125 36.953125 \nQ 45.015625 41.5 45.015625 49.421875 \nQ 45.015625 57.28125 41.125 61.84375 \nQ 37.25 66.40625 30.609375 66.40625 \nQ 23.96875 66.40625 20.09375 61.84375 \nQ 16.21875 57.28125 16.21875 49.421875 \nQ 16.21875 41.5 20.09375 36.953125 \nQ 23.96875 32.421875 30.609375 32.421875 \nz\n\" id=\"DejaVuSans-57\"/>\n       </defs>\n       <use xlink:href=\"#DejaVuSans-56\"/>\n       <use x=\"63.623047\" xlink:href=\"#DejaVuSans-57\"/>\n      </g>\n     </g>\n    </g>\n    <g id=\"ytick_4\">\n     <g id=\"line2d_8\">\n      <g>\n       <use style=\"stroke:#000000;stroke-width:0.8;\" x=\"26.925\" xlink:href=\"#md62c544725\" y=\"107.319486\"/>\n      </g>\n     </g>\n     <g id=\"text_8\">\n      <!-- 90 -->\n      <g transform=\"translate(7.2 111.118705)scale(0.1 -0.1)\">\n       <use xlink:href=\"#DejaVuSans-57\"/>\n       <use x=\"63.623047\" xlink:href=\"#DejaVuSans-48\"/>\n      </g>\n     </g>\n    </g>\n    <g id=\"ytick_5\">\n     <g id=\"line2d_9\">\n      <g>\n       <use style=\"stroke:#000000;stroke-width:0.8;\" x=\"26.925\" xlink:href=\"#md62c544725\" y=\"72.729077\"/>\n      </g>\n     </g>\n     <g id=\"text_9\">\n      <!-- 91 -->\n      <g transform=\"translate(7.2 76.528296)scale(0.1 -0.1)\">\n       <defs>\n        <path d=\"M 12.40625 8.296875 \nL 28.515625 8.296875 \nL 28.515625 63.921875 \nL 10.984375 60.40625 \nL 10.984375 69.390625 \nL 28.421875 72.90625 \nL 38.28125 72.90625 \nL 38.28125 8.296875 \nL 54.390625 8.296875 \nL 54.390625 0 \nL 12.40625 0 \nz\n\" id=\"DejaVuSans-49\"/>\n       </defs>\n       <use xlink:href=\"#DejaVuSans-57\"/>\n       <use x=\"63.623047\" xlink:href=\"#DejaVuSans-49\"/>\n      </g>\n     </g>\n    </g>\n    <g id=\"ytick_6\">\n     <g id=\"line2d_10\">\n      <g>\n       <use style=\"stroke:#000000;stroke-width:0.8;\" x=\"26.925\" xlink:href=\"#md62c544725\" y=\"38.138668\"/>\n      </g>\n     </g>\n     <g id=\"text_10\">\n      <!-- 92 -->\n      <g transform=\"translate(7.2 41.937887)scale(0.1 -0.1)\">\n       <use xlink:href=\"#DejaVuSans-57\"/>\n       <use x=\"63.623047\" xlink:href=\"#DejaVuSans-50\"/>\n      </g>\n     </g>\n    </g>\n   </g>\n   <g id=\"line2d_11\">\n    <path clip-path=\"url(#p4cd392ce4a)\" d=\"M 147.228547 152.223763 \nL 272.533966 101.697547 \nL 170.888206 142.683608 \nL 42.143182 194.596758 \nL 277.083015 99.863258 \nL 122.931675 162.020857 \nL 224.742705 120.968154 \nL 346.506818 71.869879 \nL 234.053836 117.213678 \nL 116.110413 164.771357 \nL 203.683693 129.459664 \nL 111.839354 166.493553 \nL 157.448022 148.10302 \nL 139.290441 155.424602 \nL 256.933602 107.987996 \nL 114.560737 165.396225 \nL 62.757279 186.284649 \nL 116.559819 164.590146 \nL 186.195273 136.511424 \nL 200.650777 130.68261 \nL 142.58889 154.094586 \nL 278.122002 99.444313 \nL 137.03104 156.335648 \nL 244.637133 112.946233 \nL 165.016366 145.051278 \n\" style=\"fill:none;stroke:#ff0000;stroke-linecap:square;stroke-width:1.5;\"/>\n   </g>\n   <g id=\"patch_3\">\n    <path d=\"M 26.925 224.64 \nL 26.925 7.2 \n\" style=\"fill:none;stroke:#000000;stroke-linecap:square;stroke-linejoin:miter;stroke-width:0.8;\"/>\n   </g>\n   <g id=\"patch_4\">\n    <path d=\"M 361.725 224.64 \nL 361.725 7.2 \n\" style=\"fill:none;stroke:#000000;stroke-linecap:square;stroke-linejoin:miter;stroke-width:0.8;\"/>\n   </g>\n   <g id=\"patch_5\">\n    <path d=\"M 26.925 224.64 \nL 361.725 224.64 \n\" style=\"fill:none;stroke:#000000;stroke-linecap:square;stroke-linejoin:miter;stroke-width:0.8;\"/>\n   </g>\n   <g id=\"patch_6\">\n    <path d=\"M 26.925 7.2 \nL 361.725 7.2 \n\" style=\"fill:none;stroke:#000000;stroke-linecap:square;stroke-linejoin:miter;stroke-width:0.8;\"/>\n   </g>\n  </g>\n </g>\n <defs>\n  <clipPath id=\"p4cd392ce4a\">\n   <rect height=\"217.44\" width=\"334.8\" x=\"26.925\" y=\"7.2\"/>\n  </clipPath>\n </defs>\n</svg>\n",
      "image/png": "[encoded data removed]"
     },
     "metadata": {
      "needs_background": "light"
     }
    }
   ],
   "source": [
    "plt.scatter(X, y)\n",
    "plt.plot(X, y_pred, color='red')\n",
    "plt.show()"
   ]
  },
  {
   "cell_type": "code",
   "execution_count": 17,
   "metadata": {},
   "outputs": [
    {
     "output_type": "stream",
     "name": "stdout",
     "text": [
      "[0.08129141]\n86.37002223629253\n"
     ]
    }
   ],
   "source": [
    "print(model.coef_)\n",
    "print(model.intercept_)"
   ]
  },
  {
   "cell_type": "code",
   "execution_count": null,
   "metadata": {},
   "outputs": [],
   "source": []
  }
 ]
}