{
 "metadata": {
  "language_info": {
   "codemirror_mode": {
    "name": "ipython",
    "version": 3
   },
   "file_extension": ".py",
   "mimetype": "text/x-python",
   "name": "python",
   "nbconvert_exporter": "python",
   "pygments_lexer": "ipython3",
   "version": "3.8.5"
  },
  "orig_nbformat": 2,
  "kernelspec": {
   "name": "python385jvsc74a57bd01d47df2726df29c29c23c34b0b3d2b54c46dfd683137fb1eaab3d0ff44bdcb86",
   "display_name": "Python 3.8.5 64-bit ('base': conda)"
  }
 },
 "nbformat": 4,
 "nbformat_minor": 2,
 "cells": [
  {
   "cell_type": "code",
   "execution_count": 5,
   "metadata": {},
   "outputs": [],
   "source": [
    "#import dependencies\n",
    "import numpy as np\n",
    "import pandas as pd\n",
    "import requests\n",
    "import os \n",
    "\n",
    "from io import StringIO\n",
    "\n",
    "import matplotlib.pyplot as plt"
   ]
  },
  {
   "cell_type": "code",
   "execution_count": 6,
   "metadata": {},
   "outputs": [
    {
     "output_type": "execute_result",
     "data": {
      "text/plain": [
       "   Unnamed: 0 country                                        description  \\\n",
       "0           0      US  This tremendous 100% varietal wine hails from ...   \n",
       "1           1   Spain  Ripe aromas of fig, blackberry and cassis are ...   \n",
       "2           2      US  Mac Watson honors the memory of a wine once ma...   \n",
       "3           3      US  This spent 20 months in 30% new French oak, an...   \n",
       "4           4  France  This is the top wine from La BÃ©gude, named af...   \n",
       "\n",
       "                             designation  points  price        province  \\\n",
       "0                      Martha's Vineyard      96  235.0      California   \n",
       "1  Carodorum SelecciÃ³n Especial Reserva      96  110.0  Northern Spain   \n",
       "2          Special Selected Late Harvest      96   90.0      California   \n",
       "3                                Reserve      96   65.0          Oregon   \n",
       "4                            La BrÃ»lade      95   66.0        Provence   \n",
       "\n",
       "            region_1           region_2             variety  \\\n",
       "0        Napa Valley               Napa  Cabernet Sauvignon   \n",
       "1               Toro                NaN       Tinta de Toro   \n",
       "2     Knights Valley             Sonoma     Sauvignon Blanc   \n",
       "3  Willamette Valley  Willamette Valley          Pinot Noir   \n",
       "4             Bandol                NaN  Provence red blend   \n",
       "\n",
       "                     winery  \n",
       "0                     Heitz  \n",
       "1  Bodega Carmen RodrÃ­guez  \n",
       "2                  Macauley  \n",
       "3                     Ponzi  \n",
       "4     Domaine de la BÃ©gude  "
      ],
      "text/html": "<div>\n<style scoped>\n    .dataframe tbody tr th:only-of-type {\n        vertical-align: middle;\n    }\n\n    .dataframe tbody tr th {\n        vertical-align: top;\n    }\n\n    .dataframe thead th {\n        text-align: right;\n    }\n</style>\n<table border=\"1\" class=\"dataframe\">\n  <thead>\n    <tr style=\"text-align: right;\">\n      <th></th>\n      <th>Unnamed: 0</th>\n      <th>country</th>\n      <th>description</th>\n      <th>designation</th>\n      <th>points</th>\n      <th>price</th>\n      <th>province</th>\n      <th>region_1</th>\n      <th>region_2</th>\n      <th>variety</th>\n      <th>winery</th>\n    </tr>\n  </thead>\n  <tbody>\n    <tr>\n      <th>0</th>\n      <td>0</td>\n      <td>US</td>\n      <td>This tremendous 100% varietal wine hails from ...</td>\n      <td>Martha's Vineyard</td>\n      <td>96</td>\n      <td>235.0</td>\n      <td>California</td>\n      <td>Napa Valley</td>\n      <td>Napa</td>\n      <td>Cabernet Sauvignon</td>\n      <td>Heitz</td>\n    </tr>\n    <tr>\n      <th>1</th>\n      <td>1</td>\n      <td>Spain</td>\n      <td>Ripe aromas of fig, blackberry and cassis are ...</td>\n      <td>Carodorum SelecciÃ³n Especial Reserva</td>\n      <td>96</td>\n      <td>110.0</td>\n      <td>Northern Spain</td>\n      <td>Toro</td>\n      <td>NaN</td>\n      <td>Tinta de Toro</td>\n      <td>Bodega Carmen RodrÃ­guez</td>\n    </tr>\n    <tr>\n      <th>2</th>\n      <td>2</td>\n      <td>US</td>\n      <td>Mac Watson honors the memory of a wine once ma...</td>\n      <td>Special Selected Late Harvest</td>\n      <td>96</td>\n      <td>90.0</td>\n      <td>California</td>\n      <td>Knights Valley</td>\n      <td>Sonoma</td>\n      <td>Sauvignon Blanc</td>\n      <td>Macauley</td>\n    </tr>\n    <tr>\n      <th>3</th>\n      <td>3</td>\n      <td>US</td>\n      <td>This spent 20 months in 30% new French oak, an...</td>\n      <td>Reserve</td>\n      <td>96</td>\n      <td>65.0</td>\n      <td>Oregon</td>\n      <td>Willamette Valley</td>\n      <td>Willamette Valley</td>\n      <td>Pinot Noir</td>\n      <td>Ponzi</td>\n    </tr>\n    <tr>\n      <th>4</th>\n      <td>4</td>\n      <td>France</td>\n      <td>This is the top wine from La BÃ©gude, named af...</td>\n      <td>La BrÃ»lade</td>\n      <td>95</td>\n      <td>66.0</td>\n      <td>Provence</td>\n      <td>Bandol</td>\n      <td>NaN</td>\n      <td>Provence red blend</td>\n      <td>Domaine de la BÃ©gude</td>\n    </tr>\n  </tbody>\n</table>\n</div>"
     },
     "metadata": {},
     "execution_count": 6
    }
   ],
   "source": [
    "# This is for 2017 DF\n",
    "orig_url = \"https://drive.google.com/file/d/1zFHNHw6mTh4kyx8pVd27rh2ttV8b7zfU/view?usp=sharing\"\n",
    "file_id = orig_url.split('/')[-2]\n",
    "dwn_url='https://drive.google.com/uc?export=download&id=' + file_id\n",
    "url = requests.get(dwn_url).text\n",
    "csv_raw = StringIO(url)\n",
    "wine_df_2017 = pd.read_csv(csv_raw)\n",
    "wine_df_2017.head(5)"
   ]
  },
  {
   "cell_type": "code",
   "execution_count": 7,
   "metadata": {},
   "outputs": [
    {
     "output_type": "execute_result",
     "data": {
      "text/plain": [
       "   Unnamed: 0 country                                        description  \\\n",
       "0           0      US  This tremendous 100% varietal wine hails from ...   \n",
       "1           1   Spain  Ripe aromas of fig, blackberry and cassis are ...   \n",
       "2           2      US  Mac Watson honors the memory of a wine once ma...   \n",
       "3           3      US  This spent 20 months in 30% new French oak, an...   \n",
       "4           4  France  This is the top wine from La BÃ©gude, named af...   \n",
       "\n",
       "   points  price           region_1           region_2  \n",
       "0      96  235.0        Napa Valley               Napa  \n",
       "1      96  110.0               Toro                NaN  \n",
       "2      96   90.0     Knights Valley             Sonoma  \n",
       "3      96   65.0  Willamette Valley  Willamette Valley  \n",
       "4      95   66.0             Bandol                NaN  "
      ],
      "text/html": "<div>\n<style scoped>\n    .dataframe tbody tr th:only-of-type {\n        vertical-align: middle;\n    }\n\n    .dataframe tbody tr th {\n        vertical-align: top;\n    }\n\n    .dataframe thead th {\n        text-align: right;\n    }\n</style>\n<table border=\"1\" class=\"dataframe\">\n  <thead>\n    <tr style=\"text-align: right;\">\n      <th></th>\n      <th>Unnamed: 0</th>\n      <th>country</th>\n      <th>description</th>\n      <th>points</th>\n      <th>price</th>\n      <th>region_1</th>\n      <th>region_2</th>\n    </tr>\n  </thead>\n  <tbody>\n    <tr>\n      <th>0</th>\n      <td>0</td>\n      <td>US</td>\n      <td>This tremendous 100% varietal wine hails from ...</td>\n      <td>96</td>\n      <td>235.0</td>\n      <td>Napa Valley</td>\n      <td>Napa</td>\n    </tr>\n    <tr>\n      <th>1</th>\n      <td>1</td>\n      <td>Spain</td>\n      <td>Ripe aromas of fig, blackberry and cassis are ...</td>\n      <td>96</td>\n      <td>110.0</td>\n      <td>Toro</td>\n      <td>NaN</td>\n    </tr>\n    <tr>\n      <th>2</th>\n      <td>2</td>\n      <td>US</td>\n      <td>Mac Watson honors the memory of a wine once ma...</td>\n      <td>96</td>\n      <td>90.0</td>\n      <td>Knights Valley</td>\n      <td>Sonoma</td>\n    </tr>\n    <tr>\n      <th>3</th>\n      <td>3</td>\n      <td>US</td>\n      <td>This spent 20 months in 30% new French oak, an...</td>\n      <td>96</td>\n      <td>65.0</td>\n      <td>Willamette Valley</td>\n      <td>Willamette Valley</td>\n    </tr>\n    <tr>\n      <th>4</th>\n      <td>4</td>\n      <td>France</td>\n      <td>This is the top wine from La BÃ©gude, named af...</td>\n      <td>95</td>\n      <td>66.0</td>\n      <td>Bandol</td>\n      <td>NaN</td>\n    </tr>\n  </tbody>\n</table>\n</div>"
     },
     "metadata": {},
     "execution_count": 7
    }
   ],
   "source": [
    "# Drop columns that are not needed for the ML piece\n",
    "wine_ml_2017 = wine_df_2017.drop(['designation', 'province', 'winery', 'variety'], axis=1)\n",
    "wine_ml_2017.head()"
   ]
  },
  {
   "cell_type": "code",
   "execution_count": 8,
   "metadata": {},
   "outputs": [
    {
     "output_type": "execute_result",
     "data": {
      "text/plain": [
       "Unnamed: 0         0\n",
       "country            5\n",
       "description        0\n",
       "points             0\n",
       "price          13695\n",
       "region_1       25060\n",
       "region_2       89977\n",
       "dtype: int64"
      ]
     },
     "metadata": {},
     "execution_count": 8
    }
   ],
   "source": [
    "wine_ml_2017.isnull().sum()"
   ]
  },
  {
   "cell_type": "code",
   "execution_count": 9,
   "metadata": {},
   "outputs": [
    {
     "output_type": "execute_result",
     "data": {
      "text/plain": [
       "   Unnamed: 0 country                                        description  \\\n",
       "0           0      US  This tremendous 100% varietal wine hails from ...   \n",
       "1           1   Other  Ripe aromas of fig, blackberry and cassis are ...   \n",
       "2           2      US  Mac Watson honors the memory of a wine once ma...   \n",
       "3           3      US  This spent 20 months in 30% new French oak, an...   \n",
       "4           4   Other  This is the top wine from La BÃ©gude, named af...   \n",
       "\n",
       "   points  price           region_1           region_2  \n",
       "0      96  235.0        Napa Valley               Napa  \n",
       "1      96  110.0               Toro                NaN  \n",
       "2      96   90.0     Knights Valley             Sonoma  \n",
       "3      96   65.0  Willamette Valley  Willamette Valley  \n",
       "4      95   66.0             Bandol                NaN  "
      ],
      "text/html": "<div>\n<style scoped>\n    .dataframe tbody tr th:only-of-type {\n        vertical-align: middle;\n    }\n\n    .dataframe tbody tr th {\n        vertical-align: top;\n    }\n\n    .dataframe thead th {\n        text-align: right;\n    }\n</style>\n<table border=\"1\" class=\"dataframe\">\n  <thead>\n    <tr style=\"text-align: right;\">\n      <th></th>\n      <th>Unnamed: 0</th>\n      <th>country</th>\n      <th>description</th>\n      <th>points</th>\n      <th>price</th>\n      <th>region_1</th>\n      <th>region_2</th>\n    </tr>\n  </thead>\n  <tbody>\n    <tr>\n      <th>0</th>\n      <td>0</td>\n      <td>US</td>\n      <td>This tremendous 100% varietal wine hails from ...</td>\n      <td>96</td>\n      <td>235.0</td>\n      <td>Napa Valley</td>\n      <td>Napa</td>\n    </tr>\n    <tr>\n      <th>1</th>\n      <td>1</td>\n      <td>Other</td>\n      <td>Ripe aromas of fig, blackberry and cassis are ...</td>\n      <td>96</td>\n      <td>110.0</td>\n      <td>Toro</td>\n      <td>NaN</td>\n    </tr>\n    <tr>\n      <th>2</th>\n      <td>2</td>\n      <td>US</td>\n      <td>Mac Watson honors the memory of a wine once ma...</td>\n      <td>96</td>\n      <td>90.0</td>\n      <td>Knights Valley</td>\n      <td>Sonoma</td>\n    </tr>\n    <tr>\n      <th>3</th>\n      <td>3</td>\n      <td>US</td>\n      <td>This spent 20 months in 30% new French oak, an...</td>\n      <td>96</td>\n      <td>65.0</td>\n      <td>Willamette Valley</td>\n      <td>Willamette Valley</td>\n    </tr>\n    <tr>\n      <th>4</th>\n      <td>4</td>\n      <td>Other</td>\n      <td>This is the top wine from La BÃ©gude, named af...</td>\n      <td>95</td>\n      <td>66.0</td>\n      <td>Bandol</td>\n      <td>NaN</td>\n    </tr>\n  </tbody>\n</table>\n</div>"
     },
     "metadata": {},
     "execution_count": 9
    }
   ],
   "source": [
    "# Convert country values that are not US to Other Country\n",
    "wine_ml_2017['country'] = wine_ml_2017['country'].replace({'Spain':'Other', 'Italy':'Other', 'France':'Other', 'Chile':'Other', 'Not US': 'Other', 'Portugal':'Other', 'Argentina':'Other', 'Australia':'Other', 'Germany':'Other', 'New Zealand':'Other', 'South Africa':'Other', 'Greece':'Other', 'Israel':'Other', 'Canada':'Other', 'Hungary':'Other', 'Romania':'Other', 'Croatia':'Other', 'Slovenia':'Other', 'Bulgaria':'Other', 'Mexico':'Other', 'Moldova':'Other', 'Uruguay':'Other', 'Turkey':'Other', 'Georgia':'Other', 'Lebanon':'Other', 'Cyprus':'Other','Brazil':'Other', 'England':'Other', 'Serbia':'Other', 'Morocco':'Other', 'Ukraine':'Other', 'Lithuania':'Other', 'Macedonia':'Other', 'Switzerland':'Other', 'Luxembourg':'Other', 'India':'Other', 'South Korea':'Other', 'China':'Other', 'Bosnia and Herzegovina':'Other', 'Japan':'Other', 'Austria':'Other'})\n",
    "wine_ml_2017.head()"
   ]
  },
  {
   "cell_type": "code",
   "execution_count": 10,
   "metadata": {},
   "outputs": [
    {
     "output_type": "execute_result",
     "data": {
      "text/plain": [
       "                Unnamed: 0  description  points  price  region_1  region_2\n",
       "country                                                                   \n",
       "Albania                  2            2       2      2         0         0\n",
       "Czech Republic           6            6       6      6         0         0\n",
       "Egypt                    3            3       3      0         0         0\n",
       "Montenegro               2            2       2      2         0         0\n",
       "Other                88509        88509   88509  75077     63609         0\n",
       "Slovakia                 3            3       3      3         0         0\n",
       "Tunisia                  2            2       2      0         0         0\n",
       "US                   62397        62397   62397  62139     62261     60953\n",
       "US-France                1            1       1      1         0         0"
      ],
      "text/html": "<div>\n<style scoped>\n    .dataframe tbody tr th:only-of-type {\n        vertical-align: middle;\n    }\n\n    .dataframe tbody tr th {\n        vertical-align: top;\n    }\n\n    .dataframe thead th {\n        text-align: right;\n    }\n</style>\n<table border=\"1\" class=\"dataframe\">\n  <thead>\n    <tr style=\"text-align: right;\">\n      <th></th>\n      <th>Unnamed: 0</th>\n      <th>description</th>\n      <th>points</th>\n      <th>price</th>\n      <th>region_1</th>\n      <th>region_2</th>\n    </tr>\n    <tr>\n      <th>country</th>\n      <th></th>\n      <th></th>\n      <th></th>\n      <th></th>\n      <th></th>\n      <th></th>\n    </tr>\n  </thead>\n  <tbody>\n    <tr>\n      <th>Albania</th>\n      <td>2</td>\n      <td>2</td>\n      <td>2</td>\n      <td>2</td>\n      <td>0</td>\n      <td>0</td>\n    </tr>\n    <tr>\n      <th>Czech Republic</th>\n      <td>6</td>\n      <td>6</td>\n      <td>6</td>\n      <td>6</td>\n      <td>0</td>\n      <td>0</td>\n    </tr>\n    <tr>\n      <th>Egypt</th>\n      <td>3</td>\n      <td>3</td>\n      <td>3</td>\n      <td>0</td>\n      <td>0</td>\n      <td>0</td>\n    </tr>\n    <tr>\n      <th>Montenegro</th>\n      <td>2</td>\n      <td>2</td>\n      <td>2</td>\n      <td>2</td>\n      <td>0</td>\n      <td>0</td>\n    </tr>\n    <tr>\n      <th>Other</th>\n      <td>88509</td>\n      <td>88509</td>\n      <td>88509</td>\n      <td>75077</td>\n      <td>63609</td>\n      <td>0</td>\n    </tr>\n    <tr>\n      <th>Slovakia</th>\n      <td>3</td>\n      <td>3</td>\n      <td>3</td>\n      <td>3</td>\n      <td>0</td>\n      <td>0</td>\n    </tr>\n    <tr>\n      <th>Tunisia</th>\n      <td>2</td>\n      <td>2</td>\n      <td>2</td>\n      <td>0</td>\n      <td>0</td>\n      <td>0</td>\n    </tr>\n    <tr>\n      <th>US</th>\n      <td>62397</td>\n      <td>62397</td>\n      <td>62397</td>\n      <td>62139</td>\n      <td>62261</td>\n      <td>60953</td>\n    </tr>\n    <tr>\n      <th>US-France</th>\n      <td>1</td>\n      <td>1</td>\n      <td>1</td>\n      <td>1</td>\n      <td>0</td>\n      <td>0</td>\n    </tr>\n  </tbody>\n</table>\n</div>"
     },
     "metadata": {},
     "execution_count": 10
    }
   ],
   "source": [
    "# shows the counts by country to see spread\n",
    "# US is roughly half of the dataset\n",
    "wine_ml_2017.groupby(['country']).count()"
   ]
  },
  {
   "cell_type": "code",
   "execution_count": 11,
   "metadata": {},
   "outputs": [
    {
     "output_type": "execute_result",
     "data": {
      "text/plain": [
       "        Unnamed: 0 country                                        description  \\\n",
       "92914        92914   Other  Smells like canned fruit, and tastes like gree...   \n",
       "96766        96766   Other  There's something not right about the way this...   \n",
       "96767        96767   Other  This is mucky and sweet. Its best foot is not ...   \n",
       "96768        96768   Other  Eight grapes comprise this weird, peanutty, al...   \n",
       "96769        96769      US  Port-like, with raisiny, baked cherry and cara...   \n",
       "...            ...     ...                                                ...   \n",
       "111087      111087   Other  Thick as molasses and dark as caramelized brow...   \n",
       "92916        92916      US  A perfect score has to be considered in the co...   \n",
       "138867      138867   Other  Thick as molasses and dark as caramelized brow...   \n",
       "143522      143522      US  Impossibly aromatic. Hard to imagine greater c...   \n",
       "98647        98647      US  A spectacular Pinot Noir, but a very young one...   \n",
       "\n",
       "        points  price                    region_1          region_2  \\\n",
       "92914       80   10.0                    PenedÃ¨s               NaN   \n",
       "96766       80   27.0                        Cava               NaN   \n",
       "96767       80    8.0                   CariÃ±ena               NaN   \n",
       "96768       80   25.0               Utiel-Requena               NaN   \n",
       "96769       80   40.0                  California  California Other   \n",
       "...        ...    ...                         ...               ...   \n",
       "111087     100  210.0  Vin Santo di Montepulciano               NaN   \n",
       "92916      100  215.0         Stags Leap District              Napa   \n",
       "138867     100  210.0  Vin Santo di Montepulciano               NaN   \n",
       "143522     100  245.0                  Rutherford              Napa   \n",
       "98647      100  100.0        Russian River Valley            Sonoma   \n",
       "\n",
       "        ratings_desc  \n",
       "92914            0.0  \n",
       "96766            0.0  \n",
       "96767            0.0  \n",
       "96768            0.0  \n",
       "96769            0.0  \n",
       "...              ...  \n",
       "111087           1.0  \n",
       "92916            1.0  \n",
       "138867           1.0  \n",
       "143522           1.0  \n",
       "98647            1.0  \n",
       "\n",
       "[150930 rows x 8 columns]"
      ],
      "text/html": "<div>\n<style scoped>\n    .dataframe tbody tr th:only-of-type {\n        vertical-align: middle;\n    }\n\n    .dataframe tbody tr th {\n        vertical-align: top;\n    }\n\n    .dataframe thead th {\n        text-align: right;\n    }\n</style>\n<table border=\"1\" class=\"dataframe\">\n  <thead>\n    <tr style=\"text-align: right;\">\n      <th></th>\n      <th>Unnamed: 0</th>\n      <th>country</th>\n      <th>description</th>\n      <th>points</th>\n      <th>price</th>\n      <th>region_1</th>\n      <th>region_2</th>\n      <th>ratings_desc</th>\n    </tr>\n  </thead>\n  <tbody>\n    <tr>\n      <th>92914</th>\n      <td>92914</td>\n      <td>Other</td>\n      <td>Smells like canned fruit, and tastes like gree...</td>\n      <td>80</td>\n      <td>10.0</td>\n      <td>PenedÃ¨s</td>\n      <td>NaN</td>\n      <td>0.0</td>\n    </tr>\n    <tr>\n      <th>96766</th>\n      <td>96766</td>\n      <td>Other</td>\n      <td>There's something not right about the way this...</td>\n      <td>80</td>\n      <td>27.0</td>\n      <td>Cava</td>\n      <td>NaN</td>\n      <td>0.0</td>\n    </tr>\n    <tr>\n      <th>96767</th>\n      <td>96767</td>\n      <td>Other</td>\n      <td>This is mucky and sweet. Its best foot is not ...</td>\n      <td>80</td>\n      <td>8.0</td>\n      <td>CariÃ±ena</td>\n      <td>NaN</td>\n      <td>0.0</td>\n    </tr>\n    <tr>\n      <th>96768</th>\n      <td>96768</td>\n      <td>Other</td>\n      <td>Eight grapes comprise this weird, peanutty, al...</td>\n      <td>80</td>\n      <td>25.0</td>\n      <td>Utiel-Requena</td>\n      <td>NaN</td>\n      <td>0.0</td>\n    </tr>\n    <tr>\n      <th>96769</th>\n      <td>96769</td>\n      <td>US</td>\n      <td>Port-like, with raisiny, baked cherry and cara...</td>\n      <td>80</td>\n      <td>40.0</td>\n      <td>California</td>\n      <td>California Other</td>\n      <td>0.0</td>\n    </tr>\n    <tr>\n      <th>...</th>\n      <td>...</td>\n      <td>...</td>\n      <td>...</td>\n      <td>...</td>\n      <td>...</td>\n      <td>...</td>\n      <td>...</td>\n      <td>...</td>\n    </tr>\n    <tr>\n      <th>111087</th>\n      <td>111087</td>\n      <td>Other</td>\n      <td>Thick as molasses and dark as caramelized brow...</td>\n      <td>100</td>\n      <td>210.0</td>\n      <td>Vin Santo di Montepulciano</td>\n      <td>NaN</td>\n      <td>1.0</td>\n    </tr>\n    <tr>\n      <th>92916</th>\n      <td>92916</td>\n      <td>US</td>\n      <td>A perfect score has to be considered in the co...</td>\n      <td>100</td>\n      <td>215.0</td>\n      <td>Stags Leap District</td>\n      <td>Napa</td>\n      <td>1.0</td>\n    </tr>\n    <tr>\n      <th>138867</th>\n      <td>138867</td>\n      <td>Other</td>\n      <td>Thick as molasses and dark as caramelized brow...</td>\n      <td>100</td>\n      <td>210.0</td>\n      <td>Vin Santo di Montepulciano</td>\n      <td>NaN</td>\n      <td>1.0</td>\n    </tr>\n    <tr>\n      <th>143522</th>\n      <td>143522</td>\n      <td>US</td>\n      <td>Impossibly aromatic. Hard to imagine greater c...</td>\n      <td>100</td>\n      <td>245.0</td>\n      <td>Rutherford</td>\n      <td>Napa</td>\n      <td>1.0</td>\n    </tr>\n    <tr>\n      <th>98647</th>\n      <td>98647</td>\n      <td>US</td>\n      <td>A spectacular Pinot Noir, but a very young one...</td>\n      <td>100</td>\n      <td>100.0</td>\n      <td>Russian River Valley</td>\n      <td>Sonoma</td>\n      <td>1.0</td>\n    </tr>\n  </tbody>\n</table>\n<p>150930 rows × 8 columns</p>\n</div>"
     },
     "metadata": {},
     "execution_count": 11
    }
   ],
   "source": [
    "# Convert the TARGET COLUMN values to good_wine and great_wine\n",
    "wine_ml_2017.loc[wine_ml_2017.points >= 90, \"ratings_desc\"] = 1 #great_wine\n",
    "wine_ml_2017.loc[wine_ml_2017.points < 90, \"ratings_desc\"] = 0 #good_value\n",
    "\n",
    "# validate the ratings_desc column is working\n",
    "wine_ml_2017.sort_values(['points'], ascending=True)"
   ]
  },
  {
   "cell_type": "code",
   "execution_count": 12,
   "metadata": {},
   "outputs": [
    {
     "output_type": "stream",
     "name": "stderr",
     "text": [
      "/Users/patrickpo/opt/anaconda3/lib/python3.8/site-packages/seaborn/distributions.py:2557: FutureWarning: `distplot` is a deprecated function and will be removed in a future version. Please adapt your code to use either `displot` (a figure-level function with similar flexibility) or `histplot` (an axes-level function for histograms).\n",
      "  warnings.warn(msg, FutureWarning)\n",
      "/Users/patrickpo/opt/anaconda3/lib/python3.8/site-packages/seaborn/distributions.py:2557: FutureWarning: `distplot` is a deprecated function and will be removed in a future version. Please adapt your code to use either `displot` (a figure-level function with similar flexibility) or `histplot` (an axes-level function for histograms).\n",
      "  warnings.warn(msg, FutureWarning)\n"
     ]
    },
    {
     "output_type": "execute_result",
     "data": {
      "text/plain": [
       "<AxesSubplot:xlabel='price', ylabel='Density'>"
      ]
     },
     "metadata": {},
     "execution_count": 12
    },
    {
     "output_type": "display_data",
     "data": {
      "text/plain": "<Figure size 432x288 with 1 Axes>",
      "image/svg+xml": "<?xml version=\"1.0\" encoding=\"utf-8\" standalone=\"no\"?>\n<!DOCTYPE svg PUBLIC \"-//W3C//DTD SVG 1.1//EN\"\n  \"http://www.w3.org/Graphics/SVG/1.1/DTD/svg11.dtd\">\n<!-- Created with matplotlib (https://matplotlib.org/) -->\n<svg height=\"262.19625pt\" version=\"1.1\" viewBox=\"0 0 398.50625 262.19625\" width=\"398.50625pt\" xmlns=\"http://www.w3.org/2000/svg\" xmlns:xlink=\"http://www.w3.org/1999/xlink\">\n <metadata>\n  <rdf:RDF xmlns:cc=\"http://creativecommons.org/ns#\" xmlns:dc=\"http://purl.org/dc/elements/1.1/\" xmlns:rdf=\"http://www.w3.org/1999/02/22-rdf-syntax-ns#\">\n   <cc:Work>\n    <dc:type rdf:resource=\"http://purl.org/dc/dcmitype/StillImage\"/>\n    <dc:date>2021-04-29T10:49:31.848691</dc:date>\n    <dc:format>image/svg+xml</dc:format>\n    <dc:creator>\n     <cc:Agent>\n      <dc:title>Matplotlib v3.3.4, https://matplotlib.org/</dc:title>\n     </cc:Agent>\n    </dc:creator>\n   </cc:Work>\n  </rdf:RDF>\n </metadata>\n <defs>\n  <style type=\"text/css\">*{stroke-linecap:butt;stroke-linejoin:round;}</style>\n </defs>\n <g id=\"figure_1\">\n  <g id=\"patch_1\">\n   <path d=\"M 0 262.19625 \nL 398.50625 262.19625 \nL 398.50625 0 \nL 0 0 \nz\n\" style=\"fill:none;\"/>\n  </g>\n  <g id=\"axes_1\">\n   <g id=\"patch_2\">\n    <path d=\"M 56.50625 224.64 \nL 391.30625 224.64 \nL 391.30625 7.2 \nL 56.50625 7.2 \nz\n\" style=\"fill:#ffffff;\"/>\n   </g>\n   <g id=\"patch_3\">\n    <path clip-path=\"url(#p0aacdaef51)\" d=\"M 73.068351 224.64 \nL 79.101867 224.64 \nL 79.101867 128.689147 \nL 73.068351 128.689147 \nz\n\" style=\"fill:#1f77b4;opacity:0.4;\"/>\n   </g>\n   <g id=\"patch_4\">\n    <path clip-path=\"url(#p0aacdaef51)\" d=\"M 79.101867 224.64 \nL 85.135383 224.64 \nL 85.135383 209.105427 \nL 79.101867 209.105427 \nz\n\" style=\"fill:#1f77b4;opacity:0.4;\"/>\n   </g>\n   <g id=\"patch_5\">\n    <path clip-path=\"url(#p0aacdaef51)\" d=\"M 85.135383 224.64 \nL 91.168899 224.64 \nL 91.168899 222.43755 \nL 85.135383 222.43755 \nz\n\" style=\"fill:#1f77b4;opacity:0.4;\"/>\n   </g>\n   <g id=\"patch_6\">\n    <path clip-path=\"url(#p0aacdaef51)\" d=\"M 91.168899 224.64 \nL 97.202415 224.64 \nL 97.202415 224.020194 \nL 91.168899 224.020194 \nz\n\" style=\"fill:#1f77b4;opacity:0.4;\"/>\n   </g>\n   <g id=\"patch_7\">\n    <path clip-path=\"url(#p0aacdaef51)\" d=\"M 97.202415 224.64 \nL 103.23593 224.64 \nL 103.23593 224.346452 \nL 97.202415 224.346452 \nz\n\" style=\"fill:#1f77b4;opacity:0.4;\"/>\n   </g>\n   <g id=\"patch_8\">\n    <path clip-path=\"url(#p0aacdaef51)\" d=\"M 103.23593 224.64 \nL 109.269446 224.64 \nL 109.269446 224.469742 \nL 103.23593 224.469742 \nz\n\" style=\"fill:#1f77b4;opacity:0.4;\"/>\n   </g>\n   <g id=\"patch_9\">\n    <path clip-path=\"url(#p0aacdaef51)\" d=\"M 109.269446 224.64 \nL 115.302962 224.64 \nL 115.302962 224.530968 \nL 109.269446 224.530968 \nz\n\" style=\"fill:#1f77b4;opacity:0.4;\"/>\n   </g>\n   <g id=\"patch_10\">\n    <path clip-path=\"url(#p0aacdaef51)\" d=\"M 115.302962 224.64 \nL 121.336478 224.64 \nL 121.336478 224.589677 \nL 115.302962 224.589677 \nz\n\" style=\"fill:#1f77b4;opacity:0.4;\"/>\n   </g>\n   <g id=\"patch_11\">\n    <path clip-path=\"url(#p0aacdaef51)\" d=\"M 121.336478 224.64 \nL 127.369994 224.64 \nL 127.369994 224.593871 \nL 121.336478 224.593871 \nz\n\" style=\"fill:#1f77b4;opacity:0.4;\"/>\n   </g>\n   <g id=\"patch_12\">\n    <path clip-path=\"url(#p0aacdaef51)\" d=\"M 127.369994 224.64 \nL 133.40351 224.64 \nL 133.40351 224.599742 \nL 127.369994 224.599742 \nz\n\" style=\"fill:#1f77b4;opacity:0.4;\"/>\n   </g>\n   <g id=\"patch_13\">\n    <path clip-path=\"url(#p0aacdaef51)\" d=\"M 133.40351 224.64 \nL 139.437026 224.64 \nL 139.437026 224.615677 \nL 133.40351 224.615677 \nz\n\" style=\"fill:#1f77b4;opacity:0.4;\"/>\n   </g>\n   <g id=\"patch_14\">\n    <path clip-path=\"url(#p0aacdaef51)\" d=\"M 139.437026 224.64 \nL 145.470542 224.64 \nL 145.470542 224.629097 \nL 139.437026 224.629097 \nz\n\" style=\"fill:#1f77b4;opacity:0.4;\"/>\n   </g>\n   <g id=\"patch_15\">\n    <path clip-path=\"url(#p0aacdaef51)\" d=\"M 145.470542 224.64 \nL 151.504058 224.64 \nL 151.504058 224.629935 \nL 145.470542 224.629935 \nz\n\" style=\"fill:#1f77b4;opacity:0.4;\"/>\n   </g>\n   <g id=\"patch_16\">\n    <path clip-path=\"url(#p0aacdaef51)\" d=\"M 151.504058 224.64 \nL 157.537574 224.64 \nL 157.537574 224.634129 \nL 151.504058 224.634129 \nz\n\" style=\"fill:#1f77b4;opacity:0.4;\"/>\n   </g>\n   <g id=\"patch_17\">\n    <path clip-path=\"url(#p0aacdaef51)\" d=\"M 157.537574 224.64 \nL 163.57109 224.64 \nL 163.57109 224.634129 \nL 157.537574 224.634129 \nz\n\" style=\"fill:#1f77b4;opacity:0.4;\"/>\n   </g>\n   <g id=\"patch_18\">\n    <path clip-path=\"url(#p0aacdaef51)\" d=\"M 163.57109 224.64 \nL 169.604606 224.64 \nL 169.604606 224.639161 \nL 163.57109 224.639161 \nz\n\" style=\"fill:#1f77b4;opacity:0.4;\"/>\n   </g>\n   <g id=\"patch_19\">\n    <path clip-path=\"url(#p0aacdaef51)\" d=\"M 169.604606 224.64 \nL 175.638122 224.64 \nL 175.638122 224.632452 \nL 169.604606 224.632452 \nz\n\" style=\"fill:#1f77b4;opacity:0.4;\"/>\n   </g>\n   <g id=\"patch_20\">\n    <path clip-path=\"url(#p0aacdaef51)\" d=\"M 175.638122 224.64 \nL 181.671638 224.64 \nL 181.671638 224.636645 \nL 175.638122 224.636645 \nz\n\" style=\"fill:#1f77b4;opacity:0.4;\"/>\n   </g>\n   <g id=\"patch_21\">\n    <path clip-path=\"url(#p0aacdaef51)\" d=\"M 181.671638 224.64 \nL 187.705154 224.64 \nL 187.705154 224.636645 \nL 181.671638 224.636645 \nz\n\" style=\"fill:#1f77b4;opacity:0.4;\"/>\n   </g>\n   <g id=\"patch_22\">\n    <path clip-path=\"url(#p0aacdaef51)\" d=\"M 187.705154 224.64 \nL 193.73867 224.64 \nL 193.73867 224.639161 \nL 187.705154 224.639161 \nz\n\" style=\"fill:#1f77b4;opacity:0.4;\"/>\n   </g>\n   <g id=\"patch_23\">\n    <path clip-path=\"url(#p0aacdaef51)\" d=\"M 193.73867 224.64 \nL 199.772186 224.64 \nL 199.772186 224.64 \nL 193.73867 224.64 \nz\n\" style=\"fill:#1f77b4;opacity:0.4;\"/>\n   </g>\n   <g id=\"patch_24\">\n    <path clip-path=\"url(#p0aacdaef51)\" d=\"M 199.772186 224.64 \nL 205.805702 224.64 \nL 205.805702 224.638323 \nL 199.772186 224.638323 \nz\n\" style=\"fill:#1f77b4;opacity:0.4;\"/>\n   </g>\n   <g id=\"patch_25\">\n    <path clip-path=\"url(#p0aacdaef51)\" d=\"M 205.805702 224.64 \nL 211.839218 224.64 \nL 211.839218 224.64 \nL 205.805702 224.64 \nz\n\" style=\"fill:#1f77b4;opacity:0.4;\"/>\n   </g>\n   <g id=\"patch_26\">\n    <path clip-path=\"url(#p0aacdaef51)\" d=\"M 211.839218 224.64 \nL 217.872734 224.64 \nL 217.872734 224.638323 \nL 211.839218 224.638323 \nz\n\" style=\"fill:#1f77b4;opacity:0.4;\"/>\n   </g>\n   <g id=\"patch_27\">\n    <path clip-path=\"url(#p0aacdaef51)\" d=\"M 217.872734 224.64 \nL 223.90625 224.64 \nL 223.90625 224.64 \nL 217.872734 224.64 \nz\n\" style=\"fill:#1f77b4;opacity:0.4;\"/>\n   </g>\n   <g id=\"patch_28\">\n    <path clip-path=\"url(#p0aacdaef51)\" d=\"M 223.90625 224.64 \nL 229.939766 224.64 \nL 229.939766 224.64 \nL 223.90625 224.64 \nz\n\" style=\"fill:#1f77b4;opacity:0.4;\"/>\n   </g>\n   <g id=\"patch_29\">\n    <path clip-path=\"url(#p0aacdaef51)\" d=\"M 229.939766 224.64 \nL 235.973282 224.64 \nL 235.973282 224.639161 \nL 229.939766 224.639161 \nz\n\" style=\"fill:#1f77b4;opacity:0.4;\"/>\n   </g>\n   <g id=\"patch_30\">\n    <path clip-path=\"url(#p0aacdaef51)\" d=\"M 235.973282 224.64 \nL 242.006798 224.64 \nL 242.006798 224.64 \nL 235.973282 224.64 \nz\n\" style=\"fill:#1f77b4;opacity:0.4;\"/>\n   </g>\n   <g id=\"patch_31\">\n    <path clip-path=\"url(#p0aacdaef51)\" d=\"M 242.006798 224.64 \nL 248.040314 224.64 \nL 248.040314 224.639161 \nL 242.006798 224.639161 \nz\n\" style=\"fill:#1f77b4;opacity:0.4;\"/>\n   </g>\n   <g id=\"patch_32\">\n    <path clip-path=\"url(#p0aacdaef51)\" d=\"M 248.040314 224.64 \nL 254.07383 224.64 \nL 254.07383 224.64 \nL 248.040314 224.64 \nz\n\" style=\"fill:#1f77b4;opacity:0.4;\"/>\n   </g>\n   <g id=\"patch_33\">\n    <path clip-path=\"url(#p0aacdaef51)\" d=\"M 254.07383 224.64 \nL 260.107346 224.64 \nL 260.107346 224.637484 \nL 254.07383 224.637484 \nz\n\" style=\"fill:#1f77b4;opacity:0.4;\"/>\n   </g>\n   <g id=\"patch_34\">\n    <path clip-path=\"url(#p0aacdaef51)\" d=\"M 260.107346 224.64 \nL 266.140862 224.64 \nL 266.140862 224.64 \nL 260.107346 224.64 \nz\n\" style=\"fill:#1f77b4;opacity:0.4;\"/>\n   </g>\n   <g id=\"patch_35\">\n    <path clip-path=\"url(#p0aacdaef51)\" d=\"M 266.140862 224.64 \nL 272.174378 224.64 \nL 272.174378 224.64 \nL 266.140862 224.64 \nz\n\" style=\"fill:#1f77b4;opacity:0.4;\"/>\n   </g>\n   <g id=\"patch_36\">\n    <path clip-path=\"url(#p0aacdaef51)\" d=\"M 272.174378 224.64 \nL 278.207894 224.64 \nL 278.207894 224.64 \nL 272.174378 224.64 \nz\n\" style=\"fill:#1f77b4;opacity:0.4;\"/>\n   </g>\n   <g id=\"patch_37\">\n    <path clip-path=\"url(#p0aacdaef51)\" d=\"M 278.207894 224.64 \nL 284.24141 224.64 \nL 284.24141 224.64 \nL 278.207894 224.64 \nz\n\" style=\"fill:#1f77b4;opacity:0.4;\"/>\n   </g>\n   <g id=\"patch_38\">\n    <path clip-path=\"url(#p0aacdaef51)\" d=\"M 284.24141 224.64 \nL 290.274926 224.64 \nL 290.274926 224.64 \nL 284.24141 224.64 \nz\n\" style=\"fill:#1f77b4;opacity:0.4;\"/>\n   </g>\n   <g id=\"patch_39\">\n    <path clip-path=\"url(#p0aacdaef51)\" d=\"M 290.274926 224.64 \nL 296.308442 224.64 \nL 296.308442 224.64 \nL 290.274926 224.64 \nz\n\" style=\"fill:#1f77b4;opacity:0.4;\"/>\n   </g>\n   <g id=\"patch_40\">\n    <path clip-path=\"url(#p0aacdaef51)\" d=\"M 296.308442 224.64 \nL 302.341958 224.64 \nL 302.341958 224.64 \nL 296.308442 224.64 \nz\n\" style=\"fill:#1f77b4;opacity:0.4;\"/>\n   </g>\n   <g id=\"patch_41\">\n    <path clip-path=\"url(#p0aacdaef51)\" d=\"M 302.341958 224.64 \nL 308.375474 224.64 \nL 308.375474 224.64 \nL 302.341958 224.64 \nz\n\" style=\"fill:#1f77b4;opacity:0.4;\"/>\n   </g>\n   <g id=\"patch_42\">\n    <path clip-path=\"url(#p0aacdaef51)\" d=\"M 308.375474 224.64 \nL 314.40899 224.64 \nL 314.40899 224.64 \nL 308.375474 224.64 \nz\n\" style=\"fill:#1f77b4;opacity:0.4;\"/>\n   </g>\n   <g id=\"patch_43\">\n    <path clip-path=\"url(#p0aacdaef51)\" d=\"M 314.40899 224.64 \nL 320.442506 224.64 \nL 320.442506 224.64 \nL 314.40899 224.64 \nz\n\" style=\"fill:#1f77b4;opacity:0.4;\"/>\n   </g>\n   <g id=\"patch_44\">\n    <path clip-path=\"url(#p0aacdaef51)\" d=\"M 320.442506 224.64 \nL 326.476022 224.64 \nL 326.476022 224.639161 \nL 320.442506 224.639161 \nz\n\" style=\"fill:#1f77b4;opacity:0.4;\"/>\n   </g>\n   <g id=\"patch_45\">\n    <path clip-path=\"url(#p0aacdaef51)\" d=\"M 326.476022 224.64 \nL 332.509538 224.64 \nL 332.509538 224.64 \nL 326.476022 224.64 \nz\n\" style=\"fill:#1f77b4;opacity:0.4;\"/>\n   </g>\n   <g id=\"patch_46\">\n    <path clip-path=\"url(#p0aacdaef51)\" d=\"M 332.509538 224.64 \nL 338.543054 224.64 \nL 338.543054 224.639161 \nL 332.509538 224.639161 \nz\n\" style=\"fill:#1f77b4;opacity:0.4;\"/>\n   </g>\n   <g id=\"patch_47\">\n    <path clip-path=\"url(#p0aacdaef51)\" d=\"M 338.543054 224.64 \nL 344.57657 224.64 \nL 344.57657 224.64 \nL 338.543054 224.64 \nz\n\" style=\"fill:#1f77b4;opacity:0.4;\"/>\n   </g>\n   <g id=\"patch_48\">\n    <path clip-path=\"url(#p0aacdaef51)\" d=\"M 344.57657 224.64 \nL 350.610085 224.64 \nL 350.610085 224.64 \nL 344.57657 224.64 \nz\n\" style=\"fill:#1f77b4;opacity:0.4;\"/>\n   </g>\n   <g id=\"patch_49\">\n    <path clip-path=\"url(#p0aacdaef51)\" d=\"M 350.610085 224.64 \nL 356.643601 224.64 \nL 356.643601 224.64 \nL 350.610085 224.64 \nz\n\" style=\"fill:#1f77b4;opacity:0.4;\"/>\n   </g>\n   <g id=\"patch_50\">\n    <path clip-path=\"url(#p0aacdaef51)\" d=\"M 356.643601 224.64 \nL 362.677117 224.64 \nL 362.677117 224.64 \nL 356.643601 224.64 \nz\n\" style=\"fill:#1f77b4;opacity:0.4;\"/>\n   </g>\n   <g id=\"patch_51\">\n    <path clip-path=\"url(#p0aacdaef51)\" d=\"M 362.677117 224.64 \nL 368.710633 224.64 \nL 368.710633 224.64 \nL 362.677117 224.64 \nz\n\" style=\"fill:#1f77b4;opacity:0.4;\"/>\n   </g>\n   <g id=\"patch_52\">\n    <path clip-path=\"url(#p0aacdaef51)\" d=\"M 368.710633 224.64 \nL 374.744149 224.64 \nL 374.744149 224.639161 \nL 368.710633 224.639161 \nz\n\" style=\"fill:#1f77b4;opacity:0.4;\"/>\n   </g>\n   <g id=\"patch_53\">\n    <path clip-path=\"url(#p0aacdaef51)\" d=\"M 73.068351 224.64 \nL 73.449387 224.64 \nL 73.449387 218.970468 \nL 73.068351 218.970468 \nz\n\" style=\"fill:#ff7f0e;opacity:0.4;\"/>\n   </g>\n   <g id=\"patch_54\">\n    <path clip-path=\"url(#p0aacdaef51)\" d=\"M 73.449387 224.64 \nL 73.830424 224.64 \nL 73.830424 160.985393 \nL 73.449387 160.985393 \nz\n\" style=\"fill:#ff7f0e;opacity:0.4;\"/>\n   </g>\n   <g id=\"patch_55\">\n    <path clip-path=\"url(#p0aacdaef51)\" d=\"M 73.830424 224.64 \nL 74.21146 224.64 \nL 74.21146 45.700424 \nL 73.830424 45.700424 \nz\n\" style=\"fill:#ff7f0e;opacity:0.4;\"/>\n   </g>\n   <g id=\"patch_56\">\n    <path clip-path=\"url(#p0aacdaef51)\" d=\"M 74.21146 224.64 \nL 74.592497 224.64 \nL 74.592497 17.554286 \nL 74.21146 17.554286 \nz\n\" style=\"fill:#ff7f0e;opacity:0.4;\"/>\n   </g>\n   <g id=\"patch_57\">\n    <path clip-path=\"url(#p0aacdaef51)\" d=\"M 74.592497 224.64 \nL 74.973533 224.64 \nL 74.973533 39.587539 \nL 74.592497 39.587539 \nz\n\" style=\"fill:#ff7f0e;opacity:0.4;\"/>\n   </g>\n   <g id=\"patch_58\">\n    <path clip-path=\"url(#p0aacdaef51)\" d=\"M 74.973533 224.64 \nL 75.35457 224.64 \nL 75.35457 55.333255 \nL 74.973533 55.333255 \nz\n\" style=\"fill:#ff7f0e;opacity:0.4;\"/>\n   </g>\n   <g id=\"patch_59\">\n    <path clip-path=\"url(#p0aacdaef51)\" d=\"M 75.35457 224.64 \nL 75.735606 224.64 \nL 75.735606 104.384114 \nL 75.35457 104.384114 \nz\n\" style=\"fill:#ff7f0e;opacity:0.4;\"/>\n   </g>\n   <g id=\"patch_60\">\n    <path clip-path=\"url(#p0aacdaef51)\" d=\"M 75.735606 224.64 \nL 76.116643 224.64 \nL 76.116643 101.844916 \nL 75.735606 101.844916 \nz\n\" style=\"fill:#ff7f0e;opacity:0.4;\"/>\n   </g>\n   <g id=\"patch_61\">\n    <path clip-path=\"url(#p0aacdaef51)\" d=\"M 76.116643 224.64 \nL 76.497679 224.64 \nL 76.497679 87.738259 \nL 76.116643 87.738259 \nz\n\" style=\"fill:#ff7f0e;opacity:0.4;\"/>\n   </g>\n   <g id=\"patch_62\">\n    <path clip-path=\"url(#p0aacdaef51)\" d=\"M 76.497679 224.64 \nL 76.878716 224.64 \nL 76.878716 190.931809 \nL 76.497679 190.931809 \nz\n\" style=\"fill:#ff7f0e;opacity:0.4;\"/>\n   </g>\n   <g id=\"patch_63\">\n    <path clip-path=\"url(#p0aacdaef51)\" d=\"M 76.878716 224.64 \nL 77.259752 224.64 \nL 77.259752 142.915438 \nL 76.878716 142.915438 \nz\n\" style=\"fill:#ff7f0e;opacity:0.4;\"/>\n   </g>\n   <g id=\"patch_64\">\n    <path clip-path=\"url(#p0aacdaef51)\" d=\"M 77.259752 224.64 \nL 77.640789 224.64 \nL 77.640789 173.372381 \nL 77.259752 173.372381 \nz\n\" style=\"fill:#ff7f0e;opacity:0.4;\"/>\n   </g>\n   <g id=\"patch_65\">\n    <path clip-path=\"url(#p0aacdaef51)\" d=\"M 77.640789 224.64 \nL 78.021825 224.64 \nL 78.021825 154.724724 \nL 77.640789 154.724724 \nz\n\" style=\"fill:#ff7f0e;opacity:0.4;\"/>\n   </g>\n   <g id=\"patch_66\">\n    <path clip-path=\"url(#p0aacdaef51)\" d=\"M 78.021825 224.64 \nL 78.402862 224.64 \nL 78.402862 192.826131 \nL 78.021825 192.826131 \nz\n\" style=\"fill:#ff7f0e;opacity:0.4;\"/>\n   </g>\n   <g id=\"patch_67\">\n    <path clip-path=\"url(#p0aacdaef51)\" d=\"M 78.402862 224.64 \nL 78.783898 224.64 \nL 78.783898 170.873487 \nL 78.402862 170.873487 \nz\n\" style=\"fill:#ff7f0e;opacity:0.4;\"/>\n   </g>\n   <g id=\"patch_68\">\n    <path clip-path=\"url(#p0aacdaef51)\" d=\"M 78.783898 224.64 \nL 79.164935 224.64 \nL 79.164935 153.623062 \nL 78.783898 153.623062 \nz\n\" style=\"fill:#ff7f0e;opacity:0.4;\"/>\n   </g>\n   <g id=\"patch_69\">\n    <path clip-path=\"url(#p0aacdaef51)\" d=\"M 79.164935 224.64 \nL 79.545971 224.64 \nL 79.545971 214.026421 \nL 79.164935 214.026421 \nz\n\" style=\"fill:#ff7f0e;opacity:0.4;\"/>\n   </g>\n   <g id=\"patch_70\">\n    <path clip-path=\"url(#p0aacdaef51)\" d=\"M 79.545971 224.64 \nL 79.927008 224.64 \nL 79.927008 190.77059 \nL 79.545971 190.77059 \nz\n\" style=\"fill:#ff7f0e;opacity:0.4;\"/>\n   </g>\n   <g id=\"patch_71\">\n    <path clip-path=\"url(#p0aacdaef51)\" d=\"M 79.927008 224.64 \nL 80.308044 224.64 \nL 80.308044 213.636808 \nL 79.927008 213.636808 \nz\n\" style=\"fill:#ff7f0e;opacity:0.4;\"/>\n   </g>\n   <g id=\"patch_72\">\n    <path clip-path=\"url(#p0aacdaef51)\" d=\"M 80.308044 224.64 \nL 80.689081 224.64 \nL 80.689081 194.209927 \nL 80.308044 194.209927 \nz\n\" style=\"fill:#ff7f0e;opacity:0.4;\"/>\n   </g>\n   <g id=\"patch_73\">\n    <path clip-path=\"url(#p0aacdaef51)\" d=\"M 80.689081 224.64 \nL 81.070117 224.64 \nL 81.070117 218.339027 \nL 80.689081 218.339027 \nz\n\" style=\"fill:#ff7f0e;opacity:0.4;\"/>\n   </g>\n   <g id=\"patch_74\">\n    <path clip-path=\"url(#p0aacdaef51)\" d=\"M 81.070117 224.64 \nL 81.451154 224.64 \nL 81.451154 202.445527 \nL 81.070117 202.445527 \nz\n\" style=\"fill:#ff7f0e;opacity:0.4;\"/>\n   </g>\n   <g id=\"patch_75\">\n    <path clip-path=\"url(#p0aacdaef51)\" d=\"M 81.451154 224.64 \nL 81.83219 224.64 \nL 81.83219 205.562427 \nL 81.451154 205.562427 \nz\n\" style=\"fill:#ff7f0e;opacity:0.4;\"/>\n   </g>\n   <g id=\"patch_76\">\n    <path clip-path=\"url(#p0aacdaef51)\" d=\"M 81.83219 224.64 \nL 82.213227 224.64 \nL 82.213227 221.308142 \nL 81.83219 221.308142 \nz\n\" style=\"fill:#ff7f0e;opacity:0.4;\"/>\n   </g>\n   <g id=\"patch_77\">\n    <path clip-path=\"url(#p0aacdaef51)\" d=\"M 82.213227 224.64 \nL 82.594263 224.64 \nL 82.594263 202.458962 \nL 82.213227 202.458962 \nz\n\" style=\"fill:#ff7f0e;opacity:0.4;\"/>\n   </g>\n   <g id=\"patch_78\">\n    <path clip-path=\"url(#p0aacdaef51)\" d=\"M 82.594263 224.64 \nL 82.9753 224.64 \nL 82.9753 221.160358 \nL 82.594263 221.160358 \nz\n\" style=\"fill:#ff7f0e;opacity:0.4;\"/>\n   </g>\n   <g id=\"patch_79\">\n    <path clip-path=\"url(#p0aacdaef51)\" d=\"M 82.9753 224.64 \nL 83.356336 224.64 \nL 83.356336 212.333622 \nL 82.9753 212.333622 \nz\n\" style=\"fill:#ff7f0e;opacity:0.4;\"/>\n   </g>\n   <g id=\"patch_80\">\n    <path clip-path=\"url(#p0aacdaef51)\" d=\"M 83.356336 224.64 \nL 83.737373 224.64 \nL 83.737373 215.531131 \nL 83.356336 215.531131 \nz\n\" style=\"fill:#ff7f0e;opacity:0.4;\"/>\n   </g>\n   <g id=\"patch_81\">\n    <path clip-path=\"url(#p0aacdaef51)\" d=\"M 83.737373 224.64 \nL 84.118409 224.64 \nL 84.118409 222.208281 \nL 83.737373 222.208281 \nz\n\" style=\"fill:#ff7f0e;opacity:0.4;\"/>\n   </g>\n   <g id=\"patch_82\">\n    <path clip-path=\"url(#p0aacdaef51)\" d=\"M 84.118409 224.64 \nL 84.499446 224.64 \nL 84.499446 214.563817 \nL 84.118409 214.563817 \nz\n\" style=\"fill:#ff7f0e;opacity:0.4;\"/>\n   </g>\n   <g id=\"patch_83\">\n    <path clip-path=\"url(#p0aacdaef51)\" d=\"M 84.499446 224.64 \nL 84.880482 224.64 \nL 84.880482 223.498033 \nL 84.499446 223.498033 \nz\n\" style=\"fill:#ff7f0e;opacity:0.4;\"/>\n   </g>\n   <g id=\"patch_84\">\n    <path clip-path=\"url(#p0aacdaef51)\" d=\"M 84.880482 224.64 \nL 85.261519 224.64 \nL 85.261519 218.701769 \nL 84.880482 218.701769 \nz\n\" style=\"fill:#ff7f0e;opacity:0.4;\"/>\n   </g>\n   <g id=\"patch_85\">\n    <path clip-path=\"url(#p0aacdaef51)\" d=\"M 85.261519 224.64 \nL 85.642555 224.64 \nL 85.642555 222.785982 \nL 85.261519 222.785982 \nz\n\" style=\"fill:#ff7f0e;opacity:0.4;\"/>\n   </g>\n   <g id=\"patch_86\">\n    <path clip-path=\"url(#p0aacdaef51)\" d=\"M 85.642555 224.64 \nL 86.023592 224.64 \nL 86.023592 215.181823 \nL 85.642555 215.181823 \nz\n\" style=\"fill:#ff7f0e;opacity:0.4;\"/>\n   </g>\n   <g id=\"patch_87\">\n    <path clip-path=\"url(#p0aacdaef51)\" d=\"M 86.023592 224.64 \nL 86.404628 224.64 \nL 86.404628 222.356065 \nL 86.023592 222.356065 \nz\n\" style=\"fill:#ff7f0e;opacity:0.4;\"/>\n   </g>\n   <g id=\"patch_88\">\n    <path clip-path=\"url(#p0aacdaef51)\" d=\"M 86.404628 224.64 \nL 86.785665 224.64 \nL 86.785665 223.995124 \nL 86.404628 223.995124 \nz\n\" style=\"fill:#ff7f0e;opacity:0.4;\"/>\n   </g>\n   <g id=\"patch_89\">\n    <path clip-path=\"url(#p0aacdaef51)\" d=\"M 86.785665 224.64 \nL 87.166701 224.64 \nL 87.166701 221.173793 \nL 86.785665 221.173793 \nz\n\" style=\"fill:#ff7f0e;opacity:0.4;\"/>\n   </g>\n   <g id=\"patch_90\">\n    <path clip-path=\"url(#p0aacdaef51)\" d=\"M 87.166701 224.64 \nL 87.547738 224.64 \nL 87.547738 224.169778 \nL 87.166701 224.169778 \nz\n\" style=\"fill:#ff7f0e;opacity:0.4;\"/>\n   </g>\n   <g id=\"patch_91\">\n    <path clip-path=\"url(#p0aacdaef51)\" d=\"M 87.547738 224.64 \nL 87.928774 224.64 \nL 87.928774 223.13529 \nL 87.547738 223.13529 \nz\n\" style=\"fill:#ff7f0e;opacity:0.4;\"/>\n   </g>\n   <g id=\"patch_92\">\n    <path clip-path=\"url(#p0aacdaef51)\" d=\"M 87.928774 224.64 \nL 88.309811 224.64 \nL 88.309811 224.223518 \nL 87.928774 224.223518 \nz\n\" style=\"fill:#ff7f0e;opacity:0.4;\"/>\n   </g>\n   <g id=\"patch_93\">\n    <path clip-path=\"url(#p0aacdaef51)\" d=\"M 88.309811 224.64 \nL 88.690847 224.64 \nL 88.690847 220.851355 \nL 88.309811 220.851355 \nz\n\" style=\"fill:#ff7f0e;opacity:0.4;\"/>\n   </g>\n   <g id=\"patch_94\">\n    <path clip-path=\"url(#p0aacdaef51)\" d=\"M 88.690847 224.64 \nL 89.071884 224.64 \nL 89.071884 219.709388 \nL 88.690847 219.709388 \nz\n\" style=\"fill:#ff7f0e;opacity:0.4;\"/>\n   </g>\n   <g id=\"patch_95\">\n    <path clip-path=\"url(#p0aacdaef51)\" d=\"M 89.071884 224.64 \nL 89.45292 224.64 \nL 89.45292 224.236953 \nL 89.071884 224.236953 \nz\n\" style=\"fill:#ff7f0e;opacity:0.4;\"/>\n   </g>\n   <g id=\"patch_96\">\n    <path clip-path=\"url(#p0aacdaef51)\" d=\"M 89.45292 224.64 \nL 89.833957 224.64 \nL 89.833957 222.866592 \nL 89.45292 222.866592 \nz\n\" style=\"fill:#ff7f0e;opacity:0.4;\"/>\n   </g>\n   <g id=\"patch_97\">\n    <path clip-path=\"url(#p0aacdaef51)\" d=\"M 89.833957 224.64 \nL 90.214993 224.64 \nL 90.214993 224.398172 \nL 89.833957 224.398172 \nz\n\" style=\"fill:#ff7f0e;opacity:0.4;\"/>\n   </g>\n   <g id=\"patch_98\">\n    <path clip-path=\"url(#p0aacdaef51)\" d=\"M 90.214993 224.64 \nL 90.59603 224.64 \nL 90.59603 222.933766 \nL 90.214993 222.933766 \nz\n\" style=\"fill:#ff7f0e;opacity:0.4;\"/>\n   </g>\n   <g id=\"patch_99\">\n    <path clip-path=\"url(#p0aacdaef51)\" d=\"M 90.59603 224.64 \nL 90.977066 224.64 \nL 90.977066 222.880027 \nL 90.59603 222.880027 \nz\n\" style=\"fill:#ff7f0e;opacity:0.4;\"/>\n   </g>\n   <g id=\"patch_100\">\n    <path clip-path=\"url(#p0aacdaef51)\" d=\"M 90.977066 224.64 \nL 91.358103 224.64 \nL 91.358103 224.411607 \nL 90.977066 224.411607 \nz\n\" style=\"fill:#ff7f0e;opacity:0.4;\"/>\n   </g>\n   <g id=\"patch_101\">\n    <path clip-path=\"url(#p0aacdaef51)\" d=\"M 91.358103 224.64 \nL 91.739139 224.64 \nL 91.739139 223.726426 \nL 91.358103 223.726426 \nz\n\" style=\"fill:#ff7f0e;opacity:0.4;\"/>\n   </g>\n   <g id=\"patch_102\">\n    <path clip-path=\"url(#p0aacdaef51)\" d=\"M 91.739139 224.64 \nL 92.120176 224.64 \nL 92.120176 224.290692 \nL 91.739139 224.290692 \nz\n\" style=\"fill:#ff7f0e;opacity:0.4;\"/>\n   </g>\n   <g id=\"matplotlib.axis_1\">\n    <g id=\"xtick_1\">\n     <g id=\"line2d_1\">\n      <defs>\n       <path d=\"M 0 0 \nL 0 3.5 \n\" id=\"m2b882e3399\" style=\"stroke:#000000;stroke-width:0.8;\"/>\n      </defs>\n      <g>\n       <use style=\"stroke:#000000;stroke-width:0.8;\" x=\"72.542783\" xlink:href=\"#m2b882e3399\" y=\"224.64\"/>\n      </g>\n     </g>\n     <g id=\"text_1\">\n      <!-- 0 -->\n      <g transform=\"translate(69.361533 239.238437)scale(0.1 -0.1)\">\n       <defs>\n        <path d=\"M 31.78125 66.40625 \nQ 24.171875 66.40625 20.328125 58.90625 \nQ 16.5 51.421875 16.5 36.375 \nQ 16.5 21.390625 20.328125 13.890625 \nQ 24.171875 6.390625 31.78125 6.390625 \nQ 39.453125 6.390625 43.28125 13.890625 \nQ 47.125 21.390625 47.125 36.375 \nQ 47.125 51.421875 43.28125 58.90625 \nQ 39.453125 66.40625 31.78125 66.40625 \nz\nM 31.78125 74.21875 \nQ 44.046875 74.21875 50.515625 64.515625 \nQ 56.984375 54.828125 56.984375 36.375 \nQ 56.984375 17.96875 50.515625 8.265625 \nQ 44.046875 -1.421875 31.78125 -1.421875 \nQ 19.53125 -1.421875 13.0625 8.265625 \nQ 6.59375 17.96875 6.59375 36.375 \nQ 6.59375 54.828125 13.0625 64.515625 \nQ 19.53125 74.21875 31.78125 74.21875 \nz\n\" id=\"DejaVuSans-48\"/>\n       </defs>\n       <use xlink:href=\"#DejaVuSans-48\"/>\n      </g>\n     </g>\n    </g>\n    <g id=\"xtick_2\">\n     <g id=\"line2d_2\">\n      <g>\n       <use style=\"stroke:#000000;stroke-width:0.8;\" x=\"138.238732\" xlink:href=\"#m2b882e3399\" y=\"224.64\"/>\n      </g>\n     </g>\n     <g id=\"text_2\">\n      <!-- 500 -->\n      <g transform=\"translate(128.694982 239.238437)scale(0.1 -0.1)\">\n       <defs>\n        <path d=\"M 10.796875 72.90625 \nL 49.515625 72.90625 \nL 49.515625 64.59375 \nL 19.828125 64.59375 \nL 19.828125 46.734375 \nQ 21.96875 47.46875 24.109375 47.828125 \nQ 26.265625 48.1875 28.421875 48.1875 \nQ 40.625 48.1875 47.75 41.5 \nQ 54.890625 34.8125 54.890625 23.390625 \nQ 54.890625 11.625 47.5625 5.09375 \nQ 40.234375 -1.421875 26.90625 -1.421875 \nQ 22.3125 -1.421875 17.546875 -0.640625 \nQ 12.796875 0.140625 7.71875 1.703125 \nL 7.71875 11.625 \nQ 12.109375 9.234375 16.796875 8.0625 \nQ 21.484375 6.890625 26.703125 6.890625 \nQ 35.15625 6.890625 40.078125 11.328125 \nQ 45.015625 15.765625 45.015625 23.390625 \nQ 45.015625 31 40.078125 35.4375 \nQ 35.15625 39.890625 26.703125 39.890625 \nQ 22.75 39.890625 18.8125 39.015625 \nQ 14.890625 38.140625 10.796875 36.28125 \nz\n\" id=\"DejaVuSans-53\"/>\n       </defs>\n       <use xlink:href=\"#DejaVuSans-53\"/>\n       <use x=\"63.623047\" xlink:href=\"#DejaVuSans-48\"/>\n       <use x=\"127.246094\" xlink:href=\"#DejaVuSans-48\"/>\n      </g>\n     </g>\n    </g>\n    <g id=\"xtick_3\">\n     <g id=\"line2d_3\">\n      <g>\n       <use style=\"stroke:#000000;stroke-width:0.8;\" x=\"203.934681\" xlink:href=\"#m2b882e3399\" y=\"224.64\"/>\n      </g>\n     </g>\n     <g id=\"text_3\">\n      <!-- 1000 -->\n      <g transform=\"translate(191.209681 239.238437)scale(0.1 -0.1)\">\n       <defs>\n        <path d=\"M 12.40625 8.296875 \nL 28.515625 8.296875 \nL 28.515625 63.921875 \nL 10.984375 60.40625 \nL 10.984375 69.390625 \nL 28.421875 72.90625 \nL 38.28125 72.90625 \nL 38.28125 8.296875 \nL 54.390625 8.296875 \nL 54.390625 0 \nL 12.40625 0 \nz\n\" id=\"DejaVuSans-49\"/>\n       </defs>\n       <use xlink:href=\"#DejaVuSans-49\"/>\n       <use x=\"63.623047\" xlink:href=\"#DejaVuSans-48\"/>\n       <use x=\"127.246094\" xlink:href=\"#DejaVuSans-48\"/>\n       <use x=\"190.869141\" xlink:href=\"#DejaVuSans-48\"/>\n      </g>\n     </g>\n    </g>\n    <g id=\"xtick_4\">\n     <g id=\"line2d_4\">\n      <g>\n       <use style=\"stroke:#000000;stroke-width:0.8;\" x=\"269.630631\" xlink:href=\"#m2b882e3399\" y=\"224.64\"/>\n      </g>\n     </g>\n     <g id=\"text_4\">\n      <!-- 1500 -->\n      <g transform=\"translate(256.905631 239.238437)scale(0.1 -0.1)\">\n       <use xlink:href=\"#DejaVuSans-49\"/>\n       <use x=\"63.623047\" xlink:href=\"#DejaVuSans-53\"/>\n       <use x=\"127.246094\" xlink:href=\"#DejaVuSans-48\"/>\n       <use x=\"190.869141\" xlink:href=\"#DejaVuSans-48\"/>\n      </g>\n     </g>\n    </g>\n    <g id=\"xtick_5\">\n     <g id=\"line2d_5\">\n      <g>\n       <use style=\"stroke:#000000;stroke-width:0.8;\" x=\"335.32658\" xlink:href=\"#m2b882e3399\" y=\"224.64\"/>\n      </g>\n     </g>\n     <g id=\"text_5\">\n      <!-- 2000 -->\n      <g transform=\"translate(322.60158 239.238437)scale(0.1 -0.1)\">\n       <defs>\n        <path d=\"M 19.1875 8.296875 \nL 53.609375 8.296875 \nL 53.609375 0 \nL 7.328125 0 \nL 7.328125 8.296875 \nQ 12.9375 14.109375 22.625 23.890625 \nQ 32.328125 33.6875 34.8125 36.53125 \nQ 39.546875 41.84375 41.421875 45.53125 \nQ 43.3125 49.21875 43.3125 52.78125 \nQ 43.3125 58.59375 39.234375 62.25 \nQ 35.15625 65.921875 28.609375 65.921875 \nQ 23.96875 65.921875 18.8125 64.3125 \nQ 13.671875 62.703125 7.8125 59.421875 \nL 7.8125 69.390625 \nQ 13.765625 71.78125 18.9375 73 \nQ 24.125 74.21875 28.421875 74.21875 \nQ 39.75 74.21875 46.484375 68.546875 \nQ 53.21875 62.890625 53.21875 53.421875 \nQ 53.21875 48.921875 51.53125 44.890625 \nQ 49.859375 40.875 45.40625 35.40625 \nQ 44.1875 33.984375 37.640625 27.21875 \nQ 31.109375 20.453125 19.1875 8.296875 \nz\n\" id=\"DejaVuSans-50\"/>\n       </defs>\n       <use xlink:href=\"#DejaVuSans-50\"/>\n       <use x=\"63.623047\" xlink:href=\"#DejaVuSans-48\"/>\n       <use x=\"127.246094\" xlink:href=\"#DejaVuSans-48\"/>\n       <use x=\"190.869141\" xlink:href=\"#DejaVuSans-48\"/>\n      </g>\n     </g>\n    </g>\n    <g id=\"text_6\">\n     <!-- price -->\n     <g transform=\"translate(211.461719 252.916562)scale(0.1 -0.1)\">\n      <defs>\n       <path d=\"M 18.109375 8.203125 \nL 18.109375 -20.796875 \nL 9.078125 -20.796875 \nL 9.078125 54.6875 \nL 18.109375 54.6875 \nL 18.109375 46.390625 \nQ 20.953125 51.265625 25.265625 53.625 \nQ 29.59375 56 35.59375 56 \nQ 45.5625 56 51.78125 48.09375 \nQ 58.015625 40.1875 58.015625 27.296875 \nQ 58.015625 14.40625 51.78125 6.484375 \nQ 45.5625 -1.421875 35.59375 -1.421875 \nQ 29.59375 -1.421875 25.265625 0.953125 \nQ 20.953125 3.328125 18.109375 8.203125 \nz\nM 48.6875 27.296875 \nQ 48.6875 37.203125 44.609375 42.84375 \nQ 40.53125 48.484375 33.40625 48.484375 \nQ 26.265625 48.484375 22.1875 42.84375 \nQ 18.109375 37.203125 18.109375 27.296875 \nQ 18.109375 17.390625 22.1875 11.75 \nQ 26.265625 6.109375 33.40625 6.109375 \nQ 40.53125 6.109375 44.609375 11.75 \nQ 48.6875 17.390625 48.6875 27.296875 \nz\n\" id=\"DejaVuSans-112\"/>\n       <path d=\"M 41.109375 46.296875 \nQ 39.59375 47.171875 37.8125 47.578125 \nQ 36.03125 48 33.890625 48 \nQ 26.265625 48 22.1875 43.046875 \nQ 18.109375 38.09375 18.109375 28.8125 \nL 18.109375 0 \nL 9.078125 0 \nL 9.078125 54.6875 \nL 18.109375 54.6875 \nL 18.109375 46.1875 \nQ 20.953125 51.171875 25.484375 53.578125 \nQ 30.03125 56 36.53125 56 \nQ 37.453125 56 38.578125 55.875 \nQ 39.703125 55.765625 41.0625 55.515625 \nz\n\" id=\"DejaVuSans-114\"/>\n       <path d=\"M 9.421875 54.6875 \nL 18.40625 54.6875 \nL 18.40625 0 \nL 9.421875 0 \nz\nM 9.421875 75.984375 \nL 18.40625 75.984375 \nL 18.40625 64.59375 \nL 9.421875 64.59375 \nz\n\" id=\"DejaVuSans-105\"/>\n       <path d=\"M 48.78125 52.59375 \nL 48.78125 44.1875 \nQ 44.96875 46.296875 41.140625 47.34375 \nQ 37.3125 48.390625 33.40625 48.390625 \nQ 24.65625 48.390625 19.8125 42.84375 \nQ 14.984375 37.3125 14.984375 27.296875 \nQ 14.984375 17.28125 19.8125 11.734375 \nQ 24.65625 6.203125 33.40625 6.203125 \nQ 37.3125 6.203125 41.140625 7.25 \nQ 44.96875 8.296875 48.78125 10.40625 \nL 48.78125 2.09375 \nQ 45.015625 0.34375 40.984375 -0.53125 \nQ 36.96875 -1.421875 32.421875 -1.421875 \nQ 20.0625 -1.421875 12.78125 6.34375 \nQ 5.515625 14.109375 5.515625 27.296875 \nQ 5.515625 40.671875 12.859375 48.328125 \nQ 20.21875 56 33.015625 56 \nQ 37.15625 56 41.109375 55.140625 \nQ 45.0625 54.296875 48.78125 52.59375 \nz\n\" id=\"DejaVuSans-99\"/>\n       <path d=\"M 56.203125 29.59375 \nL 56.203125 25.203125 \nL 14.890625 25.203125 \nQ 15.484375 15.921875 20.484375 11.0625 \nQ 25.484375 6.203125 34.421875 6.203125 \nQ 39.59375 6.203125 44.453125 7.46875 \nQ 49.3125 8.734375 54.109375 11.28125 \nL 54.109375 2.78125 \nQ 49.265625 0.734375 44.1875 -0.34375 \nQ 39.109375 -1.421875 33.890625 -1.421875 \nQ 20.796875 -1.421875 13.15625 6.1875 \nQ 5.515625 13.8125 5.515625 26.8125 \nQ 5.515625 40.234375 12.765625 48.109375 \nQ 20.015625 56 32.328125 56 \nQ 43.359375 56 49.78125 48.890625 \nQ 56.203125 41.796875 56.203125 29.59375 \nz\nM 47.21875 32.234375 \nQ 47.125 39.59375 43.09375 43.984375 \nQ 39.0625 48.390625 32.421875 48.390625 \nQ 24.90625 48.390625 20.390625 44.140625 \nQ 15.875 39.890625 15.1875 32.171875 \nz\n\" id=\"DejaVuSans-101\"/>\n      </defs>\n      <use xlink:href=\"#DejaVuSans-112\"/>\n      <use x=\"63.476562\" xlink:href=\"#DejaVuSans-114\"/>\n      <use x=\"104.589844\" xlink:href=\"#DejaVuSans-105\"/>\n      <use x=\"132.373047\" xlink:href=\"#DejaVuSans-99\"/>\n      <use x=\"187.353516\" xlink:href=\"#DejaVuSans-101\"/>\n     </g>\n    </g>\n   </g>\n   <g id=\"matplotlib.axis_2\">\n    <g id=\"ytick_1\">\n     <g id=\"line2d_6\">\n      <defs>\n       <path d=\"M 0 0 \nL -3.5 0 \n\" id=\"mb26989307f\" style=\"stroke:#000000;stroke-width:0.8;\"/>\n      </defs>\n      <g>\n       <use style=\"stroke:#000000;stroke-width:0.8;\" x=\"56.50625\" xlink:href=\"#mb26989307f\" y=\"224.64\"/>\n      </g>\n     </g>\n     <g id=\"text_7\">\n      <!-- 0.000 -->\n      <g transform=\"translate(20.878125 228.439219)scale(0.1 -0.1)\">\n       <defs>\n        <path d=\"M 10.6875 12.40625 \nL 21 12.40625 \nL 21 0 \nL 10.6875 0 \nz\n\" id=\"DejaVuSans-46\"/>\n       </defs>\n       <use xlink:href=\"#DejaVuSans-48\"/>\n       <use x=\"63.623047\" xlink:href=\"#DejaVuSans-46\"/>\n       <use x=\"95.410156\" xlink:href=\"#DejaVuSans-48\"/>\n       <use x=\"159.033203\" xlink:href=\"#DejaVuSans-48\"/>\n       <use x=\"222.65625\" xlink:href=\"#DejaVuSans-48\"/>\n      </g>\n     </g>\n    </g>\n    <g id=\"ytick_2\">\n     <g id=\"line2d_7\">\n      <g>\n       <use style=\"stroke:#000000;stroke-width:0.8;\" x=\"56.50625\" xlink:href=\"#mb26989307f\" y=\"198.21298\"/>\n      </g>\n     </g>\n     <g id=\"text_8\">\n      <!-- 0.005 -->\n      <g transform=\"translate(20.878125 202.012198)scale(0.1 -0.1)\">\n       <use xlink:href=\"#DejaVuSans-48\"/>\n       <use x=\"63.623047\" xlink:href=\"#DejaVuSans-46\"/>\n       <use x=\"95.410156\" xlink:href=\"#DejaVuSans-48\"/>\n       <use x=\"159.033203\" xlink:href=\"#DejaVuSans-48\"/>\n       <use x=\"222.65625\" xlink:href=\"#DejaVuSans-53\"/>\n      </g>\n     </g>\n    </g>\n    <g id=\"ytick_3\">\n     <g id=\"line2d_8\">\n      <g>\n       <use style=\"stroke:#000000;stroke-width:0.8;\" x=\"56.50625\" xlink:href=\"#mb26989307f\" y=\"171.785959\"/>\n      </g>\n     </g>\n     <g id=\"text_9\">\n      <!-- 0.010 -->\n      <g transform=\"translate(20.878125 175.585178)scale(0.1 -0.1)\">\n       <use xlink:href=\"#DejaVuSans-48\"/>\n       <use x=\"63.623047\" xlink:href=\"#DejaVuSans-46\"/>\n       <use x=\"95.410156\" xlink:href=\"#DejaVuSans-48\"/>\n       <use x=\"159.033203\" xlink:href=\"#DejaVuSans-49\"/>\n       <use x=\"222.65625\" xlink:href=\"#DejaVuSans-48\"/>\n      </g>\n     </g>\n    </g>\n    <g id=\"ytick_4\">\n     <g id=\"line2d_9\">\n      <g>\n       <use style=\"stroke:#000000;stroke-width:0.8;\" x=\"56.50625\" xlink:href=\"#mb26989307f\" y=\"145.358939\"/>\n      </g>\n     </g>\n     <g id=\"text_10\">\n      <!-- 0.015 -->\n      <g transform=\"translate(20.878125 149.158158)scale(0.1 -0.1)\">\n       <use xlink:href=\"#DejaVuSans-48\"/>\n       <use x=\"63.623047\" xlink:href=\"#DejaVuSans-46\"/>\n       <use x=\"95.410156\" xlink:href=\"#DejaVuSans-48\"/>\n       <use x=\"159.033203\" xlink:href=\"#DejaVuSans-49\"/>\n       <use x=\"222.65625\" xlink:href=\"#DejaVuSans-53\"/>\n      </g>\n     </g>\n    </g>\n    <g id=\"ytick_5\">\n     <g id=\"line2d_10\">\n      <g>\n       <use style=\"stroke:#000000;stroke-width:0.8;\" x=\"56.50625\" xlink:href=\"#mb26989307f\" y=\"118.931919\"/>\n      </g>\n     </g>\n     <g id=\"text_11\">\n      <!-- 0.020 -->\n      <g transform=\"translate(20.878125 122.731138)scale(0.1 -0.1)\">\n       <use xlink:href=\"#DejaVuSans-48\"/>\n       <use x=\"63.623047\" xlink:href=\"#DejaVuSans-46\"/>\n       <use x=\"95.410156\" xlink:href=\"#DejaVuSans-48\"/>\n       <use x=\"159.033203\" xlink:href=\"#DejaVuSans-50\"/>\n       <use x=\"222.65625\" xlink:href=\"#DejaVuSans-48\"/>\n      </g>\n     </g>\n    </g>\n    <g id=\"ytick_6\">\n     <g id=\"line2d_11\">\n      <g>\n       <use style=\"stroke:#000000;stroke-width:0.8;\" x=\"56.50625\" xlink:href=\"#mb26989307f\" y=\"92.504899\"/>\n      </g>\n     </g>\n     <g id=\"text_12\">\n      <!-- 0.025 -->\n      <g transform=\"translate(20.878125 96.304117)scale(0.1 -0.1)\">\n       <use xlink:href=\"#DejaVuSans-48\"/>\n       <use x=\"63.623047\" xlink:href=\"#DejaVuSans-46\"/>\n       <use x=\"95.410156\" xlink:href=\"#DejaVuSans-48\"/>\n       <use x=\"159.033203\" xlink:href=\"#DejaVuSans-50\"/>\n       <use x=\"222.65625\" xlink:href=\"#DejaVuSans-53\"/>\n      </g>\n     </g>\n    </g>\n    <g id=\"ytick_7\">\n     <g id=\"line2d_12\">\n      <g>\n       <use style=\"stroke:#000000;stroke-width:0.8;\" x=\"56.50625\" xlink:href=\"#mb26989307f\" y=\"66.077878\"/>\n      </g>\n     </g>\n     <g id=\"text_13\">\n      <!-- 0.030 -->\n      <g transform=\"translate(20.878125 69.877097)scale(0.1 -0.1)\">\n       <defs>\n        <path d=\"M 40.578125 39.3125 \nQ 47.65625 37.796875 51.625 33 \nQ 55.609375 28.21875 55.609375 21.1875 \nQ 55.609375 10.40625 48.1875 4.484375 \nQ 40.765625 -1.421875 27.09375 -1.421875 \nQ 22.515625 -1.421875 17.65625 -0.515625 \nQ 12.796875 0.390625 7.625 2.203125 \nL 7.625 11.71875 \nQ 11.71875 9.328125 16.59375 8.109375 \nQ 21.484375 6.890625 26.8125 6.890625 \nQ 36.078125 6.890625 40.9375 10.546875 \nQ 45.796875 14.203125 45.796875 21.1875 \nQ 45.796875 27.640625 41.28125 31.265625 \nQ 36.765625 34.90625 28.71875 34.90625 \nL 20.21875 34.90625 \nL 20.21875 43.015625 \nL 29.109375 43.015625 \nQ 36.375 43.015625 40.234375 45.921875 \nQ 44.09375 48.828125 44.09375 54.296875 \nQ 44.09375 59.90625 40.109375 62.90625 \nQ 36.140625 65.921875 28.71875 65.921875 \nQ 24.65625 65.921875 20.015625 65.03125 \nQ 15.375 64.15625 9.8125 62.3125 \nL 9.8125 71.09375 \nQ 15.4375 72.65625 20.34375 73.4375 \nQ 25.25 74.21875 29.59375 74.21875 \nQ 40.828125 74.21875 47.359375 69.109375 \nQ 53.90625 64.015625 53.90625 55.328125 \nQ 53.90625 49.265625 50.4375 45.09375 \nQ 46.96875 40.921875 40.578125 39.3125 \nz\n\" id=\"DejaVuSans-51\"/>\n       </defs>\n       <use xlink:href=\"#DejaVuSans-48\"/>\n       <use x=\"63.623047\" xlink:href=\"#DejaVuSans-46\"/>\n       <use x=\"95.410156\" xlink:href=\"#DejaVuSans-48\"/>\n       <use x=\"159.033203\" xlink:href=\"#DejaVuSans-51\"/>\n       <use x=\"222.65625\" xlink:href=\"#DejaVuSans-48\"/>\n      </g>\n     </g>\n    </g>\n    <g id=\"ytick_8\">\n     <g id=\"line2d_13\">\n      <g>\n       <use style=\"stroke:#000000;stroke-width:0.8;\" x=\"56.50625\" xlink:href=\"#mb26989307f\" y=\"39.650858\"/>\n      </g>\n     </g>\n     <g id=\"text_14\">\n      <!-- 0.035 -->\n      <g transform=\"translate(20.878125 43.450077)scale(0.1 -0.1)\">\n       <use xlink:href=\"#DejaVuSans-48\"/>\n       <use x=\"63.623047\" xlink:href=\"#DejaVuSans-46\"/>\n       <use x=\"95.410156\" xlink:href=\"#DejaVuSans-48\"/>\n       <use x=\"159.033203\" xlink:href=\"#DejaVuSans-51\"/>\n       <use x=\"222.65625\" xlink:href=\"#DejaVuSans-53\"/>\n      </g>\n     </g>\n    </g>\n    <g id=\"ytick_9\">\n     <g id=\"line2d_14\">\n      <g>\n       <use style=\"stroke:#000000;stroke-width:0.8;\" x=\"56.50625\" xlink:href=\"#mb26989307f\" y=\"13.223838\"/>\n      </g>\n     </g>\n     <g id=\"text_15\">\n      <!-- 0.040 -->\n      <g transform=\"translate(20.878125 17.023057)scale(0.1 -0.1)\">\n       <defs>\n        <path d=\"M 37.796875 64.3125 \nL 12.890625 25.390625 \nL 37.796875 25.390625 \nz\nM 35.203125 72.90625 \nL 47.609375 72.90625 \nL 47.609375 25.390625 \nL 58.015625 25.390625 \nL 58.015625 17.1875 \nL 47.609375 17.1875 \nL 47.609375 0 \nL 37.796875 0 \nL 37.796875 17.1875 \nL 4.890625 17.1875 \nL 4.890625 26.703125 \nz\n\" id=\"DejaVuSans-52\"/>\n       </defs>\n       <use xlink:href=\"#DejaVuSans-48\"/>\n       <use x=\"63.623047\" xlink:href=\"#DejaVuSans-46\"/>\n       <use x=\"95.410156\" xlink:href=\"#DejaVuSans-48\"/>\n       <use x=\"159.033203\" xlink:href=\"#DejaVuSans-52\"/>\n       <use x=\"222.65625\" xlink:href=\"#DejaVuSans-48\"/>\n      </g>\n     </g>\n    </g>\n    <g id=\"text_16\">\n     <!-- Density -->\n     <g transform=\"translate(14.798437 134.928594)rotate(-90)scale(0.1 -0.1)\">\n      <defs>\n       <path d=\"M 19.671875 64.796875 \nL 19.671875 8.109375 \nL 31.59375 8.109375 \nQ 46.6875 8.109375 53.6875 14.9375 \nQ 60.6875 21.78125 60.6875 36.53125 \nQ 60.6875 51.171875 53.6875 57.984375 \nQ 46.6875 64.796875 31.59375 64.796875 \nz\nM 9.8125 72.90625 \nL 30.078125 72.90625 \nQ 51.265625 72.90625 61.171875 64.09375 \nQ 71.09375 55.28125 71.09375 36.53125 \nQ 71.09375 17.671875 61.125 8.828125 \nQ 51.171875 0 30.078125 0 \nL 9.8125 0 \nz\n\" id=\"DejaVuSans-68\"/>\n       <path d=\"M 54.890625 33.015625 \nL 54.890625 0 \nL 45.90625 0 \nL 45.90625 32.71875 \nQ 45.90625 40.484375 42.875 44.328125 \nQ 39.84375 48.1875 33.796875 48.1875 \nQ 26.515625 48.1875 22.3125 43.546875 \nQ 18.109375 38.921875 18.109375 30.90625 \nL 18.109375 0 \nL 9.078125 0 \nL 9.078125 54.6875 \nL 18.109375 54.6875 \nL 18.109375 46.1875 \nQ 21.34375 51.125 25.703125 53.5625 \nQ 30.078125 56 35.796875 56 \nQ 45.21875 56 50.046875 50.171875 \nQ 54.890625 44.34375 54.890625 33.015625 \nz\n\" id=\"DejaVuSans-110\"/>\n       <path d=\"M 44.28125 53.078125 \nL 44.28125 44.578125 \nQ 40.484375 46.53125 36.375 47.5 \nQ 32.28125 48.484375 27.875 48.484375 \nQ 21.1875 48.484375 17.84375 46.4375 \nQ 14.5 44.390625 14.5 40.28125 \nQ 14.5 37.15625 16.890625 35.375 \nQ 19.28125 33.59375 26.515625 31.984375 \nL 29.59375 31.296875 \nQ 39.15625 29.25 43.1875 25.515625 \nQ 47.21875 21.78125 47.21875 15.09375 \nQ 47.21875 7.46875 41.1875 3.015625 \nQ 35.15625 -1.421875 24.609375 -1.421875 \nQ 20.21875 -1.421875 15.453125 -0.5625 \nQ 10.6875 0.296875 5.421875 2 \nL 5.421875 11.28125 \nQ 10.40625 8.6875 15.234375 7.390625 \nQ 20.0625 6.109375 24.8125 6.109375 \nQ 31.15625 6.109375 34.5625 8.28125 \nQ 37.984375 10.453125 37.984375 14.40625 \nQ 37.984375 18.0625 35.515625 20.015625 \nQ 33.0625 21.96875 24.703125 23.78125 \nL 21.578125 24.515625 \nQ 13.234375 26.265625 9.515625 29.90625 \nQ 5.8125 33.546875 5.8125 39.890625 \nQ 5.8125 47.609375 11.28125 51.796875 \nQ 16.75 56 26.8125 56 \nQ 31.78125 56 36.171875 55.265625 \nQ 40.578125 54.546875 44.28125 53.078125 \nz\n\" id=\"DejaVuSans-115\"/>\n       <path d=\"M 18.3125 70.21875 \nL 18.3125 54.6875 \nL 36.8125 54.6875 \nL 36.8125 47.703125 \nL 18.3125 47.703125 \nL 18.3125 18.015625 \nQ 18.3125 11.328125 20.140625 9.421875 \nQ 21.96875 7.515625 27.59375 7.515625 \nL 36.8125 7.515625 \nL 36.8125 0 \nL 27.59375 0 \nQ 17.1875 0 13.234375 3.875 \nQ 9.28125 7.765625 9.28125 18.015625 \nL 9.28125 47.703125 \nL 2.6875 47.703125 \nL 2.6875 54.6875 \nL 9.28125 54.6875 \nL 9.28125 70.21875 \nz\n\" id=\"DejaVuSans-116\"/>\n       <path d=\"M 32.171875 -5.078125 \nQ 28.375 -14.84375 24.75 -17.8125 \nQ 21.140625 -20.796875 15.09375 -20.796875 \nL 7.90625 -20.796875 \nL 7.90625 -13.28125 \nL 13.1875 -13.28125 \nQ 16.890625 -13.28125 18.9375 -11.515625 \nQ 21 -9.765625 23.484375 -3.21875 \nL 25.09375 0.875 \nL 2.984375 54.6875 \nL 12.5 54.6875 \nL 29.59375 11.921875 \nL 46.6875 54.6875 \nL 56.203125 54.6875 \nz\n\" id=\"DejaVuSans-121\"/>\n      </defs>\n      <use xlink:href=\"#DejaVuSans-68\"/>\n      <use x=\"77.001953\" xlink:href=\"#DejaVuSans-101\"/>\n      <use x=\"138.525391\" xlink:href=\"#DejaVuSans-110\"/>\n      <use x=\"201.904297\" xlink:href=\"#DejaVuSans-115\"/>\n      <use x=\"254.003906\" xlink:href=\"#DejaVuSans-105\"/>\n      <use x=\"281.787109\" xlink:href=\"#DejaVuSans-116\"/>\n      <use x=\"320.996094\" xlink:href=\"#DejaVuSans-121\"/>\n     </g>\n    </g>\n   </g>\n   <g id=\"line2d_15\">\n    <path clip-path=\"url(#p0aacdaef51)\" d=\"M 71.724432 224.631186 \nL 73.253897 188.140198 \nL 74.783363 50.130178 \nL 76.312828 126.589998 \nL 77.842294 167.454642 \nL 79.371759 191.215568 \nL 80.901225 207.086423 \nL 83.960156 218.095758 \nL 85.489621 219.62873 \nL 87.019087 222.764246 \nL 88.548552 222.180804 \nL 90.078018 223.503718 \nL 91.607483 223.634528 \nL 93.136949 224.113625 \nL 97.725345 224.384111 \nL 99.254811 224.220077 \nL 100.784276 224.456486 \nL 102.313742 224.310516 \nL 103.843208 224.457158 \nL 105.372673 224.350779 \nL 106.902139 224.488226 \nL 111.490535 224.492497 \nL 113.020001 224.594876 \nL 114.549466 224.5363 \nL 117.608397 224.601288 \nL 120.667328 224.617675 \nL 126.78519 224.612402 \nL 129.844121 224.627832 \nL 131.373587 224.545228 \nL 135.961983 224.636816 \nL 140.55038 224.635663 \nL 169.610224 224.635781 \nL 253.730827 224.64 \nL 376.088068 224.63995 \nL 376.088068 224.63995 \n\" style=\"fill:none;stroke:#1f77b4;stroke-linecap:square;stroke-width:1.5;\"/>\n   </g>\n   <g id=\"line2d_16\">\n    <path clip-path=\"url(#p0aacdaef51)\" d=\"M 72.267247 224.635789 \nL 72.474825 224.589006 \nL 72.578614 224.488772 \nL 72.682404 224.233658 \nL 72.786193 223.644907 \nL 72.993771 220.017947 \nL 73.201349 208.851094 \nL 73.408927 183.869137 \nL 74.23924 49.092436 \nL 74.446818 38.565601 \nL 74.550608 36.882247 \nL 74.654397 37.145435 \nL 74.861975 40.659636 \nL 75.069553 50.116708 \nL 75.692288 97.179427 \nL 75.899866 105.620907 \nL 76.315022 124.936349 \nL 76.522601 134.371528 \nL 76.833968 151.841793 \nL 76.937757 153.312682 \nL 77.041546 153.236251 \nL 77.145335 153.414912 \nL 77.76807 162.424409 \nL 78.287015 178.414133 \nL 78.390804 178.535776 \nL 78.494594 178.926126 \nL 78.702172 180.57275 \nL 78.805961 180.489287 \nL 79.013539 179.75918 \nL 79.117328 181.578013 \nL 79.636274 198.612181 \nL 80.05143 201.573484 \nL 80.155219 201.321544 \nL 80.362797 200.050463 \nL 80.466587 200.817793 \nL 80.881743 207.976818 \nL 81.089321 208.390522 \nL 81.504478 211.653011 \nL 81.608267 211.614203 \nL 81.712056 211.624315 \nL 82.023423 212.616882 \nL 82.231001 211.010994 \nL 82.33479 210.202146 \nL 82.43858 210.288471 \nL 83.061314 215.622214 \nL 83.476471 218.046165 \nL 83.787838 217.9307 \nL 83.995416 218.279313 \nL 84.099205 218.148049 \nL 84.306784 217.616912 \nL 84.410573 217.809374 \nL 84.929518 220.296899 \nL 85.137096 220.253436 \nL 85.240885 220.112878 \nL 85.448464 219.085271 \nL 85.656042 218.23111 \nL 85.759831 218.60217 \nL 86.278777 222.622525 \nL 86.486355 222.922629 \nL 86.590144 222.915423 \nL 87.0053 222.340545 \nL 87.212878 222.76781 \nL 87.524246 223.386112 \nL 87.731824 223.378677 \nL 87.939402 223.070249 \nL 88.354559 222.081712 \nL 88.562137 222.180558 \nL 88.769715 221.855504 \nL 88.977293 221.57427 \nL 89.184872 222.213158 \nL 89.496239 223.195466 \nL 89.911395 223.622704 \nL 90.118973 223.57321 \nL 90.326552 223.483672 \nL 90.741708 223.525805 \nL 90.949286 223.499104 \nL 92.402334 224.546091 \nL 92.921279 224.63847 \nL 92.921279 224.63847 \n\" style=\"fill:none;stroke:#ff7f0e;stroke-linecap:square;stroke-width:1.5;\"/>\n   </g>\n   <g id=\"patch_103\">\n    <path d=\"M 56.50625 224.64 \nL 56.50625 7.2 \n\" style=\"fill:none;stroke:#000000;stroke-linecap:square;stroke-linejoin:miter;stroke-width:0.8;\"/>\n   </g>\n   <g id=\"patch_104\">\n    <path d=\"M 391.30625 224.64 \nL 391.30625 7.2 \n\" style=\"fill:none;stroke:#000000;stroke-linecap:square;stroke-linejoin:miter;stroke-width:0.8;\"/>\n   </g>\n   <g id=\"patch_105\">\n    <path d=\"M 56.50625 224.64 \nL 391.30625 224.64 \n\" style=\"fill:none;stroke:#000000;stroke-linecap:square;stroke-linejoin:miter;stroke-width:0.8;\"/>\n   </g>\n   <g id=\"patch_106\">\n    <path d=\"M 56.50625 7.2 \nL 391.30625 7.2 \n\" style=\"fill:none;stroke:#000000;stroke-linecap:square;stroke-linejoin:miter;stroke-width:0.8;\"/>\n   </g>\n  </g>\n </g>\n <defs>\n  <clipPath id=\"p0aacdaef51\">\n   <rect height=\"217.44\" width=\"334.8\" x=\"56.50625\" y=\"7.2\"/>\n  </clipPath>\n </defs>\n</svg>\n",
      "image/png": "[encoded data removed]"
     },
     "metadata": {
      "needs_background": "light"
     }
    }
   ],
   "source": [
    "import seaborn as sns\n",
    "sns.distplot(wine_ml_2017['price'])\n",
    "\n",
    "#Removing the top 1% of the observation will help us to deal with the outliers\n",
    "q = wine_ml_2017['price'].quantile(0.99)\n",
    "wine_ml_2017 = wine_ml_2017[wine_ml_2017['price'] < q]\n",
    "\n",
    "sns.distplot(wine_ml_2017['price'])"
   ]
  },
  {
   "cell_type": "code",
   "execution_count": 13,
   "metadata": {},
   "outputs": [
    {
     "output_type": "execute_result",
     "data": {
      "text/plain": [
       "        price  ratings_desc\n",
       "2        90.0           1.0\n",
       "3        65.0           1.0\n",
       "8        65.0           1.0\n",
       "9        60.0           1.0\n",
       "11       48.0           1.0\n",
       "...       ...           ...\n",
       "150892   10.0           0.0\n",
       "150896   10.0           0.0\n",
       "150914   25.0           1.0\n",
       "150915   30.0           1.0\n",
       "150916   65.0           1.0\n",
       "\n",
       "[61816 rows x 2 columns]"
      ],
      "text/html": "<div>\n<style scoped>\n    .dataframe tbody tr th:only-of-type {\n        vertical-align: middle;\n    }\n\n    .dataframe tbody tr th {\n        vertical-align: top;\n    }\n\n    .dataframe thead th {\n        text-align: right;\n    }\n</style>\n<table border=\"1\" class=\"dataframe\">\n  <thead>\n    <tr style=\"text-align: right;\">\n      <th></th>\n      <th>price</th>\n      <th>ratings_desc</th>\n    </tr>\n  </thead>\n  <tbody>\n    <tr>\n      <th>2</th>\n      <td>90.0</td>\n      <td>1.0</td>\n    </tr>\n    <tr>\n      <th>3</th>\n      <td>65.0</td>\n      <td>1.0</td>\n    </tr>\n    <tr>\n      <th>8</th>\n      <td>65.0</td>\n      <td>1.0</td>\n    </tr>\n    <tr>\n      <th>9</th>\n      <td>60.0</td>\n      <td>1.0</td>\n    </tr>\n    <tr>\n      <th>11</th>\n      <td>48.0</td>\n      <td>1.0</td>\n    </tr>\n    <tr>\n      <th>...</th>\n      <td>...</td>\n      <td>...</td>\n    </tr>\n    <tr>\n      <th>150892</th>\n      <td>10.0</td>\n      <td>0.0</td>\n    </tr>\n    <tr>\n      <th>150896</th>\n      <td>10.0</td>\n      <td>0.0</td>\n    </tr>\n    <tr>\n      <th>150914</th>\n      <td>25.0</td>\n      <td>1.0</td>\n    </tr>\n    <tr>\n      <th>150915</th>\n      <td>30.0</td>\n      <td>1.0</td>\n    </tr>\n    <tr>\n      <th>150916</th>\n      <td>65.0</td>\n      <td>1.0</td>\n    </tr>\n  </tbody>\n</table>\n<p>61816 rows × 2 columns</p>\n</div>"
     },
     "metadata": {},
     "execution_count": 13
    }
   ],
   "source": [
    "# Convert the COUNTRY COLUMN values to good_wine and great_wine\n",
    "US_df = wine_ml_2017[wine_ml_2017.country == 'US']\n",
    "US_df = US_df[['price', 'ratings_desc']]\n",
    "\n",
    "US_df"
   ]
  },
  {
   "cell_type": "code",
   "execution_count": 14,
   "metadata": {},
   "outputs": [
    {
     "output_type": "execute_result",
     "data": {
      "text/plain": [
       "        price  ratings_desc\n",
       "1       110.0           1.0\n",
       "4        66.0           1.0\n",
       "5        73.0           1.0\n",
       "6        65.0           1.0\n",
       "7       110.0           1.0\n",
       "...       ...           ...\n",
       "150925   20.0           1.0\n",
       "150926   27.0           1.0\n",
       "150927   20.0           1.0\n",
       "150928   52.0           1.0\n",
       "150929   15.0           1.0\n",
       "\n",
       "[73823 rows x 2 columns]"
      ],
      "text/html": "<div>\n<style scoped>\n    .dataframe tbody tr th:only-of-type {\n        vertical-align: middle;\n    }\n\n    .dataframe tbody tr th {\n        vertical-align: top;\n    }\n\n    .dataframe thead th {\n        text-align: right;\n    }\n</style>\n<table border=\"1\" class=\"dataframe\">\n  <thead>\n    <tr style=\"text-align: right;\">\n      <th></th>\n      <th>price</th>\n      <th>ratings_desc</th>\n    </tr>\n  </thead>\n  <tbody>\n    <tr>\n      <th>1</th>\n      <td>110.0</td>\n      <td>1.0</td>\n    </tr>\n    <tr>\n      <th>4</th>\n      <td>66.0</td>\n      <td>1.0</td>\n    </tr>\n    <tr>\n      <th>5</th>\n      <td>73.0</td>\n      <td>1.0</td>\n    </tr>\n    <tr>\n      <th>6</th>\n      <td>65.0</td>\n      <td>1.0</td>\n    </tr>\n    <tr>\n      <th>7</th>\n      <td>110.0</td>\n      <td>1.0</td>\n    </tr>\n    <tr>\n      <th>...</th>\n      <td>...</td>\n      <td>...</td>\n    </tr>\n    <tr>\n      <th>150925</th>\n      <td>20.0</td>\n      <td>1.0</td>\n    </tr>\n    <tr>\n      <th>150926</th>\n      <td>27.0</td>\n      <td>1.0</td>\n    </tr>\n    <tr>\n      <th>150927</th>\n      <td>20.0</td>\n      <td>1.0</td>\n    </tr>\n    <tr>\n      <th>150928</th>\n      <td>52.0</td>\n      <td>1.0</td>\n    </tr>\n    <tr>\n      <th>150929</th>\n      <td>15.0</td>\n      <td>1.0</td>\n    </tr>\n  </tbody>\n</table>\n<p>73823 rows × 2 columns</p>\n</div>"
     },
     "metadata": {},
     "execution_count": 14
    }
   ],
   "source": [
    "Other_df = wine_ml_2017[wine_ml_2017.country == 'Other']\n",
    "Other_df = Other_df[['price', 'ratings_desc']]\n",
    "Other_df"
   ]
  },
  {
   "source": [
    "### US Dataset"
   ],
   "cell_type": "markdown",
   "metadata": {}
  },
  {
   "source": [
    "## 1. Split the Data into Training and Testing"
   ],
   "cell_type": "markdown",
   "metadata": {}
  },
  {
   "cell_type": "code",
   "execution_count": 15,
   "metadata": {},
   "outputs": [],
   "source": [
    "# Create our features\n",
    "X = US_df.drop('ratings_desc', axis =1 )\n",
    "\n",
    "# Create our target\n",
    "y = US_df['ratings_desc']\n",
    "\n",
    "from sklearn.model_selection import train_test_split\n",
    "\n",
    "X_train, X_test, y_train, y_test = train_test_split(X, \n",
    "                                                    y, \n",
    "                                                    random_state=1, \n",
    "                                                    stratify=y)"
   ]
  },
  {
   "source": [
    "## 2. Create a Logistic Regression Model"
   ],
   "cell_type": "markdown",
   "metadata": {}
  },
  {
   "cell_type": "code",
   "execution_count": 16,
   "metadata": {},
   "outputs": [
    {
     "output_type": "execute_result",
     "data": {
      "text/plain": [
       "LogisticRegression(random_state=1)"
      ]
     },
     "metadata": {},
     "execution_count": 16
    }
   ],
   "source": [
    "from sklearn.linear_model import LogisticRegression\n",
    "classifier = LogisticRegression(solver='lbfgs', random_state=1)\n",
    "classifier"
   ]
  },
  {
   "source": [
    " ## 3. Fit (train) or model using the training data"
   ],
   "cell_type": "markdown",
   "metadata": {}
  },
  {
   "cell_type": "code",
   "execution_count": 17,
   "metadata": {},
   "outputs": [
    {
     "output_type": "execute_result",
     "data": {
      "text/plain": [
       "LogisticRegression(random_state=1)"
      ]
     },
     "metadata": {},
     "execution_count": 17
    }
   ],
   "source": [
    "# Train the data\n",
    "classifier.fit(X_train, y_train)"
   ]
  },
  {
   "source": [
    "## 4. Make Predictions"
   ],
   "cell_type": "markdown",
   "metadata": {}
  },
  {
   "cell_type": "code",
   "execution_count": 18,
   "metadata": {},
   "outputs": [
    {
     "output_type": "execute_result",
     "data": {
      "text/plain": [
       "        Prediction  Actual\n",
       "26686          1.0     1.0\n",
       "44600          0.0     0.0\n",
       "123987         0.0     1.0\n",
       "9914           0.0     0.0\n",
       "107489         0.0     1.0\n",
       "...            ...     ...\n",
       "15413          0.0     0.0\n",
       "84806          0.0     1.0\n",
       "86538          0.0     0.0\n",
       "12342          0.0     1.0\n",
       "144816         0.0     1.0\n",
       "\n",
       "[15454 rows x 2 columns]"
      ],
      "text/html": "<div>\n<style scoped>\n    .dataframe tbody tr th:only-of-type {\n        vertical-align: middle;\n    }\n\n    .dataframe tbody tr th {\n        vertical-align: top;\n    }\n\n    .dataframe thead th {\n        text-align: right;\n    }\n</style>\n<table border=\"1\" class=\"dataframe\">\n  <thead>\n    <tr style=\"text-align: right;\">\n      <th></th>\n      <th>Prediction</th>\n      <th>Actual</th>\n    </tr>\n  </thead>\n  <tbody>\n    <tr>\n      <th>26686</th>\n      <td>1.0</td>\n      <td>1.0</td>\n    </tr>\n    <tr>\n      <th>44600</th>\n      <td>0.0</td>\n      <td>0.0</td>\n    </tr>\n    <tr>\n      <th>123987</th>\n      <td>0.0</td>\n      <td>1.0</td>\n    </tr>\n    <tr>\n      <th>9914</th>\n      <td>0.0</td>\n      <td>0.0</td>\n    </tr>\n    <tr>\n      <th>107489</th>\n      <td>0.0</td>\n      <td>1.0</td>\n    </tr>\n    <tr>\n      <th>...</th>\n      <td>...</td>\n      <td>...</td>\n    </tr>\n    <tr>\n      <th>15413</th>\n      <td>0.0</td>\n      <td>0.0</td>\n    </tr>\n    <tr>\n      <th>84806</th>\n      <td>0.0</td>\n      <td>1.0</td>\n    </tr>\n    <tr>\n      <th>86538</th>\n      <td>0.0</td>\n      <td>0.0</td>\n    </tr>\n    <tr>\n      <th>12342</th>\n      <td>0.0</td>\n      <td>1.0</td>\n    </tr>\n    <tr>\n      <th>144816</th>\n      <td>0.0</td>\n      <td>1.0</td>\n    </tr>\n  </tbody>\n</table>\n<p>15454 rows × 2 columns</p>\n</div>"
     },
     "metadata": {},
     "execution_count": 18
    }
   ],
   "source": [
    "# Predict outcomes for test data set\n",
    "predictions = classifier.predict(X_test)\n",
    "pd.DataFrame({\"Prediction\": predictions, \"Actual\": y_test})"
   ]
  },
  {
   "source": [
    "## 5. Validate the model using the test data"
   ],
   "cell_type": "markdown",
   "metadata": {}
  },
  {
   "cell_type": "code",
   "execution_count": 19,
   "metadata": {},
   "outputs": [
    {
     "output_type": "execute_result",
     "data": {
      "text/plain": [
       "0.733790604374272"
      ]
     },
     "metadata": {},
     "execution_count": 19
    }
   ],
   "source": [
    "from sklearn.metrics import accuracy_score\n",
    "accuracy_score(y_test, predictions)"
   ]
  },
  {
   "cell_type": "code",
   "execution_count": 20,
   "metadata": {},
   "outputs": [
    {
     "output_type": "execute_result",
     "data": {
      "text/plain": [
       "array([[9433, 3193],\n",
       "       [ 921, 1907]])"
      ]
     },
     "metadata": {},
     "execution_count": 20
    }
   ],
   "source": [
    "from sklearn.metrics import confusion_matrix\n",
    "cm = confusion_matrix(predictions,y_test)\n",
    "cm"
   ]
  },
  {
   "cell_type": "code",
   "execution_count": 21,
   "metadata": {},
   "outputs": [
    {
     "output_type": "execute_result",
     "data": {
      "text/plain": [
       "                   Predicted good_wine  Predicted great_wine\n",
       "Actual good_wine                  9433                  3193\n",
       "Actual great_wine                  921                  1907"
      ],
      "text/html": "<div>\n<style scoped>\n    .dataframe tbody tr th:only-of-type {\n        vertical-align: middle;\n    }\n\n    .dataframe tbody tr th {\n        vertical-align: top;\n    }\n\n    .dataframe thead th {\n        text-align: right;\n    }\n</style>\n<table border=\"1\" class=\"dataframe\">\n  <thead>\n    <tr style=\"text-align: right;\">\n      <th></th>\n      <th>Predicted good_wine</th>\n      <th>Predicted great_wine</th>\n    </tr>\n  </thead>\n  <tbody>\n    <tr>\n      <th>Actual good_wine</th>\n      <td>9433</td>\n      <td>3193</td>\n    </tr>\n    <tr>\n      <th>Actual great_wine</th>\n      <td>921</td>\n      <td>1907</td>\n    </tr>\n  </tbody>\n</table>\n</div>"
     },
     "metadata": {},
     "execution_count": 21
    }
   ],
   "source": [
    "# Format for easier understanding\n",
    "cm_df = pd.DataFrame(cm)\n",
    "cm_df.columns = ['Predicted good_wine','Predicted great_wine']\n",
    "cm_df = cm_df.rename(index={0: 'Actual good_wine',1:'Actual great_wine'})\n",
    "cm_df"
   ]
  },
  {
   "cell_type": "code",
   "execution_count": 22,
   "metadata": {},
   "outputs": [
    {
     "output_type": "stream",
     "name": "stdout",
     "text": [
      "                   pre       rec       spe        f1       geo       iba       sup\n\n        0.0       0.75      0.91      0.37      0.82      0.58      0.36     10354\n        1.0       0.67      0.37      0.91      0.48      0.58      0.32      5100\n\navg / total       0.72      0.73      0.55      0.71      0.58      0.35     15454\n\n"
     ]
    }
   ],
   "source": [
    "from imblearn.metrics import classification_report_imbalanced\n",
    "print(classification_report_imbalanced(y_test,predictions))"
   ]
  },
  {
   "source": [
    "### Other Country DF"
   ],
   "cell_type": "markdown",
   "metadata": {}
  },
  {
   "cell_type": "code",
   "execution_count": 23,
   "metadata": {},
   "outputs": [],
   "source": [
    "# Create our features\n",
    "X = Other_df.drop('ratings_desc', axis =1 )\n",
    "\n",
    "# Create our target\n",
    "y = Other_df['ratings_desc']\n",
    "\n",
    "from sklearn.model_selection import train_test_split\n",
    "\n",
    "X_train, X_test, y_train, y_test = train_test_split(X, \n",
    "                                                    y, \n",
    "                                                    random_state=1, \n",
    "                                                    stratify=y)"
   ]
  },
  {
   "cell_type": "code",
   "execution_count": 24,
   "metadata": {},
   "outputs": [
    {
     "output_type": "execute_result",
     "data": {
      "text/plain": [
       "LogisticRegression(random_state=1)"
      ]
     },
     "metadata": {},
     "execution_count": 24
    }
   ],
   "source": [
    "from sklearn.linear_model import LogisticRegression\n",
    "classifier = LogisticRegression(solver='lbfgs', random_state=1)\n",
    "classifier"
   ]
  },
  {
   "cell_type": "code",
   "execution_count": 25,
   "metadata": {},
   "outputs": [
    {
     "output_type": "execute_result",
     "data": {
      "text/plain": [
       "LogisticRegression(random_state=1)"
      ]
     },
     "metadata": {},
     "execution_count": 25
    }
   ],
   "source": [
    "# Train the data\n",
    "classifier.fit(X_train, y_train)"
   ]
  },
  {
   "cell_type": "code",
   "execution_count": 26,
   "metadata": {},
   "outputs": [
    {
     "output_type": "execute_result",
     "data": {
      "text/plain": [
       "        Prediction  Actual\n",
       "148150         0.0     0.0\n",
       "24062          0.0     0.0\n",
       "120952         0.0     0.0\n",
       "86255          0.0     1.0\n",
       "13065          0.0     1.0\n",
       "...            ...     ...\n",
       "41019          0.0     0.0\n",
       "83506          0.0     0.0\n",
       "12637          0.0     1.0\n",
       "131241         1.0     1.0\n",
       "53036          0.0     0.0\n",
       "\n",
       "[18456 rows x 2 columns]"
      ],
      "text/html": "<div>\n<style scoped>\n    .dataframe tbody tr th:only-of-type {\n        vertical-align: middle;\n    }\n\n    .dataframe tbody tr th {\n        vertical-align: top;\n    }\n\n    .dataframe thead th {\n        text-align: right;\n    }\n</style>\n<table border=\"1\" class=\"dataframe\">\n  <thead>\n    <tr style=\"text-align: right;\">\n      <th></th>\n      <th>Prediction</th>\n      <th>Actual</th>\n    </tr>\n  </thead>\n  <tbody>\n    <tr>\n      <th>148150</th>\n      <td>0.0</td>\n      <td>0.0</td>\n    </tr>\n    <tr>\n      <th>24062</th>\n      <td>0.0</td>\n      <td>0.0</td>\n    </tr>\n    <tr>\n      <th>120952</th>\n      <td>0.0</td>\n      <td>0.0</td>\n    </tr>\n    <tr>\n      <th>86255</th>\n      <td>0.0</td>\n      <td>1.0</td>\n    </tr>\n    <tr>\n      <th>13065</th>\n      <td>0.0</td>\n      <td>1.0</td>\n    </tr>\n    <tr>\n      <th>...</th>\n      <td>...</td>\n      <td>...</td>\n    </tr>\n    <tr>\n      <th>41019</th>\n      <td>0.0</td>\n      <td>0.0</td>\n    </tr>\n    <tr>\n      <th>83506</th>\n      <td>0.0</td>\n      <td>0.0</td>\n    </tr>\n    <tr>\n      <th>12637</th>\n      <td>0.0</td>\n      <td>1.0</td>\n    </tr>\n    <tr>\n      <th>131241</th>\n      <td>1.0</td>\n      <td>1.0</td>\n    </tr>\n    <tr>\n      <th>53036</th>\n      <td>0.0</td>\n      <td>0.0</td>\n    </tr>\n  </tbody>\n</table>\n<p>18456 rows × 2 columns</p>\n</div>"
     },
     "metadata": {},
     "execution_count": 26
    }
   ],
   "source": [
    "# Predict outcomes for test data set\n",
    "predictions = classifier.predict(X_test)\n",
    "pd.DataFrame({\"Prediction\": predictions, \"Actual\": y_test})"
   ]
  },
  {
   "cell_type": "code",
   "execution_count": 27,
   "metadata": {},
   "outputs": [
    {
     "output_type": "execute_result",
     "data": {
      "text/plain": [
       "0.8017988729952319"
      ]
     },
     "metadata": {},
     "execution_count": 27
    }
   ],
   "source": [
    "from sklearn.metrics import accuracy_score\n",
    "accuracy_score(y_test, predictions)"
   ]
  },
  {
   "cell_type": "code",
   "execution_count": 28,
   "metadata": {},
   "outputs": [
    {
     "output_type": "execute_result",
     "data": {
      "text/plain": [
       "array([[12558,  2907],\n",
       "       [  751,  2240]])"
      ]
     },
     "metadata": {},
     "execution_count": 28
    }
   ],
   "source": [
    "from sklearn.metrics import confusion_matrix\n",
    "cm = confusion_matrix(predictions,y_test)\n",
    "cm"
   ]
  },
  {
   "cell_type": "code",
   "execution_count": 29,
   "metadata": {},
   "outputs": [
    {
     "output_type": "execute_result",
     "data": {
      "text/plain": [
       "                   Predicted good_wine  Predicted great_wine\n",
       "Actual good_wine                 12558                  2907\n",
       "Actual great_wine                  751                  2240"
      ],
      "text/html": "<div>\n<style scoped>\n    .dataframe tbody tr th:only-of-type {\n        vertical-align: middle;\n    }\n\n    .dataframe tbody tr th {\n        vertical-align: top;\n    }\n\n    .dataframe thead th {\n        text-align: right;\n    }\n</style>\n<table border=\"1\" class=\"dataframe\">\n  <thead>\n    <tr style=\"text-align: right;\">\n      <th></th>\n      <th>Predicted good_wine</th>\n      <th>Predicted great_wine</th>\n    </tr>\n  </thead>\n  <tbody>\n    <tr>\n      <th>Actual good_wine</th>\n      <td>12558</td>\n      <td>2907</td>\n    </tr>\n    <tr>\n      <th>Actual great_wine</th>\n      <td>751</td>\n      <td>2240</td>\n    </tr>\n  </tbody>\n</table>\n</div>"
     },
     "metadata": {},
     "execution_count": 29
    }
   ],
   "source": [
    "# Format for easier understanding\n",
    "cm_df = pd.DataFrame(cm)\n",
    "cm_df.columns = ['Predicted good_wine','Predicted great_wine']\n",
    "cm_df = cm_df.rename(index={0: 'Actual good_wine',1:'Actual great_wine'})\n",
    "cm_df"
   ]
  },
  {
   "cell_type": "code",
   "execution_count": 30,
   "metadata": {},
   "outputs": [
    {
     "output_type": "stream",
     "name": "stdout",
     "text": [
      "                   pre       rec       spe        f1       geo       iba       sup\n\n        0.0       0.81      0.94      0.44      0.87      0.64      0.43     13309\n        1.0       0.75      0.44      0.94      0.55      0.64      0.39      5147\n\navg / total       0.79      0.80      0.58      0.78      0.64      0.42     18456\n\n"
     ]
    }
   ],
   "source": [
    "from imblearn.metrics import classification_report_imbalanced\n",
    "print(classification_report_imbalanced(y_test,predictions))"
   ]
  },
  {
   "cell_type": "code",
   "execution_count": null,
   "metadata": {},
   "outputs": [],
   "source": []
  }
 ]
}