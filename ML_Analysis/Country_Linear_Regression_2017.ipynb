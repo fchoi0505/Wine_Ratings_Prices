{
 "metadata": {
  "language_info": {
   "codemirror_mode": {
    "name": "ipython",
    "version": 3
   },
   "file_extension": ".py",
   "mimetype": "text/x-python",
   "name": "python",
   "nbconvert_exporter": "python",
   "pygments_lexer": "ipython3",
   "version": "3.7.9"
  },
  "orig_nbformat": 2,
  "kernelspec": {
   "name": "python379jvsc74a57bd03bb9b2f2c02265c8cb6c0ec5df3b9595b15273f9ac0bdb66e32f52772716dc78",
   "display_name": "Python 3.7.9 64-bit ('mlenv': conda)"
  }
 },
 "nbformat": 4,
 "nbformat_minor": 2,
 "cells": [
  {
   "cell_type": "code",
   "execution_count": 24,
   "metadata": {},
   "outputs": [],
   "source": [
    "#import dependencies\n",
    "import numpy as np\n",
    "import pandas as pd\n",
    "import requests\n",
    "from pathlib import Path \n",
    "from sklearn.linear_model import LinearRegression\n",
    "from io import StringIO\n",
    "import seaborn as sns\n",
    "\n",
    "import matplotlib.pyplot as plt"
   ]
  },
  {
   "cell_type": "code",
   "execution_count": 25,
   "metadata": {},
   "outputs": [
    {
     "output_type": "execute_result",
     "data": {
      "text/plain": [
       "        Unnamed: 0 country                                        description  \\\n",
       "0                0      US  This tremendous 100% varietal wine hails from ...   \n",
       "1                1   Spain  Ripe aromas of fig, blackberry and cassis are ...   \n",
       "2                2      US  Mac Watson honors the memory of a wine once ma...   \n",
       "3                3      US  This spent 20 months in 30% new French oak, an...   \n",
       "4                4  France  This is the top wine from La Bégude, named aft...   \n",
       "...            ...     ...                                                ...   \n",
       "150925      150925   Italy  Many people feel Fiano represents southern Ita...   \n",
       "150926      150926  France  Offers an intriguing nose with ginger, lime an...   \n",
       "150927      150927   Italy  This classic example comes from a cru vineyard...   \n",
       "150928      150928  France  A perfect salmon shade, with scents of peaches...   \n",
       "150929      150929   Italy  More Pinot Grigios should taste like this. A r...   \n",
       "\n",
       "                                 designation  points  price  \\\n",
       "0                          Martha's Vineyard      96  235.0   \n",
       "1       Carodorum Selección Especial Reserva      96  110.0   \n",
       "2              Special Selected Late Harvest      96   90.0   \n",
       "3                                    Reserve      96   65.0   \n",
       "4                                 La Brûlade      95   66.0   \n",
       "...                                      ...     ...    ...   \n",
       "150925                                   NaN      91   20.0   \n",
       "150926                        Cuvée Prestige      91   27.0   \n",
       "150927                         Terre di Dora      91   20.0   \n",
       "150928                       Grand Brut Rosé      90   52.0   \n",
       "150929                                   NaN      90   15.0   \n",
       "\n",
       "                  province           region_1           region_2  \\\n",
       "0               California        Napa Valley               Napa   \n",
       "1           Northern Spain               Toro                NaN   \n",
       "2               California     Knights Valley             Sonoma   \n",
       "3                   Oregon  Willamette Valley  Willamette Valley   \n",
       "4                 Provence             Bandol                NaN   \n",
       "...                    ...                ...                ...   \n",
       "150925      Southern Italy  Fiano di Avellino                NaN   \n",
       "150926           Champagne          Champagne                NaN   \n",
       "150927      Southern Italy  Fiano di Avellino                NaN   \n",
       "150928           Champagne          Champagne                NaN   \n",
       "150929  Northeastern Italy         Alto Adige                NaN   \n",
       "\n",
       "                   variety                   winery  \n",
       "0       Cabernet Sauvignon                    Heitz  \n",
       "1            Tinta de Toro  Bodega Carmen Rodríguez  \n",
       "2          Sauvignon Blanc                 Macauley  \n",
       "3               Pinot Noir                    Ponzi  \n",
       "4       Provence red blend     Domaine de la Bégude  \n",
       "...                    ...                      ...  \n",
       "150925         White Blend    Feudi di San Gregorio  \n",
       "150926     Champagne Blend                H.Germain  \n",
       "150927         White Blend                Terredora  \n",
       "150928     Champagne Blend                   Gosset  \n",
       "150929        Pinot Grigio            Alois Lageder  \n",
       "\n",
       "[150930 rows x 11 columns]"
      ],
      "text/html": "<div>\n<style scoped>\n    .dataframe tbody tr th:only-of-type {\n        vertical-align: middle;\n    }\n\n    .dataframe tbody tr th {\n        vertical-align: top;\n    }\n\n    .dataframe thead th {\n        text-align: right;\n    }\n</style>\n<table border=\"1\" class=\"dataframe\">\n  <thead>\n    <tr style=\"text-align: right;\">\n      <th></th>\n      <th>Unnamed: 0</th>\n      <th>country</th>\n      <th>description</th>\n      <th>designation</th>\n      <th>points</th>\n      <th>price</th>\n      <th>province</th>\n      <th>region_1</th>\n      <th>region_2</th>\n      <th>variety</th>\n      <th>winery</th>\n    </tr>\n  </thead>\n  <tbody>\n    <tr>\n      <th>0</th>\n      <td>0</td>\n      <td>US</td>\n      <td>This tremendous 100% varietal wine hails from ...</td>\n      <td>Martha's Vineyard</td>\n      <td>96</td>\n      <td>235.0</td>\n      <td>California</td>\n      <td>Napa Valley</td>\n      <td>Napa</td>\n      <td>Cabernet Sauvignon</td>\n      <td>Heitz</td>\n    </tr>\n    <tr>\n      <th>1</th>\n      <td>1</td>\n      <td>Spain</td>\n      <td>Ripe aromas of fig, blackberry and cassis are ...</td>\n      <td>Carodorum Selección Especial Reserva</td>\n      <td>96</td>\n      <td>110.0</td>\n      <td>Northern Spain</td>\n      <td>Toro</td>\n      <td>NaN</td>\n      <td>Tinta de Toro</td>\n      <td>Bodega Carmen Rodríguez</td>\n    </tr>\n    <tr>\n      <th>2</th>\n      <td>2</td>\n      <td>US</td>\n      <td>Mac Watson honors the memory of a wine once ma...</td>\n      <td>Special Selected Late Harvest</td>\n      <td>96</td>\n      <td>90.0</td>\n      <td>California</td>\n      <td>Knights Valley</td>\n      <td>Sonoma</td>\n      <td>Sauvignon Blanc</td>\n      <td>Macauley</td>\n    </tr>\n    <tr>\n      <th>3</th>\n      <td>3</td>\n      <td>US</td>\n      <td>This spent 20 months in 30% new French oak, an...</td>\n      <td>Reserve</td>\n      <td>96</td>\n      <td>65.0</td>\n      <td>Oregon</td>\n      <td>Willamette Valley</td>\n      <td>Willamette Valley</td>\n      <td>Pinot Noir</td>\n      <td>Ponzi</td>\n    </tr>\n    <tr>\n      <th>4</th>\n      <td>4</td>\n      <td>France</td>\n      <td>This is the top wine from La Bégude, named aft...</td>\n      <td>La Brûlade</td>\n      <td>95</td>\n      <td>66.0</td>\n      <td>Provence</td>\n      <td>Bandol</td>\n      <td>NaN</td>\n      <td>Provence red blend</td>\n      <td>Domaine de la Bégude</td>\n    </tr>\n    <tr>\n      <th>...</th>\n      <td>...</td>\n      <td>...</td>\n      <td>...</td>\n      <td>...</td>\n      <td>...</td>\n      <td>...</td>\n      <td>...</td>\n      <td>...</td>\n      <td>...</td>\n      <td>...</td>\n      <td>...</td>\n    </tr>\n    <tr>\n      <th>150925</th>\n      <td>150925</td>\n      <td>Italy</td>\n      <td>Many people feel Fiano represents southern Ita...</td>\n      <td>NaN</td>\n      <td>91</td>\n      <td>20.0</td>\n      <td>Southern Italy</td>\n      <td>Fiano di Avellino</td>\n      <td>NaN</td>\n      <td>White Blend</td>\n      <td>Feudi di San Gregorio</td>\n    </tr>\n    <tr>\n      <th>150926</th>\n      <td>150926</td>\n      <td>France</td>\n      <td>Offers an intriguing nose with ginger, lime an...</td>\n      <td>Cuvée Prestige</td>\n      <td>91</td>\n      <td>27.0</td>\n      <td>Champagne</td>\n      <td>Champagne</td>\n      <td>NaN</td>\n      <td>Champagne Blend</td>\n      <td>H.Germain</td>\n    </tr>\n    <tr>\n      <th>150927</th>\n      <td>150927</td>\n      <td>Italy</td>\n      <td>This classic example comes from a cru vineyard...</td>\n      <td>Terre di Dora</td>\n      <td>91</td>\n      <td>20.0</td>\n      <td>Southern Italy</td>\n      <td>Fiano di Avellino</td>\n      <td>NaN</td>\n      <td>White Blend</td>\n      <td>Terredora</td>\n    </tr>\n    <tr>\n      <th>150928</th>\n      <td>150928</td>\n      <td>France</td>\n      <td>A perfect salmon shade, with scents of peaches...</td>\n      <td>Grand Brut Rosé</td>\n      <td>90</td>\n      <td>52.0</td>\n      <td>Champagne</td>\n      <td>Champagne</td>\n      <td>NaN</td>\n      <td>Champagne Blend</td>\n      <td>Gosset</td>\n    </tr>\n    <tr>\n      <th>150929</th>\n      <td>150929</td>\n      <td>Italy</td>\n      <td>More Pinot Grigios should taste like this. A r...</td>\n      <td>NaN</td>\n      <td>90</td>\n      <td>15.0</td>\n      <td>Northeastern Italy</td>\n      <td>Alto Adige</td>\n      <td>NaN</td>\n      <td>Pinot Grigio</td>\n      <td>Alois Lageder</td>\n    </tr>\n  </tbody>\n</table>\n<p>150930 rows × 11 columns</p>\n</div>"
     },
     "metadata": {},
     "execution_count": 25
    }
   ],
   "source": [
    "file_path = (\"Resources/winemag-data_first150k.csv\")\n",
    "df = pd.read_csv(file_path)\n",
    "df"
   ]
  },
  {
   "cell_type": "code",
   "execution_count": 26,
   "metadata": {},
   "outputs": [
    {
     "output_type": "execute_result",
     "data": {
      "text/plain": [
       "       country  points  price            province             variety\n",
       "0           US      96  235.0          California  Cabernet Sauvignon\n",
       "1        Spain      96  110.0      Northern Spain       Tinta de Toro\n",
       "2           US      96   90.0          California     Sauvignon Blanc\n",
       "3           US      96   65.0              Oregon          Pinot Noir\n",
       "4       France      95   66.0            Provence  Provence red blend\n",
       "...        ...     ...    ...                 ...                 ...\n",
       "150925   Italy      91   20.0      Southern Italy         White Blend\n",
       "150926  France      91   27.0           Champagne     Champagne Blend\n",
       "150927   Italy      91   20.0      Southern Italy         White Blend\n",
       "150928  France      90   52.0           Champagne     Champagne Blend\n",
       "150929   Italy      90   15.0  Northeastern Italy        Pinot Grigio\n",
       "\n",
       "[150930 rows x 5 columns]"
      ],
      "text/html": "<div>\n<style scoped>\n    .dataframe tbody tr th:only-of-type {\n        vertical-align: middle;\n    }\n\n    .dataframe tbody tr th {\n        vertical-align: top;\n    }\n\n    .dataframe thead th {\n        text-align: right;\n    }\n</style>\n<table border=\"1\" class=\"dataframe\">\n  <thead>\n    <tr style=\"text-align: right;\">\n      <th></th>\n      <th>country</th>\n      <th>points</th>\n      <th>price</th>\n      <th>province</th>\n      <th>variety</th>\n    </tr>\n  </thead>\n  <tbody>\n    <tr>\n      <th>0</th>\n      <td>US</td>\n      <td>96</td>\n      <td>235.0</td>\n      <td>California</td>\n      <td>Cabernet Sauvignon</td>\n    </tr>\n    <tr>\n      <th>1</th>\n      <td>Spain</td>\n      <td>96</td>\n      <td>110.0</td>\n      <td>Northern Spain</td>\n      <td>Tinta de Toro</td>\n    </tr>\n    <tr>\n      <th>2</th>\n      <td>US</td>\n      <td>96</td>\n      <td>90.0</td>\n      <td>California</td>\n      <td>Sauvignon Blanc</td>\n    </tr>\n    <tr>\n      <th>3</th>\n      <td>US</td>\n      <td>96</td>\n      <td>65.0</td>\n      <td>Oregon</td>\n      <td>Pinot Noir</td>\n    </tr>\n    <tr>\n      <th>4</th>\n      <td>France</td>\n      <td>95</td>\n      <td>66.0</td>\n      <td>Provence</td>\n      <td>Provence red blend</td>\n    </tr>\n    <tr>\n      <th>...</th>\n      <td>...</td>\n      <td>...</td>\n      <td>...</td>\n      <td>...</td>\n      <td>...</td>\n    </tr>\n    <tr>\n      <th>150925</th>\n      <td>Italy</td>\n      <td>91</td>\n      <td>20.0</td>\n      <td>Southern Italy</td>\n      <td>White Blend</td>\n    </tr>\n    <tr>\n      <th>150926</th>\n      <td>France</td>\n      <td>91</td>\n      <td>27.0</td>\n      <td>Champagne</td>\n      <td>Champagne Blend</td>\n    </tr>\n    <tr>\n      <th>150927</th>\n      <td>Italy</td>\n      <td>91</td>\n      <td>20.0</td>\n      <td>Southern Italy</td>\n      <td>White Blend</td>\n    </tr>\n    <tr>\n      <th>150928</th>\n      <td>France</td>\n      <td>90</td>\n      <td>52.0</td>\n      <td>Champagne</td>\n      <td>Champagne Blend</td>\n    </tr>\n    <tr>\n      <th>150929</th>\n      <td>Italy</td>\n      <td>90</td>\n      <td>15.0</td>\n      <td>Northeastern Italy</td>\n      <td>Pinot Grigio</td>\n    </tr>\n  </tbody>\n</table>\n<p>150930 rows × 5 columns</p>\n</div>"
     },
     "metadata": {},
     "execution_count": 26
    }
   ],
   "source": [
    "df = df.drop(['Unnamed: 0', 'description', 'designation', 'region_1', 'region_2', 'winery'], axis=1)\n",
    "df"
   ]
  },
  {
   "cell_type": "code",
   "execution_count": 27,
   "metadata": {},
   "outputs": [
    {
     "output_type": "execute_result",
     "data": {
      "text/plain": [
       "       country  points  price            province             variety\n",
       "0           US      96  235.0          California  Cabernet Sauvignon\n",
       "1        Spain      96  110.0      Northern Spain       Tinta de Toro\n",
       "2           US      96   90.0          California     Sauvignon Blanc\n",
       "3           US      96   65.0              Oregon          Pinot Noir\n",
       "4       France      95   66.0            Provence  Provence red blend\n",
       "...        ...     ...    ...                 ...                 ...\n",
       "150925   Italy      91   20.0      Southern Italy         White Blend\n",
       "150926  France      91   27.0           Champagne     Champagne Blend\n",
       "150927   Italy      91   20.0      Southern Italy         White Blend\n",
       "150928  France      90   52.0           Champagne     Champagne Blend\n",
       "150929   Italy      90   15.0  Northeastern Italy        Pinot Grigio\n",
       "\n",
       "[137230 rows x 5 columns]"
      ],
      "text/html": "<div>\n<style scoped>\n    .dataframe tbody tr th:only-of-type {\n        vertical-align: middle;\n    }\n\n    .dataframe tbody tr th {\n        vertical-align: top;\n    }\n\n    .dataframe thead th {\n        text-align: right;\n    }\n</style>\n<table border=\"1\" class=\"dataframe\">\n  <thead>\n    <tr style=\"text-align: right;\">\n      <th></th>\n      <th>country</th>\n      <th>points</th>\n      <th>price</th>\n      <th>province</th>\n      <th>variety</th>\n    </tr>\n  </thead>\n  <tbody>\n    <tr>\n      <th>0</th>\n      <td>US</td>\n      <td>96</td>\n      <td>235.0</td>\n      <td>California</td>\n      <td>Cabernet Sauvignon</td>\n    </tr>\n    <tr>\n      <th>1</th>\n      <td>Spain</td>\n      <td>96</td>\n      <td>110.0</td>\n      <td>Northern Spain</td>\n      <td>Tinta de Toro</td>\n    </tr>\n    <tr>\n      <th>2</th>\n      <td>US</td>\n      <td>96</td>\n      <td>90.0</td>\n      <td>California</td>\n      <td>Sauvignon Blanc</td>\n    </tr>\n    <tr>\n      <th>3</th>\n      <td>US</td>\n      <td>96</td>\n      <td>65.0</td>\n      <td>Oregon</td>\n      <td>Pinot Noir</td>\n    </tr>\n    <tr>\n      <th>4</th>\n      <td>France</td>\n      <td>95</td>\n      <td>66.0</td>\n      <td>Provence</td>\n      <td>Provence red blend</td>\n    </tr>\n    <tr>\n      <th>...</th>\n      <td>...</td>\n      <td>...</td>\n      <td>...</td>\n      <td>...</td>\n      <td>...</td>\n    </tr>\n    <tr>\n      <th>150925</th>\n      <td>Italy</td>\n      <td>91</td>\n      <td>20.0</td>\n      <td>Southern Italy</td>\n      <td>White Blend</td>\n    </tr>\n    <tr>\n      <th>150926</th>\n      <td>France</td>\n      <td>91</td>\n      <td>27.0</td>\n      <td>Champagne</td>\n      <td>Champagne Blend</td>\n    </tr>\n    <tr>\n      <th>150927</th>\n      <td>Italy</td>\n      <td>91</td>\n      <td>20.0</td>\n      <td>Southern Italy</td>\n      <td>White Blend</td>\n    </tr>\n    <tr>\n      <th>150928</th>\n      <td>France</td>\n      <td>90</td>\n      <td>52.0</td>\n      <td>Champagne</td>\n      <td>Champagne Blend</td>\n    </tr>\n    <tr>\n      <th>150929</th>\n      <td>Italy</td>\n      <td>90</td>\n      <td>15.0</td>\n      <td>Northeastern Italy</td>\n      <td>Pinot Grigio</td>\n    </tr>\n  </tbody>\n</table>\n<p>137230 rows × 5 columns</p>\n</div>"
     },
     "metadata": {},
     "execution_count": 27
    }
   ],
   "source": [
    "df = df.dropna()\n",
    "df"
   ]
  },
  {
   "cell_type": "code",
   "execution_count": 28,
   "metadata": {},
   "outputs": [
    {
     "output_type": "execute_result",
     "data": {
      "text/plain": [
       "country     0\n",
       "points      0\n",
       "price       0\n",
       "province    0\n",
       "variety     0\n",
       "dtype: int64"
      ]
     },
     "metadata": {},
     "execution_count": 28
    }
   ],
   "source": [
    "df.isnull().sum()"
   ]
  },
  {
   "cell_type": "code",
   "execution_count": 29,
   "metadata": {},
   "outputs": [],
   "source": [
    "point_mean_count = pd.DataFrame(df.groupby('country')['points'].mean())\n",
    "point_mean_count['count'] = pd.DataFrame(df.groupby('country')['points'].count())\n",
    "price_mean_count = pd.DataFrame(df.groupby('country')['price'].mean())"
   ]
  },
  {
   "cell_type": "code",
   "execution_count": 30,
   "metadata": {},
   "outputs": [
    {
     "output_type": "execute_result",
     "data": {
      "text/plain": [
       "                           points  count\n",
       "country                                 \n",
       "Albania                 88.000000      2\n",
       "Argentina               86.001074   5587\n",
       "Australia               87.881488   4894\n",
       "Austria                 89.190898   2483\n",
       "Bosnia and Herzegovina  84.750000      4\n",
       "Brazil                  83.240000     25\n",
       "Bulgaria                85.467532     77\n",
       "Canada                  88.221649    194\n",
       "Chile                   86.298127   5766\n",
       "China                   82.000000      3\n",
       "Croatia                 86.493976     83\n",
       "Cyprus                  85.870968     31\n",
       "Czech Republic          85.833333      6\n",
       "England                 92.750000      8\n",
       "France                  88.603314  14785\n",
       "Georgia                 85.511628     43\n",
       "Germany                 88.610567   2347\n",
       "Greece                  86.103211    872\n",
       "Hungary                 87.304348    230\n",
       "India                   87.625000      8\n",
       "Israel                  87.155738    610\n",
       "Italy                   88.445006  18784\n",
       "Japan                   85.000000      2\n",
       "Lebanon                 85.702703     37\n",
       "Lithuania               84.250000      8\n",
       "Luxembourg              87.000000      9\n",
       "Macedonia               84.812500     16\n",
       "Mexico                  84.761905     63\n",
       "Moldova                 84.718310     71\n",
       "Montenegro              82.000000      2\n",
       "Morocco                 88.166667     12\n",
       "New Zealand             87.542671   3070\n",
       "Portugal                88.176724   4176\n",
       "Romania                 84.920863    139\n",
       "Serbia                  87.714286     14\n",
       "Slovakia                83.666667      3\n",
       "Slovenia                88.172840     81\n",
       "South Africa            87.211444   2237\n",
       "South Korea             81.500000      4\n",
       "Spain                   86.638725   8160\n",
       "Switzerland             87.250000      4\n",
       "Turkey                  88.140000     50\n",
       "US                      87.817200  62139\n",
       "US-France               88.000000      1\n",
       "Ukraine                 84.600000      5\n",
       "Uruguay                 84.541176     85"
      ],
      "text/html": "<div>\n<style scoped>\n    .dataframe tbody tr th:only-of-type {\n        vertical-align: middle;\n    }\n\n    .dataframe tbody tr th {\n        vertical-align: top;\n    }\n\n    .dataframe thead th {\n        text-align: right;\n    }\n</style>\n<table border=\"1\" class=\"dataframe\">\n  <thead>\n    <tr style=\"text-align: right;\">\n      <th></th>\n      <th>points</th>\n      <th>count</th>\n    </tr>\n    <tr>\n      <th>country</th>\n      <th></th>\n      <th></th>\n    </tr>\n  </thead>\n  <tbody>\n    <tr>\n      <th>Albania</th>\n      <td>88.000000</td>\n      <td>2</td>\n    </tr>\n    <tr>\n      <th>Argentina</th>\n      <td>86.001074</td>\n      <td>5587</td>\n    </tr>\n    <tr>\n      <th>Australia</th>\n      <td>87.881488</td>\n      <td>4894</td>\n    </tr>\n    <tr>\n      <th>Austria</th>\n      <td>89.190898</td>\n      <td>2483</td>\n    </tr>\n    <tr>\n      <th>Bosnia and Herzegovina</th>\n      <td>84.750000</td>\n      <td>4</td>\n    </tr>\n    <tr>\n      <th>Brazil</th>\n      <td>83.240000</td>\n      <td>25</td>\n    </tr>\n    <tr>\n      <th>Bulgaria</th>\n      <td>85.467532</td>\n      <td>77</td>\n    </tr>\n    <tr>\n      <th>Canada</th>\n      <td>88.221649</td>\n      <td>194</td>\n    </tr>\n    <tr>\n      <th>Chile</th>\n      <td>86.298127</td>\n      <td>5766</td>\n    </tr>\n    <tr>\n      <th>China</th>\n      <td>82.000000</td>\n      <td>3</td>\n    </tr>\n    <tr>\n      <th>Croatia</th>\n      <td>86.493976</td>\n      <td>83</td>\n    </tr>\n    <tr>\n      <th>Cyprus</th>\n      <td>85.870968</td>\n      <td>31</td>\n    </tr>\n    <tr>\n      <th>Czech Republic</th>\n      <td>85.833333</td>\n      <td>6</td>\n    </tr>\n    <tr>\n      <th>England</th>\n      <td>92.750000</td>\n      <td>8</td>\n    </tr>\n    <tr>\n      <th>France</th>\n      <td>88.603314</td>\n      <td>14785</td>\n    </tr>\n    <tr>\n      <th>Georgia</th>\n      <td>85.511628</td>\n      <td>43</td>\n    </tr>\n    <tr>\n      <th>Germany</th>\n      <td>88.610567</td>\n      <td>2347</td>\n    </tr>\n    <tr>\n      <th>Greece</th>\n      <td>86.103211</td>\n      <td>872</td>\n    </tr>\n    <tr>\n      <th>Hungary</th>\n      <td>87.304348</td>\n      <td>230</td>\n    </tr>\n    <tr>\n      <th>India</th>\n      <td>87.625000</td>\n      <td>8</td>\n    </tr>\n    <tr>\n      <th>Israel</th>\n      <td>87.155738</td>\n      <td>610</td>\n    </tr>\n    <tr>\n      <th>Italy</th>\n      <td>88.445006</td>\n      <td>18784</td>\n    </tr>\n    <tr>\n      <th>Japan</th>\n      <td>85.000000</td>\n      <td>2</td>\n    </tr>\n    <tr>\n      <th>Lebanon</th>\n      <td>85.702703</td>\n      <td>37</td>\n    </tr>\n    <tr>\n      <th>Lithuania</th>\n      <td>84.250000</td>\n      <td>8</td>\n    </tr>\n    <tr>\n      <th>Luxembourg</th>\n      <td>87.000000</td>\n      <td>9</td>\n    </tr>\n    <tr>\n      <th>Macedonia</th>\n      <td>84.812500</td>\n      <td>16</td>\n    </tr>\n    <tr>\n      <th>Mexico</th>\n      <td>84.761905</td>\n      <td>63</td>\n    </tr>\n    <tr>\n      <th>Moldova</th>\n      <td>84.718310</td>\n      <td>71</td>\n    </tr>\n    <tr>\n      <th>Montenegro</th>\n      <td>82.000000</td>\n      <td>2</td>\n    </tr>\n    <tr>\n      <th>Morocco</th>\n      <td>88.166667</td>\n      <td>12</td>\n    </tr>\n    <tr>\n      <th>New Zealand</th>\n      <td>87.542671</td>\n      <td>3070</td>\n    </tr>\n    <tr>\n      <th>Portugal</th>\n      <td>88.176724</td>\n      <td>4176</td>\n    </tr>\n    <tr>\n      <th>Romania</th>\n      <td>84.920863</td>\n      <td>139</td>\n    </tr>\n    <tr>\n      <th>Serbia</th>\n      <td>87.714286</td>\n      <td>14</td>\n    </tr>\n    <tr>\n      <th>Slovakia</th>\n      <td>83.666667</td>\n      <td>3</td>\n    </tr>\n    <tr>\n      <th>Slovenia</th>\n      <td>88.172840</td>\n      <td>81</td>\n    </tr>\n    <tr>\n      <th>South Africa</th>\n      <td>87.211444</td>\n      <td>2237</td>\n    </tr>\n    <tr>\n      <th>South Korea</th>\n      <td>81.500000</td>\n      <td>4</td>\n    </tr>\n    <tr>\n      <th>Spain</th>\n      <td>86.638725</td>\n      <td>8160</td>\n    </tr>\n    <tr>\n      <th>Switzerland</th>\n      <td>87.250000</td>\n      <td>4</td>\n    </tr>\n    <tr>\n      <th>Turkey</th>\n      <td>88.140000</td>\n      <td>50</td>\n    </tr>\n    <tr>\n      <th>US</th>\n      <td>87.817200</td>\n      <td>62139</td>\n    </tr>\n    <tr>\n      <th>US-France</th>\n      <td>88.000000</td>\n      <td>1</td>\n    </tr>\n    <tr>\n      <th>Ukraine</th>\n      <td>84.600000</td>\n      <td>5</td>\n    </tr>\n    <tr>\n      <th>Uruguay</th>\n      <td>84.541176</td>\n      <td>85</td>\n    </tr>\n  </tbody>\n</table>\n</div>"
     },
     "metadata": {},
     "execution_count": 30
    }
   ],
   "source": [
    "point_mean_count"
   ]
  },
  {
   "cell_type": "code",
   "execution_count": 31,
   "metadata": {},
   "outputs": [
    {
     "output_type": "execute_result",
     "data": {
      "text/plain": [
       "                           points  count      price\n",
       "country                                            \n",
       "Albania                 88.000000      2  20.000000\n",
       "Argentina               86.001074   5587  20.794881\n",
       "Australia               87.881488   4894  31.258480\n",
       "Austria                 89.190898   2483  31.192106\n",
       "Bosnia and Herzegovina  84.750000      4  12.750000\n",
       "Brazil                  83.240000     25  19.920000\n",
       "Bulgaria                85.467532     77  11.545455\n",
       "Canada                  88.221649    194  34.628866\n",
       "Chile                   86.298127   5766  19.344780\n",
       "China                   82.000000      3  20.333333\n",
       "Croatia                 86.493976     83  23.108434\n",
       "Cyprus                  85.870968     31  15.483871\n",
       "Czech Republic          85.833333      6  18.000000\n",
       "England                 92.750000      8  47.500000\n",
       "France                  88.603314  14785  45.619885\n",
       "Georgia                 85.511628     43  18.581395\n",
       "Germany                 88.610567   2347  39.011078\n",
       "Greece                  86.103211    872  21.747706\n",
       "Hungary                 87.304348    230  44.204348\n",
       "India                   87.625000      8  13.875000\n",
       "Israel                  87.155738    610  31.304918\n",
       "Italy                   88.445006  18784  37.547913\n",
       "Japan                   85.000000      2  24.000000\n",
       "Lebanon                 85.702703     37  25.432432\n",
       "Lithuania               84.250000      8  10.000000\n",
       "Luxembourg              87.000000      9  40.666667\n",
       "Macedonia               84.812500     16  15.312500\n",
       "Mexico                  84.761905     63  29.095238\n",
       "Moldova                 84.718310     71  15.366197\n",
       "Montenegro              82.000000      2  10.000000\n",
       "Morocco                 88.166667     12  18.833333\n",
       "New Zealand             87.542671   3070  24.173290\n",
       "Portugal                88.176724   4176  26.332615\n",
       "Romania                 84.920863    139  16.395683\n",
       "Serbia                  87.714286     14  24.285714\n",
       "Slovakia                83.666667      3  15.333333\n",
       "Slovenia                88.172840     81  28.061728\n",
       "South Africa            87.211444   2237  21.130532\n",
       "South Korea             81.500000      4  13.500000\n",
       "Spain                   86.638725   8160  27.048529\n",
       "Switzerland             87.250000      4  26.500000\n",
       "Turkey                  88.140000     50  25.800000\n",
       "US                      87.817200  62139  33.653808\n",
       "US-France               88.000000      1  50.000000\n",
       "Ukraine                 84.600000      5  13.000000\n",
       "Uruguay                 84.541176     85  25.847059"
      ],
      "text/html": "<div>\n<style scoped>\n    .dataframe tbody tr th:only-of-type {\n        vertical-align: middle;\n    }\n\n    .dataframe tbody tr th {\n        vertical-align: top;\n    }\n\n    .dataframe thead th {\n        text-align: right;\n    }\n</style>\n<table border=\"1\" class=\"dataframe\">\n  <thead>\n    <tr style=\"text-align: right;\">\n      <th></th>\n      <th>points</th>\n      <th>count</th>\n      <th>price</th>\n    </tr>\n    <tr>\n      <th>country</th>\n      <th></th>\n      <th></th>\n      <th></th>\n    </tr>\n  </thead>\n  <tbody>\n    <tr>\n      <th>Albania</th>\n      <td>88.000000</td>\n      <td>2</td>\n      <td>20.000000</td>\n    </tr>\n    <tr>\n      <th>Argentina</th>\n      <td>86.001074</td>\n      <td>5587</td>\n      <td>20.794881</td>\n    </tr>\n    <tr>\n      <th>Australia</th>\n      <td>87.881488</td>\n      <td>4894</td>\n      <td>31.258480</td>\n    </tr>\n    <tr>\n      <th>Austria</th>\n      <td>89.190898</td>\n      <td>2483</td>\n      <td>31.192106</td>\n    </tr>\n    <tr>\n      <th>Bosnia and Herzegovina</th>\n      <td>84.750000</td>\n      <td>4</td>\n      <td>12.750000</td>\n    </tr>\n    <tr>\n      <th>Brazil</th>\n      <td>83.240000</td>\n      <td>25</td>\n      <td>19.920000</td>\n    </tr>\n    <tr>\n      <th>Bulgaria</th>\n      <td>85.467532</td>\n      <td>77</td>\n      <td>11.545455</td>\n    </tr>\n    <tr>\n      <th>Canada</th>\n      <td>88.221649</td>\n      <td>194</td>\n      <td>34.628866</td>\n    </tr>\n    <tr>\n      <th>Chile</th>\n      <td>86.298127</td>\n      <td>5766</td>\n      <td>19.344780</td>\n    </tr>\n    <tr>\n      <th>China</th>\n      <td>82.000000</td>\n      <td>3</td>\n      <td>20.333333</td>\n    </tr>\n    <tr>\n      <th>Croatia</th>\n      <td>86.493976</td>\n      <td>83</td>\n      <td>23.108434</td>\n    </tr>\n    <tr>\n      <th>Cyprus</th>\n      <td>85.870968</td>\n      <td>31</td>\n      <td>15.483871</td>\n    </tr>\n    <tr>\n      <th>Czech Republic</th>\n      <td>85.833333</td>\n      <td>6</td>\n      <td>18.000000</td>\n    </tr>\n    <tr>\n      <th>England</th>\n      <td>92.750000</td>\n      <td>8</td>\n      <td>47.500000</td>\n    </tr>\n    <tr>\n      <th>France</th>\n      <td>88.603314</td>\n      <td>14785</td>\n      <td>45.619885</td>\n    </tr>\n    <tr>\n      <th>Georgia</th>\n      <td>85.511628</td>\n      <td>43</td>\n      <td>18.581395</td>\n    </tr>\n    <tr>\n      <th>Germany</th>\n      <td>88.610567</td>\n      <td>2347</td>\n      <td>39.011078</td>\n    </tr>\n    <tr>\n      <th>Greece</th>\n      <td>86.103211</td>\n      <td>872</td>\n      <td>21.747706</td>\n    </tr>\n    <tr>\n      <th>Hungary</th>\n      <td>87.304348</td>\n      <td>230</td>\n      <td>44.204348</td>\n    </tr>\n    <tr>\n      <th>India</th>\n      <td>87.625000</td>\n      <td>8</td>\n      <td>13.875000</td>\n    </tr>\n    <tr>\n      <th>Israel</th>\n      <td>87.155738</td>\n      <td>610</td>\n      <td>31.304918</td>\n    </tr>\n    <tr>\n      <th>Italy</th>\n      <td>88.445006</td>\n      <td>18784</td>\n      <td>37.547913</td>\n    </tr>\n    <tr>\n      <th>Japan</th>\n      <td>85.000000</td>\n      <td>2</td>\n      <td>24.000000</td>\n    </tr>\n    <tr>\n      <th>Lebanon</th>\n      <td>85.702703</td>\n      <td>37</td>\n      <td>25.432432</td>\n    </tr>\n    <tr>\n      <th>Lithuania</th>\n      <td>84.250000</td>\n      <td>8</td>\n      <td>10.000000</td>\n    </tr>\n    <tr>\n      <th>Luxembourg</th>\n      <td>87.000000</td>\n      <td>9</td>\n      <td>40.666667</td>\n    </tr>\n    <tr>\n      <th>Macedonia</th>\n      <td>84.812500</td>\n      <td>16</td>\n      <td>15.312500</td>\n    </tr>\n    <tr>\n      <th>Mexico</th>\n      <td>84.761905</td>\n      <td>63</td>\n      <td>29.095238</td>\n    </tr>\n    <tr>\n      <th>Moldova</th>\n      <td>84.718310</td>\n      <td>71</td>\n      <td>15.366197</td>\n    </tr>\n    <tr>\n      <th>Montenegro</th>\n      <td>82.000000</td>\n      <td>2</td>\n      <td>10.000000</td>\n    </tr>\n    <tr>\n      <th>Morocco</th>\n      <td>88.166667</td>\n      <td>12</td>\n      <td>18.833333</td>\n    </tr>\n    <tr>\n      <th>New Zealand</th>\n      <td>87.542671</td>\n      <td>3070</td>\n      <td>24.173290</td>\n    </tr>\n    <tr>\n      <th>Portugal</th>\n      <td>88.176724</td>\n      <td>4176</td>\n      <td>26.332615</td>\n    </tr>\n    <tr>\n      <th>Romania</th>\n      <td>84.920863</td>\n      <td>139</td>\n      <td>16.395683</td>\n    </tr>\n    <tr>\n      <th>Serbia</th>\n      <td>87.714286</td>\n      <td>14</td>\n      <td>24.285714</td>\n    </tr>\n    <tr>\n      <th>Slovakia</th>\n      <td>83.666667</td>\n      <td>3</td>\n      <td>15.333333</td>\n    </tr>\n    <tr>\n      <th>Slovenia</th>\n      <td>88.172840</td>\n      <td>81</td>\n      <td>28.061728</td>\n    </tr>\n    <tr>\n      <th>South Africa</th>\n      <td>87.211444</td>\n      <td>2237</td>\n      <td>21.130532</td>\n    </tr>\n    <tr>\n      <th>South Korea</th>\n      <td>81.500000</td>\n      <td>4</td>\n      <td>13.500000</td>\n    </tr>\n    <tr>\n      <th>Spain</th>\n      <td>86.638725</td>\n      <td>8160</td>\n      <td>27.048529</td>\n    </tr>\n    <tr>\n      <th>Switzerland</th>\n      <td>87.250000</td>\n      <td>4</td>\n      <td>26.500000</td>\n    </tr>\n    <tr>\n      <th>Turkey</th>\n      <td>88.140000</td>\n      <td>50</td>\n      <td>25.800000</td>\n    </tr>\n    <tr>\n      <th>US</th>\n      <td>87.817200</td>\n      <td>62139</td>\n      <td>33.653808</td>\n    </tr>\n    <tr>\n      <th>US-France</th>\n      <td>88.000000</td>\n      <td>1</td>\n      <td>50.000000</td>\n    </tr>\n    <tr>\n      <th>Ukraine</th>\n      <td>84.600000</td>\n      <td>5</td>\n      <td>13.000000</td>\n    </tr>\n    <tr>\n      <th>Uruguay</th>\n      <td>84.541176</td>\n      <td>85</td>\n      <td>25.847059</td>\n    </tr>\n  </tbody>\n</table>\n</div>"
     },
     "metadata": {},
     "execution_count": 31
    }
   ],
   "source": [
    "wine_merge_df = pd.merge(left=point_mean_count, right=price_mean_count, left_on='country', right_on='country')\n",
    "wine_merge_df"
   ]
  },
  {
   "cell_type": "code",
   "execution_count": 32,
   "metadata": {},
   "outputs": [
    {
     "output_type": "execute_result",
     "data": {
      "text/plain": [
       "          points         count      price\n",
       "count  46.000000     46.000000  46.000000\n",
       "mean   86.383968   2983.260870  24.728720\n",
       "std     2.130480   9687.475861  10.273404\n",
       "min    81.500000      1.000000  10.000000\n",
       "25%    84.839591      8.000000  16.796763\n",
       "50%    86.566351     56.500000  23.554217\n",
       "75%    87.970372   1895.750000  30.667889\n",
       "max    92.750000  62139.000000  50.000000"
      ],
      "text/html": "<div>\n<style scoped>\n    .dataframe tbody tr th:only-of-type {\n        vertical-align: middle;\n    }\n\n    .dataframe tbody tr th {\n        vertical-align: top;\n    }\n\n    .dataframe thead th {\n        text-align: right;\n    }\n</style>\n<table border=\"1\" class=\"dataframe\">\n  <thead>\n    <tr style=\"text-align: right;\">\n      <th></th>\n      <th>points</th>\n      <th>count</th>\n      <th>price</th>\n    </tr>\n  </thead>\n  <tbody>\n    <tr>\n      <th>count</th>\n      <td>46.000000</td>\n      <td>46.000000</td>\n      <td>46.000000</td>\n    </tr>\n    <tr>\n      <th>mean</th>\n      <td>86.383968</td>\n      <td>2983.260870</td>\n      <td>24.728720</td>\n    </tr>\n    <tr>\n      <th>std</th>\n      <td>2.130480</td>\n      <td>9687.475861</td>\n      <td>10.273404</td>\n    </tr>\n    <tr>\n      <th>min</th>\n      <td>81.500000</td>\n      <td>1.000000</td>\n      <td>10.000000</td>\n    </tr>\n    <tr>\n      <th>25%</th>\n      <td>84.839591</td>\n      <td>8.000000</td>\n      <td>16.796763</td>\n    </tr>\n    <tr>\n      <th>50%</th>\n      <td>86.566351</td>\n      <td>56.500000</td>\n      <td>23.554217</td>\n    </tr>\n    <tr>\n      <th>75%</th>\n      <td>87.970372</td>\n      <td>1895.750000</td>\n      <td>30.667889</td>\n    </tr>\n    <tr>\n      <th>max</th>\n      <td>92.750000</td>\n      <td>62139.000000</td>\n      <td>50.000000</td>\n    </tr>\n  </tbody>\n</table>\n</div>"
     },
     "metadata": {},
     "execution_count": 32
    }
   ],
   "source": [
    "wine_merge_df.describe()"
   ]
  },
  {
   "cell_type": "code",
   "execution_count": 33,
   "metadata": {},
   "outputs": [
    {
     "output_type": "execute_result",
     "data": {
      "text/plain": [
       "                 points  count      price\n",
       "country                                  \n",
       "Argentina     86.001074   5587  20.794881\n",
       "Australia     87.881488   4894  31.258480\n",
       "Austria       89.190898   2483  31.192106\n",
       "Bulgaria      85.467532     77  11.545455\n",
       "Canada        88.221649    194  34.628866\n",
       "Chile         86.298127   5766  19.344780\n",
       "Croatia       86.493976     83  23.108434\n",
       "Cyprus        85.870968     31  15.483871\n",
       "France        88.603314  14785  45.619885\n",
       "Georgia       85.511628     43  18.581395\n",
       "Germany       88.610567   2347  39.011078\n",
       "Greece        86.103211    872  21.747706\n",
       "Hungary       87.304348    230  44.204348\n",
       "Israel        87.155738    610  31.304918\n",
       "Italy         88.445006  18784  37.547913\n",
       "Lebanon       85.702703     37  25.432432\n",
       "Mexico        84.761905     63  29.095238\n",
       "Moldova       84.718310     71  15.366197\n",
       "New Zealand   87.542671   3070  24.173290\n",
       "Portugal      88.176724   4176  26.332615\n",
       "Romania       84.920863    139  16.395683\n",
       "Slovenia      88.172840     81  28.061728\n",
       "South Africa  87.211444   2237  21.130532\n",
       "Spain         86.638725   8160  27.048529\n",
       "Turkey        88.140000     50  25.800000\n",
       "US            87.817200  62139  33.653808\n",
       "Uruguay       84.541176     85  25.847059"
      ],
      "text/html": "<div>\n<style scoped>\n    .dataframe tbody tr th:only-of-type {\n        vertical-align: middle;\n    }\n\n    .dataframe tbody tr th {\n        vertical-align: top;\n    }\n\n    .dataframe thead th {\n        text-align: right;\n    }\n</style>\n<table border=\"1\" class=\"dataframe\">\n  <thead>\n    <tr style=\"text-align: right;\">\n      <th></th>\n      <th>points</th>\n      <th>count</th>\n      <th>price</th>\n    </tr>\n    <tr>\n      <th>country</th>\n      <th></th>\n      <th></th>\n      <th></th>\n    </tr>\n  </thead>\n  <tbody>\n    <tr>\n      <th>Argentina</th>\n      <td>86.001074</td>\n      <td>5587</td>\n      <td>20.794881</td>\n    </tr>\n    <tr>\n      <th>Australia</th>\n      <td>87.881488</td>\n      <td>4894</td>\n      <td>31.258480</td>\n    </tr>\n    <tr>\n      <th>Austria</th>\n      <td>89.190898</td>\n      <td>2483</td>\n      <td>31.192106</td>\n    </tr>\n    <tr>\n      <th>Bulgaria</th>\n      <td>85.467532</td>\n      <td>77</td>\n      <td>11.545455</td>\n    </tr>\n    <tr>\n      <th>Canada</th>\n      <td>88.221649</td>\n      <td>194</td>\n      <td>34.628866</td>\n    </tr>\n    <tr>\n      <th>Chile</th>\n      <td>86.298127</td>\n      <td>5766</td>\n      <td>19.344780</td>\n    </tr>\n    <tr>\n      <th>Croatia</th>\n      <td>86.493976</td>\n      <td>83</td>\n      <td>23.108434</td>\n    </tr>\n    <tr>\n      <th>Cyprus</th>\n      <td>85.870968</td>\n      <td>31</td>\n      <td>15.483871</td>\n    </tr>\n    <tr>\n      <th>France</th>\n      <td>88.603314</td>\n      <td>14785</td>\n      <td>45.619885</td>\n    </tr>\n    <tr>\n      <th>Georgia</th>\n      <td>85.511628</td>\n      <td>43</td>\n      <td>18.581395</td>\n    </tr>\n    <tr>\n      <th>Germany</th>\n      <td>88.610567</td>\n      <td>2347</td>\n      <td>39.011078</td>\n    </tr>\n    <tr>\n      <th>Greece</th>\n      <td>86.103211</td>\n      <td>872</td>\n      <td>21.747706</td>\n    </tr>\n    <tr>\n      <th>Hungary</th>\n      <td>87.304348</td>\n      <td>230</td>\n      <td>44.204348</td>\n    </tr>\n    <tr>\n      <th>Israel</th>\n      <td>87.155738</td>\n      <td>610</td>\n      <td>31.304918</td>\n    </tr>\n    <tr>\n      <th>Italy</th>\n      <td>88.445006</td>\n      <td>18784</td>\n      <td>37.547913</td>\n    </tr>\n    <tr>\n      <th>Lebanon</th>\n      <td>85.702703</td>\n      <td>37</td>\n      <td>25.432432</td>\n    </tr>\n    <tr>\n      <th>Mexico</th>\n      <td>84.761905</td>\n      <td>63</td>\n      <td>29.095238</td>\n    </tr>\n    <tr>\n      <th>Moldova</th>\n      <td>84.718310</td>\n      <td>71</td>\n      <td>15.366197</td>\n    </tr>\n    <tr>\n      <th>New Zealand</th>\n      <td>87.542671</td>\n      <td>3070</td>\n      <td>24.173290</td>\n    </tr>\n    <tr>\n      <th>Portugal</th>\n      <td>88.176724</td>\n      <td>4176</td>\n      <td>26.332615</td>\n    </tr>\n    <tr>\n      <th>Romania</th>\n      <td>84.920863</td>\n      <td>139</td>\n      <td>16.395683</td>\n    </tr>\n    <tr>\n      <th>Slovenia</th>\n      <td>88.172840</td>\n      <td>81</td>\n      <td>28.061728</td>\n    </tr>\n    <tr>\n      <th>South Africa</th>\n      <td>87.211444</td>\n      <td>2237</td>\n      <td>21.130532</td>\n    </tr>\n    <tr>\n      <th>Spain</th>\n      <td>86.638725</td>\n      <td>8160</td>\n      <td>27.048529</td>\n    </tr>\n    <tr>\n      <th>Turkey</th>\n      <td>88.140000</td>\n      <td>50</td>\n      <td>25.800000</td>\n    </tr>\n    <tr>\n      <th>US</th>\n      <td>87.817200</td>\n      <td>62139</td>\n      <td>33.653808</td>\n    </tr>\n    <tr>\n      <th>Uruguay</th>\n      <td>84.541176</td>\n      <td>85</td>\n      <td>25.847059</td>\n    </tr>\n  </tbody>\n</table>\n</div>"
     },
     "metadata": {},
     "execution_count": 33
    }
   ],
   "source": [
    "wine_country_df = wine_merge_df[wine_merge_df['count'] >= 30]\n",
    "wine_country_df"
   ]
  },
  {
   "cell_type": "code",
   "execution_count": 34,
   "metadata": {},
   "outputs": [
    {
     "output_type": "execute_result",
     "data": {
      "text/plain": [
       "                 points      price\n",
       "country                           \n",
       "Argentina     86.001074  20.794881\n",
       "Australia     87.881488  31.258480\n",
       "Austria       89.190898  31.192106\n",
       "Bulgaria      85.467532  11.545455\n",
       "Canada        88.221649  34.628866\n",
       "Chile         86.298127  19.344780\n",
       "Croatia       86.493976  23.108434\n",
       "Cyprus        85.870968  15.483871\n",
       "France        88.603314  45.619885\n",
       "Georgia       85.511628  18.581395\n",
       "Germany       88.610567  39.011078\n",
       "Greece        86.103211  21.747706\n",
       "Hungary       87.304348  44.204348\n",
       "Israel        87.155738  31.304918\n",
       "Italy         88.445006  37.547913\n",
       "Lebanon       85.702703  25.432432\n",
       "Mexico        84.761905  29.095238\n",
       "Moldova       84.718310  15.366197\n",
       "New Zealand   87.542671  24.173290\n",
       "Portugal      88.176724  26.332615\n",
       "Romania       84.920863  16.395683\n",
       "Slovenia      88.172840  28.061728\n",
       "South Africa  87.211444  21.130532\n",
       "Spain         86.638725  27.048529\n",
       "Turkey        88.140000  25.800000\n",
       "US            87.817200  33.653808\n",
       "Uruguay       84.541176  25.847059"
      ],
      "text/html": "<div>\n<style scoped>\n    .dataframe tbody tr th:only-of-type {\n        vertical-align: middle;\n    }\n\n    .dataframe tbody tr th {\n        vertical-align: top;\n    }\n\n    .dataframe thead th {\n        text-align: right;\n    }\n</style>\n<table border=\"1\" class=\"dataframe\">\n  <thead>\n    <tr style=\"text-align: right;\">\n      <th></th>\n      <th>points</th>\n      <th>price</th>\n    </tr>\n    <tr>\n      <th>country</th>\n      <th></th>\n      <th></th>\n    </tr>\n  </thead>\n  <tbody>\n    <tr>\n      <th>Argentina</th>\n      <td>86.001074</td>\n      <td>20.794881</td>\n    </tr>\n    <tr>\n      <th>Australia</th>\n      <td>87.881488</td>\n      <td>31.258480</td>\n    </tr>\n    <tr>\n      <th>Austria</th>\n      <td>89.190898</td>\n      <td>31.192106</td>\n    </tr>\n    <tr>\n      <th>Bulgaria</th>\n      <td>85.467532</td>\n      <td>11.545455</td>\n    </tr>\n    <tr>\n      <th>Canada</th>\n      <td>88.221649</td>\n      <td>34.628866</td>\n    </tr>\n    <tr>\n      <th>Chile</th>\n      <td>86.298127</td>\n      <td>19.344780</td>\n    </tr>\n    <tr>\n      <th>Croatia</th>\n      <td>86.493976</td>\n      <td>23.108434</td>\n    </tr>\n    <tr>\n      <th>Cyprus</th>\n      <td>85.870968</td>\n      <td>15.483871</td>\n    </tr>\n    <tr>\n      <th>France</th>\n      <td>88.603314</td>\n      <td>45.619885</td>\n    </tr>\n    <tr>\n      <th>Georgia</th>\n      <td>85.511628</td>\n      <td>18.581395</td>\n    </tr>\n    <tr>\n      <th>Germany</th>\n      <td>88.610567</td>\n      <td>39.011078</td>\n    </tr>\n    <tr>\n      <th>Greece</th>\n      <td>86.103211</td>\n      <td>21.747706</td>\n    </tr>\n    <tr>\n      <th>Hungary</th>\n      <td>87.304348</td>\n      <td>44.204348</td>\n    </tr>\n    <tr>\n      <th>Israel</th>\n      <td>87.155738</td>\n      <td>31.304918</td>\n    </tr>\n    <tr>\n      <th>Italy</th>\n      <td>88.445006</td>\n      <td>37.547913</td>\n    </tr>\n    <tr>\n      <th>Lebanon</th>\n      <td>85.702703</td>\n      <td>25.432432</td>\n    </tr>\n    <tr>\n      <th>Mexico</th>\n      <td>84.761905</td>\n      <td>29.095238</td>\n    </tr>\n    <tr>\n      <th>Moldova</th>\n      <td>84.718310</td>\n      <td>15.366197</td>\n    </tr>\n    <tr>\n      <th>New Zealand</th>\n      <td>87.542671</td>\n      <td>24.173290</td>\n    </tr>\n    <tr>\n      <th>Portugal</th>\n      <td>88.176724</td>\n      <td>26.332615</td>\n    </tr>\n    <tr>\n      <th>Romania</th>\n      <td>84.920863</td>\n      <td>16.395683</td>\n    </tr>\n    <tr>\n      <th>Slovenia</th>\n      <td>88.172840</td>\n      <td>28.061728</td>\n    </tr>\n    <tr>\n      <th>South Africa</th>\n      <td>87.211444</td>\n      <td>21.130532</td>\n    </tr>\n    <tr>\n      <th>Spain</th>\n      <td>86.638725</td>\n      <td>27.048529</td>\n    </tr>\n    <tr>\n      <th>Turkey</th>\n      <td>88.140000</td>\n      <td>25.800000</td>\n    </tr>\n    <tr>\n      <th>US</th>\n      <td>87.817200</td>\n      <td>33.653808</td>\n    </tr>\n    <tr>\n      <th>Uruguay</th>\n      <td>84.541176</td>\n      <td>25.847059</td>\n    </tr>\n  </tbody>\n</table>\n</div>"
     },
     "metadata": {},
     "execution_count": 34
    }
   ],
   "source": [
    "wine_country_df = wine_country_df.drop(['count'], axis=1)\n",
    "wine_country_df"
   ]
  },
  {
   "cell_type": "code",
   "execution_count": 48,
   "metadata": {},
   "outputs": [
    {
     "output_type": "display_data",
     "data": {
      "text/plain": "<Figure size 432x288 with 1 Axes>",
      "image/svg+xml": "<?xml version=\"1.0\" encoding=\"utf-8\" standalone=\"no\"?>\n<!DOCTYPE svg PUBLIC \"-//W3C//DTD SVG 1.1//EN\"\n  \"http://www.w3.org/Graphics/SVG/1.1/DTD/svg11.dtd\">\n<!-- Created with matplotlib (https://matplotlib.org/) -->\n<svg height=\"262.19625pt\" version=\"1.1\" viewBox=\"0 0 382.603125 262.19625\" width=\"382.603125pt\" xmlns=\"http://www.w3.org/2000/svg\" xmlns:xlink=\"http://www.w3.org/1999/xlink\">\n <metadata>\n  <rdf:RDF xmlns:cc=\"http://creativecommons.org/ns#\" xmlns:dc=\"http://purl.org/dc/elements/1.1/\" xmlns:rdf=\"http://www.w3.org/1999/02/22-rdf-syntax-ns#\">\n   <cc:Work>\n    <dc:type rdf:resource=\"http://purl.org/dc/dcmitype/StillImage\"/>\n    <dc:date>2021-04-19T20:52:17.999362</dc:date>\n    <dc:format>image/svg+xml</dc:format>\n    <dc:creator>\n     <cc:Agent>\n      <dc:title>Matplotlib v3.3.2, https://matplotlib.org/</dc:title>\n     </cc:Agent>\n    </dc:creator>\n   </cc:Work>\n  </rdf:RDF>\n </metadata>\n <defs>\n  <style type=\"text/css\">*{stroke-linecap:butt;stroke-linejoin:round;}</style>\n </defs>\n <g id=\"figure_1\">\n  <g id=\"patch_1\">\n   <path d=\"M 0 262.19625 \nL 382.603125 262.19625 \nL 382.603125 0 \nL 0 0 \nz\n\" style=\"fill:none;\"/>\n  </g>\n  <g id=\"axes_1\">\n   <g id=\"patch_2\">\n    <path d=\"M 40.603125 224.64 \nL 375.403125 224.64 \nL 375.403125 7.2 \nL 40.603125 7.2 \nz\n\" style=\"fill:#ffffff;\"/>\n   </g>\n   <g id=\"PathCollection_1\">\n    <defs>\n     <path d=\"M 0 3 \nC 0.795609 3 1.55874 2.683901 2.12132 2.12132 \nC 2.683901 1.55874 3 0.795609 3 0 \nC 3 -0.795609 2.683901 -1.55874 2.12132 -2.12132 \nC 1.55874 -2.683901 0.795609 -3 0 -3 \nC -0.795609 -3 -1.55874 -2.683901 -2.12132 -2.12132 \nC -2.683901 -1.55874 -3 -0.795609 -3 0 \nC -3 0.795609 -2.683901 1.55874 -2.12132 2.12132 \nC -1.55874 2.683901 -0.795609 3 0 3 \nz\n\" id=\"m7e3b793808\" style=\"stroke:#1f77b4;\"/>\n    </defs>\n    <g clip-path=\"url(#p6123acaf8b)\">\n     <use style=\"fill:#1f77b4;stroke:#1f77b4;\" x=\"138.440122\" xlink:href=\"#m7e3b793808\" y=\"152.692022\"/>\n     <use style=\"fill:#1f77b4;stroke:#1f77b4;\" x=\"231.90431\" xlink:href=\"#m7e3b793808\" y=\"72.750358\"/>\n     <use style=\"fill:#1f77b4;stroke:#1f77b4;\" x=\"231.311441\" xlink:href=\"#m7e3b793808\" y=\"17.083636\"/>\n     <use style=\"fill:#1f77b4;stroke:#1f77b4;\" x=\"55.821307\" xlink:href=\"#m7e3b793808\" y=\"175.374368\"/>\n     <use style=\"fill:#1f77b4;stroke:#1f77b4;\" x=\"262.00967\" xlink:href=\"#m7e3b793808\" y=\"58.289118\"/>\n     <use style=\"fill:#1f77b4;stroke:#1f77b4;\" x=\"125.487357\" xlink:href=\"#m7e3b793808\" y=\"140.063464\"/>\n     <use style=\"fill:#1f77b4;stroke:#1f77b4;\" x=\"159.10551\" xlink:href=\"#m7e3b793808\" y=\"131.737375\"/>\n     <use style=\"fill:#1f77b4;stroke:#1f77b4;\" x=\"91.000493\" xlink:href=\"#m7e3b793808\" y=\"158.223201\"/>\n     <use style=\"fill:#1f77b4;stroke:#1f77b4;\" x=\"360.184943\" xlink:href=\"#m7e3b793808\" y=\"42.06348\"/>\n     <use style=\"fill:#1f77b4;stroke:#1f77b4;\" x=\"118.668565\" xlink:href=\"#m7e3b793808\" y=\"173.499747\"/>\n     <use style=\"fill:#1f77b4;stroke:#1f77b4;\" x=\"301.152979\" xlink:href=\"#m7e3b793808\" y=\"41.755155\"/>\n     <use style=\"fill:#1f77b4;stroke:#1f77b4;\" x=\"146.951061\" xlink:href=\"#m7e3b793808\" y=\"148.349888\"/>\n     <use style=\"fill:#1f77b4;stroke:#1f77b4;\" x=\"347.540915\" xlink:href=\"#m7e3b793808\" y=\"97.286188\"/>\n     <use style=\"fill:#1f77b4;stroke:#1f77b4;\" x=\"232.319111\" xlink:href=\"#m7e3b793808\" y=\"103.604022\"/>\n     <use style=\"fill:#1f77b4;stroke:#1f77b4;\" x=\"288.083526\" xlink:href=\"#m7e3b793808\" y=\"48.793588\"/>\n     <use style=\"fill:#1f77b4;stroke:#1f77b4;\" x=\"179.864204\" xlink:href=\"#m7e3b793808\" y=\"165.376621\"/>\n     <use style=\"fill:#1f77b4;stroke:#1f77b4;\" x=\"212.581548\" xlink:href=\"#m7e3b793808\" y=\"205.372584\"/>\n     <use style=\"fill:#1f77b4;stroke:#1f77b4;\" x=\"89.949394\" xlink:href=\"#m7e3b793808\" y=\"207.225926\"/>\n     <use style=\"fill:#1f77b4;stroke:#1f77b4;\" x=\"168.617143\" xlink:href=\"#m7e3b793808\" y=\"87.1544\"/>\n     <use style=\"fill:#1f77b4;stroke:#1f77b4;\" x=\"187.90492\" xlink:href=\"#m7e3b793808\" y=\"60.19902\"/>\n     <use style=\"fill:#1f77b4;stroke:#1f77b4;\" x=\"99.145092\" xlink:href=\"#m7e3b793808\" y=\"198.61481\"/>\n     <use style=\"fill:#1f77b4;stroke:#1f77b4;\" x=\"203.349911\" xlink:href=\"#m7e3b793808\" y=\"60.364167\"/>\n     <use style=\"fill:#1f77b4;stroke:#1f77b4;\" x=\"141.438263\" xlink:href=\"#m7e3b793808\" y=\"101.235795\"/>\n     <use style=\"fill:#1f77b4;stroke:#1f77b4;\" x=\"194.299696\" xlink:href=\"#m7e3b793808\" y=\"125.583663\"/>\n     <use style=\"fill:#1f77b4;stroke:#1f77b4;\" x=\"183.147435\" xlink:href=\"#m7e3b793808\" y=\"61.760267\"/>\n     <use style=\"fill:#1f77b4;stroke:#1f77b4;\" x=\"253.300146\" xlink:href=\"#m7e3b793808\" y=\"75.483395\"/>\n     <use style=\"fill:#1f77b4;stroke:#1f77b4;\" x=\"183.567779\" xlink:href=\"#m7e3b793808\" y=\"214.756364\"/>\n    </g>\n   </g>\n   <g id=\"matplotlib.axis_1\">\n    <g id=\"xtick_1\">\n     <g id=\"line2d_1\">\n      <defs>\n       <path d=\"M 0 0 \nL 0 3.5 \n\" id=\"me7b3792c46\" style=\"stroke:#000000;stroke-width:0.8;\"/>\n      </defs>\n      <g>\n       <use style=\"stroke:#000000;stroke-width:0.8;\" x=\"42.016816\" xlink:href=\"#me7b3792c46\" y=\"224.64\"/>\n      </g>\n     </g>\n     <g id=\"text_1\">\n      <!-- 10 -->\n      <g transform=\"translate(35.654316 239.238438)scale(0.1 -0.1)\">\n       <defs>\n        <path d=\"M 12.40625 8.296875 \nL 28.515625 8.296875 \nL 28.515625 63.921875 \nL 10.984375 60.40625 \nL 10.984375 69.390625 \nL 28.421875 72.90625 \nL 38.28125 72.90625 \nL 38.28125 8.296875 \nL 54.390625 8.296875 \nL 54.390625 0 \nL 12.40625 0 \nz\n\" id=\"DejaVuSans-49\"/>\n        <path d=\"M 31.78125 66.40625 \nQ 24.171875 66.40625 20.328125 58.90625 \nQ 16.5 51.421875 16.5 36.375 \nQ 16.5 21.390625 20.328125 13.890625 \nQ 24.171875 6.390625 31.78125 6.390625 \nQ 39.453125 6.390625 43.28125 13.890625 \nQ 47.125 21.390625 47.125 36.375 \nQ 47.125 51.421875 43.28125 58.90625 \nQ 39.453125 66.40625 31.78125 66.40625 \nz\nM 31.78125 74.21875 \nQ 44.046875 74.21875 50.515625 64.515625 \nQ 56.984375 54.828125 56.984375 36.375 \nQ 56.984375 17.96875 50.515625 8.265625 \nQ 44.046875 -1.421875 31.78125 -1.421875 \nQ 19.53125 -1.421875 13.0625 8.265625 \nQ 6.59375 17.96875 6.59375 36.375 \nQ 6.59375 54.828125 13.0625 64.515625 \nQ 19.53125 74.21875 31.78125 74.21875 \nz\n\" id=\"DejaVuSans-48\"/>\n       </defs>\n       <use xlink:href=\"#DejaVuSans-49\"/>\n       <use x=\"63.623047\" xlink:href=\"#DejaVuSans-48\"/>\n      </g>\n     </g>\n    </g>\n    <g id=\"xtick_2\">\n     <g id=\"line2d_2\">\n      <g>\n       <use style=\"stroke:#000000;stroke-width:0.8;\" x=\"86.678404\" xlink:href=\"#me7b3792c46\" y=\"224.64\"/>\n      </g>\n     </g>\n     <g id=\"text_2\">\n      <!-- 15 -->\n      <g transform=\"translate(80.315904 239.238438)scale(0.1 -0.1)\">\n       <defs>\n        <path d=\"M 10.796875 72.90625 \nL 49.515625 72.90625 \nL 49.515625 64.59375 \nL 19.828125 64.59375 \nL 19.828125 46.734375 \nQ 21.96875 47.46875 24.109375 47.828125 \nQ 26.265625 48.1875 28.421875 48.1875 \nQ 40.625 48.1875 47.75 41.5 \nQ 54.890625 34.8125 54.890625 23.390625 \nQ 54.890625 11.625 47.5625 5.09375 \nQ 40.234375 -1.421875 26.90625 -1.421875 \nQ 22.3125 -1.421875 17.546875 -0.640625 \nQ 12.796875 0.140625 7.71875 1.703125 \nL 7.71875 11.625 \nQ 12.109375 9.234375 16.796875 8.0625 \nQ 21.484375 6.890625 26.703125 6.890625 \nQ 35.15625 6.890625 40.078125 11.328125 \nQ 45.015625 15.765625 45.015625 23.390625 \nQ 45.015625 31 40.078125 35.4375 \nQ 35.15625 39.890625 26.703125 39.890625 \nQ 22.75 39.890625 18.8125 39.015625 \nQ 14.890625 38.140625 10.796875 36.28125 \nz\n\" id=\"DejaVuSans-53\"/>\n       </defs>\n       <use xlink:href=\"#DejaVuSans-49\"/>\n       <use x=\"63.623047\" xlink:href=\"#DejaVuSans-53\"/>\n      </g>\n     </g>\n    </g>\n    <g id=\"xtick_3\">\n     <g id=\"line2d_3\">\n      <g>\n       <use style=\"stroke:#000000;stroke-width:0.8;\" x=\"131.339992\" xlink:href=\"#me7b3792c46\" y=\"224.64\"/>\n      </g>\n     </g>\n     <g id=\"text_3\">\n      <!-- 20 -->\n      <g transform=\"translate(124.977492 239.238438)scale(0.1 -0.1)\">\n       <defs>\n        <path d=\"M 19.1875 8.296875 \nL 53.609375 8.296875 \nL 53.609375 0 \nL 7.328125 0 \nL 7.328125 8.296875 \nQ 12.9375 14.109375 22.625 23.890625 \nQ 32.328125 33.6875 34.8125 36.53125 \nQ 39.546875 41.84375 41.421875 45.53125 \nQ 43.3125 49.21875 43.3125 52.78125 \nQ 43.3125 58.59375 39.234375 62.25 \nQ 35.15625 65.921875 28.609375 65.921875 \nQ 23.96875 65.921875 18.8125 64.3125 \nQ 13.671875 62.703125 7.8125 59.421875 \nL 7.8125 69.390625 \nQ 13.765625 71.78125 18.9375 73 \nQ 24.125 74.21875 28.421875 74.21875 \nQ 39.75 74.21875 46.484375 68.546875 \nQ 53.21875 62.890625 53.21875 53.421875 \nQ 53.21875 48.921875 51.53125 44.890625 \nQ 49.859375 40.875 45.40625 35.40625 \nQ 44.1875 33.984375 37.640625 27.21875 \nQ 31.109375 20.453125 19.1875 8.296875 \nz\n\" id=\"DejaVuSans-50\"/>\n       </defs>\n       <use xlink:href=\"#DejaVuSans-50\"/>\n       <use x=\"63.623047\" xlink:href=\"#DejaVuSans-48\"/>\n      </g>\n     </g>\n    </g>\n    <g id=\"xtick_4\">\n     <g id=\"line2d_4\">\n      <g>\n       <use style=\"stroke:#000000;stroke-width:0.8;\" x=\"176.001581\" xlink:href=\"#me7b3792c46\" y=\"224.64\"/>\n      </g>\n     </g>\n     <g id=\"text_4\">\n      <!-- 25 -->\n      <g transform=\"translate(169.639081 239.238438)scale(0.1 -0.1)\">\n       <use xlink:href=\"#DejaVuSans-50\"/>\n       <use x=\"63.623047\" xlink:href=\"#DejaVuSans-53\"/>\n      </g>\n     </g>\n    </g>\n    <g id=\"xtick_5\">\n     <g id=\"line2d_5\">\n      <g>\n       <use style=\"stroke:#000000;stroke-width:0.8;\" x=\"220.663169\" xlink:href=\"#me7b3792c46\" y=\"224.64\"/>\n      </g>\n     </g>\n     <g id=\"text_5\">\n      <!-- 30 -->\n      <g transform=\"translate(214.300669 239.238438)scale(0.1 -0.1)\">\n       <defs>\n        <path d=\"M 40.578125 39.3125 \nQ 47.65625 37.796875 51.625 33 \nQ 55.609375 28.21875 55.609375 21.1875 \nQ 55.609375 10.40625 48.1875 4.484375 \nQ 40.765625 -1.421875 27.09375 -1.421875 \nQ 22.515625 -1.421875 17.65625 -0.515625 \nQ 12.796875 0.390625 7.625 2.203125 \nL 7.625 11.71875 \nQ 11.71875 9.328125 16.59375 8.109375 \nQ 21.484375 6.890625 26.8125 6.890625 \nQ 36.078125 6.890625 40.9375 10.546875 \nQ 45.796875 14.203125 45.796875 21.1875 \nQ 45.796875 27.640625 41.28125 31.265625 \nQ 36.765625 34.90625 28.71875 34.90625 \nL 20.21875 34.90625 \nL 20.21875 43.015625 \nL 29.109375 43.015625 \nQ 36.375 43.015625 40.234375 45.921875 \nQ 44.09375 48.828125 44.09375 54.296875 \nQ 44.09375 59.90625 40.109375 62.90625 \nQ 36.140625 65.921875 28.71875 65.921875 \nQ 24.65625 65.921875 20.015625 65.03125 \nQ 15.375 64.15625 9.8125 62.3125 \nL 9.8125 71.09375 \nQ 15.4375 72.65625 20.34375 73.4375 \nQ 25.25 74.21875 29.59375 74.21875 \nQ 40.828125 74.21875 47.359375 69.109375 \nQ 53.90625 64.015625 53.90625 55.328125 \nQ 53.90625 49.265625 50.4375 45.09375 \nQ 46.96875 40.921875 40.578125 39.3125 \nz\n\" id=\"DejaVuSans-51\"/>\n       </defs>\n       <use xlink:href=\"#DejaVuSans-51\"/>\n       <use x=\"63.623047\" xlink:href=\"#DejaVuSans-48\"/>\n      </g>\n     </g>\n    </g>\n    <g id=\"xtick_6\">\n     <g id=\"line2d_6\">\n      <g>\n       <use style=\"stroke:#000000;stroke-width:0.8;\" x=\"265.324757\" xlink:href=\"#me7b3792c46\" y=\"224.64\"/>\n      </g>\n     </g>\n     <g id=\"text_6\">\n      <!-- 35 -->\n      <g transform=\"translate(258.962257 239.238438)scale(0.1 -0.1)\">\n       <use xlink:href=\"#DejaVuSans-51\"/>\n       <use x=\"63.623047\" xlink:href=\"#DejaVuSans-53\"/>\n      </g>\n     </g>\n    </g>\n    <g id=\"xtick_7\">\n     <g id=\"line2d_7\">\n      <g>\n       <use style=\"stroke:#000000;stroke-width:0.8;\" x=\"309.986345\" xlink:href=\"#me7b3792c46\" y=\"224.64\"/>\n      </g>\n     </g>\n     <g id=\"text_7\">\n      <!-- 40 -->\n      <g transform=\"translate(303.623845 239.238438)scale(0.1 -0.1)\">\n       <defs>\n        <path d=\"M 37.796875 64.3125 \nL 12.890625 25.390625 \nL 37.796875 25.390625 \nz\nM 35.203125 72.90625 \nL 47.609375 72.90625 \nL 47.609375 25.390625 \nL 58.015625 25.390625 \nL 58.015625 17.1875 \nL 47.609375 17.1875 \nL 47.609375 0 \nL 37.796875 0 \nL 37.796875 17.1875 \nL 4.890625 17.1875 \nL 4.890625 26.703125 \nz\n\" id=\"DejaVuSans-52\"/>\n       </defs>\n       <use xlink:href=\"#DejaVuSans-52\"/>\n       <use x=\"63.623047\" xlink:href=\"#DejaVuSans-48\"/>\n      </g>\n     </g>\n    </g>\n    <g id=\"xtick_8\">\n     <g id=\"line2d_8\">\n      <g>\n       <use style=\"stroke:#000000;stroke-width:0.8;\" x=\"354.647933\" xlink:href=\"#me7b3792c46\" y=\"224.64\"/>\n      </g>\n     </g>\n     <g id=\"text_8\">\n      <!-- 45 -->\n      <g transform=\"translate(348.285433 239.238438)scale(0.1 -0.1)\">\n       <use xlink:href=\"#DejaVuSans-52\"/>\n       <use x=\"63.623047\" xlink:href=\"#DejaVuSans-53\"/>\n      </g>\n     </g>\n    </g>\n    <g id=\"text_9\">\n     <!-- price -->\n     <g transform=\"translate(195.558594 252.916563)scale(0.1 -0.1)\">\n      <defs>\n       <path d=\"M 18.109375 8.203125 \nL 18.109375 -20.796875 \nL 9.078125 -20.796875 \nL 9.078125 54.6875 \nL 18.109375 54.6875 \nL 18.109375 46.390625 \nQ 20.953125 51.265625 25.265625 53.625 \nQ 29.59375 56 35.59375 56 \nQ 45.5625 56 51.78125 48.09375 \nQ 58.015625 40.1875 58.015625 27.296875 \nQ 58.015625 14.40625 51.78125 6.484375 \nQ 45.5625 -1.421875 35.59375 -1.421875 \nQ 29.59375 -1.421875 25.265625 0.953125 \nQ 20.953125 3.328125 18.109375 8.203125 \nz\nM 48.6875 27.296875 \nQ 48.6875 37.203125 44.609375 42.84375 \nQ 40.53125 48.484375 33.40625 48.484375 \nQ 26.265625 48.484375 22.1875 42.84375 \nQ 18.109375 37.203125 18.109375 27.296875 \nQ 18.109375 17.390625 22.1875 11.75 \nQ 26.265625 6.109375 33.40625 6.109375 \nQ 40.53125 6.109375 44.609375 11.75 \nQ 48.6875 17.390625 48.6875 27.296875 \nz\n\" id=\"DejaVuSans-112\"/>\n       <path d=\"M 41.109375 46.296875 \nQ 39.59375 47.171875 37.8125 47.578125 \nQ 36.03125 48 33.890625 48 \nQ 26.265625 48 22.1875 43.046875 \nQ 18.109375 38.09375 18.109375 28.8125 \nL 18.109375 0 \nL 9.078125 0 \nL 9.078125 54.6875 \nL 18.109375 54.6875 \nL 18.109375 46.1875 \nQ 20.953125 51.171875 25.484375 53.578125 \nQ 30.03125 56 36.53125 56 \nQ 37.453125 56 38.578125 55.875 \nQ 39.703125 55.765625 41.0625 55.515625 \nz\n\" id=\"DejaVuSans-114\"/>\n       <path d=\"M 9.421875 54.6875 \nL 18.40625 54.6875 \nL 18.40625 0 \nL 9.421875 0 \nz\nM 9.421875 75.984375 \nL 18.40625 75.984375 \nL 18.40625 64.59375 \nL 9.421875 64.59375 \nz\n\" id=\"DejaVuSans-105\"/>\n       <path d=\"M 48.78125 52.59375 \nL 48.78125 44.1875 \nQ 44.96875 46.296875 41.140625 47.34375 \nQ 37.3125 48.390625 33.40625 48.390625 \nQ 24.65625 48.390625 19.8125 42.84375 \nQ 14.984375 37.3125 14.984375 27.296875 \nQ 14.984375 17.28125 19.8125 11.734375 \nQ 24.65625 6.203125 33.40625 6.203125 \nQ 37.3125 6.203125 41.140625 7.25 \nQ 44.96875 8.296875 48.78125 10.40625 \nL 48.78125 2.09375 \nQ 45.015625 0.34375 40.984375 -0.53125 \nQ 36.96875 -1.421875 32.421875 -1.421875 \nQ 20.0625 -1.421875 12.78125 6.34375 \nQ 5.515625 14.109375 5.515625 27.296875 \nQ 5.515625 40.671875 12.859375 48.328125 \nQ 20.21875 56 33.015625 56 \nQ 37.15625 56 41.109375 55.140625 \nQ 45.0625 54.296875 48.78125 52.59375 \nz\n\" id=\"DejaVuSans-99\"/>\n       <path d=\"M 56.203125 29.59375 \nL 56.203125 25.203125 \nL 14.890625 25.203125 \nQ 15.484375 15.921875 20.484375 11.0625 \nQ 25.484375 6.203125 34.421875 6.203125 \nQ 39.59375 6.203125 44.453125 7.46875 \nQ 49.3125 8.734375 54.109375 11.28125 \nL 54.109375 2.78125 \nQ 49.265625 0.734375 44.1875 -0.34375 \nQ 39.109375 -1.421875 33.890625 -1.421875 \nQ 20.796875 -1.421875 13.15625 6.1875 \nQ 5.515625 13.8125 5.515625 26.8125 \nQ 5.515625 40.234375 12.765625 48.109375 \nQ 20.015625 56 32.328125 56 \nQ 43.359375 56 49.78125 48.890625 \nQ 56.203125 41.796875 56.203125 29.59375 \nz\nM 47.21875 32.234375 \nQ 47.125 39.59375 43.09375 43.984375 \nQ 39.0625 48.390625 32.421875 48.390625 \nQ 24.90625 48.390625 20.390625 44.140625 \nQ 15.875 39.890625 15.1875 32.171875 \nz\n\" id=\"DejaVuSans-101\"/>\n      </defs>\n      <use xlink:href=\"#DejaVuSans-112\"/>\n      <use x=\"63.476562\" xlink:href=\"#DejaVuSans-114\"/>\n      <use x=\"104.589844\" xlink:href=\"#DejaVuSans-105\"/>\n      <use x=\"132.373047\" xlink:href=\"#DejaVuSans-99\"/>\n      <use x=\"187.353516\" xlink:href=\"#DejaVuSans-101\"/>\n     </g>\n    </g>\n   </g>\n   <g id=\"matplotlib.axis_2\">\n    <g id=\"ytick_1\">\n     <g id=\"line2d_9\">\n      <defs>\n       <path d=\"M 0 0 \nL -3.5 0 \n\" id=\"mcb652aba7f\" style=\"stroke:#000000;stroke-width:0.8;\"/>\n      </defs>\n      <g>\n       <use style=\"stroke:#000000;stroke-width:0.8;\" x=\"40.603125\" xlink:href=\"#mcb652aba7f\" y=\"195.250487\"/>\n      </g>\n     </g>\n     <g id=\"text_10\">\n      <!-- 85 -->\n      <g transform=\"translate(20.878125 199.049705)scale(0.1 -0.1)\">\n       <defs>\n        <path d=\"M 31.78125 34.625 \nQ 24.75 34.625 20.71875 30.859375 \nQ 16.703125 27.09375 16.703125 20.515625 \nQ 16.703125 13.921875 20.71875 10.15625 \nQ 24.75 6.390625 31.78125 6.390625 \nQ 38.8125 6.390625 42.859375 10.171875 \nQ 46.921875 13.96875 46.921875 20.515625 \nQ 46.921875 27.09375 42.890625 30.859375 \nQ 38.875 34.625 31.78125 34.625 \nz\nM 21.921875 38.8125 \nQ 15.578125 40.375 12.03125 44.71875 \nQ 8.5 49.078125 8.5 55.328125 \nQ 8.5 64.0625 14.71875 69.140625 \nQ 20.953125 74.21875 31.78125 74.21875 \nQ 42.671875 74.21875 48.875 69.140625 \nQ 55.078125 64.0625 55.078125 55.328125 \nQ 55.078125 49.078125 51.53125 44.71875 \nQ 48 40.375 41.703125 38.8125 \nQ 48.828125 37.15625 52.796875 32.3125 \nQ 56.78125 27.484375 56.78125 20.515625 \nQ 56.78125 9.90625 50.3125 4.234375 \nQ 43.84375 -1.421875 31.78125 -1.421875 \nQ 19.734375 -1.421875 13.25 4.234375 \nQ 6.78125 9.90625 6.78125 20.515625 \nQ 6.78125 27.484375 10.78125 32.3125 \nQ 14.796875 37.15625 21.921875 38.8125 \nz\nM 18.3125 54.390625 \nQ 18.3125 48.734375 21.84375 45.5625 \nQ 25.390625 42.390625 31.78125 42.390625 \nQ 38.140625 42.390625 41.71875 45.5625 \nQ 45.3125 48.734375 45.3125 54.390625 \nQ 45.3125 60.0625 41.71875 63.234375 \nQ 38.140625 66.40625 31.78125 66.40625 \nQ 25.390625 66.40625 21.84375 63.234375 \nQ 18.3125 60.0625 18.3125 54.390625 \nz\n\" id=\"DejaVuSans-56\"/>\n       </defs>\n       <use xlink:href=\"#DejaVuSans-56\"/>\n       <use x=\"63.623047\" xlink:href=\"#DejaVuSans-53\"/>\n      </g>\n     </g>\n    </g>\n    <g id=\"ytick_2\">\n     <g id=\"line2d_10\">\n      <g>\n       <use style=\"stroke:#000000;stroke-width:0.8;\" x=\"40.603125\" xlink:href=\"#mcb652aba7f\" y=\"152.737678\"/>\n      </g>\n     </g>\n     <g id=\"text_11\">\n      <!-- 86 -->\n      <g transform=\"translate(20.878125 156.536896)scale(0.1 -0.1)\">\n       <defs>\n        <path d=\"M 33.015625 40.375 \nQ 26.375 40.375 22.484375 35.828125 \nQ 18.609375 31.296875 18.609375 23.390625 \nQ 18.609375 15.53125 22.484375 10.953125 \nQ 26.375 6.390625 33.015625 6.390625 \nQ 39.65625 6.390625 43.53125 10.953125 \nQ 47.40625 15.53125 47.40625 23.390625 \nQ 47.40625 31.296875 43.53125 35.828125 \nQ 39.65625 40.375 33.015625 40.375 \nz\nM 52.59375 71.296875 \nL 52.59375 62.3125 \nQ 48.875 64.0625 45.09375 64.984375 \nQ 41.3125 65.921875 37.59375 65.921875 \nQ 27.828125 65.921875 22.671875 59.328125 \nQ 17.53125 52.734375 16.796875 39.40625 \nQ 19.671875 43.65625 24.015625 45.921875 \nQ 28.375 48.1875 33.59375 48.1875 \nQ 44.578125 48.1875 50.953125 41.515625 \nQ 57.328125 34.859375 57.328125 23.390625 \nQ 57.328125 12.15625 50.6875 5.359375 \nQ 44.046875 -1.421875 33.015625 -1.421875 \nQ 20.359375 -1.421875 13.671875 8.265625 \nQ 6.984375 17.96875 6.984375 36.375 \nQ 6.984375 53.65625 15.1875 63.9375 \nQ 23.390625 74.21875 37.203125 74.21875 \nQ 40.921875 74.21875 44.703125 73.484375 \nQ 48.484375 72.75 52.59375 71.296875 \nz\n\" id=\"DejaVuSans-54\"/>\n       </defs>\n       <use xlink:href=\"#DejaVuSans-56\"/>\n       <use x=\"63.623047\" xlink:href=\"#DejaVuSans-54\"/>\n      </g>\n     </g>\n    </g>\n    <g id=\"ytick_3\">\n     <g id=\"line2d_11\">\n      <g>\n       <use style=\"stroke:#000000;stroke-width:0.8;\" x=\"40.603125\" xlink:href=\"#mcb652aba7f\" y=\"110.224869\"/>\n      </g>\n     </g>\n     <g id=\"text_12\">\n      <!-- 87 -->\n      <g transform=\"translate(20.878125 114.024088)scale(0.1 -0.1)\">\n       <defs>\n        <path d=\"M 8.203125 72.90625 \nL 55.078125 72.90625 \nL 55.078125 68.703125 \nL 28.609375 0 \nL 18.3125 0 \nL 43.21875 64.59375 \nL 8.203125 64.59375 \nz\n\" id=\"DejaVuSans-55\"/>\n       </defs>\n       <use xlink:href=\"#DejaVuSans-56\"/>\n       <use x=\"63.623047\" xlink:href=\"#DejaVuSans-55\"/>\n      </g>\n     </g>\n    </g>\n    <g id=\"ytick_4\">\n     <g id=\"line2d_12\">\n      <g>\n       <use style=\"stroke:#000000;stroke-width:0.8;\" x=\"40.603125\" xlink:href=\"#mcb652aba7f\" y=\"67.71206\"/>\n      </g>\n     </g>\n     <g id=\"text_13\">\n      <!-- 88 -->\n      <g transform=\"translate(20.878125 71.511279)scale(0.1 -0.1)\">\n       <use xlink:href=\"#DejaVuSans-56\"/>\n       <use x=\"63.623047\" xlink:href=\"#DejaVuSans-56\"/>\n      </g>\n     </g>\n    </g>\n    <g id=\"ytick_5\">\n     <g id=\"line2d_13\">\n      <g>\n       <use style=\"stroke:#000000;stroke-width:0.8;\" x=\"40.603125\" xlink:href=\"#mcb652aba7f\" y=\"25.199251\"/>\n      </g>\n     </g>\n     <g id=\"text_14\">\n      <!-- 89 -->\n      <g transform=\"translate(20.878125 28.99847)scale(0.1 -0.1)\">\n       <defs>\n        <path d=\"M 10.984375 1.515625 \nL 10.984375 10.5 \nQ 14.703125 8.734375 18.5 7.8125 \nQ 22.3125 6.890625 25.984375 6.890625 \nQ 35.75 6.890625 40.890625 13.453125 \nQ 46.046875 20.015625 46.78125 33.40625 \nQ 43.953125 29.203125 39.59375 26.953125 \nQ 35.25 24.703125 29.984375 24.703125 \nQ 19.046875 24.703125 12.671875 31.3125 \nQ 6.296875 37.9375 6.296875 49.421875 \nQ 6.296875 60.640625 12.9375 67.421875 \nQ 19.578125 74.21875 30.609375 74.21875 \nQ 43.265625 74.21875 49.921875 64.515625 \nQ 56.59375 54.828125 56.59375 36.375 \nQ 56.59375 19.140625 48.40625 8.859375 \nQ 40.234375 -1.421875 26.421875 -1.421875 \nQ 22.703125 -1.421875 18.890625 -0.6875 \nQ 15.09375 0.046875 10.984375 1.515625 \nz\nM 30.609375 32.421875 \nQ 37.25 32.421875 41.125 36.953125 \nQ 45.015625 41.5 45.015625 49.421875 \nQ 45.015625 57.28125 41.125 61.84375 \nQ 37.25 66.40625 30.609375 66.40625 \nQ 23.96875 66.40625 20.09375 61.84375 \nQ 16.21875 57.28125 16.21875 49.421875 \nQ 16.21875 41.5 20.09375 36.953125 \nQ 23.96875 32.421875 30.609375 32.421875 \nz\n\" id=\"DejaVuSans-57\"/>\n       </defs>\n       <use xlink:href=\"#DejaVuSans-56\"/>\n       <use x=\"63.623047\" xlink:href=\"#DejaVuSans-57\"/>\n      </g>\n     </g>\n    </g>\n    <g id=\"text_15\">\n     <!-- points -->\n     <g transform=\"translate(14.798438 131.27625)rotate(-90)scale(0.1 -0.1)\">\n      <defs>\n       <path d=\"M 30.609375 48.390625 \nQ 23.390625 48.390625 19.1875 42.75 \nQ 14.984375 37.109375 14.984375 27.296875 \nQ 14.984375 17.484375 19.15625 11.84375 \nQ 23.34375 6.203125 30.609375 6.203125 \nQ 37.796875 6.203125 41.984375 11.859375 \nQ 46.1875 17.53125 46.1875 27.296875 \nQ 46.1875 37.015625 41.984375 42.703125 \nQ 37.796875 48.390625 30.609375 48.390625 \nz\nM 30.609375 56 \nQ 42.328125 56 49.015625 48.375 \nQ 55.71875 40.765625 55.71875 27.296875 \nQ 55.71875 13.875 49.015625 6.21875 \nQ 42.328125 -1.421875 30.609375 -1.421875 \nQ 18.84375 -1.421875 12.171875 6.21875 \nQ 5.515625 13.875 5.515625 27.296875 \nQ 5.515625 40.765625 12.171875 48.375 \nQ 18.84375 56 30.609375 56 \nz\n\" id=\"DejaVuSans-111\"/>\n       <path d=\"M 54.890625 33.015625 \nL 54.890625 0 \nL 45.90625 0 \nL 45.90625 32.71875 \nQ 45.90625 40.484375 42.875 44.328125 \nQ 39.84375 48.1875 33.796875 48.1875 \nQ 26.515625 48.1875 22.3125 43.546875 \nQ 18.109375 38.921875 18.109375 30.90625 \nL 18.109375 0 \nL 9.078125 0 \nL 9.078125 54.6875 \nL 18.109375 54.6875 \nL 18.109375 46.1875 \nQ 21.34375 51.125 25.703125 53.5625 \nQ 30.078125 56 35.796875 56 \nQ 45.21875 56 50.046875 50.171875 \nQ 54.890625 44.34375 54.890625 33.015625 \nz\n\" id=\"DejaVuSans-110\"/>\n       <path d=\"M 18.3125 70.21875 \nL 18.3125 54.6875 \nL 36.8125 54.6875 \nL 36.8125 47.703125 \nL 18.3125 47.703125 \nL 18.3125 18.015625 \nQ 18.3125 11.328125 20.140625 9.421875 \nQ 21.96875 7.515625 27.59375 7.515625 \nL 36.8125 7.515625 \nL 36.8125 0 \nL 27.59375 0 \nQ 17.1875 0 13.234375 3.875 \nQ 9.28125 7.765625 9.28125 18.015625 \nL 9.28125 47.703125 \nL 2.6875 47.703125 \nL 2.6875 54.6875 \nL 9.28125 54.6875 \nL 9.28125 70.21875 \nz\n\" id=\"DejaVuSans-116\"/>\n       <path d=\"M 44.28125 53.078125 \nL 44.28125 44.578125 \nQ 40.484375 46.53125 36.375 47.5 \nQ 32.28125 48.484375 27.875 48.484375 \nQ 21.1875 48.484375 17.84375 46.4375 \nQ 14.5 44.390625 14.5 40.28125 \nQ 14.5 37.15625 16.890625 35.375 \nQ 19.28125 33.59375 26.515625 31.984375 \nL 29.59375 31.296875 \nQ 39.15625 29.25 43.1875 25.515625 \nQ 47.21875 21.78125 47.21875 15.09375 \nQ 47.21875 7.46875 41.1875 3.015625 \nQ 35.15625 -1.421875 24.609375 -1.421875 \nQ 20.21875 -1.421875 15.453125 -0.5625 \nQ 10.6875 0.296875 5.421875 2 \nL 5.421875 11.28125 \nQ 10.40625 8.6875 15.234375 7.390625 \nQ 20.0625 6.109375 24.8125 6.109375 \nQ 31.15625 6.109375 34.5625 8.28125 \nQ 37.984375 10.453125 37.984375 14.40625 \nQ 37.984375 18.0625 35.515625 20.015625 \nQ 33.0625 21.96875 24.703125 23.78125 \nL 21.578125 24.515625 \nQ 13.234375 26.265625 9.515625 29.90625 \nQ 5.8125 33.546875 5.8125 39.890625 \nQ 5.8125 47.609375 11.28125 51.796875 \nQ 16.75 56 26.8125 56 \nQ 31.78125 56 36.171875 55.265625 \nQ 40.578125 54.546875 44.28125 53.078125 \nz\n\" id=\"DejaVuSans-115\"/>\n      </defs>\n      <use xlink:href=\"#DejaVuSans-112\"/>\n      <use x=\"63.476562\" xlink:href=\"#DejaVuSans-111\"/>\n      <use x=\"124.658203\" xlink:href=\"#DejaVuSans-105\"/>\n      <use x=\"152.441406\" xlink:href=\"#DejaVuSans-110\"/>\n      <use x=\"215.820312\" xlink:href=\"#DejaVuSans-116\"/>\n      <use x=\"255.029297\" xlink:href=\"#DejaVuSans-115\"/>\n     </g>\n    </g>\n   </g>\n   <g id=\"patch_3\">\n    <path d=\"M 40.603125 224.64 \nL 40.603125 7.2 \n\" style=\"fill:none;stroke:#000000;stroke-linecap:square;stroke-linejoin:miter;stroke-width:0.8;\"/>\n   </g>\n   <g id=\"patch_4\">\n    <path d=\"M 375.403125 224.64 \nL 375.403125 7.2 \n\" style=\"fill:none;stroke:#000000;stroke-linecap:square;stroke-linejoin:miter;stroke-width:0.8;\"/>\n   </g>\n   <g id=\"patch_5\">\n    <path d=\"M 40.603125 224.64 \nL 375.403125 224.64 \n\" style=\"fill:none;stroke:#000000;stroke-linecap:square;stroke-linejoin:miter;stroke-width:0.8;\"/>\n   </g>\n   <g id=\"patch_6\">\n    <path d=\"M 40.603125 7.2 \nL 375.403125 7.2 \n\" style=\"fill:none;stroke:#000000;stroke-linecap:square;stroke-linejoin:miter;stroke-width:0.8;\"/>\n   </g>\n   <g id=\"legend_1\">\n    <g id=\"patch_7\">\n     <path d=\"M 330.904687 29.878125 \nL 368.403125 29.878125 \nQ 370.403125 29.878125 370.403125 27.878125 \nL 370.403125 14.2 \nQ 370.403125 12.2 368.403125 12.2 \nL 330.904687 12.2 \nQ 328.904687 12.2 328.904687 14.2 \nL 328.904687 27.878125 \nQ 328.904687 29.878125 330.904687 29.878125 \nz\n\" style=\"fill:#ffffff;opacity:0.8;stroke:#cccccc;stroke-linejoin:miter;\"/>\n    </g>\n    <g id=\"PathCollection_2\">\n     <g>\n      <use style=\"fill:#1f77b4;stroke:#1f77b4;\" x=\"342.904687\" xlink:href=\"#m7e3b793808\" y=\"21.173438\"/>\n     </g>\n    </g>\n    <g id=\"text_16\">\n     <!-- c -->\n     <g transform=\"translate(360.904687 23.798438)scale(0.1 -0.1)\">\n      <use xlink:href=\"#DejaVuSans-99\"/>\n     </g>\n    </g>\n   </g>\n  </g>\n </g>\n <defs>\n  <clipPath id=\"p6123acaf8b\">\n   <rect height=\"217.44\" width=\"334.8\" x=\"40.603125\" y=\"7.2\"/>\n  </clipPath>\n </defs>\n</svg>\n",
      "image/png": "[encoded data removed]"
     },
     "metadata": {
      "needs_background": "light"
     }
    }
   ],
   "source": [
    "plt.scatter(wine_country_df.price, wine_country_df.points)\n",
    "plt.xlabel('price')\n",
    "plt.ylabel('points')\n",
    "plt.show()"
   ]
  },
  {
   "cell_type": "code",
   "execution_count": 36,
   "metadata": {},
   "outputs": [
    {
     "output_type": "execute_result",
     "data": {
      "text/plain": [
       "array([[20.79488097],\n",
       "       [31.25847977],\n",
       "       [31.19210632],\n",
       "       [11.54545455],\n",
       "       [34.62886598]])"
      ]
     },
     "metadata": {},
     "execution_count": 36
    }
   ],
   "source": [
    "X = wine_country_df.price.values.reshape(-1, 1)\n",
    "X[:5]"
   ]
  },
  {
   "cell_type": "code",
   "execution_count": 37,
   "metadata": {},
   "outputs": [
    {
     "output_type": "execute_result",
     "data": {
      "text/plain": [
       "(27, 1)"
      ]
     },
     "metadata": {},
     "execution_count": 37
    }
   ],
   "source": [
    "X.shape"
   ]
  },
  {
   "cell_type": "code",
   "execution_count": 39,
   "metadata": {},
   "outputs": [
    {
     "output_type": "stream",
     "name": "stdout",
     "text": [
      "(27,)\n"
     ]
    }
   ],
   "source": [
    "y = wine_country_df.points\n",
    "\n",
    "model = LinearRegression()\n",
    "model.fit(X, y)\n",
    "y_pred = model.predict(X)\n",
    "print(y_pred.shape)"
   ]
  },
  {
   "cell_type": "code",
   "execution_count": 47,
   "metadata": {},
   "outputs": [
    {
     "output_type": "stream",
     "name": "stderr",
     "text": [
      "No handles with labels found to put in legend.\n"
     ]
    },
    {
     "output_type": "display_data",
     "data": {
      "text/plain": "<Figure size 432x288 with 1 Axes>",
      "image/svg+xml": "<?xml version=\"1.0\" encoding=\"utf-8\" standalone=\"no\"?>\n<!DOCTYPE svg PUBLIC \"-//W3C//DTD SVG 1.1//EN\"\n  \"http://www.w3.org/Graphics/SVG/1.1/DTD/svg11.dtd\">\n<!-- Created with matplotlib (https://matplotlib.org/) -->\n<svg height=\"248.518125pt\" version=\"1.1\" viewBox=\"0 0 368.925 248.518125\" width=\"368.925pt\" xmlns=\"http://www.w3.org/2000/svg\" xmlns:xlink=\"http://www.w3.org/1999/xlink\">\n <metadata>\n  <rdf:RDF xmlns:cc=\"http://creativecommons.org/ns#\" xmlns:dc=\"http://purl.org/dc/elements/1.1/\" xmlns:rdf=\"http://www.w3.org/1999/02/22-rdf-syntax-ns#\">\n   <cc:Work>\n    <dc:type rdf:resource=\"http://purl.org/dc/dcmitype/StillImage\"/>\n    <dc:date>2021-04-19T20:51:54.214459</dc:date>\n    <dc:format>image/svg+xml</dc:format>\n    <dc:creator>\n     <cc:Agent>\n      <dc:title>Matplotlib v3.3.2, https://matplotlib.org/</dc:title>\n     </cc:Agent>\n    </dc:creator>\n   </cc:Work>\n  </rdf:RDF>\n </metadata>\n <defs>\n  <style type=\"text/css\">*{stroke-linecap:butt;stroke-linejoin:round;}</style>\n </defs>\n <g id=\"figure_1\">\n  <g id=\"patch_1\">\n   <path d=\"M -0 248.518125 \nL 368.925 248.518125 \nL 368.925 0 \nL -0 0 \nz\n\" style=\"fill:none;\"/>\n  </g>\n  <g id=\"axes_1\">\n   <g id=\"patch_2\">\n    <path d=\"M 26.925 224.64 \nL 361.725 224.64 \nL 361.725 7.2 \nL 26.925 7.2 \nz\n\" style=\"fill:#ffffff;\"/>\n   </g>\n   <g id=\"PathCollection_1\">\n    <defs>\n     <path d=\"M 0 3 \nC 0.795609 3 1.55874 2.683901 2.12132 2.12132 \nC 2.683901 1.55874 3 0.795609 3 0 \nC 3 -0.795609 2.683901 -1.55874 2.12132 -2.12132 \nC 1.55874 -2.683901 0.795609 -3 0 -3 \nC -0.795609 -3 -1.55874 -2.683901 -2.12132 -2.12132 \nC -2.683901 -1.55874 -3 -0.795609 -3 0 \nC -3 0.795609 -2.683901 1.55874 -2.12132 2.12132 \nC -1.55874 2.683901 -0.795609 3 0 3 \nz\n\" id=\"m7f70bf103d\" style=\"stroke:#1f77b4;\"/>\n    </defs>\n    <g clip-path=\"url(#pfb1502e4f7)\">\n     <use style=\"fill:#1f77b4;stroke:#1f77b4;\" x=\"124.761997\" xlink:href=\"#m7f70bf103d\" y=\"152.692022\"/>\n     <use style=\"fill:#1f77b4;stroke:#1f77b4;\" x=\"218.226185\" xlink:href=\"#m7f70bf103d\" y=\"72.750358\"/>\n     <use style=\"fill:#1f77b4;stroke:#1f77b4;\" x=\"217.633316\" xlink:href=\"#m7f70bf103d\" y=\"17.083636\"/>\n     <use style=\"fill:#1f77b4;stroke:#1f77b4;\" x=\"42.143182\" xlink:href=\"#m7f70bf103d\" y=\"175.374368\"/>\n     <use style=\"fill:#1f77b4;stroke:#1f77b4;\" x=\"248.331545\" xlink:href=\"#m7f70bf103d\" y=\"58.289118\"/>\n     <use style=\"fill:#1f77b4;stroke:#1f77b4;\" x=\"111.809232\" xlink:href=\"#m7f70bf103d\" y=\"140.063464\"/>\n     <use style=\"fill:#1f77b4;stroke:#1f77b4;\" x=\"145.427385\" xlink:href=\"#m7f70bf103d\" y=\"131.737375\"/>\n     <use style=\"fill:#1f77b4;stroke:#1f77b4;\" x=\"77.322368\" xlink:href=\"#m7f70bf103d\" y=\"158.223201\"/>\n     <use style=\"fill:#1f77b4;stroke:#1f77b4;\" x=\"346.506818\" xlink:href=\"#m7f70bf103d\" y=\"42.06348\"/>\n     <use style=\"fill:#1f77b4;stroke:#1f77b4;\" x=\"104.99044\" xlink:href=\"#m7f70bf103d\" y=\"173.499747\"/>\n     <use style=\"fill:#1f77b4;stroke:#1f77b4;\" x=\"287.474854\" xlink:href=\"#m7f70bf103d\" y=\"41.755155\"/>\n     <use style=\"fill:#1f77b4;stroke:#1f77b4;\" x=\"133.272936\" xlink:href=\"#m7f70bf103d\" y=\"148.349888\"/>\n     <use style=\"fill:#1f77b4;stroke:#1f77b4;\" x=\"333.86279\" xlink:href=\"#m7f70bf103d\" y=\"97.286188\"/>\n     <use style=\"fill:#1f77b4;stroke:#1f77b4;\" x=\"218.640986\" xlink:href=\"#m7f70bf103d\" y=\"103.604022\"/>\n     <use style=\"fill:#1f77b4;stroke:#1f77b4;\" x=\"274.405401\" xlink:href=\"#m7f70bf103d\" y=\"48.793588\"/>\n     <use style=\"fill:#1f77b4;stroke:#1f77b4;\" x=\"166.186079\" xlink:href=\"#m7f70bf103d\" y=\"165.376621\"/>\n     <use style=\"fill:#1f77b4;stroke:#1f77b4;\" x=\"198.903423\" xlink:href=\"#m7f70bf103d\" y=\"205.372584\"/>\n     <use style=\"fill:#1f77b4;stroke:#1f77b4;\" x=\"76.271269\" xlink:href=\"#m7f70bf103d\" y=\"207.225926\"/>\n     <use style=\"fill:#1f77b4;stroke:#1f77b4;\" x=\"154.939018\" xlink:href=\"#m7f70bf103d\" y=\"87.1544\"/>\n     <use style=\"fill:#1f77b4;stroke:#1f77b4;\" x=\"174.226795\" xlink:href=\"#m7f70bf103d\" y=\"60.19902\"/>\n     <use style=\"fill:#1f77b4;stroke:#1f77b4;\" x=\"85.466967\" xlink:href=\"#m7f70bf103d\" y=\"198.61481\"/>\n     <use style=\"fill:#1f77b4;stroke:#1f77b4;\" x=\"189.671786\" xlink:href=\"#m7f70bf103d\" y=\"60.364167\"/>\n     <use style=\"fill:#1f77b4;stroke:#1f77b4;\" x=\"127.760138\" xlink:href=\"#m7f70bf103d\" y=\"101.235795\"/>\n     <use style=\"fill:#1f77b4;stroke:#1f77b4;\" x=\"180.621571\" xlink:href=\"#m7f70bf103d\" y=\"125.583663\"/>\n     <use style=\"fill:#1f77b4;stroke:#1f77b4;\" x=\"169.46931\" xlink:href=\"#m7f70bf103d\" y=\"61.760267\"/>\n     <use style=\"fill:#1f77b4;stroke:#1f77b4;\" x=\"239.622021\" xlink:href=\"#m7f70bf103d\" y=\"75.483395\"/>\n     <use style=\"fill:#1f77b4;stroke:#1f77b4;\" x=\"169.889654\" xlink:href=\"#m7f70bf103d\" y=\"214.756364\"/>\n    </g>\n   </g>\n   <g id=\"matplotlib.axis_1\">\n    <g id=\"xtick_1\">\n     <g id=\"line2d_1\">\n      <defs>\n       <path d=\"M 0 0 \nL 0 3.5 \n\" id=\"mdb870c8052\" style=\"stroke:#000000;stroke-width:0.8;\"/>\n      </defs>\n      <g>\n       <use style=\"stroke:#000000;stroke-width:0.8;\" x=\"28.338691\" xlink:href=\"#mdb870c8052\" y=\"224.64\"/>\n      </g>\n     </g>\n     <g id=\"text_1\">\n      <!-- 10 -->\n      <g transform=\"translate(21.976191 239.238438)scale(0.1 -0.1)\">\n       <defs>\n        <path d=\"M 12.40625 8.296875 \nL 28.515625 8.296875 \nL 28.515625 63.921875 \nL 10.984375 60.40625 \nL 10.984375 69.390625 \nL 28.421875 72.90625 \nL 38.28125 72.90625 \nL 38.28125 8.296875 \nL 54.390625 8.296875 \nL 54.390625 0 \nL 12.40625 0 \nz\n\" id=\"DejaVuSans-49\"/>\n        <path d=\"M 31.78125 66.40625 \nQ 24.171875 66.40625 20.328125 58.90625 \nQ 16.5 51.421875 16.5 36.375 \nQ 16.5 21.390625 20.328125 13.890625 \nQ 24.171875 6.390625 31.78125 6.390625 \nQ 39.453125 6.390625 43.28125 13.890625 \nQ 47.125 21.390625 47.125 36.375 \nQ 47.125 51.421875 43.28125 58.90625 \nQ 39.453125 66.40625 31.78125 66.40625 \nz\nM 31.78125 74.21875 \nQ 44.046875 74.21875 50.515625 64.515625 \nQ 56.984375 54.828125 56.984375 36.375 \nQ 56.984375 17.96875 50.515625 8.265625 \nQ 44.046875 -1.421875 31.78125 -1.421875 \nQ 19.53125 -1.421875 13.0625 8.265625 \nQ 6.59375 17.96875 6.59375 36.375 \nQ 6.59375 54.828125 13.0625 64.515625 \nQ 19.53125 74.21875 31.78125 74.21875 \nz\n\" id=\"DejaVuSans-48\"/>\n       </defs>\n       <use xlink:href=\"#DejaVuSans-49\"/>\n       <use x=\"63.623047\" xlink:href=\"#DejaVuSans-48\"/>\n      </g>\n     </g>\n    </g>\n    <g id=\"xtick_2\">\n     <g id=\"line2d_2\">\n      <g>\n       <use style=\"stroke:#000000;stroke-width:0.8;\" x=\"73.000279\" xlink:href=\"#mdb870c8052\" y=\"224.64\"/>\n      </g>\n     </g>\n     <g id=\"text_2\">\n      <!-- 15 -->\n      <g transform=\"translate(66.637779 239.238438)scale(0.1 -0.1)\">\n       <defs>\n        <path d=\"M 10.796875 72.90625 \nL 49.515625 72.90625 \nL 49.515625 64.59375 \nL 19.828125 64.59375 \nL 19.828125 46.734375 \nQ 21.96875 47.46875 24.109375 47.828125 \nQ 26.265625 48.1875 28.421875 48.1875 \nQ 40.625 48.1875 47.75 41.5 \nQ 54.890625 34.8125 54.890625 23.390625 \nQ 54.890625 11.625 47.5625 5.09375 \nQ 40.234375 -1.421875 26.90625 -1.421875 \nQ 22.3125 -1.421875 17.546875 -0.640625 \nQ 12.796875 0.140625 7.71875 1.703125 \nL 7.71875 11.625 \nQ 12.109375 9.234375 16.796875 8.0625 \nQ 21.484375 6.890625 26.703125 6.890625 \nQ 35.15625 6.890625 40.078125 11.328125 \nQ 45.015625 15.765625 45.015625 23.390625 \nQ 45.015625 31 40.078125 35.4375 \nQ 35.15625 39.890625 26.703125 39.890625 \nQ 22.75 39.890625 18.8125 39.015625 \nQ 14.890625 38.140625 10.796875 36.28125 \nz\n\" id=\"DejaVuSans-53\"/>\n       </defs>\n       <use xlink:href=\"#DejaVuSans-49\"/>\n       <use x=\"63.623047\" xlink:href=\"#DejaVuSans-53\"/>\n      </g>\n     </g>\n    </g>\n    <g id=\"xtick_3\">\n     <g id=\"line2d_3\">\n      <g>\n       <use style=\"stroke:#000000;stroke-width:0.8;\" x=\"117.661867\" xlink:href=\"#mdb870c8052\" y=\"224.64\"/>\n      </g>\n     </g>\n     <g id=\"text_3\">\n      <!-- 20 -->\n      <g transform=\"translate(111.299367 239.238438)scale(0.1 -0.1)\">\n       <defs>\n        <path d=\"M 19.1875 8.296875 \nL 53.609375 8.296875 \nL 53.609375 0 \nL 7.328125 0 \nL 7.328125 8.296875 \nQ 12.9375 14.109375 22.625 23.890625 \nQ 32.328125 33.6875 34.8125 36.53125 \nQ 39.546875 41.84375 41.421875 45.53125 \nQ 43.3125 49.21875 43.3125 52.78125 \nQ 43.3125 58.59375 39.234375 62.25 \nQ 35.15625 65.921875 28.609375 65.921875 \nQ 23.96875 65.921875 18.8125 64.3125 \nQ 13.671875 62.703125 7.8125 59.421875 \nL 7.8125 69.390625 \nQ 13.765625 71.78125 18.9375 73 \nQ 24.125 74.21875 28.421875 74.21875 \nQ 39.75 74.21875 46.484375 68.546875 \nQ 53.21875 62.890625 53.21875 53.421875 \nQ 53.21875 48.921875 51.53125 44.890625 \nQ 49.859375 40.875 45.40625 35.40625 \nQ 44.1875 33.984375 37.640625 27.21875 \nQ 31.109375 20.453125 19.1875 8.296875 \nz\n\" id=\"DejaVuSans-50\"/>\n       </defs>\n       <use xlink:href=\"#DejaVuSans-50\"/>\n       <use x=\"63.623047\" xlink:href=\"#DejaVuSans-48\"/>\n      </g>\n     </g>\n    </g>\n    <g id=\"xtick_4\">\n     <g id=\"line2d_4\">\n      <g>\n       <use style=\"stroke:#000000;stroke-width:0.8;\" x=\"162.323456\" xlink:href=\"#mdb870c8052\" y=\"224.64\"/>\n      </g>\n     </g>\n     <g id=\"text_4\">\n      <!-- 25 -->\n      <g transform=\"translate(155.960956 239.238438)scale(0.1 -0.1)\">\n       <use xlink:href=\"#DejaVuSans-50\"/>\n       <use x=\"63.623047\" xlink:href=\"#DejaVuSans-53\"/>\n      </g>\n     </g>\n    </g>\n    <g id=\"xtick_5\">\n     <g id=\"line2d_5\">\n      <g>\n       <use style=\"stroke:#000000;stroke-width:0.8;\" x=\"206.985044\" xlink:href=\"#mdb870c8052\" y=\"224.64\"/>\n      </g>\n     </g>\n     <g id=\"text_5\">\n      <!-- 30 -->\n      <g transform=\"translate(200.622544 239.238438)scale(0.1 -0.1)\">\n       <defs>\n        <path d=\"M 40.578125 39.3125 \nQ 47.65625 37.796875 51.625 33 \nQ 55.609375 28.21875 55.609375 21.1875 \nQ 55.609375 10.40625 48.1875 4.484375 \nQ 40.765625 -1.421875 27.09375 -1.421875 \nQ 22.515625 -1.421875 17.65625 -0.515625 \nQ 12.796875 0.390625 7.625 2.203125 \nL 7.625 11.71875 \nQ 11.71875 9.328125 16.59375 8.109375 \nQ 21.484375 6.890625 26.8125 6.890625 \nQ 36.078125 6.890625 40.9375 10.546875 \nQ 45.796875 14.203125 45.796875 21.1875 \nQ 45.796875 27.640625 41.28125 31.265625 \nQ 36.765625 34.90625 28.71875 34.90625 \nL 20.21875 34.90625 \nL 20.21875 43.015625 \nL 29.109375 43.015625 \nQ 36.375 43.015625 40.234375 45.921875 \nQ 44.09375 48.828125 44.09375 54.296875 \nQ 44.09375 59.90625 40.109375 62.90625 \nQ 36.140625 65.921875 28.71875 65.921875 \nQ 24.65625 65.921875 20.015625 65.03125 \nQ 15.375 64.15625 9.8125 62.3125 \nL 9.8125 71.09375 \nQ 15.4375 72.65625 20.34375 73.4375 \nQ 25.25 74.21875 29.59375 74.21875 \nQ 40.828125 74.21875 47.359375 69.109375 \nQ 53.90625 64.015625 53.90625 55.328125 \nQ 53.90625 49.265625 50.4375 45.09375 \nQ 46.96875 40.921875 40.578125 39.3125 \nz\n\" id=\"DejaVuSans-51\"/>\n       </defs>\n       <use xlink:href=\"#DejaVuSans-51\"/>\n       <use x=\"63.623047\" xlink:href=\"#DejaVuSans-48\"/>\n      </g>\n     </g>\n    </g>\n    <g id=\"xtick_6\">\n     <g id=\"line2d_6\">\n      <g>\n       <use style=\"stroke:#000000;stroke-width:0.8;\" x=\"251.646632\" xlink:href=\"#mdb870c8052\" y=\"224.64\"/>\n      </g>\n     </g>\n     <g id=\"text_6\">\n      <!-- 35 -->\n      <g transform=\"translate(245.284132 239.238438)scale(0.1 -0.1)\">\n       <use xlink:href=\"#DejaVuSans-51\"/>\n       <use x=\"63.623047\" xlink:href=\"#DejaVuSans-53\"/>\n      </g>\n     </g>\n    </g>\n    <g id=\"xtick_7\">\n     <g id=\"line2d_7\">\n      <g>\n       <use style=\"stroke:#000000;stroke-width:0.8;\" x=\"296.30822\" xlink:href=\"#mdb870c8052\" y=\"224.64\"/>\n      </g>\n     </g>\n     <g id=\"text_7\">\n      <!-- 40 -->\n      <g transform=\"translate(289.94572 239.238438)scale(0.1 -0.1)\">\n       <defs>\n        <path d=\"M 37.796875 64.3125 \nL 12.890625 25.390625 \nL 37.796875 25.390625 \nz\nM 35.203125 72.90625 \nL 47.609375 72.90625 \nL 47.609375 25.390625 \nL 58.015625 25.390625 \nL 58.015625 17.1875 \nL 47.609375 17.1875 \nL 47.609375 0 \nL 37.796875 0 \nL 37.796875 17.1875 \nL 4.890625 17.1875 \nL 4.890625 26.703125 \nz\n\" id=\"DejaVuSans-52\"/>\n       </defs>\n       <use xlink:href=\"#DejaVuSans-52\"/>\n       <use x=\"63.623047\" xlink:href=\"#DejaVuSans-48\"/>\n      </g>\n     </g>\n    </g>\n    <g id=\"xtick_8\">\n     <g id=\"line2d_8\">\n      <g>\n       <use style=\"stroke:#000000;stroke-width:0.8;\" x=\"340.969808\" xlink:href=\"#mdb870c8052\" y=\"224.64\"/>\n      </g>\n     </g>\n     <g id=\"text_8\">\n      <!-- 45 -->\n      <g transform=\"translate(334.607308 239.238438)scale(0.1 -0.1)\">\n       <use xlink:href=\"#DejaVuSans-52\"/>\n       <use x=\"63.623047\" xlink:href=\"#DejaVuSans-53\"/>\n      </g>\n     </g>\n    </g>\n   </g>\n   <g id=\"matplotlib.axis_2\">\n    <g id=\"ytick_1\">\n     <g id=\"line2d_9\">\n      <defs>\n       <path d=\"M 0 0 \nL -3.5 0 \n\" id=\"m9f093d726e\" style=\"stroke:#000000;stroke-width:0.8;\"/>\n      </defs>\n      <g>\n       <use style=\"stroke:#000000;stroke-width:0.8;\" x=\"26.925\" xlink:href=\"#m9f093d726e\" y=\"195.250487\"/>\n      </g>\n     </g>\n     <g id=\"text_9\">\n      <!-- 85 -->\n      <g transform=\"translate(7.2 199.049705)scale(0.1 -0.1)\">\n       <defs>\n        <path d=\"M 31.78125 34.625 \nQ 24.75 34.625 20.71875 30.859375 \nQ 16.703125 27.09375 16.703125 20.515625 \nQ 16.703125 13.921875 20.71875 10.15625 \nQ 24.75 6.390625 31.78125 6.390625 \nQ 38.8125 6.390625 42.859375 10.171875 \nQ 46.921875 13.96875 46.921875 20.515625 \nQ 46.921875 27.09375 42.890625 30.859375 \nQ 38.875 34.625 31.78125 34.625 \nz\nM 21.921875 38.8125 \nQ 15.578125 40.375 12.03125 44.71875 \nQ 8.5 49.078125 8.5 55.328125 \nQ 8.5 64.0625 14.71875 69.140625 \nQ 20.953125 74.21875 31.78125 74.21875 \nQ 42.671875 74.21875 48.875 69.140625 \nQ 55.078125 64.0625 55.078125 55.328125 \nQ 55.078125 49.078125 51.53125 44.71875 \nQ 48 40.375 41.703125 38.8125 \nQ 48.828125 37.15625 52.796875 32.3125 \nQ 56.78125 27.484375 56.78125 20.515625 \nQ 56.78125 9.90625 50.3125 4.234375 \nQ 43.84375 -1.421875 31.78125 -1.421875 \nQ 19.734375 -1.421875 13.25 4.234375 \nQ 6.78125 9.90625 6.78125 20.515625 \nQ 6.78125 27.484375 10.78125 32.3125 \nQ 14.796875 37.15625 21.921875 38.8125 \nz\nM 18.3125 54.390625 \nQ 18.3125 48.734375 21.84375 45.5625 \nQ 25.390625 42.390625 31.78125 42.390625 \nQ 38.140625 42.390625 41.71875 45.5625 \nQ 45.3125 48.734375 45.3125 54.390625 \nQ 45.3125 60.0625 41.71875 63.234375 \nQ 38.140625 66.40625 31.78125 66.40625 \nQ 25.390625 66.40625 21.84375 63.234375 \nQ 18.3125 60.0625 18.3125 54.390625 \nz\n\" id=\"DejaVuSans-56\"/>\n       </defs>\n       <use xlink:href=\"#DejaVuSans-56\"/>\n       <use x=\"63.623047\" xlink:href=\"#DejaVuSans-53\"/>\n      </g>\n     </g>\n    </g>\n    <g id=\"ytick_2\">\n     <g id=\"line2d_10\">\n      <g>\n       <use style=\"stroke:#000000;stroke-width:0.8;\" x=\"26.925\" xlink:href=\"#m9f093d726e\" y=\"152.737678\"/>\n      </g>\n     </g>\n     <g id=\"text_10\">\n      <!-- 86 -->\n      <g transform=\"translate(7.2 156.536896)scale(0.1 -0.1)\">\n       <defs>\n        <path d=\"M 33.015625 40.375 \nQ 26.375 40.375 22.484375 35.828125 \nQ 18.609375 31.296875 18.609375 23.390625 \nQ 18.609375 15.53125 22.484375 10.953125 \nQ 26.375 6.390625 33.015625 6.390625 \nQ 39.65625 6.390625 43.53125 10.953125 \nQ 47.40625 15.53125 47.40625 23.390625 \nQ 47.40625 31.296875 43.53125 35.828125 \nQ 39.65625 40.375 33.015625 40.375 \nz\nM 52.59375 71.296875 \nL 52.59375 62.3125 \nQ 48.875 64.0625 45.09375 64.984375 \nQ 41.3125 65.921875 37.59375 65.921875 \nQ 27.828125 65.921875 22.671875 59.328125 \nQ 17.53125 52.734375 16.796875 39.40625 \nQ 19.671875 43.65625 24.015625 45.921875 \nQ 28.375 48.1875 33.59375 48.1875 \nQ 44.578125 48.1875 50.953125 41.515625 \nQ 57.328125 34.859375 57.328125 23.390625 \nQ 57.328125 12.15625 50.6875 5.359375 \nQ 44.046875 -1.421875 33.015625 -1.421875 \nQ 20.359375 -1.421875 13.671875 8.265625 \nQ 6.984375 17.96875 6.984375 36.375 \nQ 6.984375 53.65625 15.1875 63.9375 \nQ 23.390625 74.21875 37.203125 74.21875 \nQ 40.921875 74.21875 44.703125 73.484375 \nQ 48.484375 72.75 52.59375 71.296875 \nz\n\" id=\"DejaVuSans-54\"/>\n       </defs>\n       <use xlink:href=\"#DejaVuSans-56\"/>\n       <use x=\"63.623047\" xlink:href=\"#DejaVuSans-54\"/>\n      </g>\n     </g>\n    </g>\n    <g id=\"ytick_3\">\n     <g id=\"line2d_11\">\n      <g>\n       <use style=\"stroke:#000000;stroke-width:0.8;\" x=\"26.925\" xlink:href=\"#m9f093d726e\" y=\"110.224869\"/>\n      </g>\n     </g>\n     <g id=\"text_11\">\n      <!-- 87 -->\n      <g transform=\"translate(7.2 114.024088)scale(0.1 -0.1)\">\n       <defs>\n        <path d=\"M 8.203125 72.90625 \nL 55.078125 72.90625 \nL 55.078125 68.703125 \nL 28.609375 0 \nL 18.3125 0 \nL 43.21875 64.59375 \nL 8.203125 64.59375 \nz\n\" id=\"DejaVuSans-55\"/>\n       </defs>\n       <use xlink:href=\"#DejaVuSans-56\"/>\n       <use x=\"63.623047\" xlink:href=\"#DejaVuSans-55\"/>\n      </g>\n     </g>\n    </g>\n    <g id=\"ytick_4\">\n     <g id=\"line2d_12\">\n      <g>\n       <use style=\"stroke:#000000;stroke-width:0.8;\" x=\"26.925\" xlink:href=\"#m9f093d726e\" y=\"67.71206\"/>\n      </g>\n     </g>\n     <g id=\"text_12\">\n      <!-- 88 -->\n      <g transform=\"translate(7.2 71.511279)scale(0.1 -0.1)\">\n       <use xlink:href=\"#DejaVuSans-56\"/>\n       <use x=\"63.623047\" xlink:href=\"#DejaVuSans-56\"/>\n      </g>\n     </g>\n    </g>\n    <g id=\"ytick_5\">\n     <g id=\"line2d_13\">\n      <g>\n       <use style=\"stroke:#000000;stroke-width:0.8;\" x=\"26.925\" xlink:href=\"#m9f093d726e\" y=\"25.199251\"/>\n      </g>\n     </g>\n     <g id=\"text_13\">\n      <!-- 89 -->\n      <g transform=\"translate(7.2 28.99847)scale(0.1 -0.1)\">\n       <defs>\n        <path d=\"M 10.984375 1.515625 \nL 10.984375 10.5 \nQ 14.703125 8.734375 18.5 7.8125 \nQ 22.3125 6.890625 25.984375 6.890625 \nQ 35.75 6.890625 40.890625 13.453125 \nQ 46.046875 20.015625 46.78125 33.40625 \nQ 43.953125 29.203125 39.59375 26.953125 \nQ 35.25 24.703125 29.984375 24.703125 \nQ 19.046875 24.703125 12.671875 31.3125 \nQ 6.296875 37.9375 6.296875 49.421875 \nQ 6.296875 60.640625 12.9375 67.421875 \nQ 19.578125 74.21875 30.609375 74.21875 \nQ 43.265625 74.21875 49.921875 64.515625 \nQ 56.59375 54.828125 56.59375 36.375 \nQ 56.59375 19.140625 48.40625 8.859375 \nQ 40.234375 -1.421875 26.421875 -1.421875 \nQ 22.703125 -1.421875 18.890625 -0.6875 \nQ 15.09375 0.046875 10.984375 1.515625 \nz\nM 30.609375 32.421875 \nQ 37.25 32.421875 41.125 36.953125 \nQ 45.015625 41.5 45.015625 49.421875 \nQ 45.015625 57.28125 41.125 61.84375 \nQ 37.25 66.40625 30.609375 66.40625 \nQ 23.96875 66.40625 20.09375 61.84375 \nQ 16.21875 57.28125 16.21875 49.421875 \nQ 16.21875 41.5 20.09375 36.953125 \nQ 23.96875 32.421875 30.609375 32.421875 \nz\n\" id=\"DejaVuSans-57\"/>\n       </defs>\n       <use xlink:href=\"#DejaVuSans-56\"/>\n       <use x=\"63.623047\" xlink:href=\"#DejaVuSans-57\"/>\n      </g>\n     </g>\n    </g>\n   </g>\n   <g id=\"line2d_14\">\n    <path clip-path=\"url(#pfb1502e4f7)\" d=\"M 124.761997 143.405179 \nL 218.226185 95.214598 \nL 217.633316 95.520283 \nL 42.143182 186.003833 \nL 248.331545 79.69213 \nL 111.809232 150.083686 \nL 145.427385 132.750006 \nL 77.322368 167.865277 \nL 346.506818 29.072491 \nL 104.99044 153.599487 \nL 287.474854 59.509653 \nL 133.272936 139.016898 \nL 333.86279 35.591812 \nL 218.640986 95.000724 \nL 274.405401 66.248326 \nL 166.186079 122.046724 \nL 198.903423 105.177506 \nL 76.271269 168.407229 \nL 154.939018 127.845762 \nL 174.226795 117.900892 \nL 85.466967 163.665883 \nL 189.671786 109.937382 \nL 127.760138 141.859323 \nL 180.621571 114.603716 \nL 169.46931 120.353875 \nL 239.622021 84.182802 \nL 169.889654 120.137143 \n\" style=\"fill:none;stroke:#ff0000;stroke-linecap:square;stroke-width:1.5;\"/>\n   </g>\n   <g id=\"patch_3\">\n    <path d=\"M 26.925 224.64 \nL 26.925 7.2 \n\" style=\"fill:none;stroke:#000000;stroke-linecap:square;stroke-linejoin:miter;stroke-width:0.8;\"/>\n   </g>\n   <g id=\"patch_4\">\n    <path d=\"M 361.725 224.64 \nL 361.725 7.2 \n\" style=\"fill:none;stroke:#000000;stroke-linecap:square;stroke-linejoin:miter;stroke-width:0.8;\"/>\n   </g>\n   <g id=\"patch_5\">\n    <path d=\"M 26.925 224.64 \nL 361.725 224.64 \n\" style=\"fill:none;stroke:#000000;stroke-linecap:square;stroke-linejoin:miter;stroke-width:0.8;\"/>\n   </g>\n   <g id=\"patch_6\">\n    <path d=\"M 26.925 7.2 \nL 361.725 7.2 \n\" style=\"fill:none;stroke:#000000;stroke-linecap:square;stroke-linejoin:miter;stroke-width:0.8;\"/>\n   </g>\n   <g id=\"legend_1\">\n    <g id=\"patch_7\">\n     <path d=\"M 350.725 20.2 \nL 354.725 20.2 \nQ 356.725 20.2 356.725 18.2 \nL 356.725 14.2 \nQ 356.725 12.2 354.725 12.2 \nL 350.725 12.2 \nQ 348.725 12.2 348.725 14.2 \nL 348.725 18.2 \nQ 348.725 20.2 350.725 20.2 \nz\n\" style=\"fill:#ffffff;opacity:0.8;stroke:#cccccc;stroke-linejoin:miter;\"/>\n    </g>\n   </g>\n  </g>\n </g>\n <defs>\n  <clipPath id=\"pfb1502e4f7\">\n   <rect height=\"217.44\" width=\"334.8\" x=\"26.925\" y=\"7.2\"/>\n  </clipPath>\n </defs>\n</svg>\n",
      "image/png": "[encoded data removed]"
     },
     "metadata": {
      "needs_background": "light"
     }
    }
   ],
   "source": [
    "plt.scatter(X, y)\n",
    "plt.plot(X, y_pred, color='red')\n",
    "plt.show()"
   ]
  },
  {
   "cell_type": "code",
   "execution_count": 41,
   "metadata": {},
   "outputs": [
    {
     "output_type": "stream",
     "name": "stdout",
     "text": [
      "[0.10833313]\n83.96674755290016\n"
     ]
    }
   ],
   "source": [
    "print(model.coef_)\n",
    "print(model.intercept_)"
   ]
  },
  {
   "cell_type": "code",
   "execution_count": null,
   "metadata": {},
   "outputs": [],
   "source": []
  }
 ]
}