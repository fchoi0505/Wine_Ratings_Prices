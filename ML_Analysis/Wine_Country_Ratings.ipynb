{
 "metadata": {
  "language_info": {
   "codemirror_mode": {
    "name": "ipython",
    "version": 3
   },
   "file_extension": ".py",
   "mimetype": "text/x-python",
   "name": "python",
   "nbconvert_exporter": "python",
   "pygments_lexer": "ipython3",
   "version": "3.8.5"
  },
  "orig_nbformat": 2,
  "kernelspec": {
   "name": "python385jvsc74a57bd01d47df2726df29c29c23c34b0b3d2b54c46dfd683137fb1eaab3d0ff44bdcb86",
   "display_name": "Python 3.8.5 64-bit ('base': conda)"
  }
 },
 "nbformat": 4,
 "nbformat_minor": 2,
 "cells": [
  {
   "cell_type": "code",
   "execution_count": 1,
   "metadata": {},
   "outputs": [],
   "source": [
    "#import dependencies\n",
    "import numpy as np\n",
    "import pandas as pd\n",
    "import requests\n",
    "import os \n",
    "\n",
    "from io import StringIO\n",
    "\n",
    "import matplotlib.pyplot as plt"
   ]
  },
  {
   "cell_type": "code",
   "execution_count": 2,
   "metadata": {},
   "outputs": [
    {
     "output_type": "execute_result",
     "data": {
      "text/plain": [
       "        country                            designation  points  price  \\\n",
       "0            US                      Martha's Vineyard      96  235.0   \n",
       "1         Spain  Carodorum SelecciÃ³n Especial Reserva      96  110.0   \n",
       "2            US          Special Selected Late Harvest      96   90.0   \n",
       "3            US                                Reserve      96   65.0   \n",
       "4        France                            La BrÃ»lade      95   66.0   \n",
       "...         ...                                    ...     ...    ...   \n",
       "59745    France                                 Andlau      84   21.0   \n",
       "59746        US                                 Five-O      84   25.0   \n",
       "59747        US                          Crimson Creek      84   27.0   \n",
       "59748  Portugal                      40-year old tawny      84  130.0   \n",
       "59749        US                           Bungalow Red      84   15.0   \n",
       "\n",
       "             province             variety                    winery  \n",
       "0          California  Cabernet Sauvignon                     Heitz  \n",
       "1      Northern Spain       Tinta de Toro  Bodega Carmen RodrÃ­guez  \n",
       "2          California     Sauvignon Blanc                  Macauley  \n",
       "3              Oregon          Pinot Noir                     Ponzi  \n",
       "4            Provence  Provence red blend     Domaine de la BÃ©gude  \n",
       "...               ...                 ...                       ...  \n",
       "59745          Alsace            Riesling         Marc Kreydenweiss  \n",
       "59746        New York           Red Blend              Martha Clara  \n",
       "59747      California              Merlot                Pine Ridge  \n",
       "59748            Port                Port                    PoÃ§as  \n",
       "59749      California      Syrah-Grenache             Casa Barranca  \n",
       "\n",
       "[59750 rows x 7 columns]"
      ],
      "text/html": "<div>\n<style scoped>\n    .dataframe tbody tr th:only-of-type {\n        vertical-align: middle;\n    }\n\n    .dataframe tbody tr th {\n        vertical-align: top;\n    }\n\n    .dataframe thead th {\n        text-align: right;\n    }\n</style>\n<table border=\"1\" class=\"dataframe\">\n  <thead>\n    <tr style=\"text-align: right;\">\n      <th></th>\n      <th>country</th>\n      <th>designation</th>\n      <th>points</th>\n      <th>price</th>\n      <th>province</th>\n      <th>variety</th>\n      <th>winery</th>\n    </tr>\n  </thead>\n  <tbody>\n    <tr>\n      <th>0</th>\n      <td>US</td>\n      <td>Martha's Vineyard</td>\n      <td>96</td>\n      <td>235.0</td>\n      <td>California</td>\n      <td>Cabernet Sauvignon</td>\n      <td>Heitz</td>\n    </tr>\n    <tr>\n      <th>1</th>\n      <td>Spain</td>\n      <td>Carodorum SelecciÃ³n Especial Reserva</td>\n      <td>96</td>\n      <td>110.0</td>\n      <td>Northern Spain</td>\n      <td>Tinta de Toro</td>\n      <td>Bodega Carmen RodrÃ­guez</td>\n    </tr>\n    <tr>\n      <th>2</th>\n      <td>US</td>\n      <td>Special Selected Late Harvest</td>\n      <td>96</td>\n      <td>90.0</td>\n      <td>California</td>\n      <td>Sauvignon Blanc</td>\n      <td>Macauley</td>\n    </tr>\n    <tr>\n      <th>3</th>\n      <td>US</td>\n      <td>Reserve</td>\n      <td>96</td>\n      <td>65.0</td>\n      <td>Oregon</td>\n      <td>Pinot Noir</td>\n      <td>Ponzi</td>\n    </tr>\n    <tr>\n      <th>4</th>\n      <td>France</td>\n      <td>La BrÃ»lade</td>\n      <td>95</td>\n      <td>66.0</td>\n      <td>Provence</td>\n      <td>Provence red blend</td>\n      <td>Domaine de la BÃ©gude</td>\n    </tr>\n    <tr>\n      <th>...</th>\n      <td>...</td>\n      <td>...</td>\n      <td>...</td>\n      <td>...</td>\n      <td>...</td>\n      <td>...</td>\n      <td>...</td>\n    </tr>\n    <tr>\n      <th>59745</th>\n      <td>France</td>\n      <td>Andlau</td>\n      <td>84</td>\n      <td>21.0</td>\n      <td>Alsace</td>\n      <td>Riesling</td>\n      <td>Marc Kreydenweiss</td>\n    </tr>\n    <tr>\n      <th>59746</th>\n      <td>US</td>\n      <td>Five-O</td>\n      <td>84</td>\n      <td>25.0</td>\n      <td>New York</td>\n      <td>Red Blend</td>\n      <td>Martha Clara</td>\n    </tr>\n    <tr>\n      <th>59747</th>\n      <td>US</td>\n      <td>Crimson Creek</td>\n      <td>84</td>\n      <td>27.0</td>\n      <td>California</td>\n      <td>Merlot</td>\n      <td>Pine Ridge</td>\n    </tr>\n    <tr>\n      <th>59748</th>\n      <td>Portugal</td>\n      <td>40-year old tawny</td>\n      <td>84</td>\n      <td>130.0</td>\n      <td>Port</td>\n      <td>Port</td>\n      <td>PoÃ§as</td>\n    </tr>\n    <tr>\n      <th>59749</th>\n      <td>US</td>\n      <td>Bungalow Red</td>\n      <td>84</td>\n      <td>15.0</td>\n      <td>California</td>\n      <td>Syrah-Grenache</td>\n      <td>Casa Barranca</td>\n    </tr>\n  </tbody>\n</table>\n<p>59750 rows × 7 columns</p>\n</div>"
     },
     "metadata": {},
     "execution_count": 2
    }
   ],
   "source": [
    "wine_df_2017 = pd.read_csv('clean_2017.csv')\n",
    "wine_df_2017"
   ]
  },
  {
   "cell_type": "code",
   "execution_count": 3,
   "metadata": {},
   "outputs": [
    {
     "output_type": "execute_result",
     "data": {
      "text/plain": [
       "  country  points  price\n",
       "0      US      96  235.0\n",
       "1   Spain      96  110.0\n",
       "2      US      96   90.0\n",
       "3      US      96   65.0\n",
       "4  France      95   66.0"
      ],
      "text/html": "<div>\n<style scoped>\n    .dataframe tbody tr th:only-of-type {\n        vertical-align: middle;\n    }\n\n    .dataframe tbody tr th {\n        vertical-align: top;\n    }\n\n    .dataframe thead th {\n        text-align: right;\n    }\n</style>\n<table border=\"1\" class=\"dataframe\">\n  <thead>\n    <tr style=\"text-align: right;\">\n      <th></th>\n      <th>country</th>\n      <th>points</th>\n      <th>price</th>\n    </tr>\n  </thead>\n  <tbody>\n    <tr>\n      <th>0</th>\n      <td>US</td>\n      <td>96</td>\n      <td>235.0</td>\n    </tr>\n    <tr>\n      <th>1</th>\n      <td>Spain</td>\n      <td>96</td>\n      <td>110.0</td>\n    </tr>\n    <tr>\n      <th>2</th>\n      <td>US</td>\n      <td>96</td>\n      <td>90.0</td>\n    </tr>\n    <tr>\n      <th>3</th>\n      <td>US</td>\n      <td>96</td>\n      <td>65.0</td>\n    </tr>\n    <tr>\n      <th>4</th>\n      <td>France</td>\n      <td>95</td>\n      <td>66.0</td>\n    </tr>\n  </tbody>\n</table>\n</div>"
     },
     "metadata": {},
     "execution_count": 3
    }
   ],
   "source": [
    "# Drop columns that are not needed for the ML piece\n",
    "wine_ml_2017 = wine_df_2017.drop(['designation', 'province', 'winery', 'variety'], axis=1)\n",
    "wine_ml_2017.head()"
   ]
  },
  {
   "cell_type": "code",
   "execution_count": 4,
   "metadata": {},
   "outputs": [
    {
     "output_type": "execute_result",
     "data": {
      "text/plain": [
       "country    0\n",
       "points     0\n",
       "price      0\n",
       "dtype: int64"
      ]
     },
     "metadata": {},
     "execution_count": 4
    }
   ],
   "source": [
    "wine_ml_2017.isnull().sum()"
   ]
  },
  {
   "cell_type": "code",
   "execution_count": 5,
   "metadata": {},
   "outputs": [
    {
     "output_type": "execute_result",
     "data": {
      "text/plain": [
       "  country  points  price\n",
       "0      US      96  235.0\n",
       "1   Other      96  110.0\n",
       "2      US      96   90.0\n",
       "3      US      96   65.0\n",
       "4   Other      95   66.0"
      ],
      "text/html": "<div>\n<style scoped>\n    .dataframe tbody tr th:only-of-type {\n        vertical-align: middle;\n    }\n\n    .dataframe tbody tr th {\n        vertical-align: top;\n    }\n\n    .dataframe thead th {\n        text-align: right;\n    }\n</style>\n<table border=\"1\" class=\"dataframe\">\n  <thead>\n    <tr style=\"text-align: right;\">\n      <th></th>\n      <th>country</th>\n      <th>points</th>\n      <th>price</th>\n    </tr>\n  </thead>\n  <tbody>\n    <tr>\n      <th>0</th>\n      <td>US</td>\n      <td>96</td>\n      <td>235.0</td>\n    </tr>\n    <tr>\n      <th>1</th>\n      <td>Other</td>\n      <td>96</td>\n      <td>110.0</td>\n    </tr>\n    <tr>\n      <th>2</th>\n      <td>US</td>\n      <td>96</td>\n      <td>90.0</td>\n    </tr>\n    <tr>\n      <th>3</th>\n      <td>US</td>\n      <td>96</td>\n      <td>65.0</td>\n    </tr>\n    <tr>\n      <th>4</th>\n      <td>Other</td>\n      <td>95</td>\n      <td>66.0</td>\n    </tr>\n  </tbody>\n</table>\n</div>"
     },
     "metadata": {},
     "execution_count": 5
    }
   ],
   "source": [
    "# Convert country values that are not US to Other Country\n",
    "wine_ml_2017['country'] = wine_ml_2017['country'].replace({'Spain':'Other', 'Italy':'Other', 'France':'Other', 'Chile':'Other', 'Not US': 'Other', 'Portugal':'Other', 'Argentina':'Other', 'Australia':'Other', 'Germany':'Other', 'New Zealand':'Other', 'South Africa':'Other', 'Greece':'Other', 'Israel':'Other', 'Canada':'Other', 'Hungary':'Other', 'Romania':'Other', 'Croatia':'Other', 'Slovenia':'Other', 'Bulgaria':'Other', 'Mexico':'Other', 'Moldova':'Other', 'Uruguay':'Other', 'Turkey':'Other', 'Georgia':'Other', 'Lebanon':'Other', 'Cyprus':'Other','Brazil':'Other', 'England':'Other', 'Serbia':'Other', 'Morocco':'Other', 'Ukraine':'Other', 'Lithuania':'Other', 'Macedonia':'Other', 'Switzerland':'Other', 'Luxembourg':'Other', 'India':'Other', 'South Korea':'Other', 'China':'Other', 'Bosnia and Herzegovina':'Other', 'Japan':'Other', 'Austria':'Other'})\n",
    "wine_ml_2017.head()"
   ]
  },
  {
   "cell_type": "code",
   "execution_count": 6,
   "metadata": {},
   "outputs": [
    {
     "output_type": "execute_result",
     "data": {
      "text/plain": [
       "         points  price\n",
       "country               \n",
       "Other     34499  34499\n",
       "US        25251  25251"
      ],
      "text/html": "<div>\n<style scoped>\n    .dataframe tbody tr th:only-of-type {\n        vertical-align: middle;\n    }\n\n    .dataframe tbody tr th {\n        vertical-align: top;\n    }\n\n    .dataframe thead th {\n        text-align: right;\n    }\n</style>\n<table border=\"1\" class=\"dataframe\">\n  <thead>\n    <tr style=\"text-align: right;\">\n      <th></th>\n      <th>points</th>\n      <th>price</th>\n    </tr>\n    <tr>\n      <th>country</th>\n      <th></th>\n      <th></th>\n    </tr>\n  </thead>\n  <tbody>\n    <tr>\n      <th>Other</th>\n      <td>34499</td>\n      <td>34499</td>\n    </tr>\n    <tr>\n      <th>US</th>\n      <td>25251</td>\n      <td>25251</td>\n    </tr>\n  </tbody>\n</table>\n</div>"
     },
     "metadata": {},
     "execution_count": 6
    }
   ],
   "source": [
    "# shows the counts by country to see spread\n",
    "# US is roughly half of the dataset\n",
    "wine_ml_2017.groupby(['country']).count()"
   ]
  },
  {
   "cell_type": "code",
   "execution_count": 7,
   "metadata": {},
   "outputs": [
    {
     "output_type": "execute_result",
     "data": {
      "text/plain": [
       "      country  points   price  ratings_desc\n",
       "48598      US      80    20.0           0.0\n",
       "16517   Other      80    10.0           0.0\n",
       "33541   Other      80    40.0           0.0\n",
       "38510   Other      80    20.0           0.0\n",
       "38509   Other      80     9.0           0.0\n",
       "...       ...     ...     ...           ...\n",
       "46177      US     100   215.0           1.0\n",
       "17630   Other     100   195.0           1.0\n",
       "51821   Other     100   210.0           1.0\n",
       "14905   Other     100   460.0           1.0\n",
       "16301   Other     100  1400.0           1.0\n",
       "\n",
       "[59750 rows x 4 columns]"
      ],
      "text/html": "<div>\n<style scoped>\n    .dataframe tbody tr th:only-of-type {\n        vertical-align: middle;\n    }\n\n    .dataframe tbody tr th {\n        vertical-align: top;\n    }\n\n    .dataframe thead th {\n        text-align: right;\n    }\n</style>\n<table border=\"1\" class=\"dataframe\">\n  <thead>\n    <tr style=\"text-align: right;\">\n      <th></th>\n      <th>country</th>\n      <th>points</th>\n      <th>price</th>\n      <th>ratings_desc</th>\n    </tr>\n  </thead>\n  <tbody>\n    <tr>\n      <th>48598</th>\n      <td>US</td>\n      <td>80</td>\n      <td>20.0</td>\n      <td>0.0</td>\n    </tr>\n    <tr>\n      <th>16517</th>\n      <td>Other</td>\n      <td>80</td>\n      <td>10.0</td>\n      <td>0.0</td>\n    </tr>\n    <tr>\n      <th>33541</th>\n      <td>Other</td>\n      <td>80</td>\n      <td>40.0</td>\n      <td>0.0</td>\n    </tr>\n    <tr>\n      <th>38510</th>\n      <td>Other</td>\n      <td>80</td>\n      <td>20.0</td>\n      <td>0.0</td>\n    </tr>\n    <tr>\n      <th>38509</th>\n      <td>Other</td>\n      <td>80</td>\n      <td>9.0</td>\n      <td>0.0</td>\n    </tr>\n    <tr>\n      <th>...</th>\n      <td>...</td>\n      <td>...</td>\n      <td>...</td>\n      <td>...</td>\n    </tr>\n    <tr>\n      <th>46177</th>\n      <td>US</td>\n      <td>100</td>\n      <td>215.0</td>\n      <td>1.0</td>\n    </tr>\n    <tr>\n      <th>17630</th>\n      <td>Other</td>\n      <td>100</td>\n      <td>195.0</td>\n      <td>1.0</td>\n    </tr>\n    <tr>\n      <th>51821</th>\n      <td>Other</td>\n      <td>100</td>\n      <td>210.0</td>\n      <td>1.0</td>\n    </tr>\n    <tr>\n      <th>14905</th>\n      <td>Other</td>\n      <td>100</td>\n      <td>460.0</td>\n      <td>1.0</td>\n    </tr>\n    <tr>\n      <th>16301</th>\n      <td>Other</td>\n      <td>100</td>\n      <td>1400.0</td>\n      <td>1.0</td>\n    </tr>\n  </tbody>\n</table>\n<p>59750 rows × 4 columns</p>\n</div>"
     },
     "metadata": {},
     "execution_count": 7
    }
   ],
   "source": [
    "# Convert the TARGET COLUMN values to good_wine and great_wine\n",
    "wine_ml_2017.loc[wine_ml_2017.points >= 90, \"ratings_desc\"] = 1 #great_wine\n",
    "wine_ml_2017.loc[wine_ml_2017.points < 90, \"ratings_desc\"] = 0 #good_value\n",
    "\n",
    "# validate the ratings_desc column is working\n",
    "wine_ml_2017.sort_values(['points'], ascending=True)"
   ]
  },
  {
   "cell_type": "code",
   "execution_count": 14,
   "metadata": {},
   "outputs": [
    {
     "output_type": "execute_result",
     "data": {
      "text/plain": [
       "       price  ratings_desc\n",
       "0      235.0           1.0\n",
       "2       90.0           1.0\n",
       "3       65.0           1.0\n",
       "8       65.0           1.0\n",
       "9       60.0           1.0\n",
       "...      ...           ...\n",
       "59735   14.0           0.0\n",
       "59738   20.0           0.0\n",
       "59746   25.0           0.0\n",
       "59747   27.0           0.0\n",
       "59749   15.0           0.0\n",
       "\n",
       "[25251 rows x 2 columns]"
      ],
      "text/html": "<div>\n<style scoped>\n    .dataframe tbody tr th:only-of-type {\n        vertical-align: middle;\n    }\n\n    .dataframe tbody tr th {\n        vertical-align: top;\n    }\n\n    .dataframe thead th {\n        text-align: right;\n    }\n</style>\n<table border=\"1\" class=\"dataframe\">\n  <thead>\n    <tr style=\"text-align: right;\">\n      <th></th>\n      <th>price</th>\n      <th>ratings_desc</th>\n    </tr>\n  </thead>\n  <tbody>\n    <tr>\n      <th>0</th>\n      <td>235.0</td>\n      <td>1.0</td>\n    </tr>\n    <tr>\n      <th>2</th>\n      <td>90.0</td>\n      <td>1.0</td>\n    </tr>\n    <tr>\n      <th>3</th>\n      <td>65.0</td>\n      <td>1.0</td>\n    </tr>\n    <tr>\n      <th>8</th>\n      <td>65.0</td>\n      <td>1.0</td>\n    </tr>\n    <tr>\n      <th>9</th>\n      <td>60.0</td>\n      <td>1.0</td>\n    </tr>\n    <tr>\n      <th>...</th>\n      <td>...</td>\n      <td>...</td>\n    </tr>\n    <tr>\n      <th>59735</th>\n      <td>14.0</td>\n      <td>0.0</td>\n    </tr>\n    <tr>\n      <th>59738</th>\n      <td>20.0</td>\n      <td>0.0</td>\n    </tr>\n    <tr>\n      <th>59746</th>\n      <td>25.0</td>\n      <td>0.0</td>\n    </tr>\n    <tr>\n      <th>59747</th>\n      <td>27.0</td>\n      <td>0.0</td>\n    </tr>\n    <tr>\n      <th>59749</th>\n      <td>15.0</td>\n      <td>0.0</td>\n    </tr>\n  </tbody>\n</table>\n<p>25251 rows × 2 columns</p>\n</div>"
     },
     "metadata": {},
     "execution_count": 14
    }
   ],
   "source": [
    "# Convert the COUNTRY COLUMN values to good_wine and great_wine\n",
    "US_df = wine_ml_2017[wine_ml_2017.country == 'US']\n",
    "US_df = US_df[['price', 'ratings_desc']]\n",
    "\n",
    "US_df"
   ]
  },
  {
   "cell_type": "code",
   "execution_count": 15,
   "metadata": {},
   "outputs": [
    {
     "output_type": "execute_result",
     "data": {
      "text/plain": [
       "       price  ratings_desc\n",
       "1      110.0           1.0\n",
       "4       66.0           1.0\n",
       "5       73.0           1.0\n",
       "6       65.0           1.0\n",
       "7      110.0           1.0\n",
       "...      ...           ...\n",
       "59742   13.0           0.0\n",
       "59743   13.0           0.0\n",
       "59744   50.0           0.0\n",
       "59745   21.0           0.0\n",
       "59748  130.0           0.0\n",
       "\n",
       "[34499 rows x 2 columns]"
      ],
      "text/html": "<div>\n<style scoped>\n    .dataframe tbody tr th:only-of-type {\n        vertical-align: middle;\n    }\n\n    .dataframe tbody tr th {\n        vertical-align: top;\n    }\n\n    .dataframe thead th {\n        text-align: right;\n    }\n</style>\n<table border=\"1\" class=\"dataframe\">\n  <thead>\n    <tr style=\"text-align: right;\">\n      <th></th>\n      <th>price</th>\n      <th>ratings_desc</th>\n    </tr>\n  </thead>\n  <tbody>\n    <tr>\n      <th>1</th>\n      <td>110.0</td>\n      <td>1.0</td>\n    </tr>\n    <tr>\n      <th>4</th>\n      <td>66.0</td>\n      <td>1.0</td>\n    </tr>\n    <tr>\n      <th>5</th>\n      <td>73.0</td>\n      <td>1.0</td>\n    </tr>\n    <tr>\n      <th>6</th>\n      <td>65.0</td>\n      <td>1.0</td>\n    </tr>\n    <tr>\n      <th>7</th>\n      <td>110.0</td>\n      <td>1.0</td>\n    </tr>\n    <tr>\n      <th>...</th>\n      <td>...</td>\n      <td>...</td>\n    </tr>\n    <tr>\n      <th>59742</th>\n      <td>13.0</td>\n      <td>0.0</td>\n    </tr>\n    <tr>\n      <th>59743</th>\n      <td>13.0</td>\n      <td>0.0</td>\n    </tr>\n    <tr>\n      <th>59744</th>\n      <td>50.0</td>\n      <td>0.0</td>\n    </tr>\n    <tr>\n      <th>59745</th>\n      <td>21.0</td>\n      <td>0.0</td>\n    </tr>\n    <tr>\n      <th>59748</th>\n      <td>130.0</td>\n      <td>0.0</td>\n    </tr>\n  </tbody>\n</table>\n<p>34499 rows × 2 columns</p>\n</div>"
     },
     "metadata": {},
     "execution_count": 15
    }
   ],
   "source": [
    "Other_df = wine_ml_2017[wine_ml_2017.country == 'Other']\n",
    "Other_df = Other_df[['price', 'ratings_desc']]\n",
    "Other_df"
   ]
  },
  {
   "source": [
    "### US Dataset"
   ],
   "cell_type": "markdown",
   "metadata": {}
  },
  {
   "source": [
    "## 1. Split the Data into Training and Testing"
   ],
   "cell_type": "markdown",
   "metadata": {}
  },
  {
   "cell_type": "code",
   "execution_count": 16,
   "metadata": {},
   "outputs": [],
   "source": [
    "# Create our features\n",
    "X = US_df.drop('ratings_desc', axis =1 )\n",
    "\n",
    "# Create our target\n",
    "y = US_df['ratings_desc']\n",
    "\n",
    "from sklearn.model_selection import train_test_split\n",
    "\n",
    "X_train, X_test, y_train, y_test = train_test_split(X, \n",
    "                                                    y, \n",
    "                                                    random_state=1, \n",
    "                                                    stratify=y)"
   ]
  },
  {
   "source": [
    "## 2. Create a Logistic Regression Model"
   ],
   "cell_type": "markdown",
   "metadata": {}
  },
  {
   "cell_type": "code",
   "execution_count": 17,
   "metadata": {},
   "outputs": [
    {
     "output_type": "execute_result",
     "data": {
      "text/plain": [
       "LogisticRegression(random_state=1)"
      ]
     },
     "metadata": {},
     "execution_count": 17
    }
   ],
   "source": [
    "from sklearn.linear_model import LogisticRegression\n",
    "classifier = LogisticRegression(solver='lbfgs', random_state=1)\n",
    "classifier"
   ]
  },
  {
   "source": [
    " ## 3. Fit (train) or model using the training data"
   ],
   "cell_type": "markdown",
   "metadata": {}
  },
  {
   "cell_type": "code",
   "execution_count": 18,
   "metadata": {},
   "outputs": [
    {
     "output_type": "execute_result",
     "data": {
      "text/plain": [
       "LogisticRegression(random_state=1)"
      ]
     },
     "metadata": {},
     "execution_count": 18
    }
   ],
   "source": [
    "# Train the data\n",
    "classifier.fit(X_train, y_train)"
   ]
  },
  {
   "source": [
    "## 4. Make Predictions"
   ],
   "cell_type": "markdown",
   "metadata": {}
  },
  {
   "cell_type": "code",
   "execution_count": 19,
   "metadata": {},
   "outputs": [
    {
     "output_type": "execute_result",
     "data": {
      "text/plain": [
       "       Prediction  Actual\n",
       "23183         0.0     0.0\n",
       "45765         0.0     0.0\n",
       "10945         0.0     1.0\n",
       "48122         0.0     0.0\n",
       "46436         0.0     0.0\n",
       "...           ...     ...\n",
       "14311         1.0     0.0\n",
       "45182         0.0     0.0\n",
       "54501         0.0     0.0\n",
       "1107          1.0     1.0\n",
       "10784         0.0     0.0\n",
       "\n",
       "[6313 rows x 2 columns]"
      ],
      "text/html": "<div>\n<style scoped>\n    .dataframe tbody tr th:only-of-type {\n        vertical-align: middle;\n    }\n\n    .dataframe tbody tr th {\n        vertical-align: top;\n    }\n\n    .dataframe thead th {\n        text-align: right;\n    }\n</style>\n<table border=\"1\" class=\"dataframe\">\n  <thead>\n    <tr style=\"text-align: right;\">\n      <th></th>\n      <th>Prediction</th>\n      <th>Actual</th>\n    </tr>\n  </thead>\n  <tbody>\n    <tr>\n      <th>23183</th>\n      <td>0.0</td>\n      <td>0.0</td>\n    </tr>\n    <tr>\n      <th>45765</th>\n      <td>0.0</td>\n      <td>0.0</td>\n    </tr>\n    <tr>\n      <th>10945</th>\n      <td>0.0</td>\n      <td>1.0</td>\n    </tr>\n    <tr>\n      <th>48122</th>\n      <td>0.0</td>\n      <td>0.0</td>\n    </tr>\n    <tr>\n      <th>46436</th>\n      <td>0.0</td>\n      <td>0.0</td>\n    </tr>\n    <tr>\n      <th>...</th>\n      <td>...</td>\n      <td>...</td>\n    </tr>\n    <tr>\n      <th>14311</th>\n      <td>1.0</td>\n      <td>0.0</td>\n    </tr>\n    <tr>\n      <th>45182</th>\n      <td>0.0</td>\n      <td>0.0</td>\n    </tr>\n    <tr>\n      <th>54501</th>\n      <td>0.0</td>\n      <td>0.0</td>\n    </tr>\n    <tr>\n      <th>1107</th>\n      <td>1.0</td>\n      <td>1.0</td>\n    </tr>\n    <tr>\n      <th>10784</th>\n      <td>0.0</td>\n      <td>0.0</td>\n    </tr>\n  </tbody>\n</table>\n<p>6313 rows × 2 columns</p>\n</div>"
     },
     "metadata": {},
     "execution_count": 19
    }
   ],
   "source": [
    "# Predict outcomes for test data set\n",
    "predictions = classifier.predict(X_test)\n",
    "pd.DataFrame({\"Prediction\": predictions, \"Actual\": y_test})"
   ]
  },
  {
   "source": [
    "## 5. Validate the model using the test data"
   ],
   "cell_type": "markdown",
   "metadata": {}
  },
  {
   "cell_type": "code",
   "execution_count": 20,
   "metadata": {},
   "outputs": [
    {
     "output_type": "execute_result",
     "data": {
      "text/plain": [
       "0.7001425629653096"
      ]
     },
     "metadata": {},
     "execution_count": 20
    }
   ],
   "source": [
    "from sklearn.metrics import accuracy_score\n",
    "accuracy_score(y_test, predictions)"
   ]
  },
  {
   "cell_type": "code",
   "execution_count": 21,
   "metadata": {},
   "outputs": [
    {
     "output_type": "execute_result",
     "data": {
      "text/plain": [
       "array([[3315, 1421],\n",
       "       [ 472, 1105]])"
      ]
     },
     "metadata": {},
     "execution_count": 21
    }
   ],
   "source": [
    "from sklearn.metrics import confusion_matrix\n",
    "cm = confusion_matrix(predictions,y_test)\n",
    "cm"
   ]
  },
  {
   "cell_type": "code",
   "execution_count": 22,
   "metadata": {},
   "outputs": [
    {
     "output_type": "execute_result",
     "data": {
      "text/plain": [
       "                   Predicted good_wine  Predicted great_wine\n",
       "Actual good_wine                  3315                  1421\n",
       "Actual great_wine                  472                  1105"
      ],
      "text/html": "<div>\n<style scoped>\n    .dataframe tbody tr th:only-of-type {\n        vertical-align: middle;\n    }\n\n    .dataframe tbody tr th {\n        vertical-align: top;\n    }\n\n    .dataframe thead th {\n        text-align: right;\n    }\n</style>\n<table border=\"1\" class=\"dataframe\">\n  <thead>\n    <tr style=\"text-align: right;\">\n      <th></th>\n      <th>Predicted good_wine</th>\n      <th>Predicted great_wine</th>\n    </tr>\n  </thead>\n  <tbody>\n    <tr>\n      <th>Actual good_wine</th>\n      <td>3315</td>\n      <td>1421</td>\n    </tr>\n    <tr>\n      <th>Actual great_wine</th>\n      <td>472</td>\n      <td>1105</td>\n    </tr>\n  </tbody>\n</table>\n</div>"
     },
     "metadata": {},
     "execution_count": 22
    }
   ],
   "source": [
    "# Format for easier understanding\n",
    "cm_df = pd.DataFrame(cm)\n",
    "cm_df.columns = ['Predicted good_wine','Predicted great_wine']\n",
    "cm_df = cm_df.rename(index={0: 'Actual good_wine',1:'Actual great_wine'})\n",
    "cm_df"
   ]
  },
  {
   "cell_type": "code",
   "execution_count": 23,
   "metadata": {},
   "outputs": [
    {
     "output_type": "stream",
     "name": "stdout",
     "text": [
      "                   pre       rec       spe        f1       geo       iba       sup\n\n        0.0       0.70      0.88      0.44      0.78      0.62      0.40      3787\n        1.0       0.70      0.44      0.88      0.54      0.62      0.37      2526\n\navg / total       0.70      0.70      0.61      0.68      0.62      0.39      6313\n\n"
     ]
    }
   ],
   "source": [
    "from imblearn.metrics import classification_report_imbalanced\n",
    "print(classification_report_imbalanced(y_test,predictions))"
   ]
  },
  {
   "source": [
    "### Other Country DF"
   ],
   "cell_type": "markdown",
   "metadata": {}
  },
  {
   "cell_type": "code",
   "execution_count": 24,
   "metadata": {},
   "outputs": [],
   "source": [
    "# Create our features\n",
    "X = Other_df.drop('ratings_desc', axis =1 )\n",
    "\n",
    "# Create our target\n",
    "y = Other_df['ratings_desc']\n",
    "\n",
    "from sklearn.model_selection import train_test_split\n",
    "\n",
    "X_train, X_test, y_train, y_test = train_test_split(X, \n",
    "                                                    y, \n",
    "                                                    random_state=1, \n",
    "                                                    stratify=y)"
   ]
  },
  {
   "cell_type": "code",
   "execution_count": 25,
   "metadata": {},
   "outputs": [
    {
     "output_type": "execute_result",
     "data": {
      "text/plain": [
       "LogisticRegression(random_state=1)"
      ]
     },
     "metadata": {},
     "execution_count": 25
    }
   ],
   "source": [
    "from sklearn.linear_model import LogisticRegression\n",
    "classifier = LogisticRegression(solver='lbfgs', random_state=1)\n",
    "classifier"
   ]
  },
  {
   "cell_type": "code",
   "execution_count": 26,
   "metadata": {},
   "outputs": [
    {
     "output_type": "execute_result",
     "data": {
      "text/plain": [
       "LogisticRegression(random_state=1)"
      ]
     },
     "metadata": {},
     "execution_count": 26
    }
   ],
   "source": [
    "# Train the data\n",
    "classifier.fit(X_train, y_train)"
   ]
  },
  {
   "cell_type": "code",
   "execution_count": 27,
   "metadata": {},
   "outputs": [
    {
     "output_type": "execute_result",
     "data": {
      "text/plain": [
       "       Prediction  Actual\n",
       "58775         0.0     0.0\n",
       "1797          1.0     1.0\n",
       "32946         0.0     0.0\n",
       "53467         0.0     0.0\n",
       "17434         0.0     0.0\n",
       "...           ...     ...\n",
       "13341         1.0     1.0\n",
       "16700         0.0     1.0\n",
       "54533         0.0     0.0\n",
       "10674         0.0     0.0\n",
       "47199         0.0     0.0\n",
       "\n",
       "[8625 rows x 2 columns]"
      ],
      "text/html": "<div>\n<style scoped>\n    .dataframe tbody tr th:only-of-type {\n        vertical-align: middle;\n    }\n\n    .dataframe tbody tr th {\n        vertical-align: top;\n    }\n\n    .dataframe thead th {\n        text-align: right;\n    }\n</style>\n<table border=\"1\" class=\"dataframe\">\n  <thead>\n    <tr style=\"text-align: right;\">\n      <th></th>\n      <th>Prediction</th>\n      <th>Actual</th>\n    </tr>\n  </thead>\n  <tbody>\n    <tr>\n      <th>58775</th>\n      <td>0.0</td>\n      <td>0.0</td>\n    </tr>\n    <tr>\n      <th>1797</th>\n      <td>1.0</td>\n      <td>1.0</td>\n    </tr>\n    <tr>\n      <th>32946</th>\n      <td>0.0</td>\n      <td>0.0</td>\n    </tr>\n    <tr>\n      <th>53467</th>\n      <td>0.0</td>\n      <td>0.0</td>\n    </tr>\n    <tr>\n      <th>17434</th>\n      <td>0.0</td>\n      <td>0.0</td>\n    </tr>\n    <tr>\n      <th>...</th>\n      <td>...</td>\n      <td>...</td>\n    </tr>\n    <tr>\n      <th>13341</th>\n      <td>1.0</td>\n      <td>1.0</td>\n    </tr>\n    <tr>\n      <th>16700</th>\n      <td>0.0</td>\n      <td>1.0</td>\n    </tr>\n    <tr>\n      <th>54533</th>\n      <td>0.0</td>\n      <td>0.0</td>\n    </tr>\n    <tr>\n      <th>10674</th>\n      <td>0.0</td>\n      <td>0.0</td>\n    </tr>\n    <tr>\n      <th>47199</th>\n      <td>0.0</td>\n      <td>0.0</td>\n    </tr>\n  </tbody>\n</table>\n<p>8625 rows × 2 columns</p>\n</div>"
     },
     "metadata": {},
     "execution_count": 27
    }
   ],
   "source": [
    "# Predict outcomes for test data set\n",
    "predictions = classifier.predict(X_test)\n",
    "pd.DataFrame({\"Prediction\": predictions, \"Actual\": y_test})"
   ]
  },
  {
   "cell_type": "code",
   "execution_count": 28,
   "metadata": {},
   "outputs": [
    {
     "output_type": "execute_result",
     "data": {
      "text/plain": [
       "0.7742608695652174"
      ]
     },
     "metadata": {},
     "execution_count": 28
    }
   ],
   "source": [
    "from sklearn.metrics import accuracy_score\n",
    "accuracy_score(y_test, predictions)"
   ]
  },
  {
   "cell_type": "code",
   "execution_count": 29,
   "metadata": {},
   "outputs": [
    {
     "output_type": "execute_result",
     "data": {
      "text/plain": [
       "array([[5359, 1545],\n",
       "       [ 402, 1319]])"
      ]
     },
     "metadata": {},
     "execution_count": 29
    }
   ],
   "source": [
    "from sklearn.metrics import confusion_matrix\n",
    "cm = confusion_matrix(predictions,y_test)\n",
    "cm"
   ]
  },
  {
   "cell_type": "code",
   "execution_count": 30,
   "metadata": {},
   "outputs": [
    {
     "output_type": "execute_result",
     "data": {
      "text/plain": [
       "                   Predicted good_wine  Predicted great_wine\n",
       "Actual good_wine                  5359                  1545\n",
       "Actual great_wine                  402                  1319"
      ],
      "text/html": "<div>\n<style scoped>\n    .dataframe tbody tr th:only-of-type {\n        vertical-align: middle;\n    }\n\n    .dataframe tbody tr th {\n        vertical-align: top;\n    }\n\n    .dataframe thead th {\n        text-align: right;\n    }\n</style>\n<table border=\"1\" class=\"dataframe\">\n  <thead>\n    <tr style=\"text-align: right;\">\n      <th></th>\n      <th>Predicted good_wine</th>\n      <th>Predicted great_wine</th>\n    </tr>\n  </thead>\n  <tbody>\n    <tr>\n      <th>Actual good_wine</th>\n      <td>5359</td>\n      <td>1545</td>\n    </tr>\n    <tr>\n      <th>Actual great_wine</th>\n      <td>402</td>\n      <td>1319</td>\n    </tr>\n  </tbody>\n</table>\n</div>"
     },
     "metadata": {},
     "execution_count": 30
    }
   ],
   "source": [
    "# Format for easier understanding\n",
    "cm_df = pd.DataFrame(cm)\n",
    "cm_df.columns = ['Predicted good_wine','Predicted great_wine']\n",
    "cm_df = cm_df.rename(index={0: 'Actual good_wine',1:'Actual great_wine'})\n",
    "cm_df"
   ]
  },
  {
   "cell_type": "code",
   "execution_count": 31,
   "metadata": {},
   "outputs": [
    {
     "output_type": "stream",
     "name": "stdout",
     "text": [
      "                   pre       rec       spe        f1       geo       iba       sup\n\n        0.0       0.78      0.93      0.46      0.85      0.65      0.45      5761\n        1.0       0.77      0.46      0.93      0.58      0.65      0.41      2864\n\navg / total       0.77      0.77      0.62      0.76      0.65      0.44      8625\n\n"
     ]
    }
   ],
   "source": [
    "from imblearn.metrics import classification_report_imbalanced\n",
    "print(classification_report_imbalanced(y_test,predictions))"
   ]
  },
  {
   "cell_type": "code",
   "execution_count": null,
   "metadata": {},
   "outputs": [],
   "source": []
  }
 ]
}