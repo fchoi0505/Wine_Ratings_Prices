{
  "nbformat": 4,
  "nbformat_minor": 0,
  "metadata": {
    "colab": {
      "name": "Wine_ETL_Initial.ipynb",
      "provenance": [],
      "collapsed_sections": []
    },
    "kernelspec": {
      "name": "python376jvsc74a57bd042aa7f8eb9a2ad9e0ff6e87ea67119aa7627cb9b4adee953cb4c79d291ba240e",
      "display_name": "Python 3.7.6 64-bit"
    },
    "language_info": {
      "codemirror_mode": {
        "name": "ipython",
        "version": 3
      },
      "file_extension": ".py",
      "mimetype": "text/x-python",
      "name": "python",
      "nbconvert_exporter": "python",
      "pygments_lexer": "ipython3",
      "version": "3.7.6-final"
    }
  },
  "cells": [
    {
      "cell_type": "markdown",
      "metadata": {
        "id": "qokbTQQ-Pe2Y"
      },
      "source": [
        "## **Initial Setup**\n",
        "Set dependencies , Pull in data"
      ]
    },
    {
      "cell_type": "code",
      "metadata": {
        "id": "yGRDsM6dO8vH"
      },
      "source": [
        "#import dependencies\n",
        "import numpy as np\n",
        "import pandas as pd\n",
        "import requests\n",
        "\n",
        "from io import StringIO\n",
        "\n",
        "import matplotlib.pyplot as plt"
      ],
      "execution_count": 1,
      "outputs": []
    },
    {
      "cell_type": "code",
      "metadata": {
        "colab": {
          "base_uri": "https://localhost:8080/",
          "height": 197
        },
        "id": "anKGjBZcRf3n",
        "outputId": "f7838fb9-01af-4c21-a3e8-fdf7567ed90c"
      },
      "source": [
        "# This is for 2017 DF\n",
        "orig_url = \"https://drive.google.com/file/d/1zFHNHw6mTh4kyx8pVd27rh2ttV8b7zfU/view?usp=sharing\"\n",
        "file_id = orig_url.split('/')[-2]\n",
        "dwn_url='https://drive.google.com/uc?export=download&id=' + file_id\n",
        "url = requests.get(dwn_url).text\n",
        "csv_raw = StringIO(url)\n",
        "csv2017_df = pd.read_csv(csv_raw)\n",
        "csv2017_df.head(5)"
      ],
      "execution_count": 2,
      "outputs": [
        {
          "output_type": "execute_result",
          "data": {
            "text/plain": [
              "   Unnamed: 0 country                                        description  \\\n",
              "0           0      US  This tremendous 100% varietal wine hails from ...   \n",
              "1           1   Spain  Ripe aromas of fig, blackberry and cassis are ...   \n",
              "2           2      US  Mac Watson honors the memory of a wine once ma...   \n",
              "3           3      US  This spent 20 months in 30% new French oak, an...   \n",
              "4           4  France  This is the top wine from La BÃ©gude, named af...   \n",
              "\n",
              "                             designation  points  price        province  \\\n",
              "0                      Martha's Vineyard      96  235.0      California   \n",
              "1  Carodorum SelecciÃ³n Especial Reserva      96  110.0  Northern Spain   \n",
              "2          Special Selected Late Harvest      96   90.0      California   \n",
              "3                                Reserve      96   65.0          Oregon   \n",
              "4                            La BrÃ»lade      95   66.0        Provence   \n",
              "\n",
              "            region_1           region_2             variety  \\\n",
              "0        Napa Valley               Napa  Cabernet Sauvignon   \n",
              "1               Toro                NaN       Tinta de Toro   \n",
              "2     Knights Valley             Sonoma     Sauvignon Blanc   \n",
              "3  Willamette Valley  Willamette Valley          Pinot Noir   \n",
              "4             Bandol                NaN  Provence red blend   \n",
              "\n",
              "                     winery  \n",
              "0                     Heitz  \n",
              "1  Bodega Carmen RodrÃ­guez  \n",
              "2                  Macauley  \n",
              "3                     Ponzi  \n",
              "4     Domaine de la BÃ©gude  "
            ],
            "text/html": "<div>\n<style scoped>\n    .dataframe tbody tr th:only-of-type {\n        vertical-align: middle;\n    }\n\n    .dataframe tbody tr th {\n        vertical-align: top;\n    }\n\n    .dataframe thead th {\n        text-align: right;\n    }\n</style>\n<table border=\"1\" class=\"dataframe\">\n  <thead>\n    <tr style=\"text-align: right;\">\n      <th></th>\n      <th>Unnamed: 0</th>\n      <th>country</th>\n      <th>description</th>\n      <th>designation</th>\n      <th>points</th>\n      <th>price</th>\n      <th>province</th>\n      <th>region_1</th>\n      <th>region_2</th>\n      <th>variety</th>\n      <th>winery</th>\n    </tr>\n  </thead>\n  <tbody>\n    <tr>\n      <th>0</th>\n      <td>0</td>\n      <td>US</td>\n      <td>This tremendous 100% varietal wine hails from ...</td>\n      <td>Martha's Vineyard</td>\n      <td>96</td>\n      <td>235.0</td>\n      <td>California</td>\n      <td>Napa Valley</td>\n      <td>Napa</td>\n      <td>Cabernet Sauvignon</td>\n      <td>Heitz</td>\n    </tr>\n    <tr>\n      <th>1</th>\n      <td>1</td>\n      <td>Spain</td>\n      <td>Ripe aromas of fig, blackberry and cassis are ...</td>\n      <td>Carodorum SelecciÃ³n Especial Reserva</td>\n      <td>96</td>\n      <td>110.0</td>\n      <td>Northern Spain</td>\n      <td>Toro</td>\n      <td>NaN</td>\n      <td>Tinta de Toro</td>\n      <td>Bodega Carmen RodrÃ­guez</td>\n    </tr>\n    <tr>\n      <th>2</th>\n      <td>2</td>\n      <td>US</td>\n      <td>Mac Watson honors the memory of a wine once ma...</td>\n      <td>Special Selected Late Harvest</td>\n      <td>96</td>\n      <td>90.0</td>\n      <td>California</td>\n      <td>Knights Valley</td>\n      <td>Sonoma</td>\n      <td>Sauvignon Blanc</td>\n      <td>Macauley</td>\n    </tr>\n    <tr>\n      <th>3</th>\n      <td>3</td>\n      <td>US</td>\n      <td>This spent 20 months in 30% new French oak, an...</td>\n      <td>Reserve</td>\n      <td>96</td>\n      <td>65.0</td>\n      <td>Oregon</td>\n      <td>Willamette Valley</td>\n      <td>Willamette Valley</td>\n      <td>Pinot Noir</td>\n      <td>Ponzi</td>\n    </tr>\n    <tr>\n      <th>4</th>\n      <td>4</td>\n      <td>France</td>\n      <td>This is the top wine from La BÃ©gude, named af...</td>\n      <td>La BrÃ»lade</td>\n      <td>95</td>\n      <td>66.0</td>\n      <td>Provence</td>\n      <td>Bandol</td>\n      <td>NaN</td>\n      <td>Provence red blend</td>\n      <td>Domaine de la BÃ©gude</td>\n    </tr>\n  </tbody>\n</table>\n</div>"
          },
          "metadata": {},
          "execution_count": 2
        }
      ]
    },
    {
      "cell_type": "code",
      "metadata": {
        "colab": {
          "base_uri": "https://localhost:8080/",
          "height": 347
        },
        "id": "XOQITLH7P8s4",
        "outputId": "4a9eb00c-6b94-4c96-dcd5-30527bcf2bf3"
      },
      "source": [
        "# This is for 2018 DF\n",
        "orig_url = \"https://drive.google.com/file/d/1vwuyrdEwqba8LQYr0jnqJozEgtPZLh_l/view?usp=sharing\"\n",
        "file_id = orig_url.split('/')[-2]\n",
        "dwn_url='https://drive.google.com/uc?export=download&id=' + file_id\n",
        "url = requests.get(dwn_url).text\n",
        "csv_raw = StringIO(url)\n",
        "csv2018_df = pd.read_csv(csv_raw)\n",
        "csv2018_df.head(5)"
      ],
      "execution_count": 3,
      "outputs": [
        {
          "output_type": "execute_result",
          "data": {
            "text/plain": [
              "   country                                              title  \\\n",
              "0   France  Domaine Fernand Engel 2015 Praelatenberg Grand...   \n",
              "1  England  Bride Valley Vineyard 2014 Blanc de Blancs Spa...   \n",
              "2       US  Byron 2015 La Encantada Vineyard Pinot Noir (S...   \n",
              "3       US  Challen 2015 Zotovich Vineyard Pinot Noir (Sta...   \n",
              "4   France  Domaine BarmÃ¨s-Buecher 2016 Hengst Grand Cru ...   \n",
              "\n",
              "                                         description              designation  \\\n",
              "0  \\n                      Beautifully aromatic h...  Praelatenberg Grand Cru   \n",
              "1  \\n                      The merest touch of ne...          Blanc de Blancs   \n",
              "2  \\n                      There's a prominent bu...    La Encantada Vineyard   \n",
              "3  \\n                      Lean and light aromas ...        Zotovich Vineyard   \n",
              "4  \\n                      A citrus zest headines...         Hengst Grand Cru   \n",
              "\n",
              "   points  price    province         region_1       region_2          variety  \\\n",
              "0      94   50.0      Alsace           Alsace            NaN         Riesling   \n",
              "1      94   75.0     England              NaN            NaN  Sparkling Blend   \n",
              "2      94   55.0  California  Sta. Rita Hills  Central Coast       Pinot Noir   \n",
              "3      94   60.0  California  Sta. Rita Hills  Central Coast       Pinot Noir   \n",
              "4      94   44.0      Alsace           Alsace            NaN  GewÃ¼rztraminer   \n",
              "\n",
              "                    winery  \n",
              "0    Domaine Fernand Engel  \n",
              "1    Bride Valley Vineyard  \n",
              "2                    Byron  \n",
              "3                  Challen  \n",
              "4  Domaine BarmÃ¨s-Buecher  "
            ],
            "text/html": "<div>\n<style scoped>\n    .dataframe tbody tr th:only-of-type {\n        vertical-align: middle;\n    }\n\n    .dataframe tbody tr th {\n        vertical-align: top;\n    }\n\n    .dataframe thead th {\n        text-align: right;\n    }\n</style>\n<table border=\"1\" class=\"dataframe\">\n  <thead>\n    <tr style=\"text-align: right;\">\n      <th></th>\n      <th>country</th>\n      <th>title</th>\n      <th>description</th>\n      <th>designation</th>\n      <th>points</th>\n      <th>price</th>\n      <th>province</th>\n      <th>region_1</th>\n      <th>region_2</th>\n      <th>variety</th>\n      <th>winery</th>\n    </tr>\n  </thead>\n  <tbody>\n    <tr>\n      <th>0</th>\n      <td>France</td>\n      <td>Domaine Fernand Engel 2015 Praelatenberg Grand...</td>\n      <td>\\n                      Beautifully aromatic h...</td>\n      <td>Praelatenberg Grand Cru</td>\n      <td>94</td>\n      <td>50.0</td>\n      <td>Alsace</td>\n      <td>Alsace</td>\n      <td>NaN</td>\n      <td>Riesling</td>\n      <td>Domaine Fernand Engel</td>\n    </tr>\n    <tr>\n      <th>1</th>\n      <td>England</td>\n      <td>Bride Valley Vineyard 2014 Blanc de Blancs Spa...</td>\n      <td>\\n                      The merest touch of ne...</td>\n      <td>Blanc de Blancs</td>\n      <td>94</td>\n      <td>75.0</td>\n      <td>England</td>\n      <td>NaN</td>\n      <td>NaN</td>\n      <td>Sparkling Blend</td>\n      <td>Bride Valley Vineyard</td>\n    </tr>\n    <tr>\n      <th>2</th>\n      <td>US</td>\n      <td>Byron 2015 La Encantada Vineyard Pinot Noir (S...</td>\n      <td>\\n                      There's a prominent bu...</td>\n      <td>La Encantada Vineyard</td>\n      <td>94</td>\n      <td>55.0</td>\n      <td>California</td>\n      <td>Sta. Rita Hills</td>\n      <td>Central Coast</td>\n      <td>Pinot Noir</td>\n      <td>Byron</td>\n    </tr>\n    <tr>\n      <th>3</th>\n      <td>US</td>\n      <td>Challen 2015 Zotovich Vineyard Pinot Noir (Sta...</td>\n      <td>\\n                      Lean and light aromas ...</td>\n      <td>Zotovich Vineyard</td>\n      <td>94</td>\n      <td>60.0</td>\n      <td>California</td>\n      <td>Sta. Rita Hills</td>\n      <td>Central Coast</td>\n      <td>Pinot Noir</td>\n      <td>Challen</td>\n    </tr>\n    <tr>\n      <th>4</th>\n      <td>France</td>\n      <td>Domaine BarmÃ¨s-Buecher 2016 Hengst Grand Cru ...</td>\n      <td>\\n                      A citrus zest headines...</td>\n      <td>Hengst Grand Cru</td>\n      <td>94</td>\n      <td>44.0</td>\n      <td>Alsace</td>\n      <td>Alsace</td>\n      <td>NaN</td>\n      <td>GewÃ¼rztraminer</td>\n      <td>Domaine BarmÃ¨s-Buecher</td>\n    </tr>\n  </tbody>\n</table>\n</div>"
          },
          "metadata": {},
          "execution_count": 3
        }
      ]
    },
    {
      "cell_type": "markdown",
      "metadata": {
        "id": "ZLDqxPzH9jJF"
      },
      "source": [
        "# 1. Dropping columns from 2017/2018 that are irrelevant to our ML"
      ]
    },
    {
      "cell_type": "code",
      "metadata": {
        "colab": {
          "base_uri": "https://localhost:8080/",
          "height": 197
        },
        "id": "HK6lN-rAQWuh",
        "outputId": "1a151e4e-062a-487f-8bb7-bb0ef22dfc25"
      },
      "source": [
        "csv2017_df = csv2017_df.drop(['Unnamed: 0', 'region_1', 'region_2', 'description'], axis=1)\n",
        "csv2017_df.head(5)"
      ],
      "execution_count": 4,
      "outputs": [
        {
          "output_type": "execute_result",
          "data": {
            "text/plain": [
              "  country                            designation  points  price  \\\n",
              "0      US                      Martha's Vineyard      96  235.0   \n",
              "1   Spain  Carodorum SelecciÃ³n Especial Reserva      96  110.0   \n",
              "2      US          Special Selected Late Harvest      96   90.0   \n",
              "3      US                                Reserve      96   65.0   \n",
              "4  France                            La BrÃ»lade      95   66.0   \n",
              "\n",
              "         province             variety                    winery  \n",
              "0      California  Cabernet Sauvignon                     Heitz  \n",
              "1  Northern Spain       Tinta de Toro  Bodega Carmen RodrÃ­guez  \n",
              "2      California     Sauvignon Blanc                  Macauley  \n",
              "3          Oregon          Pinot Noir                     Ponzi  \n",
              "4        Provence  Provence red blend     Domaine de la BÃ©gude  "
            ],
            "text/html": "<div>\n<style scoped>\n    .dataframe tbody tr th:only-of-type {\n        vertical-align: middle;\n    }\n\n    .dataframe tbody tr th {\n        vertical-align: top;\n    }\n\n    .dataframe thead th {\n        text-align: right;\n    }\n</style>\n<table border=\"1\" class=\"dataframe\">\n  <thead>\n    <tr style=\"text-align: right;\">\n      <th></th>\n      <th>country</th>\n      <th>designation</th>\n      <th>points</th>\n      <th>price</th>\n      <th>province</th>\n      <th>variety</th>\n      <th>winery</th>\n    </tr>\n  </thead>\n  <tbody>\n    <tr>\n      <th>0</th>\n      <td>US</td>\n      <td>Martha's Vineyard</td>\n      <td>96</td>\n      <td>235.0</td>\n      <td>California</td>\n      <td>Cabernet Sauvignon</td>\n      <td>Heitz</td>\n    </tr>\n    <tr>\n      <th>1</th>\n      <td>Spain</td>\n      <td>Carodorum SelecciÃ³n Especial Reserva</td>\n      <td>96</td>\n      <td>110.0</td>\n      <td>Northern Spain</td>\n      <td>Tinta de Toro</td>\n      <td>Bodega Carmen RodrÃ­guez</td>\n    </tr>\n    <tr>\n      <th>2</th>\n      <td>US</td>\n      <td>Special Selected Late Harvest</td>\n      <td>96</td>\n      <td>90.0</td>\n      <td>California</td>\n      <td>Sauvignon Blanc</td>\n      <td>Macauley</td>\n    </tr>\n    <tr>\n      <th>3</th>\n      <td>US</td>\n      <td>Reserve</td>\n      <td>96</td>\n      <td>65.0</td>\n      <td>Oregon</td>\n      <td>Pinot Noir</td>\n      <td>Ponzi</td>\n    </tr>\n    <tr>\n      <th>4</th>\n      <td>France</td>\n      <td>La BrÃ»lade</td>\n      <td>95</td>\n      <td>66.0</td>\n      <td>Provence</td>\n      <td>Provence red blend</td>\n      <td>Domaine de la BÃ©gude</td>\n    </tr>\n  </tbody>\n</table>\n</div>"
          },
          "metadata": {},
          "execution_count": 4
        }
      ]
    },
    {
      "cell_type": "code",
      "metadata": {
        "colab": {
          "base_uri": "https://localhost:8080/",
          "height": 197
        },
        "id": "06aHtDTZ9jJG",
        "outputId": "50287bc0-535a-4760-9578-816ce08f423f"
      },
      "source": [
        "csv2018_df = csv2018_df.drop(['title', 'region_1', 'region_2', 'description'], axis=1)\n",
        "csv2018_df.head(5)"
      ],
      "execution_count": 5,
      "outputs": [
        {
          "output_type": "execute_result",
          "data": {
            "text/plain": [
              "   country              designation  points  price    province  \\\n",
              "0   France  Praelatenberg Grand Cru      94   50.0      Alsace   \n",
              "1  England          Blanc de Blancs      94   75.0     England   \n",
              "2       US    La Encantada Vineyard      94   55.0  California   \n",
              "3       US        Zotovich Vineyard      94   60.0  California   \n",
              "4   France         Hengst Grand Cru      94   44.0      Alsace   \n",
              "\n",
              "           variety                   winery  \n",
              "0         Riesling    Domaine Fernand Engel  \n",
              "1  Sparkling Blend    Bride Valley Vineyard  \n",
              "2       Pinot Noir                    Byron  \n",
              "3       Pinot Noir                  Challen  \n",
              "4  GewÃ¼rztraminer  Domaine BarmÃ¨s-Buecher  "
            ],
            "text/html": "<div>\n<style scoped>\n    .dataframe tbody tr th:only-of-type {\n        vertical-align: middle;\n    }\n\n    .dataframe tbody tr th {\n        vertical-align: top;\n    }\n\n    .dataframe thead th {\n        text-align: right;\n    }\n</style>\n<table border=\"1\" class=\"dataframe\">\n  <thead>\n    <tr style=\"text-align: right;\">\n      <th></th>\n      <th>country</th>\n      <th>designation</th>\n      <th>points</th>\n      <th>price</th>\n      <th>province</th>\n      <th>variety</th>\n      <th>winery</th>\n    </tr>\n  </thead>\n  <tbody>\n    <tr>\n      <th>0</th>\n      <td>France</td>\n      <td>Praelatenberg Grand Cru</td>\n      <td>94</td>\n      <td>50.0</td>\n      <td>Alsace</td>\n      <td>Riesling</td>\n      <td>Domaine Fernand Engel</td>\n    </tr>\n    <tr>\n      <th>1</th>\n      <td>England</td>\n      <td>Blanc de Blancs</td>\n      <td>94</td>\n      <td>75.0</td>\n      <td>England</td>\n      <td>Sparkling Blend</td>\n      <td>Bride Valley Vineyard</td>\n    </tr>\n    <tr>\n      <th>2</th>\n      <td>US</td>\n      <td>La Encantada Vineyard</td>\n      <td>94</td>\n      <td>55.0</td>\n      <td>California</td>\n      <td>Pinot Noir</td>\n      <td>Byron</td>\n    </tr>\n    <tr>\n      <th>3</th>\n      <td>US</td>\n      <td>Zotovich Vineyard</td>\n      <td>94</td>\n      <td>60.0</td>\n      <td>California</td>\n      <td>Pinot Noir</td>\n      <td>Challen</td>\n    </tr>\n    <tr>\n      <th>4</th>\n      <td>France</td>\n      <td>Hengst Grand Cru</td>\n      <td>94</td>\n      <td>44.0</td>\n      <td>Alsace</td>\n      <td>GewÃ¼rztraminer</td>\n      <td>Domaine BarmÃ¨s-Buecher</td>\n    </tr>\n  </tbody>\n</table>\n</div>"
          },
          "metadata": {},
          "execution_count": 5
        }
      ]
    },
    {
      "cell_type": "code",
      "metadata": {
        "colab": {
          "base_uri": "https://localhost:8080/"
        },
        "id": "LAqLkCKp9jJH",
        "outputId": "b3e7d7f0-46cf-4fb4-a062-feae9a14cb58"
      },
      "source": [
        "# Check 2017 df has null values\n",
        "csv2017_df.isnull().sum()"
      ],
      "execution_count": 6,
      "outputs": [
        {
          "output_type": "execute_result",
          "data": {
            "text/plain": [
              "country            5\n",
              "designation    45735\n",
              "points             0\n",
              "price          13695\n",
              "province           5\n",
              "variety            0\n",
              "winery             0\n",
              "dtype: int64"
            ]
          },
          "metadata": {},
          "execution_count": 6
        }
      ]
    },
    {
      "cell_type": "code",
      "metadata": {
        "colab": {
          "base_uri": "https://localhost:8080/",
          "height": 185
        },
        "id": "0uIHV1zp9jJH",
        "outputId": "00a1efb2-4a9c-4dc5-fe12-e6208a4f13ce"
      },
      "source": [
        "# Check 2018 df has null values\n",
        "csv2018_df.isnull().sum()"
      ],
      "execution_count": 7,
      "outputs": [
        {
          "output_type": "execute_result",
          "data": {
            "text/plain": [
              "country           2\n",
              "designation    5957\n",
              "points            0\n",
              "price          1288\n",
              "province          2\n",
              "variety           0\n",
              "winery            0\n",
              "dtype: int64"
            ]
          },
          "metadata": {},
          "execution_count": 7
        }
      ]
    },
    {
      "cell_type": "code",
      "metadata": {
        "colab": {
          "base_uri": "https://localhost:8080/"
        },
        "id": "vAV_hgeC9jJI",
        "outputId": "f5aa343b-d015-43aa-9c9a-fe4243530132"
      },
      "source": [
        "# Check 2017 Unique Values\n",
        "len(csv2017_df.designation.unique())\n",
        "# Check 2017 Unique Values\n",
        "#len(csv2017_df.country.unique())"
      ],
      "execution_count": 8,
      "outputs": [
        {
          "output_type": "execute_result",
          "data": {
            "text/plain": [
              "30622"
            ]
          },
          "metadata": {},
          "execution_count": 8
        }
      ]
    },
    {
      "cell_type": "markdown",
      "metadata": {
        "id": "xZpjqZxn9jJI"
      },
      "source": [
        "# 2. **Data Health Check**: Drop NA rows / check data types / drop dupes"
      ]
    },
    {
      "cell_type": "code",
      "metadata": {
        "colab": {
          "base_uri": "https://localhost:8080/"
        },
        "id": "Djnmy_GH9jJI",
        "outputId": "e45b474e-a508-48fa-87de-2bce1bce1c48"
      },
      "source": [
        "# Drop 2017 NaN Values then check number of data rows\n",
        "dropped_df2017 = csv2017_df.dropna()\n",
        "dropped_df2017.count()"
      ],
      "execution_count": 9,
      "outputs": [
        {
          "output_type": "execute_result",
          "data": {
            "text/plain": [
              "country        94919\n",
              "designation    94919\n",
              "points         94919\n",
              "price          94919\n",
              "province       94919\n",
              "variety        94919\n",
              "winery         94919\n",
              "dtype: int64"
            ]
          },
          "metadata": {},
          "execution_count": 9
        }
      ]
    },
    {
      "cell_type": "code",
      "metadata": {
        "colab": {
          "base_uri": "https://localhost:8080/"
        },
        "id": "_FSM3wrR9jJJ",
        "outputId": "82d39884-c5d6-4e61-8609-5b20d4fd1949"
      },
      "source": [
        "# Drop 2018 Nan Values then check number of data rows\n",
        "dropped_df2018 = csv2018_df.dropna()\n",
        "dropped_df2018.count()"
      ],
      "execution_count": 10,
      "outputs": [
        {
          "output_type": "execute_result",
          "data": {
            "text/plain": [
              "country        16013\n",
              "designation    16013\n",
              "points         16013\n",
              "price          16013\n",
              "province       16013\n",
              "variety        16013\n",
              "winery         16013\n",
              "dtype: int64"
            ]
          },
          "metadata": {},
          "execution_count": 10
        }
      ]
    },
    {
      "cell_type": "markdown",
      "metadata": {
        "id": "ci-ZvnYhS45B"
      },
      "source": [
        "## GROUP DECISION: CONTINUE ONLY WORKING WITH 2017 DATA"
      ]
    },
    {
      "cell_type": "code",
      "metadata": {
        "id": "x5cBB8cwS45C",
        "colab": {
          "base_uri": "https://localhost:8080/"
        },
        "outputId": "df7d5333-705e-4164-a9c1-4339c561713e"
      },
      "source": [
        "#remove duplicate values\n",
        "dropped_df2017 = dropped_df2017.drop_duplicates()\n",
        "dropped_df2017.count()"
      ],
      "execution_count": 11,
      "outputs": [
        {
          "output_type": "execute_result",
          "data": {
            "text/plain": [
              "country        59750\n",
              "designation    59750\n",
              "points         59750\n",
              "price          59750\n",
              "province       59750\n",
              "variety        59750\n",
              "winery         59750\n",
              "dtype: int64"
            ]
          },
          "metadata": {},
          "execution_count": 11
        }
      ]
    },
    {
      "cell_type": "code",
      "metadata": {
        "id": "joHpEd8QS45C",
        "colab": {
          "base_uri": "https://localhost:8080/"
        },
        "outputId": "c0edb4e9-adb8-445e-a76a-abf64e704108"
      },
      "source": [
        "#2017 datatypes\n",
        "dropped_df2017.dtypes"
      ],
      "execution_count": 12,
      "outputs": [
        {
          "output_type": "execute_result",
          "data": {
            "text/plain": [
              "country         object\n",
              "designation     object\n",
              "points           int64\n",
              "price          float64\n",
              "province        object\n",
              "variety         object\n",
              "winery          object\n",
              "dtype: object"
            ]
          },
          "metadata": {},
          "execution_count": 12
        }
      ]
    },
    {
      "cell_type": "markdown",
      "metadata": {
        "id": "8KXfnXZD2dj0"
      },
      "source": [
        "### Machine Learning: Continue working with 2017 dataframe"
      ]
    },
    {
      "cell_type": "code",
      "metadata": {
        "id": "u5TKB9jG9jJJ",
        "outputId": "f2c6d155-d7b3-4825-cffc-0e92c552908a"
      },
      "source": [
        "# Create a dataframe with country, price, points, and variety\n",
        "new2017_df = dropped_df2017[['country', 'variety','price','points']]\n",
        "new2017_df.head()"
      ],
      "execution_count": 13,
      "outputs": [
        {
          "output_type": "execute_result",
          "data": {
            "text/plain": [
              "  country             variety  price  points\n",
              "0      US  Cabernet Sauvignon  235.0      96\n",
              "1   Spain       Tinta de Toro  110.0      96\n",
              "2      US     Sauvignon Blanc   90.0      96\n",
              "3      US          Pinot Noir   65.0      96\n",
              "4  France  Provence red blend   66.0      95"
            ],
            "text/html": "<div>\n<style scoped>\n    .dataframe tbody tr th:only-of-type {\n        vertical-align: middle;\n    }\n\n    .dataframe tbody tr th {\n        vertical-align: top;\n    }\n\n    .dataframe thead th {\n        text-align: right;\n    }\n</style>\n<table border=\"1\" class=\"dataframe\">\n  <thead>\n    <tr style=\"text-align: right;\">\n      <th></th>\n      <th>country</th>\n      <th>variety</th>\n      <th>price</th>\n      <th>points</th>\n    </tr>\n  </thead>\n  <tbody>\n    <tr>\n      <th>0</th>\n      <td>US</td>\n      <td>Cabernet Sauvignon</td>\n      <td>235.0</td>\n      <td>96</td>\n    </tr>\n    <tr>\n      <th>1</th>\n      <td>Spain</td>\n      <td>Tinta de Toro</td>\n      <td>110.0</td>\n      <td>96</td>\n    </tr>\n    <tr>\n      <th>2</th>\n      <td>US</td>\n      <td>Sauvignon Blanc</td>\n      <td>90.0</td>\n      <td>96</td>\n    </tr>\n    <tr>\n      <th>3</th>\n      <td>US</td>\n      <td>Pinot Noir</td>\n      <td>65.0</td>\n      <td>96</td>\n    </tr>\n    <tr>\n      <th>4</th>\n      <td>France</td>\n      <td>Provence red blend</td>\n      <td>66.0</td>\n      <td>95</td>\n    </tr>\n  </tbody>\n</table>\n</div>"
          },
          "metadata": {},
          "execution_count": 13
        }
      ]
    },
    {
      "cell_type": "code",
      "metadata": {
        "id": "NwDOrYogS45D",
        "outputId": "b0112f15-6143-4ca6-cbe8-86cd0adf4191"
      },
      "source": [
        "#rename columns in dataframe to be more fitting\n",
        "new2017_df = new2017_df.rename(columns = {'points':'ratings_points','price':'price_dollars','variety':'wine_type'},inplace=False)\n",
        "new2017_df.head()"
      ],
      "execution_count": 14,
      "outputs": [
        {
          "output_type": "execute_result",
          "data": {
            "text/plain": [
              "  country           wine_type  price_dollars  ratings_points\n",
              "0      US  Cabernet Sauvignon          235.0              96\n",
              "1   Spain       Tinta de Toro          110.0              96\n",
              "2      US     Sauvignon Blanc           90.0              96\n",
              "3      US          Pinot Noir           65.0              96\n",
              "4  France  Provence red blend           66.0              95"
            ],
            "text/html": "<div>\n<style scoped>\n    .dataframe tbody tr th:only-of-type {\n        vertical-align: middle;\n    }\n\n    .dataframe tbody tr th {\n        vertical-align: top;\n    }\n\n    .dataframe thead th {\n        text-align: right;\n    }\n</style>\n<table border=\"1\" class=\"dataframe\">\n  <thead>\n    <tr style=\"text-align: right;\">\n      <th></th>\n      <th>country</th>\n      <th>wine_type</th>\n      <th>price_dollars</th>\n      <th>ratings_points</th>\n    </tr>\n  </thead>\n  <tbody>\n    <tr>\n      <th>0</th>\n      <td>US</td>\n      <td>Cabernet Sauvignon</td>\n      <td>235.0</td>\n      <td>96</td>\n    </tr>\n    <tr>\n      <th>1</th>\n      <td>Spain</td>\n      <td>Tinta de Toro</td>\n      <td>110.0</td>\n      <td>96</td>\n    </tr>\n    <tr>\n      <th>2</th>\n      <td>US</td>\n      <td>Sauvignon Blanc</td>\n      <td>90.0</td>\n      <td>96</td>\n    </tr>\n    <tr>\n      <th>3</th>\n      <td>US</td>\n      <td>Pinot Noir</td>\n      <td>65.0</td>\n      <td>96</td>\n    </tr>\n    <tr>\n      <th>4</th>\n      <td>France</td>\n      <td>Provence red blend</td>\n      <td>66.0</td>\n      <td>95</td>\n    </tr>\n  </tbody>\n</table>\n</div>"
          },
          "metadata": {},
          "execution_count": 14
        }
      ]
    },
    {
      "cell_type": "code",
      "execution_count": 15,
      "metadata": {},
      "outputs": [
        {
          "output_type": "execute_result",
          "data": {
            "text/plain": [
              "country            object\n",
              "wine_type          object\n",
              "price_dollars     float64\n",
              "ratings_points      int64\n",
              "dtype: object"
            ]
          },
          "metadata": {},
          "execution_count": 15
        }
      ],
      "source": [
        "# check datatypes\n",
        "new2017_df.dtypes"
      ]
    },
    {
      "cell_type": "code",
      "execution_count": 16,
      "metadata": {},
      "outputs": [
        {
          "output_type": "execute_result",
          "data": {
            "text/plain": [
              "country           object\n",
              "wine_type         object\n",
              "price_dollars      int32\n",
              "ratings_points     int32\n",
              "dtype: object"
            ]
          },
          "metadata": {},
          "execution_count": 16
        }
      ],
      "source": [
        "#convert floats to ints for database\n",
        "new2017_df.price_dollars = new2017_df.price_dollars.astype(int)\n",
        "new2017_df.ratings_points = new2017_df.ratings_points.astype(int)\n",
        "new2017_df.dtypes"
      ]
    },
    {
      "cell_type": "code",
      "execution_count": 17,
      "metadata": {},
      "outputs": [],
      "source": [
        "new2017_df[\"wine_type\"] = new2017_df[\"wine_type\"].str.replace(\",\",\"-\")"
      ]
    },
    {
      "cell_type": "code",
      "execution_count": 18,
      "metadata": {},
      "outputs": [],
      "source": [
        "#push to csv for purpose of database\n",
        "new2017_df.to_csv(\"ML_data.csv\", index=False)"
      ]
    },
    {
      "cell_type": "markdown",
      "metadata": {
        "id": "Ful79OT5S45E"
      },
      "source": [
        "**Create a categorical value**<br>\n",
        "convert rating points into good_wine or great_wine based on ratings: http://www.winewins.com/wine-ratings/<br>\n",
        "good_wine: rating 89 or below<br>\n",
        "great_wine: 90 or above<br>"
      ]
    },
    {
      "cell_type": "code",
      "metadata": {
        "id": "ngtsGs6ZS45E"
      },
      "source": [
        "# Convert the TARGET column values to low_risk and high_risk based on their values\n",
        "new2017_df.loc[new2017_df.ratings_points < 90 , \"ratings_desc\"] = 0 #good_wine"
      ],
      "execution_count": 19,
      "outputs": []
    },
    {
      "cell_type": "code",
      "metadata": {
        "id": "RTSectdES45F"
      },
      "source": [
        "new2017_df.loc[new2017_df.ratings_points > 89 , \"ratings_desc\"] = 1 #great_wine"
      ],
      "execution_count": 20,
      "outputs": []
    },
    {
      "cell_type": "code",
      "metadata": {
        "id": "YLNilB6KS45F",
        "outputId": "f99d4695-4dc4-4a68-9562-93d2637de7fc"
      },
      "source": [
        "# validate the ratings_desc column is working\n",
        "new2017_df.sort_values(['ratings_points'], ascending=True)"
      ],
      "execution_count": 21,
      "outputs": [
        {
          "output_type": "execute_result",
          "data": {
            "text/plain": [
              "          country           wine_type  price_dollars  ratings_points  \\\n",
              "101184         US               Syrah             20              80   \n",
              "26661       Spain         White Blend             10              80   \n",
              "60905       Spain           Red Blend             40              80   \n",
              "69561   Argentina              Malbec             20              80   \n",
              "69560   Argentina          TorrontÃ©s              9              80   \n",
              "...           ...                 ...            ...             ...   \n",
              "92916          US  Cabernet Sauvignon            215             100   \n",
              "28954       Italy           Red Blend            195             100   \n",
              "111087      Italy    Prugnolo Gentile            210             100   \n",
              "24151       Italy              Merlot            460             100   \n",
              "26296      France          Chardonnay           1400             100   \n",
              "\n",
              "        ratings_desc  \n",
              "101184           0.0  \n",
              "26661            0.0  \n",
              "60905            0.0  \n",
              "69561            0.0  \n",
              "69560            0.0  \n",
              "...              ...  \n",
              "92916            1.0  \n",
              "28954            1.0  \n",
              "111087           1.0  \n",
              "24151            1.0  \n",
              "26296            1.0  \n",
              "\n",
              "[59750 rows x 5 columns]"
            ],
            "text/html": "<div>\n<style scoped>\n    .dataframe tbody tr th:only-of-type {\n        vertical-align: middle;\n    }\n\n    .dataframe tbody tr th {\n        vertical-align: top;\n    }\n\n    .dataframe thead th {\n        text-align: right;\n    }\n</style>\n<table border=\"1\" class=\"dataframe\">\n  <thead>\n    <tr style=\"text-align: right;\">\n      <th></th>\n      <th>country</th>\n      <th>wine_type</th>\n      <th>price_dollars</th>\n      <th>ratings_points</th>\n      <th>ratings_desc</th>\n    </tr>\n  </thead>\n  <tbody>\n    <tr>\n      <th>101184</th>\n      <td>US</td>\n      <td>Syrah</td>\n      <td>20</td>\n      <td>80</td>\n      <td>0.0</td>\n    </tr>\n    <tr>\n      <th>26661</th>\n      <td>Spain</td>\n      <td>White Blend</td>\n      <td>10</td>\n      <td>80</td>\n      <td>0.0</td>\n    </tr>\n    <tr>\n      <th>60905</th>\n      <td>Spain</td>\n      <td>Red Blend</td>\n      <td>40</td>\n      <td>80</td>\n      <td>0.0</td>\n    </tr>\n    <tr>\n      <th>69561</th>\n      <td>Argentina</td>\n      <td>Malbec</td>\n      <td>20</td>\n      <td>80</td>\n      <td>0.0</td>\n    </tr>\n    <tr>\n      <th>69560</th>\n      <td>Argentina</td>\n      <td>TorrontÃ©s</td>\n      <td>9</td>\n      <td>80</td>\n      <td>0.0</td>\n    </tr>\n    <tr>\n      <th>...</th>\n      <td>...</td>\n      <td>...</td>\n      <td>...</td>\n      <td>...</td>\n      <td>...</td>\n    </tr>\n    <tr>\n      <th>92916</th>\n      <td>US</td>\n      <td>Cabernet Sauvignon</td>\n      <td>215</td>\n      <td>100</td>\n      <td>1.0</td>\n    </tr>\n    <tr>\n      <th>28954</th>\n      <td>Italy</td>\n      <td>Red Blend</td>\n      <td>195</td>\n      <td>100</td>\n      <td>1.0</td>\n    </tr>\n    <tr>\n      <th>111087</th>\n      <td>Italy</td>\n      <td>Prugnolo Gentile</td>\n      <td>210</td>\n      <td>100</td>\n      <td>1.0</td>\n    </tr>\n    <tr>\n      <th>24151</th>\n      <td>Italy</td>\n      <td>Merlot</td>\n      <td>460</td>\n      <td>100</td>\n      <td>1.0</td>\n    </tr>\n    <tr>\n      <th>26296</th>\n      <td>France</td>\n      <td>Chardonnay</td>\n      <td>1400</td>\n      <td>100</td>\n      <td>1.0</td>\n    </tr>\n  </tbody>\n</table>\n<p>59750 rows × 5 columns</p>\n</div>"
          },
          "metadata": {},
          "execution_count": 21
        }
      ]
    },
    {
      "cell_type": "code",
      "metadata": {
        "id": "C-QvfWyGS45F",
        "outputId": "436eddd3-012b-46e2-f7f3-7854556e027f"
      },
      "source": [
        "#check datatypes\n",
        "new2017_df.dtypes"
      ],
      "execution_count": 22,
      "outputs": [
        {
          "output_type": "execute_result",
          "data": {
            "text/plain": [
              "country            object\n",
              "wine_type          object\n",
              "price_dollars       int32\n",
              "ratings_points      int32\n",
              "ratings_desc      float64\n",
              "dtype: object"
            ]
          },
          "metadata": {},
          "execution_count": 22
        }
      ]
    },
    {
      "cell_type": "code",
      "metadata": {
        "id": "EviUbDyIS45G",
        "outputId": "33ca6c74-845e-4c9f-e1ce-bc3649f08223"
      },
      "source": [
        "#https://www.kaggle.com/abolarinbukola/logistic-regression-wine-quality-92\n",
        "#drop ratings_points\n",
        "new2017_df.drop('ratings_points', axis = 1, inplace = True)\n",
        "new2017_df.head()"
      ],
      "execution_count": 23,
      "outputs": [
        {
          "output_type": "execute_result",
          "data": {
            "text/plain": [
              "  country           wine_type  price_dollars  ratings_desc\n",
              "0      US  Cabernet Sauvignon            235           1.0\n",
              "1   Spain       Tinta de Toro            110           1.0\n",
              "2      US     Sauvignon Blanc             90           1.0\n",
              "3      US          Pinot Noir             65           1.0\n",
              "4  France  Provence red blend             66           1.0"
            ],
            "text/html": "<div>\n<style scoped>\n    .dataframe tbody tr th:only-of-type {\n        vertical-align: middle;\n    }\n\n    .dataframe tbody tr th {\n        vertical-align: top;\n    }\n\n    .dataframe thead th {\n        text-align: right;\n    }\n</style>\n<table border=\"1\" class=\"dataframe\">\n  <thead>\n    <tr style=\"text-align: right;\">\n      <th></th>\n      <th>country</th>\n      <th>wine_type</th>\n      <th>price_dollars</th>\n      <th>ratings_desc</th>\n    </tr>\n  </thead>\n  <tbody>\n    <tr>\n      <th>0</th>\n      <td>US</td>\n      <td>Cabernet Sauvignon</td>\n      <td>235</td>\n      <td>1.0</td>\n    </tr>\n    <tr>\n      <th>1</th>\n      <td>Spain</td>\n      <td>Tinta de Toro</td>\n      <td>110</td>\n      <td>1.0</td>\n    </tr>\n    <tr>\n      <th>2</th>\n      <td>US</td>\n      <td>Sauvignon Blanc</td>\n      <td>90</td>\n      <td>1.0</td>\n    </tr>\n    <tr>\n      <th>3</th>\n      <td>US</td>\n      <td>Pinot Noir</td>\n      <td>65</td>\n      <td>1.0</td>\n    </tr>\n    <tr>\n      <th>4</th>\n      <td>France</td>\n      <td>Provence red blend</td>\n      <td>66</td>\n      <td>1.0</td>\n    </tr>\n  </tbody>\n</table>\n</div>"
          },
          "metadata": {},
          "execution_count": 23
        }
      ]
    },
    {
      "cell_type": "code",
      "metadata": {
        "id": "EtFpaINrS45G",
        "outputId": "85184f82-97c8-4622-d9e7-66b3516b1ea9"
      },
      "source": [
        "#get stats of data -- notice the max\n",
        "new2017_df.describe()"
      ],
      "execution_count": 24,
      "outputs": [
        {
          "output_type": "execute_result",
          "data": {
            "text/plain": [
              "       price_dollars  ratings_desc\n",
              "count   59750.000000  59750.000000\n",
              "mean       36.216268      0.360854\n",
              "std        36.442206      0.480252\n",
              "min         4.000000      0.000000\n",
              "25%        17.000000      0.000000\n",
              "50%        27.000000      0.000000\n",
              "75%        45.000000      1.000000\n",
              "max      2013.000000      1.000000"
            ],
            "text/html": "<div>\n<style scoped>\n    .dataframe tbody tr th:only-of-type {\n        vertical-align: middle;\n    }\n\n    .dataframe tbody tr th {\n        vertical-align: top;\n    }\n\n    .dataframe thead th {\n        text-align: right;\n    }\n</style>\n<table border=\"1\" class=\"dataframe\">\n  <thead>\n    <tr style=\"text-align: right;\">\n      <th></th>\n      <th>price_dollars</th>\n      <th>ratings_desc</th>\n    </tr>\n  </thead>\n  <tbody>\n    <tr>\n      <th>count</th>\n      <td>59750.000000</td>\n      <td>59750.000000</td>\n    </tr>\n    <tr>\n      <th>mean</th>\n      <td>36.216268</td>\n      <td>0.360854</td>\n    </tr>\n    <tr>\n      <th>std</th>\n      <td>36.442206</td>\n      <td>0.480252</td>\n    </tr>\n    <tr>\n      <th>min</th>\n      <td>4.000000</td>\n      <td>0.000000</td>\n    </tr>\n    <tr>\n      <th>25%</th>\n      <td>17.000000</td>\n      <td>0.000000</td>\n    </tr>\n    <tr>\n      <th>50%</th>\n      <td>27.000000</td>\n      <td>0.000000</td>\n    </tr>\n    <tr>\n      <th>75%</th>\n      <td>45.000000</td>\n      <td>1.000000</td>\n    </tr>\n    <tr>\n      <th>max</th>\n      <td>2013.000000</td>\n      <td>1.000000</td>\n    </tr>\n  </tbody>\n</table>\n</div>"
          },
          "metadata": {},
          "execution_count": 24
        }
      ]
    },
    {
      "cell_type": "code",
      "metadata": {
        "id": "yVNSTsn6S45H",
        "outputId": "d45aa53b-8d02-41ba-b485-fe799537e948"
      },
      "source": [
        "#check the spread of the price - normal distribution?\n",
        "import seaborn as sns\n",
        "sns.distplot(new2017_df['price_dollars'])"
      ],
      "execution_count": 25,
      "outputs": [
        {
          "output_type": "stream",
          "name": "stderr",
          "text": [
            "C:\\Users\\j9yor\\AppData\\Local\\Programs\\Python\\Python37\\lib\\site-packages\\seaborn\\distributions.py:2557: FutureWarning: `distplot` is a deprecated function and will be removed in a future version. Please adapt your code to use either `displot` (a figure-level function with similar flexibility) or `histplot` (an axes-level function for histograms).\n  warnings.warn(msg, FutureWarning)\n"
          ]
        },
        {
          "output_type": "execute_result",
          "data": {
            "text/plain": [
              "<AxesSubplot:xlabel='price_dollars', ylabel='Density'>"
            ]
          },
          "metadata": {},
          "execution_count": 25
        },
        {
          "output_type": "display_data",
          "data": {
            "text/plain": "<Figure size 432x288 with 1 Axes>",
            "image/svg+xml": "<?xml version=\"1.0\" encoding=\"utf-8\" standalone=\"no\"?>\r\n<!DOCTYPE svg PUBLIC \"-//W3C//DTD SVG 1.1//EN\"\r\n  \"http://www.w3.org/Graphics/SVG/1.1/DTD/svg11.dtd\">\r\n<!-- Created with matplotlib (https://matplotlib.org/) -->\r\n<svg height=\"262.474375pt\" version=\"1.1\" viewBox=\"0 0 398.50625 262.474375\" width=\"398.50625pt\" xmlns=\"http://www.w3.org/2000/svg\" xmlns:xlink=\"http://www.w3.org/1999/xlink\">\r\n <metadata>\r\n  <rdf:RDF xmlns:cc=\"http://creativecommons.org/ns#\" xmlns:dc=\"http://purl.org/dc/elements/1.1/\" xmlns:rdf=\"http://www.w3.org/1999/02/22-rdf-syntax-ns#\">\r\n   <cc:Work>\r\n    <dc:type rdf:resource=\"http://purl.org/dc/dcmitype/StillImage\"/>\r\n    <dc:date>2021-04-24T13:16:04.078931</dc:date>\r\n    <dc:format>image/svg+xml</dc:format>\r\n    <dc:creator>\r\n     <cc:Agent>\r\n      <dc:title>Matplotlib v3.3.3, https://matplotlib.org/</dc:title>\r\n     </cc:Agent>\r\n    </dc:creator>\r\n   </cc:Work>\r\n  </rdf:RDF>\r\n </metadata>\r\n <defs>\r\n  <style type=\"text/css\">*{stroke-linecap:butt;stroke-linejoin:round;}</style>\r\n </defs>\r\n <g id=\"figure_1\">\r\n  <g id=\"patch_1\">\r\n   <path d=\"M 0 262.474375 \r\nL 398.50625 262.474375 \r\nL 398.50625 0 \r\nL 0 0 \r\nz\r\n\" style=\"fill:none;\"/>\r\n  </g>\r\n  <g id=\"axes_1\">\r\n   <g id=\"patch_2\">\r\n    <path d=\"M 56.50625 224.64 \r\nL 391.30625 224.64 \r\nL 391.30625 7.2 \r\nL 56.50625 7.2 \r\nz\r\n\" style=\"fill:#ffffff;\"/>\r\n   </g>\r\n   <g id=\"patch_3\">\r\n    <path clip-path=\"url(#p7646fb58b5)\" d=\"M 73.538539 224.64 \r\nL 79.553248 224.64 \r\nL 79.553248 68.595407 \r\nL 73.538539 68.595407 \r\nz\r\n\" style=\"fill:#1f77b4;opacity:0.4;\"/>\r\n   </g>\r\n   <g id=\"patch_4\">\r\n    <path clip-path=\"url(#p7646fb58b5)\" d=\"M 79.553248 224.64 \r\nL 85.567956 224.64 \r\nL 85.567956 182.971235 \r\nL 79.553248 182.971235 \r\nz\r\n\" style=\"fill:#1f77b4;opacity:0.4;\"/>\r\n   </g>\r\n   <g id=\"patch_5\">\r\n    <path clip-path=\"url(#p7646fb58b5)\" d=\"M 85.567956 224.64 \r\nL 91.582664 224.64 \r\nL 91.582664 217.049818 \r\nL 85.567956 217.049818 \r\nz\r\n\" style=\"fill:#1f77b4;opacity:0.4;\"/>\r\n   </g>\r\n   <g id=\"patch_6\">\r\n    <path clip-path=\"url(#p7646fb58b5)\" d=\"M 91.582664 224.64 \r\nL 97.597373 224.64 \r\nL 97.597373 222.193026 \r\nL 91.582664 222.193026 \r\nz\r\n\" style=\"fill:#1f77b4;opacity:0.4;\"/>\r\n   </g>\r\n   <g id=\"patch_7\">\r\n    <path clip-path=\"url(#p7646fb58b5)\" d=\"M 97.597373 224.64 \r\nL 103.612081 224.64 \r\nL 103.612081 223.836045 \r\nL 97.597373 223.836045 \r\nz\r\n\" style=\"fill:#1f77b4;opacity:0.4;\"/>\r\n   </g>\r\n   <g id=\"patch_8\">\r\n    <path clip-path=\"url(#p7646fb58b5)\" d=\"M 103.612081 224.64 \r\nL 109.62679 224.64 \r\nL 109.62679 224.232756 \r\nL 103.612081 224.232756 \r\nz\r\n\" style=\"fill:#1f77b4;opacity:0.4;\"/>\r\n   </g>\r\n   <g id=\"patch_9\">\r\n    <path clip-path=\"url(#p7646fb58b5)\" d=\"M 109.62679 224.64 \r\nL 115.641498 224.64 \r\nL 115.641498 224.404782 \r\nL 109.62679 224.404782 \r\nz\r\n\" style=\"fill:#1f77b4;opacity:0.4;\"/>\r\n   </g>\r\n   <g id=\"patch_10\">\r\n    <path clip-path=\"url(#p7646fb58b5)\" d=\"M 115.641498 224.64 \r\nL 121.656207 224.64 \r\nL 121.656207 224.450421 \r\nL 115.641498 224.450421 \r\nz\r\n\" style=\"fill:#1f77b4;opacity:0.4;\"/>\r\n   </g>\r\n   <g id=\"patch_11\">\r\n    <path clip-path=\"url(#p7646fb58b5)\" d=\"M 121.656207 224.64 \r\nL 127.670915 224.64 \r\nL 127.670915 224.562764 \r\nL 121.656207 224.562764 \r\nz\r\n\" style=\"fill:#1f77b4;opacity:0.4;\"/>\r\n   </g>\r\n   <g id=\"patch_12\">\r\n    <path clip-path=\"url(#p7646fb58b5)\" d=\"M 127.670915 224.64 \r\nL 133.685623 224.64 \r\nL 133.685623 224.562764 \r\nL 127.670915 224.562764 \r\nz\r\n\" style=\"fill:#1f77b4;opacity:0.4;\"/>\r\n   </g>\r\n   <g id=\"patch_13\">\r\n    <path clip-path=\"url(#p7646fb58b5)\" d=\"M 133.685623 224.64 \r\nL 139.700332 224.64 \r\nL 139.700332 224.594361 \r\nL 133.685623 224.594361 \r\nz\r\n\" style=\"fill:#1f77b4;opacity:0.4;\"/>\r\n   </g>\r\n   <g id=\"patch_14\">\r\n    <path clip-path=\"url(#p7646fb58b5)\" d=\"M 139.700332 224.64 \r\nL 145.71504 224.64 \r\nL 145.71504 224.594361 \r\nL 139.700332 224.594361 \r\nz\r\n\" style=\"fill:#1f77b4;opacity:0.4;\"/>\r\n   </g>\r\n   <g id=\"patch_15\">\r\n    <path clip-path=\"url(#p7646fb58b5)\" d=\"M 145.71504 224.64 \r\nL 151.729749 224.64 \r\nL 151.729749 224.59085 \r\nL 145.71504 224.59085 \r\nz\r\n\" style=\"fill:#1f77b4;opacity:0.4;\"/>\r\n   </g>\r\n   <g id=\"patch_16\">\r\n    <path clip-path=\"url(#p7646fb58b5)\" d=\"M 151.729749 224.64 \r\nL 157.744457 224.64 \r\nL 157.744457 224.629468 \r\nL 151.729749 224.629468 \r\nz\r\n\" style=\"fill:#1f77b4;opacity:0.4;\"/>\r\n   </g>\r\n   <g id=\"patch_17\">\r\n    <path clip-path=\"url(#p7646fb58b5)\" d=\"M 157.744457 224.64 \r\nL 163.759166 224.64 \r\nL 163.759166 224.625957 \r\nL 157.744457 224.625957 \r\nz\r\n\" style=\"fill:#1f77b4;opacity:0.4;\"/>\r\n   </g>\r\n   <g id=\"patch_18\">\r\n    <path clip-path=\"url(#p7646fb58b5)\" d=\"M 163.759166 224.64 \r\nL 169.773874 224.64 \r\nL 169.773874 224.629468 \r\nL 163.759166 224.629468 \r\nz\r\n\" style=\"fill:#1f77b4;opacity:0.4;\"/>\r\n   </g>\r\n   <g id=\"patch_19\">\r\n    <path clip-path=\"url(#p7646fb58b5)\" d=\"M 169.773874 224.64 \r\nL 175.788583 224.64 \r\nL 175.788583 224.632979 \r\nL 169.773874 224.632979 \r\nz\r\n\" style=\"fill:#1f77b4;opacity:0.4;\"/>\r\n   </g>\r\n   <g id=\"patch_20\">\r\n    <path clip-path=\"url(#p7646fb58b5)\" d=\"M 175.788583 224.64 \r\nL 181.803291 224.64 \r\nL 181.803291 224.64 \r\nL 175.788583 224.64 \r\nz\r\n\" style=\"fill:#1f77b4;opacity:0.4;\"/>\r\n   </g>\r\n   <g id=\"patch_21\">\r\n    <path clip-path=\"url(#p7646fb58b5)\" d=\"M 181.803291 224.64 \r\nL 187.817999 224.64 \r\nL 187.817999 224.632979 \r\nL 181.803291 224.632979 \r\nz\r\n\" style=\"fill:#1f77b4;opacity:0.4;\"/>\r\n   </g>\r\n   <g id=\"patch_22\">\r\n    <path clip-path=\"url(#p7646fb58b5)\" d=\"M 187.817999 224.64 \r\nL 193.832708 224.64 \r\nL 193.832708 224.625957 \r\nL 187.817999 224.625957 \r\nz\r\n\" style=\"fill:#1f77b4;opacity:0.4;\"/>\r\n   </g>\r\n   <g id=\"patch_23\">\r\n    <path clip-path=\"url(#p7646fb58b5)\" d=\"M 193.832708 224.64 \r\nL 199.847416 224.64 \r\nL 199.847416 224.64 \r\nL 193.832708 224.64 \r\nz\r\n\" style=\"fill:#1f77b4;opacity:0.4;\"/>\r\n   </g>\r\n   <g id=\"patch_24\">\r\n    <path clip-path=\"url(#p7646fb58b5)\" d=\"M 199.847416 224.64 \r\nL 205.862125 224.64 \r\nL 205.862125 224.636489 \r\nL 199.847416 224.636489 \r\nz\r\n\" style=\"fill:#1f77b4;opacity:0.4;\"/>\r\n   </g>\r\n   <g id=\"patch_25\">\r\n    <path clip-path=\"url(#p7646fb58b5)\" d=\"M 205.862125 224.64 \r\nL 211.876833 224.64 \r\nL 211.876833 224.636489 \r\nL 205.862125 224.636489 \r\nz\r\n\" style=\"fill:#1f77b4;opacity:0.4;\"/>\r\n   </g>\r\n   <g id=\"patch_26\">\r\n    <path clip-path=\"url(#p7646fb58b5)\" d=\"M 211.876833 224.64 \r\nL 217.891542 224.64 \r\nL 217.891542 224.64 \r\nL 211.876833 224.64 \r\nz\r\n\" style=\"fill:#1f77b4;opacity:0.4;\"/>\r\n   </g>\r\n   <g id=\"patch_27\">\r\n    <path clip-path=\"url(#p7646fb58b5)\" d=\"M 217.891542 224.64 \r\nL 223.90625 224.64 \r\nL 223.90625 224.636489 \r\nL 217.891542 224.636489 \r\nz\r\n\" style=\"fill:#1f77b4;opacity:0.4;\"/>\r\n   </g>\r\n   <g id=\"patch_28\">\r\n    <path clip-path=\"url(#p7646fb58b5)\" d=\"M 223.90625 224.64 \r\nL 229.920958 224.64 \r\nL 229.920958 224.64 \r\nL 223.90625 224.64 \r\nz\r\n\" style=\"fill:#1f77b4;opacity:0.4;\"/>\r\n   </g>\r\n   <g id=\"patch_29\">\r\n    <path clip-path=\"url(#p7646fb58b5)\" d=\"M 229.920958 224.64 \r\nL 235.935667 224.64 \r\nL 235.935667 224.64 \r\nL 229.920958 224.64 \r\nz\r\n\" style=\"fill:#1f77b4;opacity:0.4;\"/>\r\n   </g>\r\n   <g id=\"patch_30\">\r\n    <path clip-path=\"url(#p7646fb58b5)\" d=\"M 235.935667 224.64 \r\nL 241.950375 224.64 \r\nL 241.950375 224.636489 \r\nL 235.935667 224.636489 \r\nz\r\n\" style=\"fill:#1f77b4;opacity:0.4;\"/>\r\n   </g>\r\n   <g id=\"patch_31\">\r\n    <path clip-path=\"url(#p7646fb58b5)\" d=\"M 241.950375 224.64 \r\nL 247.965084 224.64 \r\nL 247.965084 224.64 \r\nL 241.950375 224.64 \r\nz\r\n\" style=\"fill:#1f77b4;opacity:0.4;\"/>\r\n   </g>\r\n   <g id=\"patch_32\">\r\n    <path clip-path=\"url(#p7646fb58b5)\" d=\"M 247.965084 224.64 \r\nL 253.979792 224.64 \r\nL 253.979792 224.64 \r\nL 247.965084 224.64 \r\nz\r\n\" style=\"fill:#1f77b4;opacity:0.4;\"/>\r\n   </g>\r\n   <g id=\"patch_33\">\r\n    <path clip-path=\"url(#p7646fb58b5)\" d=\"M 253.979792 224.64 \r\nL 259.994501 224.64 \r\nL 259.994501 224.64 \r\nL 253.979792 224.64 \r\nz\r\n\" style=\"fill:#1f77b4;opacity:0.4;\"/>\r\n   </g>\r\n   <g id=\"patch_34\">\r\n    <path clip-path=\"url(#p7646fb58b5)\" d=\"M 259.994501 224.64 \r\nL 266.009209 224.64 \r\nL 266.009209 224.64 \r\nL 259.994501 224.64 \r\nz\r\n\" style=\"fill:#1f77b4;opacity:0.4;\"/>\r\n   </g>\r\n   <g id=\"patch_35\">\r\n    <path clip-path=\"url(#p7646fb58b5)\" d=\"M 266.009209 224.64 \r\nL 272.023917 224.64 \r\nL 272.023917 224.64 \r\nL 266.009209 224.64 \r\nz\r\n\" style=\"fill:#1f77b4;opacity:0.4;\"/>\r\n   </g>\r\n   <g id=\"patch_36\">\r\n    <path clip-path=\"url(#p7646fb58b5)\" d=\"M 272.023917 224.64 \r\nL 278.038626 224.64 \r\nL 278.038626 224.64 \r\nL 272.023917 224.64 \r\nz\r\n\" style=\"fill:#1f77b4;opacity:0.4;\"/>\r\n   </g>\r\n   <g id=\"patch_37\">\r\n    <path clip-path=\"url(#p7646fb58b5)\" d=\"M 278.038626 224.64 \r\nL 284.053334 224.64 \r\nL 284.053334 224.636489 \r\nL 278.038626 224.636489 \r\nz\r\n\" style=\"fill:#1f77b4;opacity:0.4;\"/>\r\n   </g>\r\n   <g id=\"patch_38\">\r\n    <path clip-path=\"url(#p7646fb58b5)\" d=\"M 284.053334 224.64 \r\nL 290.068043 224.64 \r\nL 290.068043 224.64 \r\nL 284.053334 224.64 \r\nz\r\n\" style=\"fill:#1f77b4;opacity:0.4;\"/>\r\n   </g>\r\n   <g id=\"patch_39\">\r\n    <path clip-path=\"url(#p7646fb58b5)\" d=\"M 290.068043 224.64 \r\nL 296.082751 224.64 \r\nL 296.082751 224.64 \r\nL 290.068043 224.64 \r\nz\r\n\" style=\"fill:#1f77b4;opacity:0.4;\"/>\r\n   </g>\r\n   <g id=\"patch_40\">\r\n    <path clip-path=\"url(#p7646fb58b5)\" d=\"M 296.082751 224.64 \r\nL 302.09746 224.64 \r\nL 302.09746 224.64 \r\nL 296.082751 224.64 \r\nz\r\n\" style=\"fill:#1f77b4;opacity:0.4;\"/>\r\n   </g>\r\n   <g id=\"patch_41\">\r\n    <path clip-path=\"url(#p7646fb58b5)\" d=\"M 302.09746 224.64 \r\nL 308.112168 224.64 \r\nL 308.112168 224.64 \r\nL 302.09746 224.64 \r\nz\r\n\" style=\"fill:#1f77b4;opacity:0.4;\"/>\r\n   </g>\r\n   <g id=\"patch_42\">\r\n    <path clip-path=\"url(#p7646fb58b5)\" d=\"M 308.112168 224.64 \r\nL 314.126877 224.64 \r\nL 314.126877 224.64 \r\nL 308.112168 224.64 \r\nz\r\n\" style=\"fill:#1f77b4;opacity:0.4;\"/>\r\n   </g>\r\n   <g id=\"patch_43\">\r\n    <path clip-path=\"url(#p7646fb58b5)\" d=\"M 314.126877 224.64 \r\nL 320.141585 224.64 \r\nL 320.141585 224.64 \r\nL 314.126877 224.64 \r\nz\r\n\" style=\"fill:#1f77b4;opacity:0.4;\"/>\r\n   </g>\r\n   <g id=\"patch_44\">\r\n    <path clip-path=\"url(#p7646fb58b5)\" d=\"M 320.141585 224.64 \r\nL 326.156293 224.64 \r\nL 326.156293 224.64 \r\nL 320.141585 224.64 \r\nz\r\n\" style=\"fill:#1f77b4;opacity:0.4;\"/>\r\n   </g>\r\n   <g id=\"patch_45\">\r\n    <path clip-path=\"url(#p7646fb58b5)\" d=\"M 326.156293 224.64 \r\nL 332.171002 224.64 \r\nL 332.171002 224.64 \r\nL 326.156293 224.64 \r\nz\r\n\" style=\"fill:#1f77b4;opacity:0.4;\"/>\r\n   </g>\r\n   <g id=\"patch_46\">\r\n    <path clip-path=\"url(#p7646fb58b5)\" d=\"M 332.171002 224.64 \r\nL 338.18571 224.64 \r\nL 338.18571 224.64 \r\nL 332.171002 224.64 \r\nz\r\n\" style=\"fill:#1f77b4;opacity:0.4;\"/>\r\n   </g>\r\n   <g id=\"patch_47\">\r\n    <path clip-path=\"url(#p7646fb58b5)\" d=\"M 338.18571 224.64 \r\nL 344.200419 224.64 \r\nL 344.200419 224.64 \r\nL 338.18571 224.64 \r\nz\r\n\" style=\"fill:#1f77b4;opacity:0.4;\"/>\r\n   </g>\r\n   <g id=\"patch_48\">\r\n    <path clip-path=\"url(#p7646fb58b5)\" d=\"M 344.200419 224.64 \r\nL 350.215127 224.64 \r\nL 350.215127 224.64 \r\nL 344.200419 224.64 \r\nz\r\n\" style=\"fill:#1f77b4;opacity:0.4;\"/>\r\n   </g>\r\n   <g id=\"patch_49\">\r\n    <path clip-path=\"url(#p7646fb58b5)\" d=\"M 350.215127 224.64 \r\nL 356.229836 224.64 \r\nL 356.229836 224.64 \r\nL 350.215127 224.64 \r\nz\r\n\" style=\"fill:#1f77b4;opacity:0.4;\"/>\r\n   </g>\r\n   <g id=\"patch_50\">\r\n    <path clip-path=\"url(#p7646fb58b5)\" d=\"M 356.229836 224.64 \r\nL 362.244544 224.64 \r\nL 362.244544 224.64 \r\nL 356.229836 224.64 \r\nz\r\n\" style=\"fill:#1f77b4;opacity:0.4;\"/>\r\n   </g>\r\n   <g id=\"patch_51\">\r\n    <path clip-path=\"url(#p7646fb58b5)\" d=\"M 362.244544 224.64 \r\nL 368.259252 224.64 \r\nL 368.259252 224.64 \r\nL 362.244544 224.64 \r\nz\r\n\" style=\"fill:#1f77b4;opacity:0.4;\"/>\r\n   </g>\r\n   <g id=\"patch_52\">\r\n    <path clip-path=\"url(#p7646fb58b5)\" d=\"M 368.259252 224.64 \r\nL 374.273961 224.64 \r\nL 374.273961 224.636489 \r\nL 368.259252 224.636489 \r\nz\r\n\" style=\"fill:#1f77b4;opacity:0.4;\"/>\r\n   </g>\r\n   <g id=\"matplotlib.axis_1\">\r\n    <g id=\"xtick_1\">\r\n     <g id=\"line2d_1\">\r\n      <defs>\r\n       <path d=\"M 0 0 \r\nL 0 3.5 \r\n\" id=\"mdafe37eee6\" style=\"stroke:#000000;stroke-width:0.8;\"/>\r\n      </defs>\r\n      <g>\r\n       <use style=\"stroke:#000000;stroke-width:0.8;\" x=\"72.939763\" xlink:href=\"#mdafe37eee6\" y=\"224.64\"/>\r\n      </g>\r\n     </g>\r\n     <g id=\"text_1\">\r\n      <!-- 0 -->\r\n      <g transform=\"translate(69.758513 239.238438)scale(0.1 -0.1)\">\r\n       <defs>\r\n        <path d=\"M 31.78125 66.40625 \r\nQ 24.171875 66.40625 20.328125 58.90625 \r\nQ 16.5 51.421875 16.5 36.375 \r\nQ 16.5 21.390625 20.328125 13.890625 \r\nQ 24.171875 6.390625 31.78125 6.390625 \r\nQ 39.453125 6.390625 43.28125 13.890625 \r\nQ 47.125 21.390625 47.125 36.375 \r\nQ 47.125 51.421875 43.28125 58.90625 \r\nQ 39.453125 66.40625 31.78125 66.40625 \r\nz\r\nM 31.78125 74.21875 \r\nQ 44.046875 74.21875 50.515625 64.515625 \r\nQ 56.984375 54.828125 56.984375 36.375 \r\nQ 56.984375 17.96875 50.515625 8.265625 \r\nQ 44.046875 -1.421875 31.78125 -1.421875 \r\nQ 19.53125 -1.421875 13.0625 8.265625 \r\nQ 6.59375 17.96875 6.59375 36.375 \r\nQ 6.59375 54.828125 13.0625 64.515625 \r\nQ 19.53125 74.21875 31.78125 74.21875 \r\nz\r\n\" id=\"DejaVuSans-48\"/>\r\n       </defs>\r\n       <use xlink:href=\"#DejaVuSans-48\"/>\r\n      </g>\r\n     </g>\r\n    </g>\r\n    <g id=\"xtick_2\">\r\n     <g id=\"line2d_2\">\r\n      <g>\r\n       <use style=\"stroke:#000000;stroke-width:0.8;\" x=\"110.363285\" xlink:href=\"#mdafe37eee6\" y=\"224.64\"/>\r\n      </g>\r\n     </g>\r\n     <g id=\"text_2\">\r\n      <!-- 250 -->\r\n      <g transform=\"translate(100.819535 239.238438)scale(0.1 -0.1)\">\r\n       <defs>\r\n        <path d=\"M 19.1875 8.296875 \r\nL 53.609375 8.296875 \r\nL 53.609375 0 \r\nL 7.328125 0 \r\nL 7.328125 8.296875 \r\nQ 12.9375 14.109375 22.625 23.890625 \r\nQ 32.328125 33.6875 34.8125 36.53125 \r\nQ 39.546875 41.84375 41.421875 45.53125 \r\nQ 43.3125 49.21875 43.3125 52.78125 \r\nQ 43.3125 58.59375 39.234375 62.25 \r\nQ 35.15625 65.921875 28.609375 65.921875 \r\nQ 23.96875 65.921875 18.8125 64.3125 \r\nQ 13.671875 62.703125 7.8125 59.421875 \r\nL 7.8125 69.390625 \r\nQ 13.765625 71.78125 18.9375 73 \r\nQ 24.125 74.21875 28.421875 74.21875 \r\nQ 39.75 74.21875 46.484375 68.546875 \r\nQ 53.21875 62.890625 53.21875 53.421875 \r\nQ 53.21875 48.921875 51.53125 44.890625 \r\nQ 49.859375 40.875 45.40625 35.40625 \r\nQ 44.1875 33.984375 37.640625 27.21875 \r\nQ 31.109375 20.453125 19.1875 8.296875 \r\nz\r\n\" id=\"DejaVuSans-50\"/>\r\n        <path d=\"M 10.796875 72.90625 \r\nL 49.515625 72.90625 \r\nL 49.515625 64.59375 \r\nL 19.828125 64.59375 \r\nL 19.828125 46.734375 \r\nQ 21.96875 47.46875 24.109375 47.828125 \r\nQ 26.265625 48.1875 28.421875 48.1875 \r\nQ 40.625 48.1875 47.75 41.5 \r\nQ 54.890625 34.8125 54.890625 23.390625 \r\nQ 54.890625 11.625 47.5625 5.09375 \r\nQ 40.234375 -1.421875 26.90625 -1.421875 \r\nQ 22.3125 -1.421875 17.546875 -0.640625 \r\nQ 12.796875 0.140625 7.71875 1.703125 \r\nL 7.71875 11.625 \r\nQ 12.109375 9.234375 16.796875 8.0625 \r\nQ 21.484375 6.890625 26.703125 6.890625 \r\nQ 35.15625 6.890625 40.078125 11.328125 \r\nQ 45.015625 15.765625 45.015625 23.390625 \r\nQ 45.015625 31 40.078125 35.4375 \r\nQ 35.15625 39.890625 26.703125 39.890625 \r\nQ 22.75 39.890625 18.8125 39.015625 \r\nQ 14.890625 38.140625 10.796875 36.28125 \r\nz\r\n\" id=\"DejaVuSans-53\"/>\r\n       </defs>\r\n       <use xlink:href=\"#DejaVuSans-50\"/>\r\n       <use x=\"63.623047\" xlink:href=\"#DejaVuSans-53\"/>\r\n       <use x=\"127.246094\" xlink:href=\"#DejaVuSans-48\"/>\r\n      </g>\r\n     </g>\r\n    </g>\r\n    <g id=\"xtick_3\">\r\n     <g id=\"line2d_3\">\r\n      <g>\r\n       <use style=\"stroke:#000000;stroke-width:0.8;\" x=\"147.786807\" xlink:href=\"#mdafe37eee6\" y=\"224.64\"/>\r\n      </g>\r\n     </g>\r\n     <g id=\"text_3\">\r\n      <!-- 500 -->\r\n      <g transform=\"translate(138.243057 239.238438)scale(0.1 -0.1)\">\r\n       <use xlink:href=\"#DejaVuSans-53\"/>\r\n       <use x=\"63.623047\" xlink:href=\"#DejaVuSans-48\"/>\r\n       <use x=\"127.246094\" xlink:href=\"#DejaVuSans-48\"/>\r\n      </g>\r\n     </g>\r\n    </g>\r\n    <g id=\"xtick_4\">\r\n     <g id=\"line2d_4\">\r\n      <g>\r\n       <use style=\"stroke:#000000;stroke-width:0.8;\" x=\"185.210328\" xlink:href=\"#mdafe37eee6\" y=\"224.64\"/>\r\n      </g>\r\n     </g>\r\n     <g id=\"text_4\">\r\n      <!-- 750 -->\r\n      <g transform=\"translate(175.666578 239.238438)scale(0.1 -0.1)\">\r\n       <defs>\r\n        <path d=\"M 8.203125 72.90625 \r\nL 55.078125 72.90625 \r\nL 55.078125 68.703125 \r\nL 28.609375 0 \r\nL 18.3125 0 \r\nL 43.21875 64.59375 \r\nL 8.203125 64.59375 \r\nz\r\n\" id=\"DejaVuSans-55\"/>\r\n       </defs>\r\n       <use xlink:href=\"#DejaVuSans-55\"/>\r\n       <use x=\"63.623047\" xlink:href=\"#DejaVuSans-53\"/>\r\n       <use x=\"127.246094\" xlink:href=\"#DejaVuSans-48\"/>\r\n      </g>\r\n     </g>\r\n    </g>\r\n    <g id=\"xtick_5\">\r\n     <g id=\"line2d_5\">\r\n      <g>\r\n       <use style=\"stroke:#000000;stroke-width:0.8;\" x=\"222.63385\" xlink:href=\"#mdafe37eee6\" y=\"224.64\"/>\r\n      </g>\r\n     </g>\r\n     <g id=\"text_5\">\r\n      <!-- 1000 -->\r\n      <g transform=\"translate(209.90885 239.238438)scale(0.1 -0.1)\">\r\n       <defs>\r\n        <path d=\"M 12.40625 8.296875 \r\nL 28.515625 8.296875 \r\nL 28.515625 63.921875 \r\nL 10.984375 60.40625 \r\nL 10.984375 69.390625 \r\nL 28.421875 72.90625 \r\nL 38.28125 72.90625 \r\nL 38.28125 8.296875 \r\nL 54.390625 8.296875 \r\nL 54.390625 0 \r\nL 12.40625 0 \r\nz\r\n\" id=\"DejaVuSans-49\"/>\r\n       </defs>\r\n       <use xlink:href=\"#DejaVuSans-49\"/>\r\n       <use x=\"63.623047\" xlink:href=\"#DejaVuSans-48\"/>\r\n       <use x=\"127.246094\" xlink:href=\"#DejaVuSans-48\"/>\r\n       <use x=\"190.869141\" xlink:href=\"#DejaVuSans-48\"/>\r\n      </g>\r\n     </g>\r\n    </g>\r\n    <g id=\"xtick_6\">\r\n     <g id=\"line2d_6\">\r\n      <g>\r\n       <use style=\"stroke:#000000;stroke-width:0.8;\" x=\"260.057372\" xlink:href=\"#mdafe37eee6\" y=\"224.64\"/>\r\n      </g>\r\n     </g>\r\n     <g id=\"text_6\">\r\n      <!-- 1250 -->\r\n      <g transform=\"translate(247.332372 239.238438)scale(0.1 -0.1)\">\r\n       <use xlink:href=\"#DejaVuSans-49\"/>\r\n       <use x=\"63.623047\" xlink:href=\"#DejaVuSans-50\"/>\r\n       <use x=\"127.246094\" xlink:href=\"#DejaVuSans-53\"/>\r\n       <use x=\"190.869141\" xlink:href=\"#DejaVuSans-48\"/>\r\n      </g>\r\n     </g>\r\n    </g>\r\n    <g id=\"xtick_7\">\r\n     <g id=\"line2d_7\">\r\n      <g>\r\n       <use style=\"stroke:#000000;stroke-width:0.8;\" x=\"297.480894\" xlink:href=\"#mdafe37eee6\" y=\"224.64\"/>\r\n      </g>\r\n     </g>\r\n     <g id=\"text_7\">\r\n      <!-- 1500 -->\r\n      <g transform=\"translate(284.755894 239.238438)scale(0.1 -0.1)\">\r\n       <use xlink:href=\"#DejaVuSans-49\"/>\r\n       <use x=\"63.623047\" xlink:href=\"#DejaVuSans-53\"/>\r\n       <use x=\"127.246094\" xlink:href=\"#DejaVuSans-48\"/>\r\n       <use x=\"190.869141\" xlink:href=\"#DejaVuSans-48\"/>\r\n      </g>\r\n     </g>\r\n    </g>\r\n    <g id=\"xtick_8\">\r\n     <g id=\"line2d_8\">\r\n      <g>\r\n       <use style=\"stroke:#000000;stroke-width:0.8;\" x=\"334.904416\" xlink:href=\"#mdafe37eee6\" y=\"224.64\"/>\r\n      </g>\r\n     </g>\r\n     <g id=\"text_8\">\r\n      <!-- 1750 -->\r\n      <g transform=\"translate(322.179416 239.238438)scale(0.1 -0.1)\">\r\n       <use xlink:href=\"#DejaVuSans-49\"/>\r\n       <use x=\"63.623047\" xlink:href=\"#DejaVuSans-55\"/>\r\n       <use x=\"127.246094\" xlink:href=\"#DejaVuSans-53\"/>\r\n       <use x=\"190.869141\" xlink:href=\"#DejaVuSans-48\"/>\r\n      </g>\r\n     </g>\r\n    </g>\r\n    <g id=\"xtick_9\">\r\n     <g id=\"line2d_9\">\r\n      <g>\r\n       <use style=\"stroke:#000000;stroke-width:0.8;\" x=\"372.327938\" xlink:href=\"#mdafe37eee6\" y=\"224.64\"/>\r\n      </g>\r\n     </g>\r\n     <g id=\"text_9\">\r\n      <!-- 2000 -->\r\n      <g transform=\"translate(359.602938 239.238438)scale(0.1 -0.1)\">\r\n       <use xlink:href=\"#DejaVuSans-50\"/>\r\n       <use x=\"63.623047\" xlink:href=\"#DejaVuSans-48\"/>\r\n       <use x=\"127.246094\" xlink:href=\"#DejaVuSans-48\"/>\r\n       <use x=\"190.869141\" xlink:href=\"#DejaVuSans-48\"/>\r\n      </g>\r\n     </g>\r\n    </g>\r\n    <g id=\"text_10\">\r\n     <!-- price_dollars -->\r\n     <g transform=\"translate(192.225781 252.916562)scale(0.1 -0.1)\">\r\n      <defs>\r\n       <path d=\"M 18.109375 8.203125 \r\nL 18.109375 -20.796875 \r\nL 9.078125 -20.796875 \r\nL 9.078125 54.6875 \r\nL 18.109375 54.6875 \r\nL 18.109375 46.390625 \r\nQ 20.953125 51.265625 25.265625 53.625 \r\nQ 29.59375 56 35.59375 56 \r\nQ 45.5625 56 51.78125 48.09375 \r\nQ 58.015625 40.1875 58.015625 27.296875 \r\nQ 58.015625 14.40625 51.78125 6.484375 \r\nQ 45.5625 -1.421875 35.59375 -1.421875 \r\nQ 29.59375 -1.421875 25.265625 0.953125 \r\nQ 20.953125 3.328125 18.109375 8.203125 \r\nz\r\nM 48.6875 27.296875 \r\nQ 48.6875 37.203125 44.609375 42.84375 \r\nQ 40.53125 48.484375 33.40625 48.484375 \r\nQ 26.265625 48.484375 22.1875 42.84375 \r\nQ 18.109375 37.203125 18.109375 27.296875 \r\nQ 18.109375 17.390625 22.1875 11.75 \r\nQ 26.265625 6.109375 33.40625 6.109375 \r\nQ 40.53125 6.109375 44.609375 11.75 \r\nQ 48.6875 17.390625 48.6875 27.296875 \r\nz\r\n\" id=\"DejaVuSans-112\"/>\r\n       <path d=\"M 41.109375 46.296875 \r\nQ 39.59375 47.171875 37.8125 47.578125 \r\nQ 36.03125 48 33.890625 48 \r\nQ 26.265625 48 22.1875 43.046875 \r\nQ 18.109375 38.09375 18.109375 28.8125 \r\nL 18.109375 0 \r\nL 9.078125 0 \r\nL 9.078125 54.6875 \r\nL 18.109375 54.6875 \r\nL 18.109375 46.1875 \r\nQ 20.953125 51.171875 25.484375 53.578125 \r\nQ 30.03125 56 36.53125 56 \r\nQ 37.453125 56 38.578125 55.875 \r\nQ 39.703125 55.765625 41.0625 55.515625 \r\nz\r\n\" id=\"DejaVuSans-114\"/>\r\n       <path d=\"M 9.421875 54.6875 \r\nL 18.40625 54.6875 \r\nL 18.40625 0 \r\nL 9.421875 0 \r\nz\r\nM 9.421875 75.984375 \r\nL 18.40625 75.984375 \r\nL 18.40625 64.59375 \r\nL 9.421875 64.59375 \r\nz\r\n\" id=\"DejaVuSans-105\"/>\r\n       <path d=\"M 48.78125 52.59375 \r\nL 48.78125 44.1875 \r\nQ 44.96875 46.296875 41.140625 47.34375 \r\nQ 37.3125 48.390625 33.40625 48.390625 \r\nQ 24.65625 48.390625 19.8125 42.84375 \r\nQ 14.984375 37.3125 14.984375 27.296875 \r\nQ 14.984375 17.28125 19.8125 11.734375 \r\nQ 24.65625 6.203125 33.40625 6.203125 \r\nQ 37.3125 6.203125 41.140625 7.25 \r\nQ 44.96875 8.296875 48.78125 10.40625 \r\nL 48.78125 2.09375 \r\nQ 45.015625 0.34375 40.984375 -0.53125 \r\nQ 36.96875 -1.421875 32.421875 -1.421875 \r\nQ 20.0625 -1.421875 12.78125 6.34375 \r\nQ 5.515625 14.109375 5.515625 27.296875 \r\nQ 5.515625 40.671875 12.859375 48.328125 \r\nQ 20.21875 56 33.015625 56 \r\nQ 37.15625 56 41.109375 55.140625 \r\nQ 45.0625 54.296875 48.78125 52.59375 \r\nz\r\n\" id=\"DejaVuSans-99\"/>\r\n       <path d=\"M 56.203125 29.59375 \r\nL 56.203125 25.203125 \r\nL 14.890625 25.203125 \r\nQ 15.484375 15.921875 20.484375 11.0625 \r\nQ 25.484375 6.203125 34.421875 6.203125 \r\nQ 39.59375 6.203125 44.453125 7.46875 \r\nQ 49.3125 8.734375 54.109375 11.28125 \r\nL 54.109375 2.78125 \r\nQ 49.265625 0.734375 44.1875 -0.34375 \r\nQ 39.109375 -1.421875 33.890625 -1.421875 \r\nQ 20.796875 -1.421875 13.15625 6.1875 \r\nQ 5.515625 13.8125 5.515625 26.8125 \r\nQ 5.515625 40.234375 12.765625 48.109375 \r\nQ 20.015625 56 32.328125 56 \r\nQ 43.359375 56 49.78125 48.890625 \r\nQ 56.203125 41.796875 56.203125 29.59375 \r\nz\r\nM 47.21875 32.234375 \r\nQ 47.125 39.59375 43.09375 43.984375 \r\nQ 39.0625 48.390625 32.421875 48.390625 \r\nQ 24.90625 48.390625 20.390625 44.140625 \r\nQ 15.875 39.890625 15.1875 32.171875 \r\nz\r\n\" id=\"DejaVuSans-101\"/>\r\n       <path d=\"M 50.984375 -16.609375 \r\nL 50.984375 -23.578125 \r\nL -0.984375 -23.578125 \r\nL -0.984375 -16.609375 \r\nz\r\n\" id=\"DejaVuSans-95\"/>\r\n       <path d=\"M 45.40625 46.390625 \r\nL 45.40625 75.984375 \r\nL 54.390625 75.984375 \r\nL 54.390625 0 \r\nL 45.40625 0 \r\nL 45.40625 8.203125 \r\nQ 42.578125 3.328125 38.25 0.953125 \r\nQ 33.9375 -1.421875 27.875 -1.421875 \r\nQ 17.96875 -1.421875 11.734375 6.484375 \r\nQ 5.515625 14.40625 5.515625 27.296875 \r\nQ 5.515625 40.1875 11.734375 48.09375 \r\nQ 17.96875 56 27.875 56 \r\nQ 33.9375 56 38.25 53.625 \r\nQ 42.578125 51.265625 45.40625 46.390625 \r\nz\r\nM 14.796875 27.296875 \r\nQ 14.796875 17.390625 18.875 11.75 \r\nQ 22.953125 6.109375 30.078125 6.109375 \r\nQ 37.203125 6.109375 41.296875 11.75 \r\nQ 45.40625 17.390625 45.40625 27.296875 \r\nQ 45.40625 37.203125 41.296875 42.84375 \r\nQ 37.203125 48.484375 30.078125 48.484375 \r\nQ 22.953125 48.484375 18.875 42.84375 \r\nQ 14.796875 37.203125 14.796875 27.296875 \r\nz\r\n\" id=\"DejaVuSans-100\"/>\r\n       <path d=\"M 30.609375 48.390625 \r\nQ 23.390625 48.390625 19.1875 42.75 \r\nQ 14.984375 37.109375 14.984375 27.296875 \r\nQ 14.984375 17.484375 19.15625 11.84375 \r\nQ 23.34375 6.203125 30.609375 6.203125 \r\nQ 37.796875 6.203125 41.984375 11.859375 \r\nQ 46.1875 17.53125 46.1875 27.296875 \r\nQ 46.1875 37.015625 41.984375 42.703125 \r\nQ 37.796875 48.390625 30.609375 48.390625 \r\nz\r\nM 30.609375 56 \r\nQ 42.328125 56 49.015625 48.375 \r\nQ 55.71875 40.765625 55.71875 27.296875 \r\nQ 55.71875 13.875 49.015625 6.21875 \r\nQ 42.328125 -1.421875 30.609375 -1.421875 \r\nQ 18.84375 -1.421875 12.171875 6.21875 \r\nQ 5.515625 13.875 5.515625 27.296875 \r\nQ 5.515625 40.765625 12.171875 48.375 \r\nQ 18.84375 56 30.609375 56 \r\nz\r\n\" id=\"DejaVuSans-111\"/>\r\n       <path d=\"M 9.421875 75.984375 \r\nL 18.40625 75.984375 \r\nL 18.40625 0 \r\nL 9.421875 0 \r\nz\r\n\" id=\"DejaVuSans-108\"/>\r\n       <path d=\"M 34.28125 27.484375 \r\nQ 23.390625 27.484375 19.1875 25 \r\nQ 14.984375 22.515625 14.984375 16.5 \r\nQ 14.984375 11.71875 18.140625 8.90625 \r\nQ 21.296875 6.109375 26.703125 6.109375 \r\nQ 34.1875 6.109375 38.703125 11.40625 \r\nQ 43.21875 16.703125 43.21875 25.484375 \r\nL 43.21875 27.484375 \r\nz\r\nM 52.203125 31.203125 \r\nL 52.203125 0 \r\nL 43.21875 0 \r\nL 43.21875 8.296875 \r\nQ 40.140625 3.328125 35.546875 0.953125 \r\nQ 30.953125 -1.421875 24.3125 -1.421875 \r\nQ 15.921875 -1.421875 10.953125 3.296875 \r\nQ 6 8.015625 6 15.921875 \r\nQ 6 25.140625 12.171875 29.828125 \r\nQ 18.359375 34.515625 30.609375 34.515625 \r\nL 43.21875 34.515625 \r\nL 43.21875 35.40625 \r\nQ 43.21875 41.609375 39.140625 45 \r\nQ 35.0625 48.390625 27.6875 48.390625 \r\nQ 23 48.390625 18.546875 47.265625 \r\nQ 14.109375 46.140625 10.015625 43.890625 \r\nL 10.015625 52.203125 \r\nQ 14.9375 54.109375 19.578125 55.046875 \r\nQ 24.21875 56 28.609375 56 \r\nQ 40.484375 56 46.34375 49.84375 \r\nQ 52.203125 43.703125 52.203125 31.203125 \r\nz\r\n\" id=\"DejaVuSans-97\"/>\r\n       <path d=\"M 44.28125 53.078125 \r\nL 44.28125 44.578125 \r\nQ 40.484375 46.53125 36.375 47.5 \r\nQ 32.28125 48.484375 27.875 48.484375 \r\nQ 21.1875 48.484375 17.84375 46.4375 \r\nQ 14.5 44.390625 14.5 40.28125 \r\nQ 14.5 37.15625 16.890625 35.375 \r\nQ 19.28125 33.59375 26.515625 31.984375 \r\nL 29.59375 31.296875 \r\nQ 39.15625 29.25 43.1875 25.515625 \r\nQ 47.21875 21.78125 47.21875 15.09375 \r\nQ 47.21875 7.46875 41.1875 3.015625 \r\nQ 35.15625 -1.421875 24.609375 -1.421875 \r\nQ 20.21875 -1.421875 15.453125 -0.5625 \r\nQ 10.6875 0.296875 5.421875 2 \r\nL 5.421875 11.28125 \r\nQ 10.40625 8.6875 15.234375 7.390625 \r\nQ 20.0625 6.109375 24.8125 6.109375 \r\nQ 31.15625 6.109375 34.5625 8.28125 \r\nQ 37.984375 10.453125 37.984375 14.40625 \r\nQ 37.984375 18.0625 35.515625 20.015625 \r\nQ 33.0625 21.96875 24.703125 23.78125 \r\nL 21.578125 24.515625 \r\nQ 13.234375 26.265625 9.515625 29.90625 \r\nQ 5.8125 33.546875 5.8125 39.890625 \r\nQ 5.8125 47.609375 11.28125 51.796875 \r\nQ 16.75 56 26.8125 56 \r\nQ 31.78125 56 36.171875 55.265625 \r\nQ 40.578125 54.546875 44.28125 53.078125 \r\nz\r\n\" id=\"DejaVuSans-115\"/>\r\n      </defs>\r\n      <use xlink:href=\"#DejaVuSans-112\"/>\r\n      <use x=\"63.476562\" xlink:href=\"#DejaVuSans-114\"/>\r\n      <use x=\"104.589844\" xlink:href=\"#DejaVuSans-105\"/>\r\n      <use x=\"132.373047\" xlink:href=\"#DejaVuSans-99\"/>\r\n      <use x=\"187.353516\" xlink:href=\"#DejaVuSans-101\"/>\r\n      <use x=\"248.876953\" xlink:href=\"#DejaVuSans-95\"/>\r\n      <use x=\"298.876953\" xlink:href=\"#DejaVuSans-100\"/>\r\n      <use x=\"362.353516\" xlink:href=\"#DejaVuSans-111\"/>\r\n      <use x=\"423.535156\" xlink:href=\"#DejaVuSans-108\"/>\r\n      <use x=\"451.318359\" xlink:href=\"#DejaVuSans-108\"/>\r\n      <use x=\"479.101562\" xlink:href=\"#DejaVuSans-97\"/>\r\n      <use x=\"540.380859\" xlink:href=\"#DejaVuSans-114\"/>\r\n      <use x=\"581.494141\" xlink:href=\"#DejaVuSans-115\"/>\r\n     </g>\r\n    </g>\r\n   </g>\r\n   <g id=\"matplotlib.axis_2\">\r\n    <g id=\"ytick_1\">\r\n     <g id=\"line2d_10\">\r\n      <defs>\r\n       <path d=\"M 0 0 \r\nL -3.5 0 \r\n\" id=\"md5a7e6aaa2\" style=\"stroke:#000000;stroke-width:0.8;\"/>\r\n      </defs>\r\n      <g>\r\n       <use style=\"stroke:#000000;stroke-width:0.8;\" x=\"56.50625\" xlink:href=\"#md5a7e6aaa2\" y=\"224.64\"/>\r\n      </g>\r\n     </g>\r\n     <g id=\"text_11\">\r\n      <!-- 0.000 -->\r\n      <g transform=\"translate(20.878125 228.439219)scale(0.1 -0.1)\">\r\n       <defs>\r\n        <path d=\"M 10.6875 12.40625 \r\nL 21 12.40625 \r\nL 21 0 \r\nL 10.6875 0 \r\nz\r\n\" id=\"DejaVuSans-46\"/>\r\n       </defs>\r\n       <use xlink:href=\"#DejaVuSans-48\"/>\r\n       <use x=\"63.623047\" xlink:href=\"#DejaVuSans-46\"/>\r\n       <use x=\"95.410156\" xlink:href=\"#DejaVuSans-48\"/>\r\n       <use x=\"159.033203\" xlink:href=\"#DejaVuSans-48\"/>\r\n       <use x=\"222.65625\" xlink:href=\"#DejaVuSans-48\"/>\r\n      </g>\r\n     </g>\r\n    </g>\r\n    <g id=\"ytick_2\">\r\n     <g id=\"line2d_11\">\r\n      <g>\r\n       <use style=\"stroke:#000000;stroke-width:0.8;\" x=\"56.50625\" xlink:href=\"#md5a7e6aaa2\" y=\"182.498077\"/>\r\n      </g>\r\n     </g>\r\n     <g id=\"text_12\">\r\n      <!-- 0.005 -->\r\n      <g transform=\"translate(20.878125 186.297296)scale(0.1 -0.1)\">\r\n       <use xlink:href=\"#DejaVuSans-48\"/>\r\n       <use x=\"63.623047\" xlink:href=\"#DejaVuSans-46\"/>\r\n       <use x=\"95.410156\" xlink:href=\"#DejaVuSans-48\"/>\r\n       <use x=\"159.033203\" xlink:href=\"#DejaVuSans-48\"/>\r\n       <use x=\"222.65625\" xlink:href=\"#DejaVuSans-53\"/>\r\n      </g>\r\n     </g>\r\n    </g>\r\n    <g id=\"ytick_3\">\r\n     <g id=\"line2d_12\">\r\n      <g>\r\n       <use style=\"stroke:#000000;stroke-width:0.8;\" x=\"56.50625\" xlink:href=\"#md5a7e6aaa2\" y=\"140.356155\"/>\r\n      </g>\r\n     </g>\r\n     <g id=\"text_13\">\r\n      <!-- 0.010 -->\r\n      <g transform=\"translate(20.878125 144.155373)scale(0.1 -0.1)\">\r\n       <use xlink:href=\"#DejaVuSans-48\"/>\r\n       <use x=\"63.623047\" xlink:href=\"#DejaVuSans-46\"/>\r\n       <use x=\"95.410156\" xlink:href=\"#DejaVuSans-48\"/>\r\n       <use x=\"159.033203\" xlink:href=\"#DejaVuSans-49\"/>\r\n       <use x=\"222.65625\" xlink:href=\"#DejaVuSans-48\"/>\r\n      </g>\r\n     </g>\r\n    </g>\r\n    <g id=\"ytick_4\">\r\n     <g id=\"line2d_13\">\r\n      <g>\r\n       <use style=\"stroke:#000000;stroke-width:0.8;\" x=\"56.50625\" xlink:href=\"#md5a7e6aaa2\" y=\"98.214232\"/>\r\n      </g>\r\n     </g>\r\n     <g id=\"text_14\">\r\n      <!-- 0.015 -->\r\n      <g transform=\"translate(20.878125 102.013451)scale(0.1 -0.1)\">\r\n       <use xlink:href=\"#DejaVuSans-48\"/>\r\n       <use x=\"63.623047\" xlink:href=\"#DejaVuSans-46\"/>\r\n       <use x=\"95.410156\" xlink:href=\"#DejaVuSans-48\"/>\r\n       <use x=\"159.033203\" xlink:href=\"#DejaVuSans-49\"/>\r\n       <use x=\"222.65625\" xlink:href=\"#DejaVuSans-53\"/>\r\n      </g>\r\n     </g>\r\n    </g>\r\n    <g id=\"ytick_5\">\r\n     <g id=\"line2d_14\">\r\n      <g>\r\n       <use style=\"stroke:#000000;stroke-width:0.8;\" x=\"56.50625\" xlink:href=\"#md5a7e6aaa2\" y=\"56.072309\"/>\r\n      </g>\r\n     </g>\r\n     <g id=\"text_15\">\r\n      <!-- 0.020 -->\r\n      <g transform=\"translate(20.878125 59.871528)scale(0.1 -0.1)\">\r\n       <use xlink:href=\"#DejaVuSans-48\"/>\r\n       <use x=\"63.623047\" xlink:href=\"#DejaVuSans-46\"/>\r\n       <use x=\"95.410156\" xlink:href=\"#DejaVuSans-48\"/>\r\n       <use x=\"159.033203\" xlink:href=\"#DejaVuSans-50\"/>\r\n       <use x=\"222.65625\" xlink:href=\"#DejaVuSans-48\"/>\r\n      </g>\r\n     </g>\r\n    </g>\r\n    <g id=\"ytick_6\">\r\n     <g id=\"line2d_15\">\r\n      <g>\r\n       <use style=\"stroke:#000000;stroke-width:0.8;\" x=\"56.50625\" xlink:href=\"#md5a7e6aaa2\" y=\"13.930386\"/>\r\n      </g>\r\n     </g>\r\n     <g id=\"text_16\">\r\n      <!-- 0.025 -->\r\n      <g transform=\"translate(20.878125 17.729605)scale(0.1 -0.1)\">\r\n       <use xlink:href=\"#DejaVuSans-48\"/>\r\n       <use x=\"63.623047\" xlink:href=\"#DejaVuSans-46\"/>\r\n       <use x=\"95.410156\" xlink:href=\"#DejaVuSans-48\"/>\r\n       <use x=\"159.033203\" xlink:href=\"#DejaVuSans-50\"/>\r\n       <use x=\"222.65625\" xlink:href=\"#DejaVuSans-53\"/>\r\n      </g>\r\n     </g>\r\n    </g>\r\n    <g id=\"text_17\">\r\n     <!-- Density -->\r\n     <g transform=\"translate(14.798437 134.928594)rotate(-90)scale(0.1 -0.1)\">\r\n      <defs>\r\n       <path d=\"M 19.671875 64.796875 \r\nL 19.671875 8.109375 \r\nL 31.59375 8.109375 \r\nQ 46.6875 8.109375 53.6875 14.9375 \r\nQ 60.6875 21.78125 60.6875 36.53125 \r\nQ 60.6875 51.171875 53.6875 57.984375 \r\nQ 46.6875 64.796875 31.59375 64.796875 \r\nz\r\nM 9.8125 72.90625 \r\nL 30.078125 72.90625 \r\nQ 51.265625 72.90625 61.171875 64.09375 \r\nQ 71.09375 55.28125 71.09375 36.53125 \r\nQ 71.09375 17.671875 61.125 8.828125 \r\nQ 51.171875 0 30.078125 0 \r\nL 9.8125 0 \r\nz\r\n\" id=\"DejaVuSans-68\"/>\r\n       <path d=\"M 54.890625 33.015625 \r\nL 54.890625 0 \r\nL 45.90625 0 \r\nL 45.90625 32.71875 \r\nQ 45.90625 40.484375 42.875 44.328125 \r\nQ 39.84375 48.1875 33.796875 48.1875 \r\nQ 26.515625 48.1875 22.3125 43.546875 \r\nQ 18.109375 38.921875 18.109375 30.90625 \r\nL 18.109375 0 \r\nL 9.078125 0 \r\nL 9.078125 54.6875 \r\nL 18.109375 54.6875 \r\nL 18.109375 46.1875 \r\nQ 21.34375 51.125 25.703125 53.5625 \r\nQ 30.078125 56 35.796875 56 \r\nQ 45.21875 56 50.046875 50.171875 \r\nQ 54.890625 44.34375 54.890625 33.015625 \r\nz\r\n\" id=\"DejaVuSans-110\"/>\r\n       <path d=\"M 18.3125 70.21875 \r\nL 18.3125 54.6875 \r\nL 36.8125 54.6875 \r\nL 36.8125 47.703125 \r\nL 18.3125 47.703125 \r\nL 18.3125 18.015625 \r\nQ 18.3125 11.328125 20.140625 9.421875 \r\nQ 21.96875 7.515625 27.59375 7.515625 \r\nL 36.8125 7.515625 \r\nL 36.8125 0 \r\nL 27.59375 0 \r\nQ 17.1875 0 13.234375 3.875 \r\nQ 9.28125 7.765625 9.28125 18.015625 \r\nL 9.28125 47.703125 \r\nL 2.6875 47.703125 \r\nL 2.6875 54.6875 \r\nL 9.28125 54.6875 \r\nL 9.28125 70.21875 \r\nz\r\n\" id=\"DejaVuSans-116\"/>\r\n       <path d=\"M 32.171875 -5.078125 \r\nQ 28.375 -14.84375 24.75 -17.8125 \r\nQ 21.140625 -20.796875 15.09375 -20.796875 \r\nL 7.90625 -20.796875 \r\nL 7.90625 -13.28125 \r\nL 13.1875 -13.28125 \r\nQ 16.890625 -13.28125 18.9375 -11.515625 \r\nQ 21 -9.765625 23.484375 -3.21875 \r\nL 25.09375 0.875 \r\nL 2.984375 54.6875 \r\nL 12.5 54.6875 \r\nL 29.59375 11.921875 \r\nL 46.6875 54.6875 \r\nL 56.203125 54.6875 \r\nz\r\n\" id=\"DejaVuSans-121\"/>\r\n      </defs>\r\n      <use xlink:href=\"#DejaVuSans-68\"/>\r\n      <use x=\"77.001953\" xlink:href=\"#DejaVuSans-101\"/>\r\n      <use x=\"138.525391\" xlink:href=\"#DejaVuSans-110\"/>\r\n      <use x=\"201.904297\" xlink:href=\"#DejaVuSans-115\"/>\r\n      <use x=\"254.003906\" xlink:href=\"#DejaVuSans-105\"/>\r\n      <use x=\"281.787109\" xlink:href=\"#DejaVuSans-116\"/>\r\n      <use x=\"320.996094\" xlink:href=\"#DejaVuSans-121\"/>\r\n     </g>\r\n    </g>\r\n   </g>\r\n   <g id=\"line2d_16\">\r\n    <path clip-path=\"url(#p7646fb58b5)\" d=\"M 71.724432 224.626734 \r\nL 73.253897 209.548263 \r\nL 74.783363 25.566035 \r\nL 76.312828 17.554286 \r\nL 77.842294 91.846315 \r\nL 80.901225 164.950075 \r\nL 82.43069 189.568876 \r\nL 83.960156 200.694405 \r\nL 85.489621 209.823556 \r\nL 87.019087 213.931693 \r\nL 88.548552 218.402448 \r\nL 90.078018 221.152533 \r\nL 91.607483 219.987319 \r\nL 93.136949 222.267548 \r\nL 94.666414 222.410223 \r\nL 97.725345 223.792926 \r\nL 99.254811 223.599753 \r\nL 100.784276 224.132723 \r\nL 102.313742 223.864411 \r\nL 105.372673 224.255951 \r\nL 106.902139 224.067459 \r\nL 108.431604 224.33703 \r\nL 109.96107 224.26653 \r\nL 113.020001 224.506874 \r\nL 114.549466 224.397931 \r\nL 116.078932 224.522615 \r\nL 117.608397 224.306949 \r\nL 119.137863 224.571758 \r\nL 120.667328 224.453882 \r\nL 123.726259 224.627016 \r\nL 125.255725 224.409709 \r\nL 126.78519 224.598438 \r\nL 131.373587 224.594583 \r\nL 132.903052 224.463873 \r\nL 134.432518 224.611238 \r\nL 149.727173 224.626623 \r\nL 376.088068 224.639845 \r\nL 376.088068 224.639845 \r\n\" style=\"fill:none;stroke:#1f77b4;stroke-linecap:square;stroke-width:1.5;\"/>\r\n   </g>\r\n   <g id=\"patch_53\">\r\n    <path d=\"M 56.50625 224.64 \r\nL 56.50625 7.2 \r\n\" style=\"fill:none;stroke:#000000;stroke-linecap:square;stroke-linejoin:miter;stroke-width:0.8;\"/>\r\n   </g>\r\n   <g id=\"patch_54\">\r\n    <path d=\"M 391.30625 224.64 \r\nL 391.30625 7.2 \r\n\" style=\"fill:none;stroke:#000000;stroke-linecap:square;stroke-linejoin:miter;stroke-width:0.8;\"/>\r\n   </g>\r\n   <g id=\"patch_55\">\r\n    <path d=\"M 56.50625 224.64 \r\nL 391.30625 224.64 \r\n\" style=\"fill:none;stroke:#000000;stroke-linecap:square;stroke-linejoin:miter;stroke-width:0.8;\"/>\r\n   </g>\r\n   <g id=\"patch_56\">\r\n    <path d=\"M 56.50625 7.2 \r\nL 391.30625 7.2 \r\n\" style=\"fill:none;stroke:#000000;stroke-linecap:square;stroke-linejoin:miter;stroke-width:0.8;\"/>\r\n   </g>\r\n  </g>\r\n </g>\r\n <defs>\r\n  <clipPath id=\"p7646fb58b5\">\r\n   <rect height=\"217.44\" width=\"334.8\" x=\"56.50625\" y=\"7.2\"/>\r\n  </clipPath>\r\n </defs>\r\n</svg>\r\n",
            "image/png": "[encoded data removed]"
          },
          "metadata": {
            "needs_background": "light"
          }
        }
      ]
    },
    {
      "cell_type": "code",
      "metadata": {
        "id": "psZftuCTS45H",
        "outputId": "972c2b49-c75a-4590-9f5b-70a129ad2c20"
      },
      "source": [
        "#Removing the top 1% of the observation will help us to deal with the outliers\n",
        "q = new2017_df['price_dollars'].quantile(0.99)\n",
        "new2017_df = new2017_df[new2017_df['price_dollars'] < q]\n",
        "\n",
        "sns.distplot(new2017_df['price_dollars'])"
      ],
      "execution_count": 26,
      "outputs": [
        {
          "output_type": "stream",
          "name": "stderr",
          "text": [
            "C:\\Users\\j9yor\\AppData\\Local\\Programs\\Python\\Python37\\lib\\site-packages\\seaborn\\distributions.py:2557: FutureWarning: `distplot` is a deprecated function and will be removed in a future version. Please adapt your code to use either `displot` (a figure-level function with similar flexibility) or `histplot` (an axes-level function for histograms).\n  warnings.warn(msg, FutureWarning)\n"
          ]
        },
        {
          "output_type": "execute_result",
          "data": {
            "text/plain": [
              "<AxesSubplot:xlabel='price_dollars', ylabel='Density'>"
            ]
          },
          "metadata": {},
          "execution_count": 26
        },
        {
          "output_type": "display_data",
          "data": {
            "text/plain": "<Figure size 432x288 with 1 Axes>",
            "image/svg+xml": "<?xml version=\"1.0\" encoding=\"utf-8\" standalone=\"no\"?>\r\n<!DOCTYPE svg PUBLIC \"-//W3C//DTD SVG 1.1//EN\"\r\n  \"http://www.w3.org/Graphics/SVG/1.1/DTD/svg11.dtd\">\r\n<!-- Created with matplotlib (https://matplotlib.org/) -->\r\n<svg height=\"262.474375pt\" version=\"1.1\" viewBox=\"0 0 407.188653 262.474375\" width=\"407.188653pt\" xmlns=\"http://www.w3.org/2000/svg\" xmlns:xlink=\"http://www.w3.org/1999/xlink\">\r\n <metadata>\r\n  <rdf:RDF xmlns:cc=\"http://creativecommons.org/ns#\" xmlns:dc=\"http://purl.org/dc/elements/1.1/\" xmlns:rdf=\"http://www.w3.org/1999/02/22-rdf-syntax-ns#\">\r\n   <cc:Work>\r\n    <dc:type rdf:resource=\"http://purl.org/dc/dcmitype/StillImage\"/>\r\n    <dc:date>2021-04-24T13:16:05.311786</dc:date>\r\n    <dc:format>image/svg+xml</dc:format>\r\n    <dc:creator>\r\n     <cc:Agent>\r\n      <dc:title>Matplotlib v3.3.3, https://matplotlib.org/</dc:title>\r\n     </cc:Agent>\r\n    </dc:creator>\r\n   </cc:Work>\r\n  </rdf:RDF>\r\n </metadata>\r\n <defs>\r\n  <style type=\"text/css\">*{stroke-linecap:butt;stroke-linejoin:round;}</style>\r\n </defs>\r\n <g id=\"figure_1\">\r\n  <g id=\"patch_1\">\r\n   <path d=\"M 0 262.474375 \r\nL 407.188653 262.474375 \r\nL 407.188653 0 \r\nL 0 0 \r\nz\r\n\" style=\"fill:none;\"/>\r\n  </g>\r\n  <g id=\"axes_1\">\r\n   <g id=\"patch_2\">\r\n    <path d=\"M 56.50625 224.64 \r\nL 391.30625 224.64 \r\nL 391.30625 7.2 \r\nL 56.50625 7.2 \r\nz\r\n\" style=\"fill:#ffffff;\"/>\r\n   </g>\r\n   <g id=\"patch_3\">\r\n    <path clip-path=\"url(#p774d8705ef)\" d=\"M 85.86619 224.64 \r\nL 91.387792 224.64 \r\nL 91.387792 212.904788 \r\nL 85.86619 212.904788 \r\nz\r\n\" style=\"fill:#1f77b4;opacity:0.4;\"/>\r\n   </g>\r\n   <g id=\"patch_4\">\r\n    <path clip-path=\"url(#p774d8705ef)\" d=\"M 91.387792 224.64 \r\nL 96.909394 224.64 \r\nL 96.909394 115.796798 \r\nL 91.387792 115.796798 \r\nz\r\n\" style=\"fill:#1f77b4;opacity:0.4;\"/>\r\n   </g>\r\n   <g id=\"patch_5\">\r\n    <path clip-path=\"url(#p774d8705ef)\" d=\"M 96.909394 224.64 \r\nL 102.430997 224.64 \r\nL 102.430997 56.837109 \r\nL 96.909394 56.837109 \r\nz\r\n\" style=\"fill:#1f77b4;opacity:0.4;\"/>\r\n   </g>\r\n   <g id=\"patch_6\">\r\n    <path clip-path=\"url(#p774d8705ef)\" d=\"M 102.430997 224.64 \r\nL 107.952599 224.64 \r\nL 107.952599 17.554286 \r\nL 102.430997 17.554286 \r\nz\r\n\" style=\"fill:#1f77b4;opacity:0.4;\"/>\r\n   </g>\r\n   <g id=\"patch_7\">\r\n    <path clip-path=\"url(#p774d8705ef)\" d=\"M 107.952599 224.64 \r\nL 113.474202 224.64 \r\nL 113.474202 54.142619 \r\nL 107.952599 54.142619 \r\nz\r\n\" style=\"fill:#1f77b4;opacity:0.4;\"/>\r\n   </g>\r\n   <g id=\"patch_8\">\r\n    <path clip-path=\"url(#p774d8705ef)\" d=\"M 113.474202 224.64 \r\nL 118.995804 224.64 \r\nL 118.995804 37.302059 \r\nL 113.474202 37.302059 \r\nz\r\n\" style=\"fill:#1f77b4;opacity:0.4;\"/>\r\n   </g>\r\n   <g id=\"patch_9\">\r\n    <path clip-path=\"url(#p774d8705ef)\" d=\"M 118.995804 224.64 \r\nL 124.517407 224.64 \r\nL 124.517407 58.503438 \r\nL 118.995804 58.503438 \r\nz\r\n\" style=\"fill:#1f77b4;opacity:0.4;\"/>\r\n   </g>\r\n   <g id=\"patch_10\">\r\n    <path clip-path=\"url(#p774d8705ef)\" d=\"M 124.517407 224.64 \r\nL 130.039009 224.64 \r\nL 130.039009 125.369327 \r\nL 124.517407 125.369327 \r\nz\r\n\" style=\"fill:#1f77b4;opacity:0.4;\"/>\r\n   </g>\r\n   <g id=\"patch_11\">\r\n    <path clip-path=\"url(#p774d8705ef)\" d=\"M 130.039009 224.64 \r\nL 135.560611 224.64 \r\nL 135.560611 108.635128 \r\nL 130.039009 108.635128 \r\nz\r\n\" style=\"fill:#1f77b4;opacity:0.4;\"/>\r\n   </g>\r\n   <g id=\"patch_12\">\r\n    <path clip-path=\"url(#p774d8705ef)\" d=\"M 135.560611 224.64 \r\nL 141.082214 224.64 \r\nL 141.082214 157.525934 \r\nL 135.560611 157.525934 \r\nz\r\n\" style=\"fill:#1f77b4;opacity:0.4;\"/>\r\n   </g>\r\n   <g id=\"patch_13\">\r\n    <path clip-path=\"url(#p774d8705ef)\" d=\"M 141.082214 224.64 \r\nL 146.603816 224.64 \r\nL 146.603816 88.780993 \r\nL 141.082214 88.780993 \r\nz\r\n\" style=\"fill:#1f77b4;opacity:0.4;\"/>\r\n   </g>\r\n   <g id=\"patch_14\">\r\n    <path clip-path=\"url(#p774d8705ef)\" d=\"M 146.603816 224.64 \r\nL 152.125419 224.64 \r\nL 152.125419 131.502837 \r\nL 146.603816 131.502837 \r\nz\r\n\" style=\"fill:#1f77b4;opacity:0.4;\"/>\r\n   </g>\r\n   <g id=\"patch_15\">\r\n    <path clip-path=\"url(#p774d8705ef)\" d=\"M 152.125419 224.64 \r\nL 157.647021 224.64 \r\nL 157.647021 179.613659 \r\nL 152.125419 179.613659 \r\nz\r\n\" style=\"fill:#1f77b4;opacity:0.4;\"/>\r\n   </g>\r\n   <g id=\"patch_16\">\r\n    <path clip-path=\"url(#p774d8705ef)\" d=\"M 157.647021 224.64 \r\nL 163.168623 224.64 \r\nL 163.168623 149.690642 \r\nL 157.647021 149.690642 \r\nz\r\n\" style=\"fill:#1f77b4;opacity:0.4;\"/>\r\n   </g>\r\n   <g id=\"patch_17\">\r\n    <path clip-path=\"url(#p774d8705ef)\" d=\"M 163.168623 224.64 \r\nL 168.690226 224.64 \r\nL 168.690226 125.440235 \r\nL 163.168623 125.440235 \r\nz\r\n\" style=\"fill:#1f77b4;opacity:0.4;\"/>\r\n   </g>\r\n   <g id=\"patch_18\">\r\n    <path clip-path=\"url(#p774d8705ef)\" d=\"M 168.690226 224.64 \r\nL 174.211828 224.64 \r\nL 174.211828 208.721239 \r\nL 168.690226 208.721239 \r\nz\r\n\" style=\"fill:#1f77b4;opacity:0.4;\"/>\r\n   </g>\r\n   <g id=\"patch_19\">\r\n    <path clip-path=\"url(#p774d8705ef)\" d=\"M 174.211828 224.64 \r\nL 179.733431 224.64 \r\nL 179.733431 179.294575 \r\nL 174.211828 179.294575 \r\nz\r\n\" style=\"fill:#1f77b4;opacity:0.4;\"/>\r\n   </g>\r\n   <g id=\"patch_20\">\r\n    <path clip-path=\"url(#p774d8705ef)\" d=\"M 179.733431 224.64 \r\nL 185.255033 224.64 \r\nL 185.255033 208.756692 \r\nL 179.733431 208.756692 \r\nz\r\n\" style=\"fill:#1f77b4;opacity:0.4;\"/>\r\n   </g>\r\n   <g id=\"patch_21\">\r\n    <path clip-path=\"url(#p774d8705ef)\" d=\"M 185.255033 224.64 \r\nL 190.776636 224.64 \r\nL 190.776636 177.380069 \r\nL 185.255033 177.380069 \r\nz\r\n\" style=\"fill:#1f77b4;opacity:0.4;\"/>\r\n   </g>\r\n   <g id=\"patch_22\">\r\n    <path clip-path=\"url(#p774d8705ef)\" d=\"M 190.776636 224.64 \r\nL 196.298238 224.64 \r\nL 196.298238 192.802477 \r\nL 190.776636 192.802477 \r\nz\r\n\" style=\"fill:#1f77b4;opacity:0.4;\"/>\r\n   </g>\r\n   <g id=\"patch_23\">\r\n    <path clip-path=\"url(#p774d8705ef)\" d=\"M 196.298238 224.64 \r\nL 201.81984 224.64 \r\nL 201.81984 213.578411 \r\nL 196.298238 213.578411 \r\nz\r\n\" style=\"fill:#1f77b4;opacity:0.4;\"/>\r\n   </g>\r\n   <g id=\"patch_24\">\r\n    <path clip-path=\"url(#p774d8705ef)\" d=\"M 201.81984 224.64 \r\nL 207.341443 224.64 \r\nL 207.341443 201.275938 \r\nL 201.81984 201.275938 \r\nz\r\n\" style=\"fill:#1f77b4;opacity:0.4;\"/>\r\n   </g>\r\n   <g id=\"patch_25\">\r\n    <path clip-path=\"url(#p774d8705ef)\" d=\"M 207.341443 224.64 \r\nL 212.863045 224.64 \r\nL 212.863045 195.036067 \r\nL 207.341443 195.036067 \r\nz\r\n\" style=\"fill:#1f77b4;opacity:0.4;\"/>\r\n   </g>\r\n   <g id=\"patch_26\">\r\n    <path clip-path=\"url(#p774d8705ef)\" d=\"M 212.863045 224.64 \r\nL 218.384648 224.64 \r\nL 218.384648 220.137366 \r\nL 212.863045 220.137366 \r\nz\r\n\" style=\"fill:#1f77b4;opacity:0.4;\"/>\r\n   </g>\r\n   <g id=\"patch_27\">\r\n    <path clip-path=\"url(#p774d8705ef)\" d=\"M 218.384648 224.64 \r\nL 223.90625 224.64 \r\nL 223.90625 206.204018 \r\nL 218.384648 206.204018 \r\nz\r\n\" style=\"fill:#1f77b4;opacity:0.4;\"/>\r\n   </g>\r\n   <g id=\"patch_28\">\r\n    <path clip-path=\"url(#p774d8705ef)\" d=\"M 223.90625 224.64 \r\nL 229.427852 224.64 \r\nL 229.427852 221.20098 \r\nL 223.90625 221.20098 \r\nz\r\n\" style=\"fill:#1f77b4;opacity:0.4;\"/>\r\n   </g>\r\n   <g id=\"patch_29\">\r\n    <path clip-path=\"url(#p774d8705ef)\" d=\"M 229.427852 224.64 \r\nL 234.949455 224.64 \r\nL 234.949455 210.706652 \r\nL 229.427852 210.706652 \r\nz\r\n\" style=\"fill:#1f77b4;opacity:0.4;\"/>\r\n   </g>\r\n   <g id=\"patch_30\">\r\n    <path clip-path=\"url(#p774d8705ef)\" d=\"M 234.949455 224.64 \r\nL 240.471057 224.64 \r\nL 240.471057 208.721239 \r\nL 234.949455 208.721239 \r\nz\r\n\" style=\"fill:#1f77b4;opacity:0.4;\"/>\r\n   </g>\r\n   <g id=\"patch_31\">\r\n    <path clip-path=\"url(#p774d8705ef)\" d=\"M 240.471057 224.64 \r\nL 245.99266 224.64 \r\nL 245.99266 222.583679 \r\nL 240.471057 222.583679 \r\nz\r\n\" style=\"fill:#1f77b4;opacity:0.4;\"/>\r\n   </g>\r\n   <g id=\"patch_32\">\r\n    <path clip-path=\"url(#p774d8705ef)\" d=\"M 245.99266 224.64 \r\nL 251.514262 224.64 \r\nL 251.514262 215.741093 \r\nL 245.99266 215.741093 \r\nz\r\n\" style=\"fill:#1f77b4;opacity:0.4;\"/>\r\n   </g>\r\n   <g id=\"patch_33\">\r\n    <path clip-path=\"url(#p774d8705ef)\" d=\"M 251.514262 224.64 \r\nL 257.035864 224.64 \r\nL 257.035864 208.650331 \r\nL 251.514262 208.650331 \r\nz\r\n\" style=\"fill:#1f77b4;opacity:0.4;\"/>\r\n   </g>\r\n   <g id=\"patch_34\">\r\n    <path clip-path=\"url(#p774d8705ef)\" d=\"M 257.035864 224.64 \r\nL 262.557467 224.64 \r\nL 262.557467 223.43457 \r\nL 257.035864 223.43457 \r\nz\r\n\" style=\"fill:#1f77b4;opacity:0.4;\"/>\r\n   </g>\r\n   <g id=\"patch_35\">\r\n    <path clip-path=\"url(#p774d8705ef)\" d=\"M 262.557467 224.64 \r\nL 268.079069 224.64 \r\nL 268.079069 221.378249 \r\nL 262.557467 221.378249 \r\nz\r\n\" style=\"fill:#1f77b4;opacity:0.4;\"/>\r\n   </g>\r\n   <g id=\"patch_36\">\r\n    <path clip-path=\"url(#p774d8705ef)\" d=\"M 268.079069 224.64 \r\nL 273.600672 224.64 \r\nL 273.600672 223.647293 \r\nL 268.079069 223.647293 \r\nz\r\n\" style=\"fill:#1f77b4;opacity:0.4;\"/>\r\n   </g>\r\n   <g id=\"patch_37\">\r\n    <path clip-path=\"url(#p774d8705ef)\" d=\"M 273.600672 224.64 \r\nL 279.122274 224.64 \r\nL 279.122274 219.71192 \r\nL 273.600672 219.71192 \r\nz\r\n\" style=\"fill:#1f77b4;opacity:0.4;\"/>\r\n   </g>\r\n   <g id=\"patch_38\">\r\n    <path clip-path=\"url(#p774d8705ef)\" d=\"M 279.122274 224.64 \r\nL 284.643877 224.64 \r\nL 284.643877 222.300048 \r\nL 279.122274 222.300048 \r\nz\r\n\" style=\"fill:#1f77b4;opacity:0.4;\"/>\r\n   </g>\r\n   <g id=\"patch_39\">\r\n    <path clip-path=\"url(#p774d8705ef)\" d=\"M 284.643877 224.64 \r\nL 290.165479 224.64 \r\nL 290.165479 223.753655 \r\nL 284.643877 223.753655 \r\nz\r\n\" style=\"fill:#1f77b4;opacity:0.4;\"/>\r\n   </g>\r\n   <g id=\"patch_40\">\r\n    <path clip-path=\"url(#p774d8705ef)\" d=\"M 290.165479 224.64 \r\nL 295.687081 224.64 \r\nL 295.687081 219.073752 \r\nL 290.165479 219.073752 \r\nz\r\n\" style=\"fill:#1f77b4;opacity:0.4;\"/>\r\n   </g>\r\n   <g id=\"patch_41\">\r\n    <path clip-path=\"url(#p774d8705ef)\" d=\"M 295.687081 224.64 \r\nL 301.208684 224.64 \r\nL 301.208684 223.966378 \r\nL 295.687081 223.966378 \r\nz\r\n\" style=\"fill:#1f77b4;opacity:0.4;\"/>\r\n   </g>\r\n   <g id=\"patch_42\">\r\n    <path clip-path=\"url(#p774d8705ef)\" d=\"M 301.208684 224.64 \r\nL 306.730286 224.64 \r\nL 306.730286 217.903776 \r\nL 301.208684 217.903776 \r\nz\r\n\" style=\"fill:#1f77b4;opacity:0.4;\"/>\r\n   </g>\r\n   <g id=\"patch_43\">\r\n    <path clip-path=\"url(#p774d8705ef)\" d=\"M 306.730286 224.64 \r\nL 312.251889 224.64 \r\nL 312.251889 221.803695 \r\nL 306.730286 221.803695 \r\nz\r\n\" style=\"fill:#1f77b4;opacity:0.4;\"/>\r\n   </g>\r\n   <g id=\"patch_44\">\r\n    <path clip-path=\"url(#p774d8705ef)\" d=\"M 312.251889 224.64 \r\nL 317.773491 224.64 \r\nL 317.773491 224.250008 \r\nL 312.251889 224.250008 \r\nz\r\n\" style=\"fill:#1f77b4;opacity:0.4;\"/>\r\n   </g>\r\n   <g id=\"patch_45\">\r\n    <path clip-path=\"url(#p774d8705ef)\" d=\"M 317.773491 224.64 \r\nL 323.295093 224.64 \r\nL 323.295093 221.980964 \r\nL 317.773491 221.980964 \r\nz\r\n\" style=\"fill:#1f77b4;opacity:0.4;\"/>\r\n   </g>\r\n   <g id=\"patch_46\">\r\n    <path clip-path=\"url(#p774d8705ef)\" d=\"M 323.295093 224.64 \r\nL 328.816696 224.64 \r\nL 328.816696 221.980964 \r\nL 323.295093 221.980964 \r\nz\r\n\" style=\"fill:#1f77b4;opacity:0.4;\"/>\r\n   </g>\r\n   <g id=\"patch_47\">\r\n    <path clip-path=\"url(#p774d8705ef)\" d=\"M 328.816696 224.64 \r\nL 334.338298 224.64 \r\nL 334.338298 224.285462 \r\nL 328.816696 224.285462 \r\nz\r\n\" style=\"fill:#1f77b4;opacity:0.4;\"/>\r\n   </g>\r\n   <g id=\"patch_48\">\r\n    <path clip-path=\"url(#p774d8705ef)\" d=\"M 334.338298 224.64 \r\nL 339.859901 224.64 \r\nL 339.859901 223.328209 \r\nL 334.338298 223.328209 \r\nz\r\n\" style=\"fill:#1f77b4;opacity:0.4;\"/>\r\n   </g>\r\n   <g id=\"patch_49\">\r\n    <path clip-path=\"url(#p774d8705ef)\" d=\"M 339.859901 224.64 \r\nL 345.381503 224.64 \r\nL 345.381503 223.930924 \r\nL 339.859901 223.930924 \r\nz\r\n\" style=\"fill:#1f77b4;opacity:0.4;\"/>\r\n   </g>\r\n   <g id=\"patch_50\">\r\n    <path clip-path=\"url(#p774d8705ef)\" d=\"M 345.381503 224.64 \r\nL 350.903106 224.64 \r\nL 350.903106 219.889189 \r\nL 345.381503 219.889189 \r\nz\r\n\" style=\"fill:#1f77b4;opacity:0.4;\"/>\r\n   </g>\r\n   <g id=\"patch_51\">\r\n    <path clip-path=\"url(#p774d8705ef)\" d=\"M 350.903106 224.64 \r\nL 356.424708 224.64 \r\nL 356.424708 223.718201 \r\nL 350.903106 223.718201 \r\nz\r\n\" style=\"fill:#1f77b4;opacity:0.4;\"/>\r\n   </g>\r\n   <g id=\"patch_52\">\r\n    <path clip-path=\"url(#p774d8705ef)\" d=\"M 356.424708 224.64 \r\nL 361.94631 224.64 \r\nL 361.94631 224.214554 \r\nL 356.424708 224.214554 \r\nz\r\n\" style=\"fill:#1f77b4;opacity:0.4;\"/>\r\n   </g>\r\n   <g id=\"matplotlib.axis_1\">\r\n    <g id=\"xtick_1\">\r\n     <g id=\"line2d_1\">\r\n      <defs>\r\n       <path d=\"M 0 0 \r\nL 0 3.5 \r\n\" id=\"m0c13071602\" style=\"stroke:#000000;stroke-width:0.8;\"/>\r\n      </defs>\r\n      <g>\r\n       <use style=\"stroke:#000000;stroke-width:0.8;\" x=\"78.741541\" xlink:href=\"#m0c13071602\" y=\"224.64\"/>\r\n      </g>\r\n     </g>\r\n     <g id=\"text_1\">\r\n      <!-- 0 -->\r\n      <g transform=\"translate(75.560291 239.238438)scale(0.1 -0.1)\">\r\n       <defs>\r\n        <path d=\"M 31.78125 66.40625 \r\nQ 24.171875 66.40625 20.328125 58.90625 \r\nQ 16.5 51.421875 16.5 36.375 \r\nQ 16.5 21.390625 20.328125 13.890625 \r\nQ 24.171875 6.390625 31.78125 6.390625 \r\nQ 39.453125 6.390625 43.28125 13.890625 \r\nQ 47.125 21.390625 47.125 36.375 \r\nQ 47.125 51.421875 43.28125 58.90625 \r\nQ 39.453125 66.40625 31.78125 66.40625 \r\nz\r\nM 31.78125 74.21875 \r\nQ 44.046875 74.21875 50.515625 64.515625 \r\nQ 56.984375 54.828125 56.984375 36.375 \r\nQ 56.984375 17.96875 50.515625 8.265625 \r\nQ 44.046875 -1.421875 31.78125 -1.421875 \r\nQ 19.53125 -1.421875 13.0625 8.265625 \r\nQ 6.59375 17.96875 6.59375 36.375 \r\nQ 6.59375 54.828125 13.0625 64.515625 \r\nQ 19.53125 74.21875 31.78125 74.21875 \r\nz\r\n\" id=\"DejaVuSans-48\"/>\r\n       </defs>\r\n       <use xlink:href=\"#DejaVuSans-48\"/>\r\n      </g>\r\n     </g>\r\n    </g>\r\n    <g id=\"xtick_2\">\r\n     <g id=\"line2d_2\">\r\n      <g>\r\n       <use style=\"stroke:#000000;stroke-width:0.8;\" x=\"123.270593\" xlink:href=\"#m0c13071602\" y=\"224.64\"/>\r\n      </g>\r\n     </g>\r\n     <g id=\"text_2\">\r\n      <!-- 25 -->\r\n      <g transform=\"translate(116.908093 239.238438)scale(0.1 -0.1)\">\r\n       <defs>\r\n        <path d=\"M 19.1875 8.296875 \r\nL 53.609375 8.296875 \r\nL 53.609375 0 \r\nL 7.328125 0 \r\nL 7.328125 8.296875 \r\nQ 12.9375 14.109375 22.625 23.890625 \r\nQ 32.328125 33.6875 34.8125 36.53125 \r\nQ 39.546875 41.84375 41.421875 45.53125 \r\nQ 43.3125 49.21875 43.3125 52.78125 \r\nQ 43.3125 58.59375 39.234375 62.25 \r\nQ 35.15625 65.921875 28.609375 65.921875 \r\nQ 23.96875 65.921875 18.8125 64.3125 \r\nQ 13.671875 62.703125 7.8125 59.421875 \r\nL 7.8125 69.390625 \r\nQ 13.765625 71.78125 18.9375 73 \r\nQ 24.125 74.21875 28.421875 74.21875 \r\nQ 39.75 74.21875 46.484375 68.546875 \r\nQ 53.21875 62.890625 53.21875 53.421875 \r\nQ 53.21875 48.921875 51.53125 44.890625 \r\nQ 49.859375 40.875 45.40625 35.40625 \r\nQ 44.1875 33.984375 37.640625 27.21875 \r\nQ 31.109375 20.453125 19.1875 8.296875 \r\nz\r\n\" id=\"DejaVuSans-50\"/>\r\n        <path d=\"M 10.796875 72.90625 \r\nL 49.515625 72.90625 \r\nL 49.515625 64.59375 \r\nL 19.828125 64.59375 \r\nL 19.828125 46.734375 \r\nQ 21.96875 47.46875 24.109375 47.828125 \r\nQ 26.265625 48.1875 28.421875 48.1875 \r\nQ 40.625 48.1875 47.75 41.5 \r\nQ 54.890625 34.8125 54.890625 23.390625 \r\nQ 54.890625 11.625 47.5625 5.09375 \r\nQ 40.234375 -1.421875 26.90625 -1.421875 \r\nQ 22.3125 -1.421875 17.546875 -0.640625 \r\nQ 12.796875 0.140625 7.71875 1.703125 \r\nL 7.71875 11.625 \r\nQ 12.109375 9.234375 16.796875 8.0625 \r\nQ 21.484375 6.890625 26.703125 6.890625 \r\nQ 35.15625 6.890625 40.078125 11.328125 \r\nQ 45.015625 15.765625 45.015625 23.390625 \r\nQ 45.015625 31 40.078125 35.4375 \r\nQ 35.15625 39.890625 26.703125 39.890625 \r\nQ 22.75 39.890625 18.8125 39.015625 \r\nQ 14.890625 38.140625 10.796875 36.28125 \r\nz\r\n\" id=\"DejaVuSans-53\"/>\r\n       </defs>\r\n       <use xlink:href=\"#DejaVuSans-50\"/>\r\n       <use x=\"63.623047\" xlink:href=\"#DejaVuSans-53\"/>\r\n      </g>\r\n     </g>\r\n    </g>\r\n    <g id=\"xtick_3\">\r\n     <g id=\"line2d_3\">\r\n      <g>\r\n       <use style=\"stroke:#000000;stroke-width:0.8;\" x=\"167.799645\" xlink:href=\"#m0c13071602\" y=\"224.64\"/>\r\n      </g>\r\n     </g>\r\n     <g id=\"text_3\">\r\n      <!-- 50 -->\r\n      <g transform=\"translate(161.437145 239.238438)scale(0.1 -0.1)\">\r\n       <use xlink:href=\"#DejaVuSans-53\"/>\r\n       <use x=\"63.623047\" xlink:href=\"#DejaVuSans-48\"/>\r\n      </g>\r\n     </g>\r\n    </g>\r\n    <g id=\"xtick_4\">\r\n     <g id=\"line2d_4\">\r\n      <g>\r\n       <use style=\"stroke:#000000;stroke-width:0.8;\" x=\"212.328697\" xlink:href=\"#m0c13071602\" y=\"224.64\"/>\r\n      </g>\r\n     </g>\r\n     <g id=\"text_4\">\r\n      <!-- 75 -->\r\n      <g transform=\"translate(205.966197 239.238438)scale(0.1 -0.1)\">\r\n       <defs>\r\n        <path d=\"M 8.203125 72.90625 \r\nL 55.078125 72.90625 \r\nL 55.078125 68.703125 \r\nL 28.609375 0 \r\nL 18.3125 0 \r\nL 43.21875 64.59375 \r\nL 8.203125 64.59375 \r\nz\r\n\" id=\"DejaVuSans-55\"/>\r\n       </defs>\r\n       <use xlink:href=\"#DejaVuSans-55\"/>\r\n       <use x=\"63.623047\" xlink:href=\"#DejaVuSans-53\"/>\r\n      </g>\r\n     </g>\r\n    </g>\r\n    <g id=\"xtick_5\">\r\n     <g id=\"line2d_5\">\r\n      <g>\r\n       <use style=\"stroke:#000000;stroke-width:0.8;\" x=\"256.857748\" xlink:href=\"#m0c13071602\" y=\"224.64\"/>\r\n      </g>\r\n     </g>\r\n     <g id=\"text_5\">\r\n      <!-- 100 -->\r\n      <g transform=\"translate(247.313998 239.238438)scale(0.1 -0.1)\">\r\n       <defs>\r\n        <path d=\"M 12.40625 8.296875 \r\nL 28.515625 8.296875 \r\nL 28.515625 63.921875 \r\nL 10.984375 60.40625 \r\nL 10.984375 69.390625 \r\nL 28.421875 72.90625 \r\nL 38.28125 72.90625 \r\nL 38.28125 8.296875 \r\nL 54.390625 8.296875 \r\nL 54.390625 0 \r\nL 12.40625 0 \r\nz\r\n\" id=\"DejaVuSans-49\"/>\r\n       </defs>\r\n       <use xlink:href=\"#DejaVuSans-49\"/>\r\n       <use x=\"63.623047\" xlink:href=\"#DejaVuSans-48\"/>\r\n       <use x=\"127.246094\" xlink:href=\"#DejaVuSans-48\"/>\r\n      </g>\r\n     </g>\r\n    </g>\r\n    <g id=\"xtick_6\">\r\n     <g id=\"line2d_6\">\r\n      <g>\r\n       <use style=\"stroke:#000000;stroke-width:0.8;\" x=\"301.3868\" xlink:href=\"#m0c13071602\" y=\"224.64\"/>\r\n      </g>\r\n     </g>\r\n     <g id=\"text_6\">\r\n      <!-- 125 -->\r\n      <g transform=\"translate(291.84305 239.238438)scale(0.1 -0.1)\">\r\n       <use xlink:href=\"#DejaVuSans-49\"/>\r\n       <use x=\"63.623047\" xlink:href=\"#DejaVuSans-50\"/>\r\n       <use x=\"127.246094\" xlink:href=\"#DejaVuSans-53\"/>\r\n      </g>\r\n     </g>\r\n    </g>\r\n    <g id=\"xtick_7\">\r\n     <g id=\"line2d_7\">\r\n      <g>\r\n       <use style=\"stroke:#000000;stroke-width:0.8;\" x=\"345.915852\" xlink:href=\"#m0c13071602\" y=\"224.64\"/>\r\n      </g>\r\n     </g>\r\n     <g id=\"text_7\">\r\n      <!-- 150 -->\r\n      <g transform=\"translate(336.372102 239.238438)scale(0.1 -0.1)\">\r\n       <use xlink:href=\"#DejaVuSans-49\"/>\r\n       <use x=\"63.623047\" xlink:href=\"#DejaVuSans-53\"/>\r\n       <use x=\"127.246094\" xlink:href=\"#DejaVuSans-48\"/>\r\n      </g>\r\n     </g>\r\n    </g>\r\n    <g id=\"xtick_8\">\r\n     <g id=\"line2d_8\">\r\n      <g>\r\n       <use style=\"stroke:#000000;stroke-width:0.8;\" x=\"390.444903\" xlink:href=\"#m0c13071602\" y=\"224.64\"/>\r\n      </g>\r\n     </g>\r\n     <g id=\"text_8\">\r\n      <!-- 175 -->\r\n      <g transform=\"translate(380.901153 239.238438)scale(0.1 -0.1)\">\r\n       <use xlink:href=\"#DejaVuSans-49\"/>\r\n       <use x=\"63.623047\" xlink:href=\"#DejaVuSans-55\"/>\r\n       <use x=\"127.246094\" xlink:href=\"#DejaVuSans-53\"/>\r\n      </g>\r\n     </g>\r\n    </g>\r\n    <g id=\"text_9\">\r\n     <!-- price_dollars -->\r\n     <g transform=\"translate(192.225781 252.916562)scale(0.1 -0.1)\">\r\n      <defs>\r\n       <path d=\"M 18.109375 8.203125 \r\nL 18.109375 -20.796875 \r\nL 9.078125 -20.796875 \r\nL 9.078125 54.6875 \r\nL 18.109375 54.6875 \r\nL 18.109375 46.390625 \r\nQ 20.953125 51.265625 25.265625 53.625 \r\nQ 29.59375 56 35.59375 56 \r\nQ 45.5625 56 51.78125 48.09375 \r\nQ 58.015625 40.1875 58.015625 27.296875 \r\nQ 58.015625 14.40625 51.78125 6.484375 \r\nQ 45.5625 -1.421875 35.59375 -1.421875 \r\nQ 29.59375 -1.421875 25.265625 0.953125 \r\nQ 20.953125 3.328125 18.109375 8.203125 \r\nz\r\nM 48.6875 27.296875 \r\nQ 48.6875 37.203125 44.609375 42.84375 \r\nQ 40.53125 48.484375 33.40625 48.484375 \r\nQ 26.265625 48.484375 22.1875 42.84375 \r\nQ 18.109375 37.203125 18.109375 27.296875 \r\nQ 18.109375 17.390625 22.1875 11.75 \r\nQ 26.265625 6.109375 33.40625 6.109375 \r\nQ 40.53125 6.109375 44.609375 11.75 \r\nQ 48.6875 17.390625 48.6875 27.296875 \r\nz\r\n\" id=\"DejaVuSans-112\"/>\r\n       <path d=\"M 41.109375 46.296875 \r\nQ 39.59375 47.171875 37.8125 47.578125 \r\nQ 36.03125 48 33.890625 48 \r\nQ 26.265625 48 22.1875 43.046875 \r\nQ 18.109375 38.09375 18.109375 28.8125 \r\nL 18.109375 0 \r\nL 9.078125 0 \r\nL 9.078125 54.6875 \r\nL 18.109375 54.6875 \r\nL 18.109375 46.1875 \r\nQ 20.953125 51.171875 25.484375 53.578125 \r\nQ 30.03125 56 36.53125 56 \r\nQ 37.453125 56 38.578125 55.875 \r\nQ 39.703125 55.765625 41.0625 55.515625 \r\nz\r\n\" id=\"DejaVuSans-114\"/>\r\n       <path d=\"M 9.421875 54.6875 \r\nL 18.40625 54.6875 \r\nL 18.40625 0 \r\nL 9.421875 0 \r\nz\r\nM 9.421875 75.984375 \r\nL 18.40625 75.984375 \r\nL 18.40625 64.59375 \r\nL 9.421875 64.59375 \r\nz\r\n\" id=\"DejaVuSans-105\"/>\r\n       <path d=\"M 48.78125 52.59375 \r\nL 48.78125 44.1875 \r\nQ 44.96875 46.296875 41.140625 47.34375 \r\nQ 37.3125 48.390625 33.40625 48.390625 \r\nQ 24.65625 48.390625 19.8125 42.84375 \r\nQ 14.984375 37.3125 14.984375 27.296875 \r\nQ 14.984375 17.28125 19.8125 11.734375 \r\nQ 24.65625 6.203125 33.40625 6.203125 \r\nQ 37.3125 6.203125 41.140625 7.25 \r\nQ 44.96875 8.296875 48.78125 10.40625 \r\nL 48.78125 2.09375 \r\nQ 45.015625 0.34375 40.984375 -0.53125 \r\nQ 36.96875 -1.421875 32.421875 -1.421875 \r\nQ 20.0625 -1.421875 12.78125 6.34375 \r\nQ 5.515625 14.109375 5.515625 27.296875 \r\nQ 5.515625 40.671875 12.859375 48.328125 \r\nQ 20.21875 56 33.015625 56 \r\nQ 37.15625 56 41.109375 55.140625 \r\nQ 45.0625 54.296875 48.78125 52.59375 \r\nz\r\n\" id=\"DejaVuSans-99\"/>\r\n       <path d=\"M 56.203125 29.59375 \r\nL 56.203125 25.203125 \r\nL 14.890625 25.203125 \r\nQ 15.484375 15.921875 20.484375 11.0625 \r\nQ 25.484375 6.203125 34.421875 6.203125 \r\nQ 39.59375 6.203125 44.453125 7.46875 \r\nQ 49.3125 8.734375 54.109375 11.28125 \r\nL 54.109375 2.78125 \r\nQ 49.265625 0.734375 44.1875 -0.34375 \r\nQ 39.109375 -1.421875 33.890625 -1.421875 \r\nQ 20.796875 -1.421875 13.15625 6.1875 \r\nQ 5.515625 13.8125 5.515625 26.8125 \r\nQ 5.515625 40.234375 12.765625 48.109375 \r\nQ 20.015625 56 32.328125 56 \r\nQ 43.359375 56 49.78125 48.890625 \r\nQ 56.203125 41.796875 56.203125 29.59375 \r\nz\r\nM 47.21875 32.234375 \r\nQ 47.125 39.59375 43.09375 43.984375 \r\nQ 39.0625 48.390625 32.421875 48.390625 \r\nQ 24.90625 48.390625 20.390625 44.140625 \r\nQ 15.875 39.890625 15.1875 32.171875 \r\nz\r\n\" id=\"DejaVuSans-101\"/>\r\n       <path d=\"M 50.984375 -16.609375 \r\nL 50.984375 -23.578125 \r\nL -0.984375 -23.578125 \r\nL -0.984375 -16.609375 \r\nz\r\n\" id=\"DejaVuSans-95\"/>\r\n       <path d=\"M 45.40625 46.390625 \r\nL 45.40625 75.984375 \r\nL 54.390625 75.984375 \r\nL 54.390625 0 \r\nL 45.40625 0 \r\nL 45.40625 8.203125 \r\nQ 42.578125 3.328125 38.25 0.953125 \r\nQ 33.9375 -1.421875 27.875 -1.421875 \r\nQ 17.96875 -1.421875 11.734375 6.484375 \r\nQ 5.515625 14.40625 5.515625 27.296875 \r\nQ 5.515625 40.1875 11.734375 48.09375 \r\nQ 17.96875 56 27.875 56 \r\nQ 33.9375 56 38.25 53.625 \r\nQ 42.578125 51.265625 45.40625 46.390625 \r\nz\r\nM 14.796875 27.296875 \r\nQ 14.796875 17.390625 18.875 11.75 \r\nQ 22.953125 6.109375 30.078125 6.109375 \r\nQ 37.203125 6.109375 41.296875 11.75 \r\nQ 45.40625 17.390625 45.40625 27.296875 \r\nQ 45.40625 37.203125 41.296875 42.84375 \r\nQ 37.203125 48.484375 30.078125 48.484375 \r\nQ 22.953125 48.484375 18.875 42.84375 \r\nQ 14.796875 37.203125 14.796875 27.296875 \r\nz\r\n\" id=\"DejaVuSans-100\"/>\r\n       <path d=\"M 30.609375 48.390625 \r\nQ 23.390625 48.390625 19.1875 42.75 \r\nQ 14.984375 37.109375 14.984375 27.296875 \r\nQ 14.984375 17.484375 19.15625 11.84375 \r\nQ 23.34375 6.203125 30.609375 6.203125 \r\nQ 37.796875 6.203125 41.984375 11.859375 \r\nQ 46.1875 17.53125 46.1875 27.296875 \r\nQ 46.1875 37.015625 41.984375 42.703125 \r\nQ 37.796875 48.390625 30.609375 48.390625 \r\nz\r\nM 30.609375 56 \r\nQ 42.328125 56 49.015625 48.375 \r\nQ 55.71875 40.765625 55.71875 27.296875 \r\nQ 55.71875 13.875 49.015625 6.21875 \r\nQ 42.328125 -1.421875 30.609375 -1.421875 \r\nQ 18.84375 -1.421875 12.171875 6.21875 \r\nQ 5.515625 13.875 5.515625 27.296875 \r\nQ 5.515625 40.765625 12.171875 48.375 \r\nQ 18.84375 56 30.609375 56 \r\nz\r\n\" id=\"DejaVuSans-111\"/>\r\n       <path d=\"M 9.421875 75.984375 \r\nL 18.40625 75.984375 \r\nL 18.40625 0 \r\nL 9.421875 0 \r\nz\r\n\" id=\"DejaVuSans-108\"/>\r\n       <path d=\"M 34.28125 27.484375 \r\nQ 23.390625 27.484375 19.1875 25 \r\nQ 14.984375 22.515625 14.984375 16.5 \r\nQ 14.984375 11.71875 18.140625 8.90625 \r\nQ 21.296875 6.109375 26.703125 6.109375 \r\nQ 34.1875 6.109375 38.703125 11.40625 \r\nQ 43.21875 16.703125 43.21875 25.484375 \r\nL 43.21875 27.484375 \r\nz\r\nM 52.203125 31.203125 \r\nL 52.203125 0 \r\nL 43.21875 0 \r\nL 43.21875 8.296875 \r\nQ 40.140625 3.328125 35.546875 0.953125 \r\nQ 30.953125 -1.421875 24.3125 -1.421875 \r\nQ 15.921875 -1.421875 10.953125 3.296875 \r\nQ 6 8.015625 6 15.921875 \r\nQ 6 25.140625 12.171875 29.828125 \r\nQ 18.359375 34.515625 30.609375 34.515625 \r\nL 43.21875 34.515625 \r\nL 43.21875 35.40625 \r\nQ 43.21875 41.609375 39.140625 45 \r\nQ 35.0625 48.390625 27.6875 48.390625 \r\nQ 23 48.390625 18.546875 47.265625 \r\nQ 14.109375 46.140625 10.015625 43.890625 \r\nL 10.015625 52.203125 \r\nQ 14.9375 54.109375 19.578125 55.046875 \r\nQ 24.21875 56 28.609375 56 \r\nQ 40.484375 56 46.34375 49.84375 \r\nQ 52.203125 43.703125 52.203125 31.203125 \r\nz\r\n\" id=\"DejaVuSans-97\"/>\r\n       <path d=\"M 44.28125 53.078125 \r\nL 44.28125 44.578125 \r\nQ 40.484375 46.53125 36.375 47.5 \r\nQ 32.28125 48.484375 27.875 48.484375 \r\nQ 21.1875 48.484375 17.84375 46.4375 \r\nQ 14.5 44.390625 14.5 40.28125 \r\nQ 14.5 37.15625 16.890625 35.375 \r\nQ 19.28125 33.59375 26.515625 31.984375 \r\nL 29.59375 31.296875 \r\nQ 39.15625 29.25 43.1875 25.515625 \r\nQ 47.21875 21.78125 47.21875 15.09375 \r\nQ 47.21875 7.46875 41.1875 3.015625 \r\nQ 35.15625 -1.421875 24.609375 -1.421875 \r\nQ 20.21875 -1.421875 15.453125 -0.5625 \r\nQ 10.6875 0.296875 5.421875 2 \r\nL 5.421875 11.28125 \r\nQ 10.40625 8.6875 15.234375 7.390625 \r\nQ 20.0625 6.109375 24.8125 6.109375 \r\nQ 31.15625 6.109375 34.5625 8.28125 \r\nQ 37.984375 10.453125 37.984375 14.40625 \r\nQ 37.984375 18.0625 35.515625 20.015625 \r\nQ 33.0625 21.96875 24.703125 23.78125 \r\nL 21.578125 24.515625 \r\nQ 13.234375 26.265625 9.515625 29.90625 \r\nQ 5.8125 33.546875 5.8125 39.890625 \r\nQ 5.8125 47.609375 11.28125 51.796875 \r\nQ 16.75 56 26.8125 56 \r\nQ 31.78125 56 36.171875 55.265625 \r\nQ 40.578125 54.546875 44.28125 53.078125 \r\nz\r\n\" id=\"DejaVuSans-115\"/>\r\n      </defs>\r\n      <use xlink:href=\"#DejaVuSans-112\"/>\r\n      <use x=\"63.476562\" xlink:href=\"#DejaVuSans-114\"/>\r\n      <use x=\"104.589844\" xlink:href=\"#DejaVuSans-105\"/>\r\n      <use x=\"132.373047\" xlink:href=\"#DejaVuSans-99\"/>\r\n      <use x=\"187.353516\" xlink:href=\"#DejaVuSans-101\"/>\r\n      <use x=\"248.876953\" xlink:href=\"#DejaVuSans-95\"/>\r\n      <use x=\"298.876953\" xlink:href=\"#DejaVuSans-100\"/>\r\n      <use x=\"362.353516\" xlink:href=\"#DejaVuSans-111\"/>\r\n      <use x=\"423.535156\" xlink:href=\"#DejaVuSans-108\"/>\r\n      <use x=\"451.318359\" xlink:href=\"#DejaVuSans-108\"/>\r\n      <use x=\"479.101562\" xlink:href=\"#DejaVuSans-97\"/>\r\n      <use x=\"540.380859\" xlink:href=\"#DejaVuSans-114\"/>\r\n      <use x=\"581.494141\" xlink:href=\"#DejaVuSans-115\"/>\r\n     </g>\r\n    </g>\r\n   </g>\r\n   <g id=\"matplotlib.axis_2\">\r\n    <g id=\"ytick_1\">\r\n     <g id=\"line2d_9\">\r\n      <defs>\r\n       <path d=\"M 0 0 \r\nL -3.5 0 \r\n\" id=\"m8e127cbf14\" style=\"stroke:#000000;stroke-width:0.8;\"/>\r\n      </defs>\r\n      <g>\r\n       <use style=\"stroke:#000000;stroke-width:0.8;\" x=\"56.50625\" xlink:href=\"#m8e127cbf14\" y=\"224.64\"/>\r\n      </g>\r\n     </g>\r\n     <g id=\"text_10\">\r\n      <!-- 0.000 -->\r\n      <g transform=\"translate(20.878125 228.439219)scale(0.1 -0.1)\">\r\n       <defs>\r\n        <path d=\"M 10.6875 12.40625 \r\nL 21 12.40625 \r\nL 21 0 \r\nL 10.6875 0 \r\nz\r\n\" id=\"DejaVuSans-46\"/>\r\n       </defs>\r\n       <use xlink:href=\"#DejaVuSans-48\"/>\r\n       <use x=\"63.623047\" xlink:href=\"#DejaVuSans-46\"/>\r\n       <use x=\"95.410156\" xlink:href=\"#DejaVuSans-48\"/>\r\n       <use x=\"159.033203\" xlink:href=\"#DejaVuSans-48\"/>\r\n       <use x=\"222.65625\" xlink:href=\"#DejaVuSans-48\"/>\r\n      </g>\r\n     </g>\r\n    </g>\r\n    <g id=\"ytick_2\">\r\n     <g id=\"line2d_10\">\r\n      <g>\r\n       <use style=\"stroke:#000000;stroke-width:0.8;\" x=\"56.50625\" xlink:href=\"#m8e127cbf14\" y=\"192.135609\"/>\r\n      </g>\r\n     </g>\r\n     <g id=\"text_11\">\r\n      <!-- 0.005 -->\r\n      <g transform=\"translate(20.878125 195.934827)scale(0.1 -0.1)\">\r\n       <use xlink:href=\"#DejaVuSans-48\"/>\r\n       <use x=\"63.623047\" xlink:href=\"#DejaVuSans-46\"/>\r\n       <use x=\"95.410156\" xlink:href=\"#DejaVuSans-48\"/>\r\n       <use x=\"159.033203\" xlink:href=\"#DejaVuSans-48\"/>\r\n       <use x=\"222.65625\" xlink:href=\"#DejaVuSans-53\"/>\r\n      </g>\r\n     </g>\r\n    </g>\r\n    <g id=\"ytick_3\">\r\n     <g id=\"line2d_11\">\r\n      <g>\r\n       <use style=\"stroke:#000000;stroke-width:0.8;\" x=\"56.50625\" xlink:href=\"#m8e127cbf14\" y=\"159.631217\"/>\r\n      </g>\r\n     </g>\r\n     <g id=\"text_12\">\r\n      <!-- 0.010 -->\r\n      <g transform=\"translate(20.878125 163.430436)scale(0.1 -0.1)\">\r\n       <use xlink:href=\"#DejaVuSans-48\"/>\r\n       <use x=\"63.623047\" xlink:href=\"#DejaVuSans-46\"/>\r\n       <use x=\"95.410156\" xlink:href=\"#DejaVuSans-48\"/>\r\n       <use x=\"159.033203\" xlink:href=\"#DejaVuSans-49\"/>\r\n       <use x=\"222.65625\" xlink:href=\"#DejaVuSans-48\"/>\r\n      </g>\r\n     </g>\r\n    </g>\r\n    <g id=\"ytick_4\">\r\n     <g id=\"line2d_12\">\r\n      <g>\r\n       <use style=\"stroke:#000000;stroke-width:0.8;\" x=\"56.50625\" xlink:href=\"#m8e127cbf14\" y=\"127.126826\"/>\r\n      </g>\r\n     </g>\r\n     <g id=\"text_13\">\r\n      <!-- 0.015 -->\r\n      <g transform=\"translate(20.878125 130.926045)scale(0.1 -0.1)\">\r\n       <use xlink:href=\"#DejaVuSans-48\"/>\r\n       <use x=\"63.623047\" xlink:href=\"#DejaVuSans-46\"/>\r\n       <use x=\"95.410156\" xlink:href=\"#DejaVuSans-48\"/>\r\n       <use x=\"159.033203\" xlink:href=\"#DejaVuSans-49\"/>\r\n       <use x=\"222.65625\" xlink:href=\"#DejaVuSans-53\"/>\r\n      </g>\r\n     </g>\r\n    </g>\r\n    <g id=\"ytick_5\">\r\n     <g id=\"line2d_13\">\r\n      <g>\r\n       <use style=\"stroke:#000000;stroke-width:0.8;\" x=\"56.50625\" xlink:href=\"#m8e127cbf14\" y=\"94.622434\"/>\r\n      </g>\r\n     </g>\r\n     <g id=\"text_14\">\r\n      <!-- 0.020 -->\r\n      <g transform=\"translate(20.878125 98.421653)scale(0.1 -0.1)\">\r\n       <use xlink:href=\"#DejaVuSans-48\"/>\r\n       <use x=\"63.623047\" xlink:href=\"#DejaVuSans-46\"/>\r\n       <use x=\"95.410156\" xlink:href=\"#DejaVuSans-48\"/>\r\n       <use x=\"159.033203\" xlink:href=\"#DejaVuSans-50\"/>\r\n       <use x=\"222.65625\" xlink:href=\"#DejaVuSans-48\"/>\r\n      </g>\r\n     </g>\r\n    </g>\r\n    <g id=\"ytick_6\">\r\n     <g id=\"line2d_14\">\r\n      <g>\r\n       <use style=\"stroke:#000000;stroke-width:0.8;\" x=\"56.50625\" xlink:href=\"#m8e127cbf14\" y=\"62.118043\"/>\r\n      </g>\r\n     </g>\r\n     <g id=\"text_15\">\r\n      <!-- 0.025 -->\r\n      <g transform=\"translate(20.878125 65.917262)scale(0.1 -0.1)\">\r\n       <use xlink:href=\"#DejaVuSans-48\"/>\r\n       <use x=\"63.623047\" xlink:href=\"#DejaVuSans-46\"/>\r\n       <use x=\"95.410156\" xlink:href=\"#DejaVuSans-48\"/>\r\n       <use x=\"159.033203\" xlink:href=\"#DejaVuSans-50\"/>\r\n       <use x=\"222.65625\" xlink:href=\"#DejaVuSans-53\"/>\r\n      </g>\r\n     </g>\r\n    </g>\r\n    <g id=\"ytick_7\">\r\n     <g id=\"line2d_15\">\r\n      <g>\r\n       <use style=\"stroke:#000000;stroke-width:0.8;\" x=\"56.50625\" xlink:href=\"#m8e127cbf14\" y=\"29.613652\"/>\r\n      </g>\r\n     </g>\r\n     <g id=\"text_16\">\r\n      <!-- 0.030 -->\r\n      <g transform=\"translate(20.878125 33.41287)scale(0.1 -0.1)\">\r\n       <defs>\r\n        <path d=\"M 40.578125 39.3125 \r\nQ 47.65625 37.796875 51.625 33 \r\nQ 55.609375 28.21875 55.609375 21.1875 \r\nQ 55.609375 10.40625 48.1875 4.484375 \r\nQ 40.765625 -1.421875 27.09375 -1.421875 \r\nQ 22.515625 -1.421875 17.65625 -0.515625 \r\nQ 12.796875 0.390625 7.625 2.203125 \r\nL 7.625 11.71875 \r\nQ 11.71875 9.328125 16.59375 8.109375 \r\nQ 21.484375 6.890625 26.8125 6.890625 \r\nQ 36.078125 6.890625 40.9375 10.546875 \r\nQ 45.796875 14.203125 45.796875 21.1875 \r\nQ 45.796875 27.640625 41.28125 31.265625 \r\nQ 36.765625 34.90625 28.71875 34.90625 \r\nL 20.21875 34.90625 \r\nL 20.21875 43.015625 \r\nL 29.109375 43.015625 \r\nQ 36.375 43.015625 40.234375 45.921875 \r\nQ 44.09375 48.828125 44.09375 54.296875 \r\nQ 44.09375 59.90625 40.109375 62.90625 \r\nQ 36.140625 65.921875 28.71875 65.921875 \r\nQ 24.65625 65.921875 20.015625 65.03125 \r\nQ 15.375 64.15625 9.8125 62.3125 \r\nL 9.8125 71.09375 \r\nQ 15.4375 72.65625 20.34375 73.4375 \r\nQ 25.25 74.21875 29.59375 74.21875 \r\nQ 40.828125 74.21875 47.359375 69.109375 \r\nQ 53.90625 64.015625 53.90625 55.328125 \r\nQ 53.90625 49.265625 50.4375 45.09375 \r\nQ 46.96875 40.921875 40.578125 39.3125 \r\nz\r\n\" id=\"DejaVuSans-51\"/>\r\n       </defs>\r\n       <use xlink:href=\"#DejaVuSans-48\"/>\r\n       <use x=\"63.623047\" xlink:href=\"#DejaVuSans-46\"/>\r\n       <use x=\"95.410156\" xlink:href=\"#DejaVuSans-48\"/>\r\n       <use x=\"159.033203\" xlink:href=\"#DejaVuSans-51\"/>\r\n       <use x=\"222.65625\" xlink:href=\"#DejaVuSans-48\"/>\r\n      </g>\r\n     </g>\r\n    </g>\r\n    <g id=\"text_17\">\r\n     <!-- Density -->\r\n     <g transform=\"translate(14.798437 134.928594)rotate(-90)scale(0.1 -0.1)\">\r\n      <defs>\r\n       <path d=\"M 19.671875 64.796875 \r\nL 19.671875 8.109375 \r\nL 31.59375 8.109375 \r\nQ 46.6875 8.109375 53.6875 14.9375 \r\nQ 60.6875 21.78125 60.6875 36.53125 \r\nQ 60.6875 51.171875 53.6875 57.984375 \r\nQ 46.6875 64.796875 31.59375 64.796875 \r\nz\r\nM 9.8125 72.90625 \r\nL 30.078125 72.90625 \r\nQ 51.265625 72.90625 61.171875 64.09375 \r\nQ 71.09375 55.28125 71.09375 36.53125 \r\nQ 71.09375 17.671875 61.125 8.828125 \r\nQ 51.171875 0 30.078125 0 \r\nL 9.8125 0 \r\nz\r\n\" id=\"DejaVuSans-68\"/>\r\n       <path d=\"M 54.890625 33.015625 \r\nL 54.890625 0 \r\nL 45.90625 0 \r\nL 45.90625 32.71875 \r\nQ 45.90625 40.484375 42.875 44.328125 \r\nQ 39.84375 48.1875 33.796875 48.1875 \r\nQ 26.515625 48.1875 22.3125 43.546875 \r\nQ 18.109375 38.921875 18.109375 30.90625 \r\nL 18.109375 0 \r\nL 9.078125 0 \r\nL 9.078125 54.6875 \r\nL 18.109375 54.6875 \r\nL 18.109375 46.1875 \r\nQ 21.34375 51.125 25.703125 53.5625 \r\nQ 30.078125 56 35.796875 56 \r\nQ 45.21875 56 50.046875 50.171875 \r\nQ 54.890625 44.34375 54.890625 33.015625 \r\nz\r\n\" id=\"DejaVuSans-110\"/>\r\n       <path d=\"M 18.3125 70.21875 \r\nL 18.3125 54.6875 \r\nL 36.8125 54.6875 \r\nL 36.8125 47.703125 \r\nL 18.3125 47.703125 \r\nL 18.3125 18.015625 \r\nQ 18.3125 11.328125 20.140625 9.421875 \r\nQ 21.96875 7.515625 27.59375 7.515625 \r\nL 36.8125 7.515625 \r\nL 36.8125 0 \r\nL 27.59375 0 \r\nQ 17.1875 0 13.234375 3.875 \r\nQ 9.28125 7.765625 9.28125 18.015625 \r\nL 9.28125 47.703125 \r\nL 2.6875 47.703125 \r\nL 2.6875 54.6875 \r\nL 9.28125 54.6875 \r\nL 9.28125 70.21875 \r\nz\r\n\" id=\"DejaVuSans-116\"/>\r\n       <path d=\"M 32.171875 -5.078125 \r\nQ 28.375 -14.84375 24.75 -17.8125 \r\nQ 21.140625 -20.796875 15.09375 -20.796875 \r\nL 7.90625 -20.796875 \r\nL 7.90625 -13.28125 \r\nL 13.1875 -13.28125 \r\nQ 16.890625 -13.28125 18.9375 -11.515625 \r\nQ 21 -9.765625 23.484375 -3.21875 \r\nL 25.09375 0.875 \r\nL 2.984375 54.6875 \r\nL 12.5 54.6875 \r\nL 29.59375 11.921875 \r\nL 46.6875 54.6875 \r\nL 56.203125 54.6875 \r\nz\r\n\" id=\"DejaVuSans-121\"/>\r\n      </defs>\r\n      <use xlink:href=\"#DejaVuSans-68\"/>\r\n      <use x=\"77.001953\" xlink:href=\"#DejaVuSans-101\"/>\r\n      <use x=\"138.525391\" xlink:href=\"#DejaVuSans-110\"/>\r\n      <use x=\"201.904297\" xlink:href=\"#DejaVuSans-115\"/>\r\n      <use x=\"254.003906\" xlink:href=\"#DejaVuSans-105\"/>\r\n      <use x=\"281.787109\" xlink:href=\"#DejaVuSans-116\"/>\r\n      <use x=\"320.996094\" xlink:href=\"#DejaVuSans-121\"/>\r\n     </g>\r\n    </g>\r\n   </g>\r\n   <g id=\"line2d_16\">\r\n    <path clip-path=\"url(#p774d8705ef)\" d=\"M 71.724432 224.635249 \r\nL 76.312828 224.526251 \r\nL 77.842294 224.356565 \r\nL 79.371759 223.980604 \r\nL 80.901225 223.204692 \r\nL 82.43069 221.711655 \r\nL 83.960156 219.032133 \r\nL 85.489621 214.548597 \r\nL 87.019087 207.560597 \r\nL 88.548552 197.429221 \r\nL 90.078018 183.785393 \r\nL 91.607483 166.738061 \r\nL 93.136949 146.983327 \r\nL 97.725345 84.552995 \r\nL 99.254811 67.081653 \r\nL 100.784276 52.668924 \r\nL 102.313742 41.55792 \r\nL 103.843208 33.703736 \r\nL 105.372673 28.845822 \r\nL 106.902139 26.581032 \r\nL 108.431604 26.492268 \r\nL 109.96107 28.303365 \r\nL 111.490535 31.928167 \r\nL 113.020001 37.314192 \r\nL 114.549466 44.167625 \r\nL 117.608397 59.350569 \r\nL 119.137863 66.100989 \r\nL 120.667328 71.88913 \r\nL 123.726259 81.941516 \r\nL 131.373587 106.688398 \r\nL 134.432518 117.759173 \r\nL 135.961983 122.649566 \r\nL 137.491449 126.364528 \r\nL 139.020914 128.805216 \r\nL 140.55038 130.313541 \r\nL 145.138776 133.496317 \r\nL 146.668242 134.864705 \r\nL 148.197707 136.744031 \r\nL 149.727173 139.375793 \r\nL 151.256638 142.747062 \r\nL 154.315569 149.948161 \r\nL 155.845035 152.711714 \r\nL 157.3745 154.639775 \r\nL 158.903966 155.910011 \r\nL 160.433431 156.786242 \r\nL 163.492362 158.263734 \r\nL 165.021828 159.489193 \r\nL 166.551293 161.634911 \r\nL 168.080759 164.996371 \r\nL 169.610224 169.43185 \r\nL 172.669155 178.989709 \r\nL 174.198621 182.790517 \r\nL 175.728086 185.563932 \r\nL 177.257552 187.407631 \r\nL 178.787017 188.507218 \r\nL 180.316483 189.03993 \r\nL 183.375414 189.42519 \r\nL 184.90488 190.019876 \r\nL 186.434345 191.263704 \r\nL 187.963811 193.09641 \r\nL 191.022742 197.170445 \r\nL 192.552207 198.845654 \r\nL 195.611138 201.507477 \r\nL 198.670069 203.74441 \r\nL 200.199535 204.60227 \r\nL 201.729 205.238343 \r\nL 203.258466 205.680617 \r\nL 204.787931 205.94009 \r\nL 206.317397 205.97965 \r\nL 207.846862 205.777902 \r\nL 210.905793 205.167132 \r\nL 212.435259 205.24825 \r\nL 213.964724 205.798619 \r\nL 215.49419 206.737815 \r\nL 220.082586 209.99011 \r\nL 223.141517 211.866639 \r\nL 224.670983 212.683373 \r\nL 226.200448 213.327044 \r\nL 227.729914 213.761836 \r\nL 230.788845 214.176246 \r\nL 233.847776 214.302423 \r\nL 236.906707 214.323517 \r\nL 238.436172 214.483731 \r\nL 239.965638 214.855754 \r\nL 246.0835 217.043691 \r\nL 247.612965 217.214014 \r\nL 249.142431 217.152046 \r\nL 250.671896 216.883211 \r\nL 253.730827 216.066979 \r\nL 255.260293 215.848788 \r\nL 256.789758 215.999639 \r\nL 258.319224 216.59163 \r\nL 259.848689 217.544827 \r\nL 262.90762 219.729738 \r\nL 264.437086 220.586488 \r\nL 265.966552 221.171832 \r\nL 267.496017 221.49917 \r\nL 269.025483 221.622411 \r\nL 275.143345 221.566852 \r\nL 278.202276 221.918233 \r\nL 281.261207 222.283139 \r\nL 282.790672 222.343774 \r\nL 284.320138 222.29296 \r\nL 287.379069 221.874998 \r\nL 291.967465 221.009258 \r\nL 295.026396 220.715356 \r\nL 299.614793 220.483907 \r\nL 301.144258 220.542314 \r\nL 302.673724 220.745879 \r\nL 305.732655 221.492331 \r\nL 308.791586 222.241459 \r\nL 311.850517 222.691971 \r\nL 314.909448 222.86369 \r\nL 328.674637 222.961723 \r\nL 334.792499 223.316081 \r\nL 337.85143 223.144428 \r\nL 340.910361 222.623114 \r\nL 343.969292 222.06767 \r\nL 345.498758 221.966554 \r\nL 347.028224 222.050953 \r\nL 350.087155 222.664185 \r\nL 353.146086 223.390054 \r\nL 356.205017 223.87496 \r\nL 360.793413 224.27644 \r\nL 366.911275 224.556114 \r\nL 374.558603 224.637195 \r\nL 376.088068 224.638918 \r\nL 376.088068 224.638918 \r\n\" style=\"fill:none;stroke:#1f77b4;stroke-linecap:square;stroke-width:1.5;\"/>\r\n   </g>\r\n   <g id=\"patch_53\">\r\n    <path d=\"M 56.50625 224.64 \r\nL 56.50625 7.2 \r\n\" style=\"fill:none;stroke:#000000;stroke-linecap:square;stroke-linejoin:miter;stroke-width:0.8;\"/>\r\n   </g>\r\n   <g id=\"patch_54\">\r\n    <path d=\"M 391.30625 224.64 \r\nL 391.30625 7.2 \r\n\" style=\"fill:none;stroke:#000000;stroke-linecap:square;stroke-linejoin:miter;stroke-width:0.8;\"/>\r\n   </g>\r\n   <g id=\"patch_55\">\r\n    <path d=\"M 56.50625 224.64 \r\nL 391.30625 224.64 \r\n\" style=\"fill:none;stroke:#000000;stroke-linecap:square;stroke-linejoin:miter;stroke-width:0.8;\"/>\r\n   </g>\r\n   <g id=\"patch_56\">\r\n    <path d=\"M 56.50625 7.2 \r\nL 391.30625 7.2 \r\n\" style=\"fill:none;stroke:#000000;stroke-linecap:square;stroke-linejoin:miter;stroke-width:0.8;\"/>\r\n   </g>\r\n  </g>\r\n </g>\r\n <defs>\r\n  <clipPath id=\"p774d8705ef\">\r\n   <rect height=\"217.44\" width=\"334.8\" x=\"56.50625\" y=\"7.2\"/>\r\n  </clipPath>\r\n </defs>\r\n</svg>\r\n",
            "image/png": "[encoded data removed]"
          },
          "metadata": {
            "needs_background": "light"
          }
        }
      ]
    },
    {
      "cell_type": "code",
      "metadata": {
        "id": "_q9Y3vgzS45H",
        "outputId": "e7d363e7-75be-4628-cedf-23c35273ac1e"
      },
      "source": [
        "#snapshot of updated dataframe\n",
        "new2017_df.head()"
      ],
      "execution_count": 27,
      "outputs": [
        {
          "output_type": "execute_result",
          "data": {
            "text/plain": [
              "  country           wine_type  price_dollars  ratings_desc\n",
              "1   Spain       Tinta de Toro            110           1.0\n",
              "2      US     Sauvignon Blanc             90           1.0\n",
              "3      US          Pinot Noir             65           1.0\n",
              "4  France  Provence red blend             66           1.0\n",
              "5   Spain       Tinta de Toro             73           1.0"
            ],
            "text/html": "<div>\n<style scoped>\n    .dataframe tbody tr th:only-of-type {\n        vertical-align: middle;\n    }\n\n    .dataframe tbody tr th {\n        vertical-align: top;\n    }\n\n    .dataframe thead th {\n        text-align: right;\n    }\n</style>\n<table border=\"1\" class=\"dataframe\">\n  <thead>\n    <tr style=\"text-align: right;\">\n      <th></th>\n      <th>country</th>\n      <th>wine_type</th>\n      <th>price_dollars</th>\n      <th>ratings_desc</th>\n    </tr>\n  </thead>\n  <tbody>\n    <tr>\n      <th>1</th>\n      <td>Spain</td>\n      <td>Tinta de Toro</td>\n      <td>110</td>\n      <td>1.0</td>\n    </tr>\n    <tr>\n      <th>2</th>\n      <td>US</td>\n      <td>Sauvignon Blanc</td>\n      <td>90</td>\n      <td>1.0</td>\n    </tr>\n    <tr>\n      <th>3</th>\n      <td>US</td>\n      <td>Pinot Noir</td>\n      <td>65</td>\n      <td>1.0</td>\n    </tr>\n    <tr>\n      <th>4</th>\n      <td>France</td>\n      <td>Provence red blend</td>\n      <td>66</td>\n      <td>1.0</td>\n    </tr>\n    <tr>\n      <th>5</th>\n      <td>Spain</td>\n      <td>Tinta de Toro</td>\n      <td>73</td>\n      <td>1.0</td>\n    </tr>\n  </tbody>\n</table>\n</div>"
          },
          "metadata": {},
          "execution_count": 27
        }
      ]
    },
    {
      "cell_type": "code",
      "metadata": {
        "id": "GyFkehrhS45I",
        "outputId": "59943c7b-96bb-4b38-9af6-59b07906c796"
      },
      "source": [
        "#updated stats without the top % -- notice the max has changed\n",
        "new2017_df.describe()"
      ],
      "execution_count": 28,
      "outputs": [
        {
          "output_type": "execute_result",
          "data": {
            "text/plain": [
              "       price_dollars  ratings_desc\n",
              "count   59149.000000  59149.000000\n",
              "mean       33.875197      0.355086\n",
              "std        23.826935      0.478544\n",
              "min         4.000000      0.000000\n",
              "25%        17.000000      0.000000\n",
              "50%        27.000000      0.000000\n",
              "75%        44.000000      1.000000\n",
              "max       159.000000      1.000000"
            ],
            "text/html": "<div>\n<style scoped>\n    .dataframe tbody tr th:only-of-type {\n        vertical-align: middle;\n    }\n\n    .dataframe tbody tr th {\n        vertical-align: top;\n    }\n\n    .dataframe thead th {\n        text-align: right;\n    }\n</style>\n<table border=\"1\" class=\"dataframe\">\n  <thead>\n    <tr style=\"text-align: right;\">\n      <th></th>\n      <th>price_dollars</th>\n      <th>ratings_desc</th>\n    </tr>\n  </thead>\n  <tbody>\n    <tr>\n      <th>count</th>\n      <td>59149.000000</td>\n      <td>59149.000000</td>\n    </tr>\n    <tr>\n      <th>mean</th>\n      <td>33.875197</td>\n      <td>0.355086</td>\n    </tr>\n    <tr>\n      <th>std</th>\n      <td>23.826935</td>\n      <td>0.478544</td>\n    </tr>\n    <tr>\n      <th>min</th>\n      <td>4.000000</td>\n      <td>0.000000</td>\n    </tr>\n    <tr>\n      <th>25%</th>\n      <td>17.000000</td>\n      <td>0.000000</td>\n    </tr>\n    <tr>\n      <th>50%</th>\n      <td>27.000000</td>\n      <td>0.000000</td>\n    </tr>\n    <tr>\n      <th>75%</th>\n      <td>44.000000</td>\n      <td>1.000000</td>\n    </tr>\n    <tr>\n      <th>max</th>\n      <td>159.000000</td>\n      <td>1.000000</td>\n    </tr>\n  </tbody>\n</table>\n</div>"
          },
          "metadata": {},
          "execution_count": 28
        }
      ]
    },
    {
      "cell_type": "code",
      "metadata": {
        "id": "kZF6vUNpS45I",
        "outputId": "e572c324-df0c-4351-8797-94bacba242b6"
      },
      "source": [
        "# shows the counts by country to see spread\n",
        "# US is roughly half of the dataset\n",
        "new2017_df.groupby(['country']).count().sort_values(['wine_type'],ascending = False)"
      ],
      "execution_count": 29,
      "outputs": [
        {
          "output_type": "execute_result",
          "data": {
            "text/plain": [
              "                        wine_type  price_dollars  ratings_desc\n",
              "country                                                       \n",
              "US                          25141          25141         25141\n",
              "Italy                        8171           8171          8171\n",
              "France                       6466           6466          6466\n",
              "Spain                        4095           4095          4095\n",
              "Chile                        3006           3006          3006\n",
              "Portugal                     2345           2345          2345\n",
              "Argentina                    2329           2329          2329\n",
              "Australia                    2004           2004          2004\n",
              "Austria                      1340           1340          1340\n",
              "Germany                      1321           1321          1321\n",
              "New Zealand                   792            792           792\n",
              "South Africa                  756            756           756\n",
              "Greece                        376            376           376\n",
              "Israel                        304            304           304\n",
              "Canada                        113            113           113\n",
              "Hungary                       104            104           104\n",
              "Romania                        92             92            92\n",
              "Croatia                        45             45            45\n",
              "Slovenia                       41             41            41\n",
              "Bulgaria                       40             40            40\n",
              "Mexico                         39             39            39\n",
              "Moldova                        39             39            39\n",
              "Uruguay                        39             39            39\n",
              "Turkey                         30             30            30\n",
              "Georgia                        27             27            27\n",
              "Lebanon                        23             23            23\n",
              "Cyprus                         12             12            12\n",
              "Brazil                         11             11            11\n",
              "England                         8              8             8\n",
              "Serbia                          8              8             8\n",
              "Morocco                         5              5             5\n",
              "Ukraine                         5              5             5\n",
              "Lithuania                       4              4             4\n",
              "Macedonia                       4              4             4\n",
              "Switzerland                     3              3             3\n",
              "Luxembourg                      3              3             3\n",
              "India                           3              3             3\n",
              "South Korea                     2              2             2\n",
              "China                           1              1             1\n",
              "Bosnia and Herzegovina          1              1             1\n",
              "Japan                           1              1             1"
            ],
            "text/html": "<div>\n<style scoped>\n    .dataframe tbody tr th:only-of-type {\n        vertical-align: middle;\n    }\n\n    .dataframe tbody tr th {\n        vertical-align: top;\n    }\n\n    .dataframe thead th {\n        text-align: right;\n    }\n</style>\n<table border=\"1\" class=\"dataframe\">\n  <thead>\n    <tr style=\"text-align: right;\">\n      <th></th>\n      <th>wine_type</th>\n      <th>price_dollars</th>\n      <th>ratings_desc</th>\n    </tr>\n    <tr>\n      <th>country</th>\n      <th></th>\n      <th></th>\n      <th></th>\n    </tr>\n  </thead>\n  <tbody>\n    <tr>\n      <th>US</th>\n      <td>25141</td>\n      <td>25141</td>\n      <td>25141</td>\n    </tr>\n    <tr>\n      <th>Italy</th>\n      <td>8171</td>\n      <td>8171</td>\n      <td>8171</td>\n    </tr>\n    <tr>\n      <th>France</th>\n      <td>6466</td>\n      <td>6466</td>\n      <td>6466</td>\n    </tr>\n    <tr>\n      <th>Spain</th>\n      <td>4095</td>\n      <td>4095</td>\n      <td>4095</td>\n    </tr>\n    <tr>\n      <th>Chile</th>\n      <td>3006</td>\n      <td>3006</td>\n      <td>3006</td>\n    </tr>\n    <tr>\n      <th>Portugal</th>\n      <td>2345</td>\n      <td>2345</td>\n      <td>2345</td>\n    </tr>\n    <tr>\n      <th>Argentina</th>\n      <td>2329</td>\n      <td>2329</td>\n      <td>2329</td>\n    </tr>\n    <tr>\n      <th>Australia</th>\n      <td>2004</td>\n      <td>2004</td>\n      <td>2004</td>\n    </tr>\n    <tr>\n      <th>Austria</th>\n      <td>1340</td>\n      <td>1340</td>\n      <td>1340</td>\n    </tr>\n    <tr>\n      <th>Germany</th>\n      <td>1321</td>\n      <td>1321</td>\n      <td>1321</td>\n    </tr>\n    <tr>\n      <th>New Zealand</th>\n      <td>792</td>\n      <td>792</td>\n      <td>792</td>\n    </tr>\n    <tr>\n      <th>South Africa</th>\n      <td>756</td>\n      <td>756</td>\n      <td>756</td>\n    </tr>\n    <tr>\n      <th>Greece</th>\n      <td>376</td>\n      <td>376</td>\n      <td>376</td>\n    </tr>\n    <tr>\n      <th>Israel</th>\n      <td>304</td>\n      <td>304</td>\n      <td>304</td>\n    </tr>\n    <tr>\n      <th>Canada</th>\n      <td>113</td>\n      <td>113</td>\n      <td>113</td>\n    </tr>\n    <tr>\n      <th>Hungary</th>\n      <td>104</td>\n      <td>104</td>\n      <td>104</td>\n    </tr>\n    <tr>\n      <th>Romania</th>\n      <td>92</td>\n      <td>92</td>\n      <td>92</td>\n    </tr>\n    <tr>\n      <th>Croatia</th>\n      <td>45</td>\n      <td>45</td>\n      <td>45</td>\n    </tr>\n    <tr>\n      <th>Slovenia</th>\n      <td>41</td>\n      <td>41</td>\n      <td>41</td>\n    </tr>\n    <tr>\n      <th>Bulgaria</th>\n      <td>40</td>\n      <td>40</td>\n      <td>40</td>\n    </tr>\n    <tr>\n      <th>Mexico</th>\n      <td>39</td>\n      <td>39</td>\n      <td>39</td>\n    </tr>\n    <tr>\n      <th>Moldova</th>\n      <td>39</td>\n      <td>39</td>\n      <td>39</td>\n    </tr>\n    <tr>\n      <th>Uruguay</th>\n      <td>39</td>\n      <td>39</td>\n      <td>39</td>\n    </tr>\n    <tr>\n      <th>Turkey</th>\n      <td>30</td>\n      <td>30</td>\n      <td>30</td>\n    </tr>\n    <tr>\n      <th>Georgia</th>\n      <td>27</td>\n      <td>27</td>\n      <td>27</td>\n    </tr>\n    <tr>\n      <th>Lebanon</th>\n      <td>23</td>\n      <td>23</td>\n      <td>23</td>\n    </tr>\n    <tr>\n      <th>Cyprus</th>\n      <td>12</td>\n      <td>12</td>\n      <td>12</td>\n    </tr>\n    <tr>\n      <th>Brazil</th>\n      <td>11</td>\n      <td>11</td>\n      <td>11</td>\n    </tr>\n    <tr>\n      <th>England</th>\n      <td>8</td>\n      <td>8</td>\n      <td>8</td>\n    </tr>\n    <tr>\n      <th>Serbia</th>\n      <td>8</td>\n      <td>8</td>\n      <td>8</td>\n    </tr>\n    <tr>\n      <th>Morocco</th>\n      <td>5</td>\n      <td>5</td>\n      <td>5</td>\n    </tr>\n    <tr>\n      <th>Ukraine</th>\n      <td>5</td>\n      <td>5</td>\n      <td>5</td>\n    </tr>\n    <tr>\n      <th>Lithuania</th>\n      <td>4</td>\n      <td>4</td>\n      <td>4</td>\n    </tr>\n    <tr>\n      <th>Macedonia</th>\n      <td>4</td>\n      <td>4</td>\n      <td>4</td>\n    </tr>\n    <tr>\n      <th>Switzerland</th>\n      <td>3</td>\n      <td>3</td>\n      <td>3</td>\n    </tr>\n    <tr>\n      <th>Luxembourg</th>\n      <td>3</td>\n      <td>3</td>\n      <td>3</td>\n    </tr>\n    <tr>\n      <th>India</th>\n      <td>3</td>\n      <td>3</td>\n      <td>3</td>\n    </tr>\n    <tr>\n      <th>South Korea</th>\n      <td>2</td>\n      <td>2</td>\n      <td>2</td>\n    </tr>\n    <tr>\n      <th>China</th>\n      <td>1</td>\n      <td>1</td>\n      <td>1</td>\n    </tr>\n    <tr>\n      <th>Bosnia and Herzegovina</th>\n      <td>1</td>\n      <td>1</td>\n      <td>1</td>\n    </tr>\n    <tr>\n      <th>Japan</th>\n      <td>1</td>\n      <td>1</td>\n      <td>1</td>\n    </tr>\n  </tbody>\n</table>\n</div>"
          },
          "metadata": {},
          "execution_count": 29
        }
      ]
    },
    {
      "cell_type": "markdown",
      "metadata": {
        "id": "9qb8A4jIS45J"
      },
      "source": [
        "### Final Dataframe for Machine learning\n",
        "Choose to pass : (1) a single country -or- (2) all countries"
      ]
    },
    {
      "cell_type": "code",
      "metadata": {
        "id": "oopGBSckS45J"
      },
      "source": [
        "# testing with single country\n",
        "#machine_df = new2017_df[new2017_df.country == 'US']\n",
        "#machine_df = new2017_df[new2017_df.country == 'Italy']\n",
        "#machine_df = machine_df[['price_dollars','ratings_desc']]\n",
        "#machine_df.head()"
      ],
      "execution_count": 30,
      "outputs": []
    },
    {
      "cell_type": "code",
      "metadata": {
        "id": "a0m4GlLL9jJK",
        "outputId": "03331728-b9ad-48f5-fd7f-eb0b96f9eb72"
      },
      "source": [
        "#testing with all countries\n",
        "machine_df = new2017_df[['price_dollars','ratings_desc']]\n",
        "machine_df.head()"
      ],
      "execution_count": 31,
      "outputs": [
        {
          "output_type": "execute_result",
          "data": {
            "text/plain": [
              "   price_dollars  ratings_desc\n",
              "1            110           1.0\n",
              "2             90           1.0\n",
              "3             65           1.0\n",
              "4             66           1.0\n",
              "5             73           1.0"
            ],
            "text/html": "<div>\n<style scoped>\n    .dataframe tbody tr th:only-of-type {\n        vertical-align: middle;\n    }\n\n    .dataframe tbody tr th {\n        vertical-align: top;\n    }\n\n    .dataframe thead th {\n        text-align: right;\n    }\n</style>\n<table border=\"1\" class=\"dataframe\">\n  <thead>\n    <tr style=\"text-align: right;\">\n      <th></th>\n      <th>price_dollars</th>\n      <th>ratings_desc</th>\n    </tr>\n  </thead>\n  <tbody>\n    <tr>\n      <th>1</th>\n      <td>110</td>\n      <td>1.0</td>\n    </tr>\n    <tr>\n      <th>2</th>\n      <td>90</td>\n      <td>1.0</td>\n    </tr>\n    <tr>\n      <th>3</th>\n      <td>65</td>\n      <td>1.0</td>\n    </tr>\n    <tr>\n      <th>4</th>\n      <td>66</td>\n      <td>1.0</td>\n    </tr>\n    <tr>\n      <th>5</th>\n      <td>73</td>\n      <td>1.0</td>\n    </tr>\n  </tbody>\n</table>\n</div>"
          },
          "metadata": {},
          "execution_count": 31
        }
      ]
    },
    {
      "cell_type": "code",
      "metadata": {
        "id": "GEiosEbUS45K",
        "outputId": "1d8fa60f-832f-471c-d2d6-32537ad27d37"
      },
      "source": [
        "# machine learning data frame count\n",
        "machine_df.count()"
      ],
      "execution_count": 32,
      "outputs": [
        {
          "output_type": "execute_result",
          "data": {
            "text/plain": [
              "price_dollars    59149\n",
              "ratings_desc     59149\n",
              "dtype: int64"
            ]
          },
          "metadata": {},
          "execution_count": 32
        }
      ]
    },
    {
      "cell_type": "code",
      "metadata": {
        "id": "-2MI6v8oVjr-"
      },
      "source": [
        "# MACHINE LEARNING\n",
        "\n",
        "# import dependencies \n",
        "# Scatter plot to check types (price / ratings)\n",
        "\n",
        "# create new DF (x df / y df)\n",
        "\n",
        "# separate data into 2 sets of data for training and for testing\n",
        "# number of samples and features - shaping\n",
        "# check the array [x:5]\n",
        "# confirming data is right\n",
        "\n",
        "# Create model with scikit-learn\n",
        "# fit data into the model by convention, X is uppercase, y is lowercase\n",
        "# create a best fit linear-regression line\n",
        "# identify slopes for statistical purposes"
      ],
      "execution_count": 33,
      "outputs": []
    },
    {
      "cell_type": "code",
      "metadata": {
        "id": "XALi7AUcS45M"
      },
      "source": [
        "#spending_bins = [0,29, 54, 79, 109, 180]\n",
        "#group_names = [\"<$29\", \"$29-$53\", \"$54-$78\", \"$79-$108\", \"$109-$180\", \">$180\"]"
      ],
      "execution_count": 34,
      "outputs": []
    },
    {
      "cell_type": "markdown",
      "metadata": {
        "id": "zt5hh6kzS45M"
      },
      "source": [
        "# LOGISTIC REGRESSION STEPS"
      ]
    },
    {
      "cell_type": "markdown",
      "metadata": {
        "id": "uq2VAPf2S45N"
      },
      "source": [
        "## 1. Split the Data into Training and Testing"
      ]
    },
    {
      "cell_type": "code",
      "metadata": {
        "id": "k5Vxr1o1S45N"
      },
      "source": [
        "# Create our features\n",
        "X = machine_df.drop('ratings_desc', axis =1 )\n",
        "\n",
        "# Create our target\n",
        "y = machine_df['ratings_desc']"
      ],
      "execution_count": 35,
      "outputs": []
    },
    {
      "cell_type": "code",
      "metadata": {
        "id": "RESYRM6fS45O"
      },
      "source": [
        "from sklearn.model_selection import train_test_split\n",
        "\n",
        "X_train, X_test, y_train, y_test = train_test_split(X, \n",
        "                                                    y, \n",
        "                                                    random_state=1, \n",
        "                                                    stratify=y)"
      ],
      "execution_count": 36,
      "outputs": []
    },
    {
      "cell_type": "markdown",
      "metadata": {
        "id": "CXzETjTzS45O"
      },
      "source": [
        "## 2. Create a Logistic Regression Model"
      ]
    },
    {
      "cell_type": "code",
      "metadata": {
        "id": "-G9hHQOfS45O",
        "outputId": "ae3ca838-5c5e-443a-c59b-e36c629cac4d"
      },
      "source": [
        "from sklearn.linear_model import LogisticRegression\n",
        "classifier = LogisticRegression(solver='lbfgs', random_state=1)\n",
        "classifier"
      ],
      "execution_count": 37,
      "outputs": [
        {
          "output_type": "execute_result",
          "data": {
            "text/plain": [
              "LogisticRegression(random_state=1)"
            ]
          },
          "metadata": {},
          "execution_count": 37
        }
      ]
    },
    {
      "cell_type": "markdown",
      "metadata": {
        "id": "9E0EmZ8XS45P"
      },
      "source": [
        " ## 3. Fit (train) or model using the training data"
      ]
    },
    {
      "cell_type": "code",
      "metadata": {
        "id": "CiZJgU49S45P",
        "outputId": "c33815ba-282a-46de-832c-dc3fabdd01fb"
      },
      "source": [
        "# Train the data\n",
        "classifier.fit(X_train, y_train)"
      ],
      "execution_count": 38,
      "outputs": [
        {
          "output_type": "execute_result",
          "data": {
            "text/plain": [
              "LogisticRegression(random_state=1)"
            ]
          },
          "metadata": {},
          "execution_count": 38
        }
      ]
    },
    {
      "cell_type": "markdown",
      "metadata": {
        "id": "URq9TDhZS45Q"
      },
      "source": [
        "## 4. Make Predictions"
      ]
    },
    {
      "cell_type": "code",
      "metadata": {
        "id": "hbEPJ598S45Q",
        "outputId": "b0ec39ff-888b-491d-ab00-93d5327624a9"
      },
      "source": [
        "# Predict outcomes for test data set\n",
        "predictions = classifier.predict(X_test)\n",
        "pd.DataFrame({\"Prediction\": predictions, \"Actual\": y_test})"
      ],
      "execution_count": 39,
      "outputs": [
        {
          "output_type": "execute_result",
          "data": {
            "text/plain": [
              "        Prediction  Actual\n",
              "22195          0.0     1.0\n",
              "15775          0.0     1.0\n",
              "34715          0.0     1.0\n",
              "136985         0.0     0.0\n",
              "21986          0.0     1.0\n",
              "...            ...     ...\n",
              "53182          1.0     1.0\n",
              "9519           0.0     0.0\n",
              "66493          1.0     1.0\n",
              "26916          0.0     1.0\n",
              "353            0.0     1.0\n",
              "\n",
              "[14788 rows x 2 columns]"
            ],
            "text/html": "<div>\n<style scoped>\n    .dataframe tbody tr th:only-of-type {\n        vertical-align: middle;\n    }\n\n    .dataframe tbody tr th {\n        vertical-align: top;\n    }\n\n    .dataframe thead th {\n        text-align: right;\n    }\n</style>\n<table border=\"1\" class=\"dataframe\">\n  <thead>\n    <tr style=\"text-align: right;\">\n      <th></th>\n      <th>Prediction</th>\n      <th>Actual</th>\n    </tr>\n  </thead>\n  <tbody>\n    <tr>\n      <th>22195</th>\n      <td>0.0</td>\n      <td>1.0</td>\n    </tr>\n    <tr>\n      <th>15775</th>\n      <td>0.0</td>\n      <td>1.0</td>\n    </tr>\n    <tr>\n      <th>34715</th>\n      <td>0.0</td>\n      <td>1.0</td>\n    </tr>\n    <tr>\n      <th>136985</th>\n      <td>0.0</td>\n      <td>0.0</td>\n    </tr>\n    <tr>\n      <th>21986</th>\n      <td>0.0</td>\n      <td>1.0</td>\n    </tr>\n    <tr>\n      <th>...</th>\n      <td>...</td>\n      <td>...</td>\n    </tr>\n    <tr>\n      <th>53182</th>\n      <td>1.0</td>\n      <td>1.0</td>\n    </tr>\n    <tr>\n      <th>9519</th>\n      <td>0.0</td>\n      <td>0.0</td>\n    </tr>\n    <tr>\n      <th>66493</th>\n      <td>1.0</td>\n      <td>1.0</td>\n    </tr>\n    <tr>\n      <th>26916</th>\n      <td>0.0</td>\n      <td>1.0</td>\n    </tr>\n    <tr>\n      <th>353</th>\n      <td>0.0</td>\n      <td>1.0</td>\n    </tr>\n  </tbody>\n</table>\n<p>14788 rows × 2 columns</p>\n</div>"
          },
          "metadata": {},
          "execution_count": 39
        }
      ]
    },
    {
      "cell_type": "markdown",
      "metadata": {
        "id": "hg62sZMAS45Q"
      },
      "source": [
        "## 5. Validate the model using the test data"
      ]
    },
    {
      "cell_type": "code",
      "metadata": {
        "id": "-QypmkWrS45Q",
        "outputId": "fab6343b-5de8-4b09-c6fb-88ccd9e42d1a"
      },
      "source": [
        "from sklearn.metrics import accuracy_score\n",
        "accuracy_score(y_test, predictions)"
      ],
      "execution_count": 40,
      "outputs": [
        {
          "output_type": "execute_result",
          "data": {
            "text/plain": [
              "0.7366107654855288"
            ]
          },
          "metadata": {},
          "execution_count": 40
        }
      ]
    },
    {
      "cell_type": "code",
      "metadata": {
        "id": "2-pXS4KYS45R",
        "outputId": "15eae56b-f852-4f2d-ecce-d33da5dbf629"
      },
      "source": [
        "from sklearn.metrics import confusion_matrix\n",
        "cm = confusion_matrix(predictions,y_test)\n",
        "cm"
      ],
      "execution_count": 41,
      "outputs": [
        {
          "output_type": "execute_result",
          "data": {
            "text/plain": [
              "array([[8585, 2943],\n",
              "       [ 952, 2308]], dtype=int64)"
            ]
          },
          "metadata": {},
          "execution_count": 41
        }
      ]
    },
    {
      "cell_type": "code",
      "metadata": {
        "id": "-tpK4ne7S45R",
        "outputId": "4427d2de-5e24-4d3d-fb2a-1d216b0a014e"
      },
      "source": [
        "# Format for easier understanding\n",
        "cm_df = pd.DataFrame(cm)\n",
        "cm_df.columns = ['Predicted good_wine','Predicted great_wine']\n",
        "cm_df = cm_df.rename(index={0: 'Actual good_wine',1:'Actual great_wine'})\n",
        "cm_df"
      ],
      "execution_count": 42,
      "outputs": [
        {
          "output_type": "execute_result",
          "data": {
            "text/plain": [
              "                   Predicted good_wine  Predicted great_wine\n",
              "Actual good_wine                  8585                  2943\n",
              "Actual great_wine                  952                  2308"
            ],
            "text/html": "<div>\n<style scoped>\n    .dataframe tbody tr th:only-of-type {\n        vertical-align: middle;\n    }\n\n    .dataframe tbody tr th {\n        vertical-align: top;\n    }\n\n    .dataframe thead th {\n        text-align: right;\n    }\n</style>\n<table border=\"1\" class=\"dataframe\">\n  <thead>\n    <tr style=\"text-align: right;\">\n      <th></th>\n      <th>Predicted good_wine</th>\n      <th>Predicted great_wine</th>\n    </tr>\n  </thead>\n  <tbody>\n    <tr>\n      <th>Actual good_wine</th>\n      <td>8585</td>\n      <td>2943</td>\n    </tr>\n    <tr>\n      <th>Actual great_wine</th>\n      <td>952</td>\n      <td>2308</td>\n    </tr>\n  </tbody>\n</table>\n</div>"
          },
          "metadata": {},
          "execution_count": 42
        }
      ]
    },
    {
      "cell_type": "code",
      "metadata": {
        "id": "zgnSONQJS45S",
        "outputId": "4500d457-bebb-4f8b-beb4-3ef5d29f2ae2"
      },
      "source": [
        "from imblearn.metrics import classification_report_imbalanced\n",
        "print(classification_report_imbalanced(y_test,predictions))"
      ],
      "execution_count": 43,
      "outputs": [
        {
          "output_type": "stream",
          "name": "stdout",
          "text": [
            "                   pre       rec       spe        f1       geo       iba       sup\n\n        0.0       0.74      0.90      0.44      0.82      0.63      0.41      9537\n        1.0       0.71      0.44      0.90      0.54      0.63      0.38      5251\n\navg / total       0.73      0.74      0.60      0.72      0.63      0.40     14788\n\n"
          ]
        }
      ]
    },
    {
      "cell_type": "code",
      "metadata": {
        "id": "xjfiMsdOS45T"
      },
      "source": [
        "#ASK: Does wine price predict a great wine rating?"
      ],
      "execution_count": 44,
      "outputs": []
    },
    {
      "cell_type": "markdown",
      "metadata": {
        "id": "Lp_ezOnGaue_"
      },
      "source": [
        "# Connect to the AWS RDS instance and write DataFrame/CSV to PostgreSQL table."
      ]
    },
    {
      "cell_type": "code",
      "metadata": {
        "id": "lRQ4tvM2kf-r"
      },
      "source": [
        "import psycopg2\n",
        "connection = psycopg2.connect(\n",
        "    host = 'winedata.cn4begnutv3q.us-east-2.rds.amazonaws.com',\n",
        "    port = 5432,\n",
        "    user = 'postgres',\n",
        "    password = 'password',\n",
        "    database='MachineLearningProject'\n",
        "    )\n",
        "cursor=connection.cursor()"
      ],
      "execution_count": 45,
      "outputs": []
    },
    {
      "cell_type": "code",
      "metadata": {
        "id": "8pcuqkJDlDOr"
      },
      "source": [
        "#creating table for database\n",
        "cursor.execute(\n",
        "\"\"\"\n",
        "CREATE TABLE ML_DATA\n",
        "(\n",
        "COUNTRY VARCHAR(50),\n",
        "WINE_TYPE VARCHAR(100),\n",
        "PRICE_DOLLARS INT,\n",
        "RATINGS_POINTS INT\n",
        ")\n",
        "\"\"\"\n",
        ")\n",
        "connection.commit()"
      ],
      "execution_count": 46,
      "outputs": []
    },
    {
      "cell_type": "code",
      "metadata": {
        "id": "bA6Gy7Romcuc"
      },
      "source": [
        "#populate the table using the csv\n",
        "with open('ML_data.csv', 'r') as row:\n",
        "    next(row)# Skip the header row.\n",
        "    cursor.copy_from(row, 'ML_DATA', sep=',')\n",
        "\n",
        "connection.commit()    \n"
      ],
      "execution_count": 47,
      "outputs": []
    },
    {
      "cell_type": "code",
      "execution_count": null,
      "metadata": {},
      "outputs": [],
      "source": []
    }
  ]
}