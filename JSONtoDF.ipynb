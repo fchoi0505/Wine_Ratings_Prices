{
 "metadata": {
  "language_info": {
   "codemirror_mode": {
    "name": "ipython",
    "version": 3
   },
   "file_extension": ".py",
   "mimetype": "text/x-python",
   "name": "python",
   "nbconvert_exporter": "python",
   "pygments_lexer": "ipython3",
   "version": "3.8.5"
  },
  "orig_nbformat": 2,
  "kernelspec": {
   "name": "python385jvsc74a57bd01d47df2726df29c29c23c34b0b3d2b54c46dfd683137fb1eaab3d0ff44bdcb86",
   "display_name": "Python 3.8.5 64-bit ('base': conda)"
  }
 },
 "nbformat": 4,
 "nbformat_minor": 2,
 "cells": [
  {
   "cell_type": "code",
   "execution_count": 92,
   "metadata": {},
   "outputs": [],
   "source": [
    "import json\n",
    "import numpy as np\n",
    "import pandas as pd"
   ]
  },
  {
   "cell_type": "code",
   "execution_count": 93,
   "metadata": {},
   "outputs": [],
   "source": [
    "# Adding Path to JSON files\n",
    "data_directory = \"data/\" + \"winemag-data_\""
   ]
  },
  {
   "cell_type": "code",
   "execution_count": 94,
   "metadata": {
    "tags": [
     "outputPrepend"
    ]
   },
   "outputs": [
    {
     "output_type": "stream",
     "name": "stdout",
     "text": [
      "-data_1492.json', 'data/winemag-data_1493.json', 'data/winemag-data_1494.json', 'data/winemag-data_1495.json', 'data/winemag-data_1496.json', 'data/winemag-data_1497.json', 'data/winemag-data_1498.json', 'data/winemag-data_1499.json', 'data/winemag-data_1500.json', 'data/winemag-data_1501.json', 'data/winemag-data_1502.json', 'data/winemag-data_1503.json', 'data/winemag-data_1504.json', 'data/winemag-data_1505.json', 'data/winemag-data_1506.json', 'data/winemag-data_1507.json', 'data/winemag-data_1508.json', 'data/winemag-data_1509.json', 'data/winemag-data_1510.json', 'data/winemag-data_1511.json', 'data/winemag-data_1512.json', 'data/winemag-data_1513.json', 'data/winemag-data_1514.json', 'data/winemag-data_1515.json', 'data/winemag-data_1516.json', 'data/winemag-data_1517.json', 'data/winemag-data_1518.json', 'data/winemag-data_1519.json', 'data/winemag-data_1520.json', 'data/winemag-data_1521.json', 'data/winemag-data_1522.json', 'data/winemag-data_1523.json', 'data/winemag-data_1524.json', 'data/winemag-data_1525.json', 'data/winemag-data_1526.json', 'data/winemag-data_1527.json', 'data/winemag-data_1528.json', 'data/winemag-data_1529.json', 'data/winemag-data_1530.json', 'data/winemag-data_1531.json', 'data/winemag-data_1532.json', 'data/winemag-data_1533.json', 'data/winemag-data_1534.json', 'data/winemag-data_1535.json', 'data/winemag-data_1536.json', 'data/winemag-data_1537.json', 'data/winemag-data_1538.json', 'data/winemag-data_1539.json', 'data/winemag-data_1540.json', 'data/winemag-data_1541.json', 'data/winemag-data_1542.json', 'data/winemag-data_1543.json', 'data/winemag-data_1544.json', 'data/winemag-data_1545.json', 'data/winemag-data_1546.json', 'data/winemag-data_1547.json', 'data/winemag-data_1548.json', 'data/winemag-data_1549.json', 'data/winemag-data_1550.json', 'data/winemag-data_1551.json', 'data/winemag-data_1552.json', 'data/winemag-data_1553.json', 'data/winemag-data_1554.json', 'data/winemag-data_1555.json', 'data/winemag-data_1556.json', 'data/winemag-data_1557.json', 'data/winemag-data_1558.json', 'data/winemag-data_1559.json', 'data/winemag-data_1560.json', 'data/winemag-data_1561.json', 'data/winemag-data_1562.json', 'data/winemag-data_1563.json', 'data/winemag-data_1564.json', 'data/winemag-data_1565.json', 'data/winemag-data_1566.json', 'data/winemag-data_1567.json', 'data/winemag-data_1568.json', 'data/winemag-data_1569.json', 'data/winemag-data_1570.json', 'data/winemag-data_1571.json', 'data/winemag-data_1572.json', 'data/winemag-data_1573.json', 'data/winemag-data_1574.json', 'data/winemag-data_1575.json', 'data/winemag-data_1576.json', 'data/winemag-data_1577.json', 'data/winemag-data_1578.json', 'data/winemag-data_1579.json', 'data/winemag-data_1580.json', 'data/winemag-data_1581.json', 'data/winemag-data_1582.json', 'data/winemag-data_1583.json', 'data/winemag-data_1584.json', 'data/winemag-data_1585.json', 'data/winemag-data_1586.json', 'data/winemag-data_1587.json', 'data/winemag-data_1588.json', 'data/winemag-data_1589.json', 'data/winemag-data_1590.json', 'data/winemag-data_1591.json', 'data/winemag-data_1592.json', 'data/winemag-data_1593.json', 'data/winemag-data_1594.json', 'data/winemag-data_1595.json', 'data/winemag-data_1596.json', 'data/winemag-data_1597.json', 'data/winemag-data_1598.json', 'data/winemag-data_1599.json', 'data/winemag-data_1600.json', 'data/winemag-data_1601.json', 'data/winemag-data_1602.json', 'data/winemag-data_1603.json', 'data/winemag-data_1604.json', 'data/winemag-data_1605.json', 'data/winemag-data_1606.json', 'data/winemag-data_1607.json', 'data/winemag-data_1608.json', 'data/winemag-data_1609.json', 'data/winemag-data_1610.json', 'data/winemag-data_1611.json', 'data/winemag-data_1612.json', 'data/winemag-data_1613.json', 'data/winemag-data_1614.json', 'data/winemag-data_1615.json', 'data/winemag-data_1616.json', 'data/winemag-data_1617.json', 'data/winemag-data_1618.json', 'data/winemag-data_1619.json', 'data/winemag-data_1620.json', 'data/winemag-data_1621.json', 'data/winemag-data_1622.json', 'data/winemag-data_1623.json', 'data/winemag-data_1624.json', 'data/winemag-data_1625.json', 'data/winemag-data_1626.json', 'data/winemag-data_1627.json', 'data/winemag-data_1628.json', 'data/winemag-data_1629.json', 'data/winemag-data_1630.json', 'data/winemag-data_1631.json', 'data/winemag-data_1632.json', 'data/winemag-data_1633.json', 'data/winemag-data_1634.json', 'data/winemag-data_1635.json', 'data/winemag-data_1636.json', 'data/winemag-data_1637.json', 'data/winemag-data_1638.json', 'data/winemag-data_1639.json', 'data/winemag-data_1640.json', 'data/winemag-data_1641.json', 'data/winemag-data_1642.json', 'data/winemag-data_1643.json', 'data/winemag-data_1644.json', 'data/winemag-data_1645.json', 'data/winemag-data_1646.json', 'data/winemag-data_1647.json', 'data/winemag-data_1648.json', 'data/winemag-data_1649.json', 'data/winemag-data_1650.json', 'data/winemag-data_1651.json', 'data/winemag-data_1652.json', 'data/winemag-data_1653.json', 'data/winemag-data_1654.json', 'data/winemag-data_1655.json', 'data/winemag-data_1656.json', 'data/winemag-data_1657.json', 'data/winemag-data_1658.json', 'data/winemag-data_1659.json', 'data/winemag-data_1660.json', 'data/winemag-data_1661.json', 'data/winemag-data_1662.json', 'data/winemag-data_1663.json', 'data/winemag-data_1664.json', 'data/winemag-data_1665.json', 'data/winemag-data_1666.json', 'data/winemag-data_1667.json', 'data/winemag-data_1668.json', 'data/winemag-data_1669.json', 'data/winemag-data_1670.json', 'data/winemag-data_1671.json', 'data/winemag-data_1672.json', 'data/winemag-data_1673.json', 'data/winemag-data_1674.json', 'data/winemag-data_1675.json', 'data/winemag-data_1676.json', 'data/winemag-data_1677.json', 'data/winemag-data_1678.json', 'data/winemag-data_1679.json', 'data/winemag-data_1680.json', 'data/winemag-data_1681.json', 'data/winemag-data_1682.json', 'data/winemag-data_1683.json', 'data/winemag-data_1684.json', 'data/winemag-data_1685.json', 'data/winemag-data_1686.json', 'data/winemag-data_1687.json', 'data/winemag-data_1688.json', 'data/winemag-data_1689.json', 'data/winemag-data_1690.json', 'data/winemag-data_1691.json', 'data/winemag-data_1692.json', 'data/winemag-data_1693.json', 'data/winemag-data_1694.json', 'data/winemag-data_1695.json', 'data/winemag-data_1696.json', 'data/winemag-data_1697.json', 'data/winemag-data_1698.json', 'data/winemag-data_1699.json', 'data/winemag-data_1700.json', 'data/winemag-data_1701.json', 'data/winemag-data_1702.json', 'data/winemag-data_1703.json', 'data/winemag-data_1704.json', 'data/winemag-data_1705.json', 'data/winemag-data_1706.json', 'data/winemag-data_1707.json', 'data/winemag-data_1708.json', 'data/winemag-data_1709.json', 'data/winemag-data_1710.json', 'data/winemag-data_1711.json', 'data/winemag-data_1712.json', 'data/winemag-data_1713.json', 'data/winemag-data_1714.json', 'data/winemag-data_1715.json', 'data/winemag-data_1716.json', 'data/winemag-data_1717.json', 'data/winemag-data_1718.json', 'data/winemag-data_1719.json', 'data/winemag-data_1720.json', 'data/winemag-data_1721.json', 'data/winemag-data_1722.json', 'data/winemag-data_1723.json', 'data/winemag-data_1724.json', 'data/winemag-data_1725.json', 'data/winemag-data_1726.json', 'data/winemag-data_1727.json', 'data/winemag-data_1728.json', 'data/winemag-data_1729.json', 'data/winemag-data_1730.json', 'data/winemag-data_1731.json', 'data/winemag-data_1732.json', 'data/winemag-data_1733.json', 'data/winemag-data_1734.json', 'data/winemag-data_1735.json', 'data/winemag-data_1736.json', 'data/winemag-data_1737.json', 'data/winemag-data_1738.json', 'data/winemag-data_1739.json', 'data/winemag-data_1740.json', 'data/winemag-data_1741.json', 'data/winemag-data_1742.json', 'data/winemag-data_1743.json', 'data/winemag-data_1744.json', 'data/winemag-data_1745.json', 'data/winemag-data_1746.json', 'data/winemag-data_1747.json', 'data/winemag-data_1748.json', 'data/winemag-data_1749.json', 'data/winemag-data_1750.json', 'data/winemag-data_1751.json', 'data/winemag-data_1752.json', 'data/winemag-data_1753.json', 'data/winemag-data_1754.json', 'data/winemag-data_1755.json', 'data/winemag-data_1756.json', 'data/winemag-data_1757.json', 'data/winemag-data_1758.json', 'data/winemag-data_1759.json', 'data/winemag-data_1760.json', 'data/winemag-data_1761.json', 'data/winemag-data_1762.json', 'data/winemag-data_1763.json', 'data/winemag-data_1764.json', 'data/winemag-data_1765.json', 'data/winemag-data_1766.json', 'data/winemag-data_1767.json', 'data/winemag-data_1768.json', 'data/winemag-data_1769.json', 'data/winemag-data_1770.json', 'data/winemag-data_1771.json', 'data/winemag-data_1772.json', 'data/winemag-data_1773.json', 'data/winemag-data_1774.json', 'data/winemag-data_1775.json', 'data/winemag-data_1776.json', 'data/winemag-data_1777.json', 'data/winemag-data_1778.json', 'data/winemag-data_1779.json', 'data/winemag-data_1780.json', 'data/winemag-data_1781.json', 'data/winemag-data_1782.json', 'data/winemag-data_1783.json', 'data/winemag-data_1784.json', 'data/winemag-data_1785.json', 'data/winemag-data_1786.json', 'data/winemag-data_1787.json', 'data/winemag-data_1788.json', 'data/winemag-data_1789.json', 'data/winemag-data_1790.json', 'data/winemag-data_1791.json', 'data/winemag-data_1792.json', 'data/winemag-data_1793.json', 'data/winemag-data_1794.json', 'data/winemag-data_1795.json', 'data/winemag-data_1796.json', 'data/winemag-data_1797.json', 'data/winemag-data_1798.json', 'data/winemag-data_1799.json', 'data/winemag-data_1800.json', 'data/winemag-data_1801.json', 'data/winemag-data_1802.json', 'data/winemag-data_1803.json', 'data/winemag-data_1804.json', 'data/winemag-data_1805.json', 'data/winemag-data_1806.json', 'data/winemag-data_1807.json', 'data/winemag-data_1808.json', 'data/winemag-data_1809.json', 'data/winemag-data_1810.json', 'data/winemag-data_1811.json', 'data/winemag-data_1812.json', 'data/winemag-data_1813.json', 'data/winemag-data_1814.json']\n"
     ]
    }
   ],
   "source": [
    "# Adding all file names to a list\n",
    "file_path = []\n",
    "\n",
    "for ind in range(1815):\n",
    "    file_path.append(data_directory + str(ind) +\".json\")\n",
    "\n",
    "print(file_path)"
   ]
  },
  {
   "cell_type": "code",
   "execution_count": 95,
   "metadata": {},
   "outputs": [],
   "source": [
    "#Loading all JSON files\n",
    "wine_json = []\n",
    "for ind in range(1814):\n",
    "    with open(file_path[ind]) as f:\n",
    "        wine_json.append(json.load(f))"
   ]
  },
  {
   "cell_type": "code",
   "execution_count": 96,
   "metadata": {},
   "outputs": [],
   "source": [
    "# Converting the JSON files to DataFrames\n",
    "df = pd.DataFrame()\n",
    "\n",
    "for ind in range(len(wine_json)):\n",
    "    df = df.append(pd.json_normalize(wine_json[ind]))"
   ]
  },
  {
   "cell_type": "code",
   "execution_count": 97,
   "metadata": {},
   "outputs": [
    {
     "output_type": "execute_result",
     "data": {
      "text/plain": [
       "  points                                              title  \\\n",
       "0     91        La Fagotière 2016 Red (Châteauneuf-du-Pape)   \n",
       "1     91          Bridlewood 2017 G-S-M (Santa Ynez Valley)   \n",
       "2     91            Maquis 2014 Lien Red (Colchagua Valley)   \n",
       "3     91  José Maria da Fonseca NV Alambre 10 Years  (Mo...   \n",
       "4     91    Ayala 2013 Le Blanc de Blancs Brut  (Champagne)   \n",
       "\n",
       "                                         description         taster_name  \\\n",
       "0  \\n                      Easy, rounded black ch...  Anna Lee C. Iijima   \n",
       "1  \\n                      There's a pleasing fre...       Matt Kettmann   \n",
       "2  \\n                      Furry berry, prune, bl...   Michael Schachner   \n",
       "3  \\n                      This fortified wine of...          Roger Voss   \n",
       "4  \\n                      Produced from grand cr...          Roger Voss   \n",
       "\n",
       "  taster_twitter_handle                                       taster_photo  \\\n",
       "0        @annaleeiijima  https://253qv1sx4ey389p9wtpp9sj0-wpengine.netd...   \n",
       "1         @mattkettmann  https://253qv1sx4ey389p9wtpp9sj0-wpengine.netd...   \n",
       "2           @wineschach  https://253qv1sx4ey389p9wtpp9sj0-wpengine.netd...   \n",
       "3            @vossroger  https://253qv1sx4ey389p9wtpp9sj0-wpengine.netd...   \n",
       "4            @vossroger  https://253qv1sx4ey389p9wtpp9sj0-wpengine.netd...   \n",
       "\n",
       "   price              designation                variety             region_1  \\\n",
       "0    NaN                     None  Rhône-style Red Blend  Châteauneuf-du-Pape   \n",
       "1   40.0                     None                  G-S-M    Santa Ynez Valley   \n",
       "2   35.0                     Lien             Red Blends                 None   \n",
       "3   50.0         Alambre 10 Years               Moscatel                 None   \n",
       "4   93.0  Le Blanc de Blancs Brut        Champagne Blend            Champagne   \n",
       "\n",
       "        region_2             province   country                 winery  \n",
       "0           None         Rhône Valley    France           La Fagotière  \n",
       "1  Central Coast           California        US             Bridlewood  \n",
       "2           None     Colchagua Valley     Chile                 Maquis  \n",
       "3           None  Moscatel de Setúbal  Portugal  José Maria da Fonseca  \n",
       "4           None            Champagne    France                  Ayala  "
      ],
      "text/html": "<div>\n<style scoped>\n    .dataframe tbody tr th:only-of-type {\n        vertical-align: middle;\n    }\n\n    .dataframe tbody tr th {\n        vertical-align: top;\n    }\n\n    .dataframe thead th {\n        text-align: right;\n    }\n</style>\n<table border=\"1\" class=\"dataframe\">\n  <thead>\n    <tr style=\"text-align: right;\">\n      <th></th>\n      <th>points</th>\n      <th>title</th>\n      <th>description</th>\n      <th>taster_name</th>\n      <th>taster_twitter_handle</th>\n      <th>taster_photo</th>\n      <th>price</th>\n      <th>designation</th>\n      <th>variety</th>\n      <th>region_1</th>\n      <th>region_2</th>\n      <th>province</th>\n      <th>country</th>\n      <th>winery</th>\n    </tr>\n  </thead>\n  <tbody>\n    <tr>\n      <th>0</th>\n      <td>91</td>\n      <td>La Fagotière 2016 Red (Châteauneuf-du-Pape)</td>\n      <td>\\n                      Easy, rounded black ch...</td>\n      <td>Anna Lee C. Iijima</td>\n      <td>@annaleeiijima</td>\n      <td>https://253qv1sx4ey389p9wtpp9sj0-wpengine.netd...</td>\n      <td>NaN</td>\n      <td>None</td>\n      <td>Rhône-style Red Blend</td>\n      <td>Châteauneuf-du-Pape</td>\n      <td>None</td>\n      <td>Rhône Valley</td>\n      <td>France</td>\n      <td>La Fagotière</td>\n    </tr>\n    <tr>\n      <th>1</th>\n      <td>91</td>\n      <td>Bridlewood 2017 G-S-M (Santa Ynez Valley)</td>\n      <td>\\n                      There's a pleasing fre...</td>\n      <td>Matt Kettmann</td>\n      <td>@mattkettmann</td>\n      <td>https://253qv1sx4ey389p9wtpp9sj0-wpengine.netd...</td>\n      <td>40.0</td>\n      <td>None</td>\n      <td>G-S-M</td>\n      <td>Santa Ynez Valley</td>\n      <td>Central Coast</td>\n      <td>California</td>\n      <td>US</td>\n      <td>Bridlewood</td>\n    </tr>\n    <tr>\n      <th>2</th>\n      <td>91</td>\n      <td>Maquis 2014 Lien Red (Colchagua Valley)</td>\n      <td>\\n                      Furry berry, prune, bl...</td>\n      <td>Michael Schachner</td>\n      <td>@wineschach</td>\n      <td>https://253qv1sx4ey389p9wtpp9sj0-wpengine.netd...</td>\n      <td>35.0</td>\n      <td>Lien</td>\n      <td>Red Blends</td>\n      <td>None</td>\n      <td>None</td>\n      <td>Colchagua Valley</td>\n      <td>Chile</td>\n      <td>Maquis</td>\n    </tr>\n    <tr>\n      <th>3</th>\n      <td>91</td>\n      <td>José Maria da Fonseca NV Alambre 10 Years  (Mo...</td>\n      <td>\\n                      This fortified wine of...</td>\n      <td>Roger Voss</td>\n      <td>@vossroger</td>\n      <td>https://253qv1sx4ey389p9wtpp9sj0-wpengine.netd...</td>\n      <td>50.0</td>\n      <td>Alambre 10 Years</td>\n      <td>Moscatel</td>\n      <td>None</td>\n      <td>None</td>\n      <td>Moscatel de Setúbal</td>\n      <td>Portugal</td>\n      <td>José Maria da Fonseca</td>\n    </tr>\n    <tr>\n      <th>4</th>\n      <td>91</td>\n      <td>Ayala 2013 Le Blanc de Blancs Brut  (Champagne)</td>\n      <td>\\n                      Produced from grand cr...</td>\n      <td>Roger Voss</td>\n      <td>@vossroger</td>\n      <td>https://253qv1sx4ey389p9wtpp9sj0-wpengine.netd...</td>\n      <td>93.0</td>\n      <td>Le Blanc de Blancs Brut</td>\n      <td>Champagne Blend</td>\n      <td>Champagne</td>\n      <td>None</td>\n      <td>Champagne</td>\n      <td>France</td>\n      <td>Ayala</td>\n    </tr>\n  </tbody>\n</table>\n</div>"
     },
     "metadata": {},
     "execution_count": 97
    }
   ],
   "source": [
    "df.head()"
   ]
  },
  {
   "cell_type": "code",
   "execution_count": 98,
   "metadata": {},
   "outputs": [
    {
     "output_type": "execute_result",
     "data": {
      "text/plain": [
       "    country                                        description  \\\n",
       "0    France  \\n                      Easy, rounded black ch...   \n",
       "1        US  \\n                      There's a pleasing fre...   \n",
       "2     Chile  \\n                      Furry berry, prune, bl...   \n",
       "3  Portugal  \\n                      This fortified wine of...   \n",
       "4    France  \\n                      Produced from grand cr...   \n",
       "\n",
       "               designation points  price             province  \\\n",
       "0                     None     91    NaN         Rhône Valley   \n",
       "1                     None     91   40.0           California   \n",
       "2                     Lien     91   35.0     Colchagua Valley   \n",
       "3         Alambre 10 Years     91   50.0  Moscatel de Setúbal   \n",
       "4  Le Blanc de Blancs Brut     91   93.0            Champagne   \n",
       "\n",
       "              region_1       region_2                variety  \\\n",
       "0  Châteauneuf-du-Pape           None  Rhône-style Red Blend   \n",
       "1    Santa Ynez Valley  Central Coast                  G-S-M   \n",
       "2                 None           None             Red Blends   \n",
       "3                 None           None               Moscatel   \n",
       "4            Champagne           None        Champagne Blend   \n",
       "\n",
       "                  winery  \n",
       "0           La Fagotière  \n",
       "1             Bridlewood  \n",
       "2                 Maquis  \n",
       "3  José Maria da Fonseca  \n",
       "4                  Ayala  "
      ],
      "text/html": "<div>\n<style scoped>\n    .dataframe tbody tr th:only-of-type {\n        vertical-align: middle;\n    }\n\n    .dataframe tbody tr th {\n        vertical-align: top;\n    }\n\n    .dataframe thead th {\n        text-align: right;\n    }\n</style>\n<table border=\"1\" class=\"dataframe\">\n  <thead>\n    <tr style=\"text-align: right;\">\n      <th></th>\n      <th>country</th>\n      <th>description</th>\n      <th>designation</th>\n      <th>points</th>\n      <th>price</th>\n      <th>province</th>\n      <th>region_1</th>\n      <th>region_2</th>\n      <th>variety</th>\n      <th>winery</th>\n    </tr>\n  </thead>\n  <tbody>\n    <tr>\n      <th>0</th>\n      <td>France</td>\n      <td>\\n                      Easy, rounded black ch...</td>\n      <td>None</td>\n      <td>91</td>\n      <td>NaN</td>\n      <td>Rhône Valley</td>\n      <td>Châteauneuf-du-Pape</td>\n      <td>None</td>\n      <td>Rhône-style Red Blend</td>\n      <td>La Fagotière</td>\n    </tr>\n    <tr>\n      <th>1</th>\n      <td>US</td>\n      <td>\\n                      There's a pleasing fre...</td>\n      <td>None</td>\n      <td>91</td>\n      <td>40.0</td>\n      <td>California</td>\n      <td>Santa Ynez Valley</td>\n      <td>Central Coast</td>\n      <td>G-S-M</td>\n      <td>Bridlewood</td>\n    </tr>\n    <tr>\n      <th>2</th>\n      <td>Chile</td>\n      <td>\\n                      Furry berry, prune, bl...</td>\n      <td>Lien</td>\n      <td>91</td>\n      <td>35.0</td>\n      <td>Colchagua Valley</td>\n      <td>None</td>\n      <td>None</td>\n      <td>Red Blends</td>\n      <td>Maquis</td>\n    </tr>\n    <tr>\n      <th>3</th>\n      <td>Portugal</td>\n      <td>\\n                      This fortified wine of...</td>\n      <td>Alambre 10 Years</td>\n      <td>91</td>\n      <td>50.0</td>\n      <td>Moscatel de Setúbal</td>\n      <td>None</td>\n      <td>None</td>\n      <td>Moscatel</td>\n      <td>José Maria da Fonseca</td>\n    </tr>\n    <tr>\n      <th>4</th>\n      <td>France</td>\n      <td>\\n                      Produced from grand cr...</td>\n      <td>Le Blanc de Blancs Brut</td>\n      <td>91</td>\n      <td>93.0</td>\n      <td>Champagne</td>\n      <td>Champagne</td>\n      <td>None</td>\n      <td>Champagne Blend</td>\n      <td>Ayala</td>\n    </tr>\n  </tbody>\n</table>\n</div>"
     },
     "metadata": {},
     "execution_count": 98
    }
   ],
   "source": [
    "wine_df_format = df[[\"country\", \"description\", \"designation\", \"points\", \"price\", \"province\", \"region_1\", \"region_2\", \"variety\", \"winery\"]]\n",
    "wine_df_format.head()"
   ]
  },
  {
   "cell_type": "code",
   "execution_count": 99,
   "metadata": {},
   "outputs": [
    {
     "output_type": "execute_result",
     "data": {
      "text/plain": [
       "country        8756\n",
       "description    8759\n",
       "designation    6622\n",
       "points         8759\n",
       "price          8134\n",
       "province       8756\n",
       "region_1       7507\n",
       "region_2       3110\n",
       "variety        8759\n",
       "winery         8759\n",
       "dtype: int64"
      ]
     },
     "metadata": {},
     "execution_count": 99
    }
   ],
   "source": [
    "wine_df_format.count()"
   ]
  },
  {
   "cell_type": "code",
   "execution_count": 100,
   "metadata": {},
   "outputs": [],
   "source": [
    "wine_df_format.to_csv('winemag_2019.csv', index=False)"
   ]
  },
  {
   "cell_type": "code",
   "execution_count": null,
   "metadata": {},
   "outputs": [],
   "source": []
  }
 ]
}