{
  "nbformat": 4,
  "nbformat_minor": 0,
  "metadata": {
    "colab": {
      "name": "Wines_and_More.ipynb",
      "provenance": [],
      "collapsed_sections": []
    },
    "kernelspec": {
      "name": "python385jvsc74a57bd01d47df2726df29c29c23c34b0b3d2b54c46dfd683137fb1eaab3d0ff44bdcb86",
      "display_name": "Python 3.8.5 64-bit ('base': conda)"
    },
    "language_info": {
      "name": "python",
      "version": "3.8.5"
    }
  },
  "cells": [
    {
      "cell_type": "code",
      "metadata": {
        "id": "yGRDsM6dO8vH"
      },
      "source": [],
      "execution_count": null,
      "outputs": []
    },
    {
      "cell_type": "code",
      "metadata": {
        "id": "anKGjBZcRf3n",
        "colab": {
          "base_uri": "https://localhost:8080/",
          "height": 531
        },
        "outputId": "ba9b9db9-7c82-41bd-b65b-3e76937e8102"
      },
      "source": [
        "# This is for 2017 DF\n",
        "import numpy as np\n",
        "import pandas as pd\n",
        "import requests\n",
        "from io import StringIO\n",
        "orig_url = \"https://drive.google.com/file/d/1zFHNHw6mTh4kyx8pVd27rh2ttV8b7zfU/view?usp=sharing\"\n",
        "file_id = orig_url.split('/')[-2]\n",
        "dwn_url='https://drive.google.com/uc?export=download&id=' + file_id\n",
        "url = requests.get(dwn_url).text\n",
        "csv_raw = StringIO(url)\n",
        "csv2017_df = pd.read_csv(csv_raw)\n",
        "csv2017_df.head(10)"
      ],
      "execution_count": 62,
      "outputs": [
        {
          "output_type": "execute_result",
          "data": {
            "text/plain": [
              "   Unnamed: 0 country                                        description  \\\n",
              "0           0      US  This tremendous 100% varietal wine hails from ...   \n",
              "1           1   Spain  Ripe aromas of fig, blackberry and cassis are ...   \n",
              "2           2      US  Mac Watson honors the memory of a wine once ma...   \n",
              "3           3      US  This spent 20 months in 30% new French oak, an...   \n",
              "4           4  France  This is the top wine from La BÃ©gude, named af...   \n",
              "5           5   Spain  Deep, dense and pure from the opening bell, th...   \n",
              "6           6   Spain  Slightly gritty black-fruit aromas include a s...   \n",
              "7           7   Spain  Lush cedary black-fruit aromas are luxe and of...   \n",
              "8           8      US  This re-named vineyard was formerly bottled as...   \n",
              "9           9      US  The producer sources from two blocks of the vi...   \n",
              "\n",
              "                             designation  points  price        province  \\\n",
              "0                      Martha's Vineyard      96  235.0      California   \n",
              "1  Carodorum SelecciÃ³n Especial Reserva      96  110.0  Northern Spain   \n",
              "2          Special Selected Late Harvest      96   90.0      California   \n",
              "3                                Reserve      96   65.0          Oregon   \n",
              "4                            La BrÃ»lade      95   66.0        Provence   \n",
              "5                              Numanthia      95   73.0  Northern Spain   \n",
              "6                             San RomÃ¡n      95   65.0  Northern Spain   \n",
              "7               Carodorum Ãnico Crianza      95  110.0  Northern Spain   \n",
              "8                                 Silice      95   65.0          Oregon   \n",
              "9                   Gap's Crown Vineyard      95   60.0      California   \n",
              "\n",
              "             region_1           region_2             variety  \\\n",
              "0         Napa Valley               Napa  Cabernet Sauvignon   \n",
              "1                Toro                NaN       Tinta de Toro   \n",
              "2      Knights Valley             Sonoma     Sauvignon Blanc   \n",
              "3   Willamette Valley  Willamette Valley          Pinot Noir   \n",
              "4              Bandol                NaN  Provence red blend   \n",
              "5                Toro                NaN       Tinta de Toro   \n",
              "6                Toro                NaN       Tinta de Toro   \n",
              "7                Toro                NaN       Tinta de Toro   \n",
              "8  Chehalem Mountains  Willamette Valley          Pinot Noir   \n",
              "9        Sonoma Coast             Sonoma          Pinot Noir   \n",
              "\n",
              "                     winery  \n",
              "0                     Heitz  \n",
              "1  Bodega Carmen RodrÃ­guez  \n",
              "2                  Macauley  \n",
              "3                     Ponzi  \n",
              "4     Domaine de la BÃ©gude  \n",
              "5                 Numanthia  \n",
              "6                  Maurodos  \n",
              "7  Bodega Carmen RodrÃ­guez  \n",
              "8                BergstrÃ¶m  \n",
              "9                 Blue Farm  "
            ],
            "text/html": "<div>\n<style scoped>\n    .dataframe tbody tr th:only-of-type {\n        vertical-align: middle;\n    }\n\n    .dataframe tbody tr th {\n        vertical-align: top;\n    }\n\n    .dataframe thead th {\n        text-align: right;\n    }\n</style>\n<table border=\"1\" class=\"dataframe\">\n  <thead>\n    <tr style=\"text-align: right;\">\n      <th></th>\n      <th>Unnamed: 0</th>\n      <th>country</th>\n      <th>description</th>\n      <th>designation</th>\n      <th>points</th>\n      <th>price</th>\n      <th>province</th>\n      <th>region_1</th>\n      <th>region_2</th>\n      <th>variety</th>\n      <th>winery</th>\n    </tr>\n  </thead>\n  <tbody>\n    <tr>\n      <th>0</th>\n      <td>0</td>\n      <td>US</td>\n      <td>This tremendous 100% varietal wine hails from ...</td>\n      <td>Martha's Vineyard</td>\n      <td>96</td>\n      <td>235.0</td>\n      <td>California</td>\n      <td>Napa Valley</td>\n      <td>Napa</td>\n      <td>Cabernet Sauvignon</td>\n      <td>Heitz</td>\n    </tr>\n    <tr>\n      <th>1</th>\n      <td>1</td>\n      <td>Spain</td>\n      <td>Ripe aromas of fig, blackberry and cassis are ...</td>\n      <td>Carodorum SelecciÃ³n Especial Reserva</td>\n      <td>96</td>\n      <td>110.0</td>\n      <td>Northern Spain</td>\n      <td>Toro</td>\n      <td>NaN</td>\n      <td>Tinta de Toro</td>\n      <td>Bodega Carmen RodrÃ­guez</td>\n    </tr>\n    <tr>\n      <th>2</th>\n      <td>2</td>\n      <td>US</td>\n      <td>Mac Watson honors the memory of a wine once ma...</td>\n      <td>Special Selected Late Harvest</td>\n      <td>96</td>\n      <td>90.0</td>\n      <td>California</td>\n      <td>Knights Valley</td>\n      <td>Sonoma</td>\n      <td>Sauvignon Blanc</td>\n      <td>Macauley</td>\n    </tr>\n    <tr>\n      <th>3</th>\n      <td>3</td>\n      <td>US</td>\n      <td>This spent 20 months in 30% new French oak, an...</td>\n      <td>Reserve</td>\n      <td>96</td>\n      <td>65.0</td>\n      <td>Oregon</td>\n      <td>Willamette Valley</td>\n      <td>Willamette Valley</td>\n      <td>Pinot Noir</td>\n      <td>Ponzi</td>\n    </tr>\n    <tr>\n      <th>4</th>\n      <td>4</td>\n      <td>France</td>\n      <td>This is the top wine from La BÃ©gude, named af...</td>\n      <td>La BrÃ»lade</td>\n      <td>95</td>\n      <td>66.0</td>\n      <td>Provence</td>\n      <td>Bandol</td>\n      <td>NaN</td>\n      <td>Provence red blend</td>\n      <td>Domaine de la BÃ©gude</td>\n    </tr>\n    <tr>\n      <th>5</th>\n      <td>5</td>\n      <td>Spain</td>\n      <td>Deep, dense and pure from the opening bell, th...</td>\n      <td>Numanthia</td>\n      <td>95</td>\n      <td>73.0</td>\n      <td>Northern Spain</td>\n      <td>Toro</td>\n      <td>NaN</td>\n      <td>Tinta de Toro</td>\n      <td>Numanthia</td>\n    </tr>\n    <tr>\n      <th>6</th>\n      <td>6</td>\n      <td>Spain</td>\n      <td>Slightly gritty black-fruit aromas include a s...</td>\n      <td>San RomÃ¡n</td>\n      <td>95</td>\n      <td>65.0</td>\n      <td>Northern Spain</td>\n      <td>Toro</td>\n      <td>NaN</td>\n      <td>Tinta de Toro</td>\n      <td>Maurodos</td>\n    </tr>\n    <tr>\n      <th>7</th>\n      <td>7</td>\n      <td>Spain</td>\n      <td>Lush cedary black-fruit aromas are luxe and of...</td>\n      <td>Carodorum Ãnico Crianza</td>\n      <td>95</td>\n      <td>110.0</td>\n      <td>Northern Spain</td>\n      <td>Toro</td>\n      <td>NaN</td>\n      <td>Tinta de Toro</td>\n      <td>Bodega Carmen RodrÃ­guez</td>\n    </tr>\n    <tr>\n      <th>8</th>\n      <td>8</td>\n      <td>US</td>\n      <td>This re-named vineyard was formerly bottled as...</td>\n      <td>Silice</td>\n      <td>95</td>\n      <td>65.0</td>\n      <td>Oregon</td>\n      <td>Chehalem Mountains</td>\n      <td>Willamette Valley</td>\n      <td>Pinot Noir</td>\n      <td>BergstrÃ¶m</td>\n    </tr>\n    <tr>\n      <th>9</th>\n      <td>9</td>\n      <td>US</td>\n      <td>The producer sources from two blocks of the vi...</td>\n      <td>Gap's Crown Vineyard</td>\n      <td>95</td>\n      <td>60.0</td>\n      <td>California</td>\n      <td>Sonoma Coast</td>\n      <td>Sonoma</td>\n      <td>Pinot Noir</td>\n      <td>Blue Farm</td>\n    </tr>\n  </tbody>\n</table>\n</div>"
          },
          "metadata": {},
          "execution_count": 62
        }
      ]
    },
    {
      "cell_type": "code",
      "metadata": {
        "id": "XOQITLH7P8s4"
      },
      "source": [
        "# This is for 2018 DF\n",
        "\n",
        "import pandas as pd\n",
        "import requests\n",
        "from io import StringIO\n",
        "orig_url = \"https://drive.google.com/file/d/1vwuyrdEwqba8LQYr0jnqJozEgtPZLh_l/view?usp=sharing\"\n",
        "file_id = orig_url.split('/')[-2]\n",
        "dwn_url='https://drive.google.com/uc?export=download&id=' + file_id\n",
        "url = requests.get(dwn_url).text\n",
        "csv_raw = StringIO(url)\n",
        "csv2018_df = pd.read_csv(csv_raw)\n",
        "csv2018_df.head(5)"
      ],
      "execution_count": 63,
      "outputs": [
        {
          "output_type": "execute_result",
          "data": {
            "text/plain": [
              "   country                                              title  \\\n",
              "0   France  Domaine Fernand Engel 2015 Praelatenberg Grand...   \n",
              "1  England  Bride Valley Vineyard 2014 Blanc de Blancs Spa...   \n",
              "2       US  Byron 2015 La Encantada Vineyard Pinot Noir (S...   \n",
              "3       US  Challen 2015 Zotovich Vineyard Pinot Noir (Sta...   \n",
              "4   France  Domaine BarmÃ¨s-Buecher 2016 Hengst Grand Cru ...   \n",
              "\n",
              "                                         description              designation  \\\n",
              "0  \\n                      Beautifully aromatic h...  Praelatenberg Grand Cru   \n",
              "1  \\n                      The merest touch of ne...          Blanc de Blancs   \n",
              "2  \\n                      There's a prominent bu...    La Encantada Vineyard   \n",
              "3  \\n                      Lean and light aromas ...        Zotovich Vineyard   \n",
              "4  \\n                      A citrus zest headines...         Hengst Grand Cru   \n",
              "\n",
              "   points  price    province         region_1       region_2          variety  \\\n",
              "0      94   50.0      Alsace           Alsace            NaN         Riesling   \n",
              "1      94   75.0     England              NaN            NaN  Sparkling Blend   \n",
              "2      94   55.0  California  Sta. Rita Hills  Central Coast       Pinot Noir   \n",
              "3      94   60.0  California  Sta. Rita Hills  Central Coast       Pinot Noir   \n",
              "4      94   44.0      Alsace           Alsace            NaN  GewÃ¼rztraminer   \n",
              "\n",
              "                    winery  \n",
              "0    Domaine Fernand Engel  \n",
              "1    Bride Valley Vineyard  \n",
              "2                    Byron  \n",
              "3                  Challen  \n",
              "4  Domaine BarmÃ¨s-Buecher  "
            ],
            "text/html": "<div>\n<style scoped>\n    .dataframe tbody tr th:only-of-type {\n        vertical-align: middle;\n    }\n\n    .dataframe tbody tr th {\n        vertical-align: top;\n    }\n\n    .dataframe thead th {\n        text-align: right;\n    }\n</style>\n<table border=\"1\" class=\"dataframe\">\n  <thead>\n    <tr style=\"text-align: right;\">\n      <th></th>\n      <th>country</th>\n      <th>title</th>\n      <th>description</th>\n      <th>designation</th>\n      <th>points</th>\n      <th>price</th>\n      <th>province</th>\n      <th>region_1</th>\n      <th>region_2</th>\n      <th>variety</th>\n      <th>winery</th>\n    </tr>\n  </thead>\n  <tbody>\n    <tr>\n      <th>0</th>\n      <td>France</td>\n      <td>Domaine Fernand Engel 2015 Praelatenberg Grand...</td>\n      <td>\\n                      Beautifully aromatic h...</td>\n      <td>Praelatenberg Grand Cru</td>\n      <td>94</td>\n      <td>50.0</td>\n      <td>Alsace</td>\n      <td>Alsace</td>\n      <td>NaN</td>\n      <td>Riesling</td>\n      <td>Domaine Fernand Engel</td>\n    </tr>\n    <tr>\n      <th>1</th>\n      <td>England</td>\n      <td>Bride Valley Vineyard 2014 Blanc de Blancs Spa...</td>\n      <td>\\n                      The merest touch of ne...</td>\n      <td>Blanc de Blancs</td>\n      <td>94</td>\n      <td>75.0</td>\n      <td>England</td>\n      <td>NaN</td>\n      <td>NaN</td>\n      <td>Sparkling Blend</td>\n      <td>Bride Valley Vineyard</td>\n    </tr>\n    <tr>\n      <th>2</th>\n      <td>US</td>\n      <td>Byron 2015 La Encantada Vineyard Pinot Noir (S...</td>\n      <td>\\n                      There's a prominent bu...</td>\n      <td>La Encantada Vineyard</td>\n      <td>94</td>\n      <td>55.0</td>\n      <td>California</td>\n      <td>Sta. Rita Hills</td>\n      <td>Central Coast</td>\n      <td>Pinot Noir</td>\n      <td>Byron</td>\n    </tr>\n    <tr>\n      <th>3</th>\n      <td>US</td>\n      <td>Challen 2015 Zotovich Vineyard Pinot Noir (Sta...</td>\n      <td>\\n                      Lean and light aromas ...</td>\n      <td>Zotovich Vineyard</td>\n      <td>94</td>\n      <td>60.0</td>\n      <td>California</td>\n      <td>Sta. Rita Hills</td>\n      <td>Central Coast</td>\n      <td>Pinot Noir</td>\n      <td>Challen</td>\n    </tr>\n    <tr>\n      <th>4</th>\n      <td>France</td>\n      <td>Domaine BarmÃ¨s-Buecher 2016 Hengst Grand Cru ...</td>\n      <td>\\n                      A citrus zest headines...</td>\n      <td>Hengst Grand Cru</td>\n      <td>94</td>\n      <td>44.0</td>\n      <td>Alsace</td>\n      <td>Alsace</td>\n      <td>NaN</td>\n      <td>GewÃ¼rztraminer</td>\n      <td>Domaine BarmÃ¨s-Buecher</td>\n    </tr>\n  </tbody>\n</table>\n</div>"
          },
          "metadata": {},
          "execution_count": 63
        }
      ]
    },
    {
      "source": [
        "# 1. Dropping columns from 2017/2018 that are irrelevant to our ML"
      ],
      "cell_type": "markdown",
      "metadata": {}
    },
    {
      "cell_type": "code",
      "metadata": {
        "id": "HK6lN-rAQWuh"
      },
      "source": [
        "\n",
        "csv2017_df = csv2017_df.drop(['Unnamed: 0', 'region_1', 'region_2', 'description'], axis=1)\n",
        "csv2017_df.head(5)"
      ],
      "execution_count": 64,
      "outputs": [
        {
          "output_type": "execute_result",
          "data": {
            "text/plain": [
              "  country                            designation  points  price  \\\n",
              "0      US                      Martha's Vineyard      96  235.0   \n",
              "1   Spain  Carodorum SelecciÃ³n Especial Reserva      96  110.0   \n",
              "2      US          Special Selected Late Harvest      96   90.0   \n",
              "3      US                                Reserve      96   65.0   \n",
              "4  France                            La BrÃ»lade      95   66.0   \n",
              "\n",
              "         province             variety                    winery  \n",
              "0      California  Cabernet Sauvignon                     Heitz  \n",
              "1  Northern Spain       Tinta de Toro  Bodega Carmen RodrÃ­guez  \n",
              "2      California     Sauvignon Blanc                  Macauley  \n",
              "3          Oregon          Pinot Noir                     Ponzi  \n",
              "4        Provence  Provence red blend     Domaine de la BÃ©gude  "
            ],
            "text/html": "<div>\n<style scoped>\n    .dataframe tbody tr th:only-of-type {\n        vertical-align: middle;\n    }\n\n    .dataframe tbody tr th {\n        vertical-align: top;\n    }\n\n    .dataframe thead th {\n        text-align: right;\n    }\n</style>\n<table border=\"1\" class=\"dataframe\">\n  <thead>\n    <tr style=\"text-align: right;\">\n      <th></th>\n      <th>country</th>\n      <th>designation</th>\n      <th>points</th>\n      <th>price</th>\n      <th>province</th>\n      <th>variety</th>\n      <th>winery</th>\n    </tr>\n  </thead>\n  <tbody>\n    <tr>\n      <th>0</th>\n      <td>US</td>\n      <td>Martha's Vineyard</td>\n      <td>96</td>\n      <td>235.0</td>\n      <td>California</td>\n      <td>Cabernet Sauvignon</td>\n      <td>Heitz</td>\n    </tr>\n    <tr>\n      <th>1</th>\n      <td>Spain</td>\n      <td>Carodorum SelecciÃ³n Especial Reserva</td>\n      <td>96</td>\n      <td>110.0</td>\n      <td>Northern Spain</td>\n      <td>Tinta de Toro</td>\n      <td>Bodega Carmen RodrÃ­guez</td>\n    </tr>\n    <tr>\n      <th>2</th>\n      <td>US</td>\n      <td>Special Selected Late Harvest</td>\n      <td>96</td>\n      <td>90.0</td>\n      <td>California</td>\n      <td>Sauvignon Blanc</td>\n      <td>Macauley</td>\n    </tr>\n    <tr>\n      <th>3</th>\n      <td>US</td>\n      <td>Reserve</td>\n      <td>96</td>\n      <td>65.0</td>\n      <td>Oregon</td>\n      <td>Pinot Noir</td>\n      <td>Ponzi</td>\n    </tr>\n    <tr>\n      <th>4</th>\n      <td>France</td>\n      <td>La BrÃ»lade</td>\n      <td>95</td>\n      <td>66.0</td>\n      <td>Provence</td>\n      <td>Provence red blend</td>\n      <td>Domaine de la BÃ©gude</td>\n    </tr>\n  </tbody>\n</table>\n</div>"
          },
          "metadata": {},
          "execution_count": 64
        }
      ]
    },
    {
      "cell_type": "code",
      "execution_count": 65,
      "metadata": {},
      "outputs": [
        {
          "output_type": "execute_result",
          "data": {
            "text/plain": [
              "   country              designation  points  price    province  \\\n",
              "0   France  Praelatenberg Grand Cru      94   50.0      Alsace   \n",
              "1  England          Blanc de Blancs      94   75.0     England   \n",
              "2       US    La Encantada Vineyard      94   55.0  California   \n",
              "3       US        Zotovich Vineyard      94   60.0  California   \n",
              "4   France         Hengst Grand Cru      94   44.0      Alsace   \n",
              "\n",
              "           variety                   winery  \n",
              "0         Riesling    Domaine Fernand Engel  \n",
              "1  Sparkling Blend    Bride Valley Vineyard  \n",
              "2       Pinot Noir                    Byron  \n",
              "3       Pinot Noir                  Challen  \n",
              "4  GewÃ¼rztraminer  Domaine BarmÃ¨s-Buecher  "
            ],
            "text/html": "<div>\n<style scoped>\n    .dataframe tbody tr th:only-of-type {\n        vertical-align: middle;\n    }\n\n    .dataframe tbody tr th {\n        vertical-align: top;\n    }\n\n    .dataframe thead th {\n        text-align: right;\n    }\n</style>\n<table border=\"1\" class=\"dataframe\">\n  <thead>\n    <tr style=\"text-align: right;\">\n      <th></th>\n      <th>country</th>\n      <th>designation</th>\n      <th>points</th>\n      <th>price</th>\n      <th>province</th>\n      <th>variety</th>\n      <th>winery</th>\n    </tr>\n  </thead>\n  <tbody>\n    <tr>\n      <th>0</th>\n      <td>France</td>\n      <td>Praelatenberg Grand Cru</td>\n      <td>94</td>\n      <td>50.0</td>\n      <td>Alsace</td>\n      <td>Riesling</td>\n      <td>Domaine Fernand Engel</td>\n    </tr>\n    <tr>\n      <th>1</th>\n      <td>England</td>\n      <td>Blanc de Blancs</td>\n      <td>94</td>\n      <td>75.0</td>\n      <td>England</td>\n      <td>Sparkling Blend</td>\n      <td>Bride Valley Vineyard</td>\n    </tr>\n    <tr>\n      <th>2</th>\n      <td>US</td>\n      <td>La Encantada Vineyard</td>\n      <td>94</td>\n      <td>55.0</td>\n      <td>California</td>\n      <td>Pinot Noir</td>\n      <td>Byron</td>\n    </tr>\n    <tr>\n      <th>3</th>\n      <td>US</td>\n      <td>Zotovich Vineyard</td>\n      <td>94</td>\n      <td>60.0</td>\n      <td>California</td>\n      <td>Pinot Noir</td>\n      <td>Challen</td>\n    </tr>\n    <tr>\n      <th>4</th>\n      <td>France</td>\n      <td>Hengst Grand Cru</td>\n      <td>94</td>\n      <td>44.0</td>\n      <td>Alsace</td>\n      <td>GewÃ¼rztraminer</td>\n      <td>Domaine BarmÃ¨s-Buecher</td>\n    </tr>\n  </tbody>\n</table>\n</div>"
          },
          "metadata": {},
          "execution_count": 65
        }
      ],
      "source": [
        "csv2018_df = csv2018_df.drop(['title', 'region_1', 'region_2', 'description'], axis=1)\n",
        "csv2018_df.head(5)"
      ]
    },
    {
      "cell_type": "code",
      "execution_count": 66,
      "metadata": {},
      "outputs": [
        {
          "output_type": "execute_result",
          "data": {
            "text/plain": [
              "country            5\n",
              "designation    45735\n",
              "points             0\n",
              "price          13695\n",
              "province           5\n",
              "variety            0\n",
              "winery             0\n",
              "dtype: int64"
            ]
          },
          "metadata": {},
          "execution_count": 66
        }
      ],
      "source": [
        "# Check 2017 df has null values\n",
        "csv2017_df.isnull().sum()"
      ]
    },
    {
      "cell_type": "code",
      "execution_count": 67,
      "metadata": {},
      "outputs": [
        {
          "output_type": "execute_result",
          "data": {
            "text/plain": [
              "country           2\n",
              "designation    5957\n",
              "points            0\n",
              "price          1288\n",
              "province          2\n",
              "variety           0\n",
              "winery            0\n",
              "dtype: int64"
            ]
          },
          "metadata": {},
          "execution_count": 67
        }
      ],
      "source": [
        "# Check 2018 has null values\n",
        "csv2018_df.isnull().sum()"
      ]
    },
    {
      "cell_type": "code",
      "execution_count": 68,
      "metadata": {},
      "outputs": [
        {
          "output_type": "execute_result",
          "data": {
            "text/plain": [
              "30622"
            ]
          },
          "metadata": {},
          "execution_count": 68
        }
      ],
      "source": [
        "# Check 2017 Unique Values\n",
        "len(csv2017_df.designation.unique())\n",
        "# Check 2017 Unique Values\n",
        "#len(csv2017_df.country.unique())"
      ]
    },
    {
      "source": [
        "# 2. Drop NA rows - do a health check / check data types / drop dupes"
      ],
      "cell_type": "markdown",
      "metadata": {}
    },
    {
      "cell_type": "code",
      "execution_count": 69,
      "metadata": {},
      "outputs": [
        {
          "output_type": "execute_result",
          "data": {
            "text/plain": [
              "country        94919\n",
              "designation    94919\n",
              "points         94919\n",
              "price          94919\n",
              "province       94919\n",
              "variety        94919\n",
              "winery         94919\n",
              "dtype: int64"
            ]
          },
          "metadata": {},
          "execution_count": 69
        }
      ],
      "source": [
        "# Drop 2017 NaN Values then check number of data rows\n",
        "dropped_df2017 = csv2017_df.dropna()\n",
        "dropped_df2017.count()"
      ]
    },
    {
      "cell_type": "code",
      "execution_count": 70,
      "metadata": {},
      "outputs": [
        {
          "output_type": "execute_result",
          "data": {
            "text/plain": [
              "country        16013\n",
              "designation    16013\n",
              "points         16013\n",
              "price          16013\n",
              "province       16013\n",
              "variety        16013\n",
              "winery         16013\n",
              "dtype: int64"
            ]
          },
          "metadata": {},
          "execution_count": 70
        }
      ],
      "source": [
        "# Drop 2018 Nan Values then check number of data rows\n",
        "dropped_df2018 = csv2018_df.dropna()\n",
        "dropped_df2018.count()"
      ]
    },
    {
      "cell_type": "code",
      "execution_count": 71,
      "metadata": {},
      "outputs": [
        {
          "output_type": "execute_result",
          "data": {
            "text/plain": [
              "country        0.168702\n",
              "designation    0.168702\n",
              "points         0.168702\n",
              "price          0.168702\n",
              "province       0.168702\n",
              "variety        0.168702\n",
              "winery         0.168702\n",
              "dtype: float64"
            ]
          },
          "metadata": {},
          "execution_count": 71
        }
      ],
      "source": [
        "sample_percentage = dropped_df2018.count()/dropped_df2017.count()\n",
        "sample_percentage"
      ]
    },
    {
      "cell_type": "code",
      "execution_count": 77,
      "metadata": {},
      "outputs": [
        {
          "output_type": "execute_result",
          "data": {
            "text/plain": [
              "country         object\n",
              "designation     object\n",
              "points           int64\n",
              "price          float64\n",
              "province        object\n",
              "variety         object\n",
              "winery          object\n",
              "dtype: object"
            ]
          },
          "metadata": {},
          "execution_count": 77
        }
      ],
      "source": [
        "# 2. A) Check if we need to convert any data types\n",
        "dropped_df2017.dtypes\n",
        "dropped_df2018.dtypes"
      ]
    },
    {
      "cell_type": "code",
      "execution_count": 87,
      "metadata": {},
      "outputs": [
        {
          "output_type": "execute_result",
          "data": {
            "text/plain": [
              "28343"
            ]
          },
          "metadata": {},
          "execution_count": 87
        }
      ],
      "source": [
        "# Create a list for Unique Values\n",
        "unique_2017_designation = dropped_df2017.designation.unique()\n",
        "len(unique_2017_designation)"
      ]
    },
    {
      "cell_type": "code",
      "execution_count": 89,
      "metadata": {},
      "outputs": [
        {
          "output_type": "stream",
          "name": "stderr",
          "text": [
            "<ipython-input-89-34fbab1e831e>:2: SettingWithCopyWarning: \nA value is trying to be set on a copy of a slice from a DataFrame.\nTry using .loc[row_indexer,col_indexer] = value instead\n\nSee the caveats in the documentation: https://pandas.pydata.org/pandas-docs/stable/user_guide/indexing.html#returning-a-view-versus-a-copy\n  dropped_df2017['identifier'] = dropped_df2017['designation'].astype(str)+'_'+dropped_df2017['winery']\n"
          ]
        },
        {
          "output_type": "execute_result",
          "data": {
            "text/plain": [
              "  country                            designation  points  price  \\\n",
              "0      US                      Martha's Vineyard      96  235.0   \n",
              "1   Spain  Carodorum SelecciÃ³n Especial Reserva      96  110.0   \n",
              "2      US          Special Selected Late Harvest      96   90.0   \n",
              "3      US                                Reserve      96   65.0   \n",
              "4  France                            La BrÃ»lade      95   66.0   \n",
              "\n",
              "         province             variety                    winery  \\\n",
              "0      California  Cabernet Sauvignon                     Heitz   \n",
              "1  Northern Spain       Tinta de Toro  Bodega Carmen RodrÃ­guez   \n",
              "2      California     Sauvignon Blanc                  Macauley   \n",
              "3          Oregon          Pinot Noir                     Ponzi   \n",
              "4        Provence  Provence red blend     Domaine de la BÃ©gude   \n",
              "\n",
              "                                          identifier  \n",
              "0                            Martha's Vineyard_Heitz  \n",
              "1  Carodorum SelecciÃ³n Especial Reserva_Bodega C...  \n",
              "2             Special Selected Late Harvest_Macauley  \n",
              "3                                      Reserve_Ponzi  \n",
              "4                  La BrÃ»lade_Domaine de la BÃ©gude  "
            ],
            "text/html": "<div>\n<style scoped>\n    .dataframe tbody tr th:only-of-type {\n        vertical-align: middle;\n    }\n\n    .dataframe tbody tr th {\n        vertical-align: top;\n    }\n\n    .dataframe thead th {\n        text-align: right;\n    }\n</style>\n<table border=\"1\" class=\"dataframe\">\n  <thead>\n    <tr style=\"text-align: right;\">\n      <th></th>\n      <th>country</th>\n      <th>designation</th>\n      <th>points</th>\n      <th>price</th>\n      <th>province</th>\n      <th>variety</th>\n      <th>winery</th>\n      <th>identifier</th>\n    </tr>\n  </thead>\n  <tbody>\n    <tr>\n      <th>0</th>\n      <td>US</td>\n      <td>Martha's Vineyard</td>\n      <td>96</td>\n      <td>235.0</td>\n      <td>California</td>\n      <td>Cabernet Sauvignon</td>\n      <td>Heitz</td>\n      <td>Martha's Vineyard_Heitz</td>\n    </tr>\n    <tr>\n      <th>1</th>\n      <td>Spain</td>\n      <td>Carodorum SelecciÃ³n Especial Reserva</td>\n      <td>96</td>\n      <td>110.0</td>\n      <td>Northern Spain</td>\n      <td>Tinta de Toro</td>\n      <td>Bodega Carmen RodrÃ­guez</td>\n      <td>Carodorum SelecciÃ³n Especial Reserva_Bodega C...</td>\n    </tr>\n    <tr>\n      <th>2</th>\n      <td>US</td>\n      <td>Special Selected Late Harvest</td>\n      <td>96</td>\n      <td>90.0</td>\n      <td>California</td>\n      <td>Sauvignon Blanc</td>\n      <td>Macauley</td>\n      <td>Special Selected Late Harvest_Macauley</td>\n    </tr>\n    <tr>\n      <th>3</th>\n      <td>US</td>\n      <td>Reserve</td>\n      <td>96</td>\n      <td>65.0</td>\n      <td>Oregon</td>\n      <td>Pinot Noir</td>\n      <td>Ponzi</td>\n      <td>Reserve_Ponzi</td>\n    </tr>\n    <tr>\n      <th>4</th>\n      <td>France</td>\n      <td>La BrÃ»lade</td>\n      <td>95</td>\n      <td>66.0</td>\n      <td>Provence</td>\n      <td>Provence red blend</td>\n      <td>Domaine de la BÃ©gude</td>\n      <td>La BrÃ»lade_Domaine de la BÃ©gude</td>\n    </tr>\n  </tbody>\n</table>\n</div>"
          },
          "metadata": {},
          "execution_count": 89
        }
      ],
      "source": [
        "# Concatnate designation and winery\n",
        "#dropped_df2017['identifier'] = dropped_df2017['designation'].astype(str)+'_'+dropped_df2017['winery']\n",
        "#dropped_df2017.head()"
      ]
    },
    {
      "cell_type": "code",
      "execution_count": 93,
      "metadata": {},
      "outputs": [
        {
          "output_type": "execute_result",
          "data": {
            "text/plain": [
              "Vintner's Reserve_Kendall-Jackson                     81\n",
              "Flood Family Vineyards_Rancho Sisquoc                 61\n",
              "Broquel_Trapiche                                      58\n",
              "Oak Cask_Trapiche                                     57\n",
              "Two Vines_Columbia Crest                              55\n",
              "                                                      ..\n",
              "Narcissa_Whitman Cellars                               1\n",
              "Terre di Rubinoro_Vecchia Cantina di Montepulciano     1\n",
              "Vigna Spuntali_Val di Suga                             1\n",
              "Bul's RosÃ©_Jean-Luc BaldÃ¨s                           1\n",
              "Gran Reserva_ViÃ±a Cerrada                             1\n",
              "Name: identifier, Length: 37325, dtype: int64"
            ]
          },
          "metadata": {},
          "execution_count": 93
        }
      ],
      "source": [
        "#dropped_df2017['identifier'].value_counts()"
      ]
    },
    {
      "cell_type": "code",
      "execution_count": 72,
      "metadata": {},
      "outputs": [],
      "source": [
        "# 2. B) See if we need to bucket any of the data together \n",
        "# 3. A) Count 2017 rows\n",
        "# 3. B) Count by country\n",
        "# 4. Create an identifier\n",
        "# 5. Create unique modifier\n",
        "# 6. Identify unique values\n",
        "# 7. fix weird characters by using R.E. (if needed)"
      ]
    },
    {
      "cell_type": "code",
      "metadata": {
        "id": "yLafBxatU4gP"
      },
      "source": [
        "# What columns to drop:\n",
        "# Region 1\n",
        "# Region 2\n",
        "# Title\n",
        "# Description\n",
        "# unnamed 0"
      ],
      "execution_count": 73,
      "outputs": []
    },
    {
      "cell_type": "code",
      "metadata": {
        "id": "-2MI6v8oVjr-"
      },
      "source": [
        "# MACHINE LEARNING\n",
        "\n",
        "# import dependencies \n",
        "# Scatter plot to check types (price / ratings)\n",
        "# create new DF (x df / y df)\n",
        "# separate data into 2 sets of data for training and for testing\n",
        "# number of samples and features - shaping\n",
        "# check the array [x:5]\n",
        "# confirming data is right\n",
        "# Create model with scikit-learn\n",
        "# fit data into the model by convention, X is uppercase, y is lowercase\n",
        "# create a best fit linear-regression line\n",
        "# identify slopes for statistical purposes"
      ],
      "execution_count": 74,
      "outputs": []
    }
  ]
}